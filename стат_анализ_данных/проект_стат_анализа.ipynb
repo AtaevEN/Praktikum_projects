{
 "cells": [
  {
   "cell_type": "markdown",
   "id": "6ef61476",
   "metadata": {},
   "source": [
    "# Проект: Статистический анализ данных"
   ]
  },
  {
   "cell_type": "markdown",
   "id": "0ed3e361",
   "metadata": {},
   "source": [
    "### Передали данные о некоторых пользователях из нескольких городов, а также об их поездках. Нужно проанализировать данные и проверить некоторые гипотезы, которые могут помочь бизнесу вырасти. \n",
    "\n",
    "Продакт-менеджеры сервиса хотят увеличить количество пользователей с подпиской. Для этого они будут проводить различные акции, но сначала нужно выяснить несколько важных моментов.\n",
    "\n"
   ]
  },
  {
   "cell_type": "code",
   "execution_count": 1,
   "id": "72576667",
   "metadata": {},
   "outputs": [],
   "source": [
    "import pandas as pd\n",
    "import matplotlib.pyplot as plt\n",
    "import numpy as np\n",
    "import scipy.stats as st"
   ]
  },
  {
   "cell_type": "markdown",
   "id": "c42cbe00",
   "metadata": {},
   "source": [
    "#### Шаг 1. Загрузка данных"
   ]
  },
  {
   "cell_type": "code",
   "execution_count": 2,
   "id": "eff9f206",
   "metadata": {},
   "outputs": [],
   "source": [
    "dt_users = pd.read_csv('/datasets/users_go.csv')\n",
    "dt_rides = pd.read_csv('/datasets/rides_go.csv')\n",
    "dt_subs = pd.read_csv('/datasets/subscriptions_go.csv')"
   ]
  },
  {
   "cell_type": "code",
   "execution_count": 3,
   "id": "92366b0b",
   "metadata": {},
   "outputs": [
    {
     "data": {
      "text/plain": [
       "(1565, 5)"
      ]
     },
     "execution_count": 3,
     "metadata": {},
     "output_type": "execute_result"
    }
   ],
   "source": [
    "dt_users.shape"
   ]
  },
  {
   "cell_type": "code",
   "execution_count": 4,
   "id": "fe60099a",
   "metadata": {},
   "outputs": [
    {
     "data": {
      "text/plain": [
       "(18068, 4)"
      ]
     },
     "execution_count": 4,
     "metadata": {},
     "output_type": "execute_result"
    }
   ],
   "source": [
    "dt_rides.shape"
   ]
  },
  {
   "cell_type": "code",
   "execution_count": 5,
   "id": "f3437a82",
   "metadata": {},
   "outputs": [
    {
     "data": {
      "text/plain": [
       "(2, 4)"
      ]
     },
     "execution_count": 5,
     "metadata": {},
     "output_type": "execute_result"
    }
   ],
   "source": [
    "dt_subs.shape"
   ]
  },
  {
   "cell_type": "code",
   "execution_count": 6,
   "id": "5b6f9d80",
   "metadata": {},
   "outputs": [
    {
     "data": {
      "text/plain": [
       "Index(['user_id', 'name', 'age', 'city', 'subscription_type'], dtype='object')"
      ]
     },
     "execution_count": 6,
     "metadata": {},
     "output_type": "execute_result"
    }
   ],
   "source": [
    "dt_users.columns"
   ]
  },
  {
   "cell_type": "code",
   "execution_count": 7,
   "id": "6881b1af",
   "metadata": {},
   "outputs": [
    {
     "data": {
      "text/plain": [
       "Index(['user_id', 'distance', 'duration', 'date'], dtype='object')"
      ]
     },
     "execution_count": 7,
     "metadata": {},
     "output_type": "execute_result"
    }
   ],
   "source": [
    "dt_rides.columns"
   ]
  },
  {
   "cell_type": "code",
   "execution_count": 8,
   "id": "00e694d1",
   "metadata": {},
   "outputs": [
    {
     "data": {
      "text/plain": [
       "Index(['subscription_type', 'minute_price', 'start_ride_price',\n",
       "       'subscription_fee'],\n",
       "      dtype='object')"
      ]
     },
     "execution_count": 8,
     "metadata": {},
     "output_type": "execute_result"
    }
   ],
   "source": [
    "dt_subs.columns"
   ]
  },
  {
   "cell_type": "code",
   "execution_count": 9,
   "id": "e38d7e74",
   "metadata": {},
   "outputs": [
    {
     "data": {
      "text/html": [
       "<div>\n",
       "<style scoped>\n",
       "    .dataframe tbody tr th:only-of-type {\n",
       "        vertical-align: middle;\n",
       "    }\n",
       "\n",
       "    .dataframe tbody tr th {\n",
       "        vertical-align: top;\n",
       "    }\n",
       "\n",
       "    .dataframe thead th {\n",
       "        text-align: right;\n",
       "    }\n",
       "</style>\n",
       "<table border=\"1\" class=\"dataframe\">\n",
       "  <thead>\n",
       "    <tr style=\"text-align: right;\">\n",
       "      <th></th>\n",
       "      <th>user_id</th>\n",
       "      <th>name</th>\n",
       "      <th>age</th>\n",
       "      <th>city</th>\n",
       "      <th>subscription_type</th>\n",
       "    </tr>\n",
       "  </thead>\n",
       "  <tbody>\n",
       "    <tr>\n",
       "      <th>0</th>\n",
       "      <td>1</td>\n",
       "      <td>Кира</td>\n",
       "      <td>22</td>\n",
       "      <td>Тюмень</td>\n",
       "      <td>ultra</td>\n",
       "    </tr>\n",
       "    <tr>\n",
       "      <th>1</th>\n",
       "      <td>2</td>\n",
       "      <td>Станислав</td>\n",
       "      <td>31</td>\n",
       "      <td>Омск</td>\n",
       "      <td>ultra</td>\n",
       "    </tr>\n",
       "    <tr>\n",
       "      <th>2</th>\n",
       "      <td>3</td>\n",
       "      <td>Алексей</td>\n",
       "      <td>20</td>\n",
       "      <td>Москва</td>\n",
       "      <td>ultra</td>\n",
       "    </tr>\n",
       "    <tr>\n",
       "      <th>3</th>\n",
       "      <td>4</td>\n",
       "      <td>Константин</td>\n",
       "      <td>26</td>\n",
       "      <td>Ростов-на-Дону</td>\n",
       "      <td>ultra</td>\n",
       "    </tr>\n",
       "    <tr>\n",
       "      <th>4</th>\n",
       "      <td>5</td>\n",
       "      <td>Адель</td>\n",
       "      <td>28</td>\n",
       "      <td>Омск</td>\n",
       "      <td>ultra</td>\n",
       "    </tr>\n",
       "    <tr>\n",
       "      <th>5</th>\n",
       "      <td>6</td>\n",
       "      <td>Регина</td>\n",
       "      <td>25</td>\n",
       "      <td>Краснодар</td>\n",
       "      <td>ultra</td>\n",
       "    </tr>\n",
       "    <tr>\n",
       "      <th>6</th>\n",
       "      <td>7</td>\n",
       "      <td>Игорь</td>\n",
       "      <td>23</td>\n",
       "      <td>Омск</td>\n",
       "      <td>ultra</td>\n",
       "    </tr>\n",
       "    <tr>\n",
       "      <th>7</th>\n",
       "      <td>8</td>\n",
       "      <td>Юрий</td>\n",
       "      <td>23</td>\n",
       "      <td>Краснодар</td>\n",
       "      <td>ultra</td>\n",
       "    </tr>\n",
       "    <tr>\n",
       "      <th>8</th>\n",
       "      <td>9</td>\n",
       "      <td>Ян</td>\n",
       "      <td>21</td>\n",
       "      <td>Пятигорск</td>\n",
       "      <td>ultra</td>\n",
       "    </tr>\n",
       "    <tr>\n",
       "      <th>9</th>\n",
       "      <td>10</td>\n",
       "      <td>Валерий</td>\n",
       "      <td>18</td>\n",
       "      <td>Екатеринбург</td>\n",
       "      <td>ultra</td>\n",
       "    </tr>\n",
       "    <tr>\n",
       "      <th>10</th>\n",
       "      <td>11</td>\n",
       "      <td>Агата</td>\n",
       "      <td>31</td>\n",
       "      <td>Краснодар</td>\n",
       "      <td>ultra</td>\n",
       "    </tr>\n",
       "    <tr>\n",
       "      <th>11</th>\n",
       "      <td>12</td>\n",
       "      <td>Марк</td>\n",
       "      <td>27</td>\n",
       "      <td>Тюмень</td>\n",
       "      <td>ultra</td>\n",
       "    </tr>\n",
       "    <tr>\n",
       "      <th>12</th>\n",
       "      <td>13</td>\n",
       "      <td>Ева</td>\n",
       "      <td>24</td>\n",
       "      <td>Краснодар</td>\n",
       "      <td>ultra</td>\n",
       "    </tr>\n",
       "    <tr>\n",
       "      <th>13</th>\n",
       "      <td>14</td>\n",
       "      <td>Антонина</td>\n",
       "      <td>18</td>\n",
       "      <td>Пятигорск</td>\n",
       "      <td>ultra</td>\n",
       "    </tr>\n",
       "    <tr>\n",
       "      <th>14</th>\n",
       "      <td>15</td>\n",
       "      <td>Валерия</td>\n",
       "      <td>24</td>\n",
       "      <td>Тюмень</td>\n",
       "      <td>ultra</td>\n",
       "    </tr>\n",
       "    <tr>\n",
       "      <th>15</th>\n",
       "      <td>16</td>\n",
       "      <td>Амалия</td>\n",
       "      <td>27</td>\n",
       "      <td>Краснодар</td>\n",
       "      <td>ultra</td>\n",
       "    </tr>\n",
       "    <tr>\n",
       "      <th>16</th>\n",
       "      <td>17</td>\n",
       "      <td>Даниил</td>\n",
       "      <td>29</td>\n",
       "      <td>Москва</td>\n",
       "      <td>ultra</td>\n",
       "    </tr>\n",
       "    <tr>\n",
       "      <th>17</th>\n",
       "      <td>18</td>\n",
       "      <td>Аделина</td>\n",
       "      <td>24</td>\n",
       "      <td>Сочи</td>\n",
       "      <td>ultra</td>\n",
       "    </tr>\n",
       "    <tr>\n",
       "      <th>18</th>\n",
       "      <td>19</td>\n",
       "      <td>Регина</td>\n",
       "      <td>32</td>\n",
       "      <td>Тюмень</td>\n",
       "      <td>ultra</td>\n",
       "    </tr>\n",
       "    <tr>\n",
       "      <th>19</th>\n",
       "      <td>20</td>\n",
       "      <td>Игорь</td>\n",
       "      <td>23</td>\n",
       "      <td>Омск</td>\n",
       "      <td>ultra</td>\n",
       "    </tr>\n",
       "  </tbody>\n",
       "</table>\n",
       "</div>"
      ],
      "text/plain": [
       "    user_id        name  age            city subscription_type\n",
       "0         1        Кира   22          Тюмень             ultra\n",
       "1         2   Станислав   31            Омск             ultra\n",
       "2         3     Алексей   20          Москва             ultra\n",
       "3         4  Константин   26  Ростов-на-Дону             ultra\n",
       "4         5       Адель   28            Омск             ultra\n",
       "5         6      Регина   25       Краснодар             ultra\n",
       "6         7       Игорь   23            Омск             ultra\n",
       "7         8        Юрий   23       Краснодар             ultra\n",
       "8         9          Ян   21       Пятигорск             ultra\n",
       "9        10     Валерий   18    Екатеринбург             ultra\n",
       "10       11       Агата   31       Краснодар             ultra\n",
       "11       12        Марк   27          Тюмень             ultra\n",
       "12       13         Ева   24       Краснодар             ultra\n",
       "13       14    Антонина   18       Пятигорск             ultra\n",
       "14       15     Валерия   24          Тюмень             ultra\n",
       "15       16      Амалия   27       Краснодар             ultra\n",
       "16       17      Даниил   29          Москва             ultra\n",
       "17       18     Аделина   24            Сочи             ultra\n",
       "18       19      Регина   32          Тюмень             ultra\n",
       "19       20       Игорь   23            Омск             ultra"
      ]
     },
     "execution_count": 9,
     "metadata": {},
     "output_type": "execute_result"
    }
   ],
   "source": [
    "dt_users.head(20)"
   ]
  },
  {
   "cell_type": "code",
   "execution_count": 10,
   "id": "c8839378",
   "metadata": {},
   "outputs": [
    {
     "data": {
      "text/html": [
       "<div>\n",
       "<style scoped>\n",
       "    .dataframe tbody tr th:only-of-type {\n",
       "        vertical-align: middle;\n",
       "    }\n",
       "\n",
       "    .dataframe tbody tr th {\n",
       "        vertical-align: top;\n",
       "    }\n",
       "\n",
       "    .dataframe thead th {\n",
       "        text-align: right;\n",
       "    }\n",
       "</style>\n",
       "<table border=\"1\" class=\"dataframe\">\n",
       "  <thead>\n",
       "    <tr style=\"text-align: right;\">\n",
       "      <th></th>\n",
       "      <th>user_id</th>\n",
       "      <th>distance</th>\n",
       "      <th>duration</th>\n",
       "      <th>date</th>\n",
       "    </tr>\n",
       "  </thead>\n",
       "  <tbody>\n",
       "    <tr>\n",
       "      <th>0</th>\n",
       "      <td>1</td>\n",
       "      <td>4409.919140</td>\n",
       "      <td>25.599769</td>\n",
       "      <td>2021-01-01</td>\n",
       "    </tr>\n",
       "    <tr>\n",
       "      <th>1</th>\n",
       "      <td>1</td>\n",
       "      <td>2617.592153</td>\n",
       "      <td>15.816871</td>\n",
       "      <td>2021-01-18</td>\n",
       "    </tr>\n",
       "    <tr>\n",
       "      <th>2</th>\n",
       "      <td>1</td>\n",
       "      <td>754.159807</td>\n",
       "      <td>6.232113</td>\n",
       "      <td>2021-04-20</td>\n",
       "    </tr>\n",
       "    <tr>\n",
       "      <th>3</th>\n",
       "      <td>1</td>\n",
       "      <td>2694.783254</td>\n",
       "      <td>18.511000</td>\n",
       "      <td>2021-08-11</td>\n",
       "    </tr>\n",
       "    <tr>\n",
       "      <th>4</th>\n",
       "      <td>1</td>\n",
       "      <td>4028.687306</td>\n",
       "      <td>26.265803</td>\n",
       "      <td>2021-08-28</td>\n",
       "    </tr>\n",
       "    <tr>\n",
       "      <th>5</th>\n",
       "      <td>1</td>\n",
       "      <td>2770.890808</td>\n",
       "      <td>16.650138</td>\n",
       "      <td>2021-10-09</td>\n",
       "    </tr>\n",
       "    <tr>\n",
       "      <th>6</th>\n",
       "      <td>1</td>\n",
       "      <td>3039.020292</td>\n",
       "      <td>14.927879</td>\n",
       "      <td>2021-10-19</td>\n",
       "    </tr>\n",
       "    <tr>\n",
       "      <th>7</th>\n",
       "      <td>1</td>\n",
       "      <td>2842.118050</td>\n",
       "      <td>23.117468</td>\n",
       "      <td>2021-11-06</td>\n",
       "    </tr>\n",
       "    <tr>\n",
       "      <th>8</th>\n",
       "      <td>1</td>\n",
       "      <td>3412.690668</td>\n",
       "      <td>15.238072</td>\n",
       "      <td>2021-11-14</td>\n",
       "    </tr>\n",
       "    <tr>\n",
       "      <th>9</th>\n",
       "      <td>1</td>\n",
       "      <td>748.690645</td>\n",
       "      <td>15.041884</td>\n",
       "      <td>2021-11-22</td>\n",
       "    </tr>\n",
       "    <tr>\n",
       "      <th>10</th>\n",
       "      <td>1</td>\n",
       "      <td>4031.020195</td>\n",
       "      <td>17.674448</td>\n",
       "      <td>2021-12-14</td>\n",
       "    </tr>\n",
       "    <tr>\n",
       "      <th>11</th>\n",
       "      <td>1</td>\n",
       "      <td>2720.609748</td>\n",
       "      <td>9.529463</td>\n",
       "      <td>2021-12-22</td>\n",
       "    </tr>\n",
       "    <tr>\n",
       "      <th>12</th>\n",
       "      <td>2</td>\n",
       "      <td>3105.086678</td>\n",
       "      <td>24.307514</td>\n",
       "      <td>2021-03-15</td>\n",
       "    </tr>\n",
       "    <tr>\n",
       "      <th>13</th>\n",
       "      <td>2</td>\n",
       "      <td>3053.519401</td>\n",
       "      <td>11.543256</td>\n",
       "      <td>2021-03-18</td>\n",
       "    </tr>\n",
       "    <tr>\n",
       "      <th>14</th>\n",
       "      <td>2</td>\n",
       "      <td>4029.116927</td>\n",
       "      <td>25.109188</td>\n",
       "      <td>2021-03-23</td>\n",
       "    </tr>\n",
       "    <tr>\n",
       "      <th>15</th>\n",
       "      <td>2</td>\n",
       "      <td>2805.786329</td>\n",
       "      <td>20.652145</td>\n",
       "      <td>2021-04-08</td>\n",
       "    </tr>\n",
       "    <tr>\n",
       "      <th>16</th>\n",
       "      <td>2</td>\n",
       "      <td>3358.595495</td>\n",
       "      <td>18.396489</td>\n",
       "      <td>2021-04-13</td>\n",
       "    </tr>\n",
       "    <tr>\n",
       "      <th>17</th>\n",
       "      <td>2</td>\n",
       "      <td>3255.338202</td>\n",
       "      <td>13.851127</td>\n",
       "      <td>2021-06-20</td>\n",
       "    </tr>\n",
       "    <tr>\n",
       "      <th>18</th>\n",
       "      <td>2</td>\n",
       "      <td>3942.817648</td>\n",
       "      <td>20.142725</td>\n",
       "      <td>2021-07-02</td>\n",
       "    </tr>\n",
       "    <tr>\n",
       "      <th>19</th>\n",
       "      <td>2</td>\n",
       "      <td>2837.905316</td>\n",
       "      <td>26.027432</td>\n",
       "      <td>2021-07-18</td>\n",
       "    </tr>\n",
       "  </tbody>\n",
       "</table>\n",
       "</div>"
      ],
      "text/plain": [
       "    user_id     distance   duration        date\n",
       "0         1  4409.919140  25.599769  2021-01-01\n",
       "1         1  2617.592153  15.816871  2021-01-18\n",
       "2         1   754.159807   6.232113  2021-04-20\n",
       "3         1  2694.783254  18.511000  2021-08-11\n",
       "4         1  4028.687306  26.265803  2021-08-28\n",
       "5         1  2770.890808  16.650138  2021-10-09\n",
       "6         1  3039.020292  14.927879  2021-10-19\n",
       "7         1  2842.118050  23.117468  2021-11-06\n",
       "8         1  3412.690668  15.238072  2021-11-14\n",
       "9         1   748.690645  15.041884  2021-11-22\n",
       "10        1  4031.020195  17.674448  2021-12-14\n",
       "11        1  2720.609748   9.529463  2021-12-22\n",
       "12        2  3105.086678  24.307514  2021-03-15\n",
       "13        2  3053.519401  11.543256  2021-03-18\n",
       "14        2  4029.116927  25.109188  2021-03-23\n",
       "15        2  2805.786329  20.652145  2021-04-08\n",
       "16        2  3358.595495  18.396489  2021-04-13\n",
       "17        2  3255.338202  13.851127  2021-06-20\n",
       "18        2  3942.817648  20.142725  2021-07-02\n",
       "19        2  2837.905316  26.027432  2021-07-18"
      ]
     },
     "execution_count": 10,
     "metadata": {},
     "output_type": "execute_result"
    }
   ],
   "source": [
    "dt_rides.head(20)"
   ]
  },
  {
   "cell_type": "code",
   "execution_count": 11,
   "id": "2fbbdd35",
   "metadata": {},
   "outputs": [
    {
     "data": {
      "text/html": [
       "<div>\n",
       "<style scoped>\n",
       "    .dataframe tbody tr th:only-of-type {\n",
       "        vertical-align: middle;\n",
       "    }\n",
       "\n",
       "    .dataframe tbody tr th {\n",
       "        vertical-align: top;\n",
       "    }\n",
       "\n",
       "    .dataframe thead th {\n",
       "        text-align: right;\n",
       "    }\n",
       "</style>\n",
       "<table border=\"1\" class=\"dataframe\">\n",
       "  <thead>\n",
       "    <tr style=\"text-align: right;\">\n",
       "      <th></th>\n",
       "      <th>subscription_type</th>\n",
       "      <th>minute_price</th>\n",
       "      <th>start_ride_price</th>\n",
       "      <th>subscription_fee</th>\n",
       "    </tr>\n",
       "  </thead>\n",
       "  <tbody>\n",
       "    <tr>\n",
       "      <th>0</th>\n",
       "      <td>free</td>\n",
       "      <td>8</td>\n",
       "      <td>50</td>\n",
       "      <td>0</td>\n",
       "    </tr>\n",
       "    <tr>\n",
       "      <th>1</th>\n",
       "      <td>ultra</td>\n",
       "      <td>6</td>\n",
       "      <td>0</td>\n",
       "      <td>199</td>\n",
       "    </tr>\n",
       "  </tbody>\n",
       "</table>\n",
       "</div>"
      ],
      "text/plain": [
       "  subscription_type  minute_price  start_ride_price  subscription_fee\n",
       "0              free             8                50                 0\n",
       "1             ultra             6                 0               199"
      ]
     },
     "execution_count": 11,
     "metadata": {},
     "output_type": "execute_result"
    }
   ],
   "source": [
    "dt_subs.head(20)"
   ]
  },
  {
   "cell_type": "code",
   "execution_count": 12,
   "id": "efc47a0b",
   "metadata": {},
   "outputs": [
    {
     "name": "stdout",
     "output_type": "stream",
     "text": [
      "<class 'pandas.core.frame.DataFrame'>\n",
      "RangeIndex: 1565 entries, 0 to 1564\n",
      "Data columns (total 5 columns):\n",
      " #   Column             Non-Null Count  Dtype \n",
      "---  ------             --------------  ----- \n",
      " 0   user_id            1565 non-null   int64 \n",
      " 1   name               1565 non-null   object\n",
      " 2   age                1565 non-null   int64 \n",
      " 3   city               1565 non-null   object\n",
      " 4   subscription_type  1565 non-null   object\n",
      "dtypes: int64(2), object(3)\n",
      "memory usage: 61.3+ KB\n"
     ]
    }
   ],
   "source": [
    "dt_users.info()"
   ]
  },
  {
   "cell_type": "code",
   "execution_count": 13,
   "id": "12324d87",
   "metadata": {},
   "outputs": [
    {
     "name": "stdout",
     "output_type": "stream",
     "text": [
      "<class 'pandas.core.frame.DataFrame'>\n",
      "RangeIndex: 18068 entries, 0 to 18067\n",
      "Data columns (total 4 columns):\n",
      " #   Column    Non-Null Count  Dtype  \n",
      "---  ------    --------------  -----  \n",
      " 0   user_id   18068 non-null  int64  \n",
      " 1   distance  18068 non-null  float64\n",
      " 2   duration  18068 non-null  float64\n",
      " 3   date      18068 non-null  object \n",
      "dtypes: float64(2), int64(1), object(1)\n",
      "memory usage: 564.8+ KB\n"
     ]
    }
   ],
   "source": [
    "dt_rides.info()"
   ]
  },
  {
   "cell_type": "code",
   "execution_count": 14,
   "id": "9159f792",
   "metadata": {},
   "outputs": [
    {
     "name": "stdout",
     "output_type": "stream",
     "text": [
      "<class 'pandas.core.frame.DataFrame'>\n",
      "RangeIndex: 2 entries, 0 to 1\n",
      "Data columns (total 4 columns):\n",
      " #   Column             Non-Null Count  Dtype \n",
      "---  ------             --------------  ----- \n",
      " 0   subscription_type  2 non-null      object\n",
      " 1   minute_price       2 non-null      int64 \n",
      " 2   start_ride_price   2 non-null      int64 \n",
      " 3   subscription_fee   2 non-null      int64 \n",
      "dtypes: int64(3), object(1)\n",
      "memory usage: 192.0+ bytes\n"
     ]
    }
   ],
   "source": [
    "dt_subs.info()"
   ]
  },
  {
   "cell_type": "markdown",
   "id": "e95ebca7",
   "metadata": {},
   "source": [
    "#### Шаг 2. Предобработка данных"
   ]
  },
  {
   "cell_type": "code",
   "execution_count": 15,
   "id": "63b8714b",
   "metadata": {},
   "outputs": [
    {
     "data": {
      "text/plain": [
       "0    2021-01-01\n",
       "1    2021-01-18\n",
       "2    2021-04-20\n",
       "3    2021-08-11\n",
       "4    2021-08-28\n",
       "Name: date, dtype: object"
      ]
     },
     "execution_count": 15,
     "metadata": {},
     "output_type": "execute_result"
    }
   ],
   "source": [
    "dt_rides['date'].head()"
   ]
  },
  {
   "cell_type": "code",
   "execution_count": 16,
   "id": "af6d202c",
   "metadata": {},
   "outputs": [],
   "source": [
    "dt_rides['date'] = pd.to_datetime(dt_rides['date'], format='%Y-%m-%d')"
   ]
  },
  {
   "cell_type": "code",
   "execution_count": 17,
   "id": "d7697c0c",
   "metadata": {},
   "outputs": [],
   "source": [
    "dt_rides['date_month'] = pd.DatetimeIndex(dt_rides['date']).month"
   ]
  },
  {
   "cell_type": "code",
   "execution_count": 18,
   "id": "070d0d1e",
   "metadata": {},
   "outputs": [
    {
     "name": "stdout",
     "output_type": "stream",
     "text": [
      "<class 'pandas.core.frame.DataFrame'>\n",
      "RangeIndex: 18068 entries, 0 to 18067\n",
      "Data columns (total 5 columns):\n",
      " #   Column      Non-Null Count  Dtype         \n",
      "---  ------      --------------  -----         \n",
      " 0   user_id     18068 non-null  int64         \n",
      " 1   distance    18068 non-null  float64       \n",
      " 2   duration    18068 non-null  float64       \n",
      " 3   date        18068 non-null  datetime64[ns]\n",
      " 4   date_month  18068 non-null  int64         \n",
      "dtypes: datetime64[ns](1), float64(2), int64(2)\n",
      "memory usage: 705.9 KB\n"
     ]
    }
   ],
   "source": [
    "dt_rides.info()"
   ]
  },
  {
   "cell_type": "code",
   "execution_count": 19,
   "id": "7b188fea",
   "metadata": {},
   "outputs": [],
   "source": [
    "def skips_and_duplicates_checker(dt_smth):\n",
    "    print(dt_smth.isna().sum())\n",
    "    print()\n",
    "    print(dt_smth.duplicated().sum())"
   ]
  },
  {
   "cell_type": "code",
   "execution_count": 20,
   "id": "74049fb6",
   "metadata": {},
   "outputs": [
    {
     "name": "stdout",
     "output_type": "stream",
     "text": [
      "user_id              0\n",
      "name                 0\n",
      "age                  0\n",
      "city                 0\n",
      "subscription_type    0\n",
      "dtype: int64\n",
      "\n",
      "31\n"
     ]
    }
   ],
   "source": [
    "skips_and_duplicates_checker(dt_users)"
   ]
  },
  {
   "cell_type": "code",
   "execution_count": 21,
   "id": "e8d72455",
   "metadata": {},
   "outputs": [
    {
     "name": "stdout",
     "output_type": "stream",
     "text": [
      "user_id       0\n",
      "distance      0\n",
      "duration      0\n",
      "date          0\n",
      "date_month    0\n",
      "dtype: int64\n",
      "\n",
      "0\n"
     ]
    }
   ],
   "source": [
    "skips_and_duplicates_checker(dt_rides)"
   ]
  },
  {
   "cell_type": "code",
   "execution_count": 22,
   "id": "e595aab6",
   "metadata": {},
   "outputs": [
    {
     "name": "stdout",
     "output_type": "stream",
     "text": [
      "subscription_type    0\n",
      "minute_price         0\n",
      "start_ride_price     0\n",
      "subscription_fee     0\n",
      "dtype: int64\n",
      "\n",
      "0\n"
     ]
    }
   ],
   "source": [
    "skips_and_duplicates_checker(dt_subs)"
   ]
  },
  {
   "cell_type": "code",
   "execution_count": 23,
   "id": "624c02ae",
   "metadata": {},
   "outputs": [],
   "source": [
    "dt_users = dt_users.drop_duplicates().reset_index(drop=True)"
   ]
  },
  {
   "cell_type": "code",
   "execution_count": 24,
   "id": "b6cae708",
   "metadata": {},
   "outputs": [
    {
     "data": {
      "text/plain": [
       "0"
      ]
     },
     "execution_count": 24,
     "metadata": {},
     "output_type": "execute_result"
    }
   ],
   "source": [
    "dt_users.duplicated().sum()"
   ]
  },
  {
   "cell_type": "markdown",
   "id": "212593c7",
   "metadata": {},
   "source": [
    "#### Шаг 3. Исследовательский анализ данных"
   ]
  },
  {
   "cell_type": "code",
   "execution_count": 25,
   "id": "ef7a390f",
   "metadata": {},
   "outputs": [
    {
     "data": {
      "text/plain": [
       "array(['Тюмень', 'Омск', 'Москва', 'Ростов-на-Дону', 'Краснодар',\n",
       "       'Пятигорск', 'Екатеринбург', 'Сочи'], dtype=object)"
      ]
     },
     "execution_count": 25,
     "metadata": {},
     "output_type": "execute_result"
    }
   ],
   "source": [
    "dt_users['city'].unique()"
   ]
  },
  {
   "cell_type": "code",
   "execution_count": 26,
   "id": "e3a4274c",
   "metadata": {
    "scrolled": true
   },
   "outputs": [
    {
     "data": {
      "text/plain": [
       "Пятигорск         219\n",
       "Екатеринбург      204\n",
       "Ростов-на-Дону    198\n",
       "Краснодар         193\n",
       "Сочи              189\n",
       "Омск              183\n",
       "Тюмень            180\n",
       "Москва            168\n",
       "Name: city, dtype: int64"
      ]
     },
     "execution_count": 26,
     "metadata": {},
     "output_type": "execute_result"
    }
   ],
   "source": [
    "dt_users['city'].value_counts()"
   ]
  },
  {
   "cell_type": "code",
   "execution_count": 27,
   "id": "423ab905",
   "metadata": {},
   "outputs": [
    {
     "data": {
      "image/png": "[encoded data removed]",
      "text/plain": [
       "<Figure size 1224x432 with 1 Axes>"
      ]
     },
     "metadata": {
      "needs_background": "light"
     },
     "output_type": "display_data"
    }
   ],
   "source": [
    "dt_users['city'].hist(bins=100, figsize=(17, 6))\n",
    "plt.suptitle('Гистограмма, показывающая кол-во пользователей в разных городах ')\n",
    "plt.ylabel('Кол-во людей')\n",
    "plt.xlabel('Города');"
   ]
  },
  {
   "cell_type": "code",
   "execution_count": 28,
   "id": "f8ab07fb",
   "metadata": {},
   "outputs": [
    {
     "data": {
      "image/png": "[encoded data removed]",
      "text/plain": [
       "<Figure size 432x432 with 1 Axes>"
      ]
     },
     "metadata": {},
     "output_type": "display_data"
    }
   ],
   "source": [
    "dt_users['subscription_type'].value_counts().plot(y='subscription_type', kind='pie', figsize=(6,6));\n",
    "plt.suptitle('Круговая диаграмма, показывающая кол-во людей с подпиской или без');"
   ]
  },
  {
   "cell_type": "code",
   "execution_count": 29,
   "id": "459a04f3",
   "metadata": {},
   "outputs": [
    {
     "name": "stdout",
     "output_type": "stream",
     "text": [
      "Соотношение людей с подпиской к людям без: 0.837125748502994\n",
      "Соотношение людей с подпиской ко всем людям: 0.4556714471968709\n",
      "Соотношение людей без подписки ко всем людям: 0.5443285528031291\n"
     ]
    }
   ],
   "source": [
    "print(\"Соотношение людей с подпиской к людям без:\",\n",
    "    len(dt_users[dt_users['subscription_type'] == 'ultra']) / \n",
    "    len(dt_users[dt_users['subscription_type'] == 'free'])\n",
    ")\n",
    "print(\"Соотношение людей с подпиской ко всем людям:\", len(dt_users[dt_users['subscription_type'] == 'ultra']) / len(dt_users))\n",
    "print(\"Соотношение людей без подписки ко всем людям:\", len(dt_users[dt_users['subscription_type'] == 'free']) / len(dt_users))\n",
    "      "
   ]
  },
  {
   "cell_type": "code",
   "execution_count": 30,
   "id": "94c02337",
   "metadata": {},
   "outputs": [
    {
     "data": {
      "image/png": "[encoded data removed]",
      "text/plain": [
       "<Figure size 1224x432 with 1 Axes>"
      ]
     },
     "metadata": {
      "needs_background": "light"
     },
     "output_type": "display_data"
    }
   ],
   "source": [
    "dt_users['age'].hist(bins=100, figsize=(17, 6))\n",
    "plt.suptitle('Гистограмма, показывающая кол-во людей разных возрастов')\n",
    "plt.ylabel('Кол-во людей')\n",
    "plt.xlabel('Возраст');"
   ]
  },
  {
   "cell_type": "markdown",
   "id": "df6e1fd1",
   "metadata": {},
   "source": [
    "Из увиденного можно сделать вывод, что самокаты бóльшим спросом пользуются у людей от 23 до 26. "
   ]
  },
  {
   "cell_type": "code",
   "execution_count": 31,
   "id": "d86306d7",
   "metadata": {},
   "outputs": [
    {
     "data": {
      "image/png": "[encoded data removed]",
      "text/plain": [
       "<Figure size 1224x432 with 1 Axes>"
      ]
     },
     "metadata": {
      "needs_background": "light"
     },
     "output_type": "display_data"
    }
   ],
   "source": [
    "dt_rides['distance'].hist(bins=30, figsize=(17, 6))\n",
    "plt.suptitle('Гистограмма, показывающая расстояние, которое пользователь преодолел за одну поездку')\n",
    "plt.ylabel('Кол-во поездок')\n",
    "plt.xlabel('Расстояние, которое пользователь проехал в текущей сессии (в метрах)');"
   ]
  },
  {
   "cell_type": "markdown",
   "id": "36bb04e4",
   "metadata": {},
   "source": [
    "Образовалось 2 пика. Тот, что находится на отметке в 3000 метров, по моим предположениям, относится к тем случаям, когда расстояние слишком близкое, чтобы вызвать такси и слишком далёкое, чтобы пройти пешком. Поэтому берут самокат."
   ]
  },
  {
   "cell_type": "code",
   "execution_count": 32,
   "id": "b72d7fe1",
   "metadata": {},
   "outputs": [
    {
     "data": {
      "image/png": "[encoded data removed]",
      "text/plain": [
       "<Figure size 1224x576 with 1 Axes>"
      ]
     },
     "metadata": {
      "needs_background": "light"
     },
     "output_type": "display_data"
    }
   ],
   "source": [
    "dt_rides['duration'].hist(bins=50, figsize=(17, 8))\n",
    "plt.suptitle('''Гистограмма, показывающая продолжительность сессии (в минутах) — время с того момента, \n",
    "             как пользователь нажал кнопку «Начать поездку» до момента, как он нажал кнопку «Завершить поездку»''')\n",
    "plt.ylabel('Кол-во поездок')\n",
    "plt.xlabel('Продолжительность сессии (в минутах))');"
   ]
  },
  {
   "cell_type": "markdown",
   "id": "f36ff5eb",
   "metadata": {},
   "source": [
    "В основном люди берут самокаты на 15-20 минут. Скорее всего по тем же причинам, что и с расстоянием: расстояние слишком близкое, чтобы вызвать такси и слишком далёкое, чтобы пройти пешком. Так же есть небольшой скачок на 1 минуте и почти со 100% вероятностью это люди, которые арендовали самокат и сразу же по каким-то причинам отменили аренду."
   ]
  },
  {
   "cell_type": "markdown",
   "id": "4ef51331",
   "metadata": {},
   "source": [
    "#### Шаг 4. Объединение данных"
   ]
  },
  {
   "cell_type": "code",
   "execution_count": 33,
   "id": "6bf288b5",
   "metadata": {
    "scrolled": false
   },
   "outputs": [
    {
     "data": {
      "text/html": [
       "<div>\n",
       "<style scoped>\n",
       "    .dataframe tbody tr th:only-of-type {\n",
       "        vertical-align: middle;\n",
       "    }\n",
       "\n",
       "    .dataframe tbody tr th {\n",
       "        vertical-align: top;\n",
       "    }\n",
       "\n",
       "    .dataframe thead th {\n",
       "        text-align: right;\n",
       "    }\n",
       "</style>\n",
       "<table border=\"1\" class=\"dataframe\">\n",
       "  <thead>\n",
       "    <tr style=\"text-align: right;\">\n",
       "      <th></th>\n",
       "      <th>user_id</th>\n",
       "      <th>name</th>\n",
       "      <th>age</th>\n",
       "      <th>city</th>\n",
       "      <th>subscription_type</th>\n",
       "      <th>distance</th>\n",
       "      <th>duration</th>\n",
       "      <th>date</th>\n",
       "      <th>date_month</th>\n",
       "      <th>minute_price</th>\n",
       "      <th>start_ride_price</th>\n",
       "      <th>subscription_fee</th>\n",
       "    </tr>\n",
       "  </thead>\n",
       "  <tbody>\n",
       "    <tr>\n",
       "      <th>0</th>\n",
       "      <td>1</td>\n",
       "      <td>Кира</td>\n",
       "      <td>22</td>\n",
       "      <td>Тюмень</td>\n",
       "      <td>ultra</td>\n",
       "      <td>4409.919140</td>\n",
       "      <td>25.599769</td>\n",
       "      <td>2021-01-01</td>\n",
       "      <td>1</td>\n",
       "      <td>6</td>\n",
       "      <td>0</td>\n",
       "      <td>199</td>\n",
       "    </tr>\n",
       "    <tr>\n",
       "      <th>1</th>\n",
       "      <td>1</td>\n",
       "      <td>Кира</td>\n",
       "      <td>22</td>\n",
       "      <td>Тюмень</td>\n",
       "      <td>ultra</td>\n",
       "      <td>2617.592153</td>\n",
       "      <td>15.816871</td>\n",
       "      <td>2021-01-18</td>\n",
       "      <td>1</td>\n",
       "      <td>6</td>\n",
       "      <td>0</td>\n",
       "      <td>199</td>\n",
       "    </tr>\n",
       "    <tr>\n",
       "      <th>2</th>\n",
       "      <td>1</td>\n",
       "      <td>Кира</td>\n",
       "      <td>22</td>\n",
       "      <td>Тюмень</td>\n",
       "      <td>ultra</td>\n",
       "      <td>754.159807</td>\n",
       "      <td>6.232113</td>\n",
       "      <td>2021-04-20</td>\n",
       "      <td>4</td>\n",
       "      <td>6</td>\n",
       "      <td>0</td>\n",
       "      <td>199</td>\n",
       "    </tr>\n",
       "    <tr>\n",
       "      <th>3</th>\n",
       "      <td>1</td>\n",
       "      <td>Кира</td>\n",
       "      <td>22</td>\n",
       "      <td>Тюмень</td>\n",
       "      <td>ultra</td>\n",
       "      <td>2694.783254</td>\n",
       "      <td>18.511000</td>\n",
       "      <td>2021-08-11</td>\n",
       "      <td>8</td>\n",
       "      <td>6</td>\n",
       "      <td>0</td>\n",
       "      <td>199</td>\n",
       "    </tr>\n",
       "    <tr>\n",
       "      <th>4</th>\n",
       "      <td>1</td>\n",
       "      <td>Кира</td>\n",
       "      <td>22</td>\n",
       "      <td>Тюмень</td>\n",
       "      <td>ultra</td>\n",
       "      <td>4028.687306</td>\n",
       "      <td>26.265803</td>\n",
       "      <td>2021-08-28</td>\n",
       "      <td>8</td>\n",
       "      <td>6</td>\n",
       "      <td>0</td>\n",
       "      <td>199</td>\n",
       "    </tr>\n",
       "    <tr>\n",
       "      <th>5</th>\n",
       "      <td>1</td>\n",
       "      <td>Кира</td>\n",
       "      <td>22</td>\n",
       "      <td>Тюмень</td>\n",
       "      <td>ultra</td>\n",
       "      <td>2770.890808</td>\n",
       "      <td>16.650138</td>\n",
       "      <td>2021-10-09</td>\n",
       "      <td>10</td>\n",
       "      <td>6</td>\n",
       "      <td>0</td>\n",
       "      <td>199</td>\n",
       "    </tr>\n",
       "    <tr>\n",
       "      <th>6</th>\n",
       "      <td>1</td>\n",
       "      <td>Кира</td>\n",
       "      <td>22</td>\n",
       "      <td>Тюмень</td>\n",
       "      <td>ultra</td>\n",
       "      <td>3039.020292</td>\n",
       "      <td>14.927879</td>\n",
       "      <td>2021-10-19</td>\n",
       "      <td>10</td>\n",
       "      <td>6</td>\n",
       "      <td>0</td>\n",
       "      <td>199</td>\n",
       "    </tr>\n",
       "    <tr>\n",
       "      <th>7</th>\n",
       "      <td>1</td>\n",
       "      <td>Кира</td>\n",
       "      <td>22</td>\n",
       "      <td>Тюмень</td>\n",
       "      <td>ultra</td>\n",
       "      <td>2842.118050</td>\n",
       "      <td>23.117468</td>\n",
       "      <td>2021-11-06</td>\n",
       "      <td>11</td>\n",
       "      <td>6</td>\n",
       "      <td>0</td>\n",
       "      <td>199</td>\n",
       "    </tr>\n",
       "    <tr>\n",
       "      <th>8</th>\n",
       "      <td>1</td>\n",
       "      <td>Кира</td>\n",
       "      <td>22</td>\n",
       "      <td>Тюмень</td>\n",
       "      <td>ultra</td>\n",
       "      <td>3412.690668</td>\n",
       "      <td>15.238072</td>\n",
       "      <td>2021-11-14</td>\n",
       "      <td>11</td>\n",
       "      <td>6</td>\n",
       "      <td>0</td>\n",
       "      <td>199</td>\n",
       "    </tr>\n",
       "    <tr>\n",
       "      <th>9</th>\n",
       "      <td>1</td>\n",
       "      <td>Кира</td>\n",
       "      <td>22</td>\n",
       "      <td>Тюмень</td>\n",
       "      <td>ultra</td>\n",
       "      <td>748.690645</td>\n",
       "      <td>15.041884</td>\n",
       "      <td>2021-11-22</td>\n",
       "      <td>11</td>\n",
       "      <td>6</td>\n",
       "      <td>0</td>\n",
       "      <td>199</td>\n",
       "    </tr>\n",
       "  </tbody>\n",
       "</table>\n",
       "</div>"
      ],
      "text/plain": [
       "   user_id  name  age    city subscription_type     distance   duration  \\\n",
       "0        1  Кира   22  Тюмень             ultra  4409.919140  25.599769   \n",
       "1        1  Кира   22  Тюмень             ultra  2617.592153  15.816871   \n",
       "2        1  Кира   22  Тюмень             ultra   754.159807   6.232113   \n",
       "3        1  Кира   22  Тюмень             ultra  2694.783254  18.511000   \n",
       "4        1  Кира   22  Тюмень             ultra  4028.687306  26.265803   \n",
       "5        1  Кира   22  Тюмень             ultra  2770.890808  16.650138   \n",
       "6        1  Кира   22  Тюмень             ultra  3039.020292  14.927879   \n",
       "7        1  Кира   22  Тюмень             ultra  2842.118050  23.117468   \n",
       "8        1  Кира   22  Тюмень             ultra  3412.690668  15.238072   \n",
       "9        1  Кира   22  Тюмень             ultra   748.690645  15.041884   \n",
       "\n",
       "        date  date_month  minute_price  start_ride_price  subscription_fee  \n",
       "0 2021-01-01           1             6                 0               199  \n",
       "1 2021-01-18           1             6                 0               199  \n",
       "2 2021-04-20           4             6                 0               199  \n",
       "3 2021-08-11           8             6                 0               199  \n",
       "4 2021-08-28           8             6                 0               199  \n",
       "5 2021-10-09          10             6                 0               199  \n",
       "6 2021-10-19          10             6                 0               199  \n",
       "7 2021-11-06          11             6                 0               199  \n",
       "8 2021-11-14          11             6                 0               199  \n",
       "9 2021-11-22          11             6                 0               199  "
      ]
     },
     "execution_count": 33,
     "metadata": {},
     "output_type": "execute_result"
    }
   ],
   "source": [
    "dt_all = dt_users.merge(dt_rides, on='user_id', how='outer')\n",
    "dt_all = dt_all.merge(dt_subs, on='subscription_type')\n",
    "dt_all.head(10)"
   ]
  },
  {
   "cell_type": "code",
   "execution_count": 34,
   "id": "6adfcabd",
   "metadata": {},
   "outputs": [
    {
     "name": "stdout",
     "output_type": "stream",
     "text": [
      "user_id              0\n",
      "name                 0\n",
      "age                  0\n",
      "city                 0\n",
      "subscription_type    0\n",
      "distance             0\n",
      "duration             0\n",
      "date                 0\n",
      "date_month           0\n",
      "minute_price         0\n",
      "start_ride_price     0\n",
      "subscription_fee     0\n",
      "dtype: int64\n",
      "\n",
      "0\n"
     ]
    }
   ],
   "source": [
    "skips_and_duplicates_checker(dt_all)"
   ]
  },
  {
   "cell_type": "code",
   "execution_count": 35,
   "id": "68cb3ac4",
   "metadata": {},
   "outputs": [],
   "source": [
    "dt_ultra = dt_all[dt_all['subscription_type'] == 'ultra']\n",
    "dt_free = dt_all[dt_all['subscription_type'] == 'free']"
   ]
  },
  {
   "cell_type": "code",
   "execution_count": 36,
   "id": "8f46d410",
   "metadata": {},
   "outputs": [
    {
     "name": "stdout",
     "output_type": "stream",
     "text": [
      "3148.6372291760854\n",
      "3114.648464847295\n"
     ]
    },
    {
     "data": {
      "image/png": "[encoded data removed]",
      "text/plain": [
       "<Figure size 1080x360 with 1 Axes>"
      ]
     },
     "metadata": {
      "needs_background": "light"
     },
     "output_type": "display_data"
    }
   ],
   "source": [
    "ax = dt_ultra.plot(\n",
    "    kind='hist',\n",
    "    y='distance',\n",
    "    histtype='step',\n",
    "    bins=50,\n",
    "    linewidth=3,\n",
    "    alpha=0.65,\n",
    "    label='С подпиской',\n",
    ")\n",
    "dt_free.plot(\n",
    "    kind='hist',\n",
    "    y='distance',\n",
    "    histtype='step',\n",
    "    bins=50,\n",
    "    linewidth=3,\n",
    "    alpha=0.65,\n",
    "    label='Без подписки',\n",
    "    ax=ax,\n",
    "    grid=True,\n",
    "    legend=True,\n",
    "    figsize=(15, 5)\n",
    ");\n",
    "plt.suptitle('''Гистограмма, показывающая расстояние, которое проехали в текущей сессии (в метрах) пользователи с подпиской и без подписки нажал кнопку «Начать поездку» до момента, \n",
    "             как он нажал кнопку «Завершить поездку»''')\n",
    "plt.ylabel('Кол-во поездок')\n",
    "plt.xlabel('Расстояние, которое пользователь проехал в текущей сессии (в метрах))');\n",
    "\n",
    "print(dt_ultra['distance'].median())\n",
    "print(dt_free['distance'].median())"
   ]
  },
  {
   "cell_type": "code",
   "execution_count": 37,
   "id": "f94e0e33",
   "metadata": {},
   "outputs": [
    {
     "data": {
      "image/png": "[encoded data removed]",
      "text/plain": [
       "<Figure size 1080x360 with 1 Axes>"
      ]
     },
     "metadata": {
      "needs_background": "light"
     },
     "output_type": "display_data"
    }
   ],
   "source": [
    "ax = dt_ultra.plot(\n",
    "    kind='hist',\n",
    "    y='duration',\n",
    "    histtype='step',\n",
    "    bins=50,\n",
    "    linewidth=5,\n",
    "    alpha=0.65,\n",
    "    label='С подпиской',\n",
    ")\n",
    "dt_free.plot(\n",
    "    kind='hist',\n",
    "    y='duration',\n",
    "    histtype='step',\n",
    "    bins=50,\n",
    "    linewidth=5,\n",
    "    alpha=0.65,\n",
    "    label='Без подписки',\n",
    "    ax=ax,\n",
    "    grid=True,\n",
    "    legend=True,\n",
    "    figsize=(15, 5)\n",
    ");\n",
    "plt.suptitle('''Гистограмма, показывающая продолжительность сессии (в минутах) — время с того момента, как пользователи с подпиской и без подписки нажали кнопку «Начать поездку» до момента, \n",
    "             как он нажал кнопку «Завершить поездку»''')\n",
    "plt.ylabel('Кол-во поездок')\n",
    "plt.xlabel('Продолжительность сессии (в минутах))');"
   ]
  },
  {
   "cell_type": "markdown",
   "id": "402d620f",
   "metadata": {},
   "source": [
    "#### Шаг 5. Подсчёт выручки"
   ]
  },
  {
   "cell_type": "code",
   "execution_count": 38,
   "id": "20952b9e",
   "metadata": {},
   "outputs": [
    {
     "data": {
      "text/html": [
       "<div>\n",
       "<style scoped>\n",
       "    .dataframe tbody tr th:only-of-type {\n",
       "        vertical-align: middle;\n",
       "    }\n",
       "\n",
       "    .dataframe tbody tr th {\n",
       "        vertical-align: top;\n",
       "    }\n",
       "\n",
       "    .dataframe thead th {\n",
       "        text-align: right;\n",
       "    }\n",
       "</style>\n",
       "<table border=\"1\" class=\"dataframe\">\n",
       "  <thead>\n",
       "    <tr style=\"text-align: right;\">\n",
       "      <th></th>\n",
       "      <th>user_id</th>\n",
       "      <th>name</th>\n",
       "      <th>age</th>\n",
       "      <th>city</th>\n",
       "      <th>subscription_type</th>\n",
       "      <th>distance</th>\n",
       "      <th>duration</th>\n",
       "      <th>date</th>\n",
       "      <th>date_month</th>\n",
       "      <th>minute_price</th>\n",
       "      <th>start_ride_price</th>\n",
       "      <th>subscription_fee</th>\n",
       "    </tr>\n",
       "  </thead>\n",
       "  <tbody>\n",
       "    <tr>\n",
       "      <th>0</th>\n",
       "      <td>1</td>\n",
       "      <td>Кира</td>\n",
       "      <td>22</td>\n",
       "      <td>Тюмень</td>\n",
       "      <td>ultra</td>\n",
       "      <td>4409.919140</td>\n",
       "      <td>26.0</td>\n",
       "      <td>2021-01-01</td>\n",
       "      <td>1</td>\n",
       "      <td>6</td>\n",
       "      <td>0</td>\n",
       "      <td>199</td>\n",
       "    </tr>\n",
       "    <tr>\n",
       "      <th>1</th>\n",
       "      <td>1</td>\n",
       "      <td>Кира</td>\n",
       "      <td>22</td>\n",
       "      <td>Тюмень</td>\n",
       "      <td>ultra</td>\n",
       "      <td>2617.592153</td>\n",
       "      <td>16.0</td>\n",
       "      <td>2021-01-18</td>\n",
       "      <td>1</td>\n",
       "      <td>6</td>\n",
       "      <td>0</td>\n",
       "      <td>199</td>\n",
       "    </tr>\n",
       "    <tr>\n",
       "      <th>2</th>\n",
       "      <td>1</td>\n",
       "      <td>Кира</td>\n",
       "      <td>22</td>\n",
       "      <td>Тюмень</td>\n",
       "      <td>ultra</td>\n",
       "      <td>754.159807</td>\n",
       "      <td>7.0</td>\n",
       "      <td>2021-04-20</td>\n",
       "      <td>4</td>\n",
       "      <td>6</td>\n",
       "      <td>0</td>\n",
       "      <td>199</td>\n",
       "    </tr>\n",
       "    <tr>\n",
       "      <th>3</th>\n",
       "      <td>1</td>\n",
       "      <td>Кира</td>\n",
       "      <td>22</td>\n",
       "      <td>Тюмень</td>\n",
       "      <td>ultra</td>\n",
       "      <td>2694.783254</td>\n",
       "      <td>19.0</td>\n",
       "      <td>2021-08-11</td>\n",
       "      <td>8</td>\n",
       "      <td>6</td>\n",
       "      <td>0</td>\n",
       "      <td>199</td>\n",
       "    </tr>\n",
       "    <tr>\n",
       "      <th>4</th>\n",
       "      <td>1</td>\n",
       "      <td>Кира</td>\n",
       "      <td>22</td>\n",
       "      <td>Тюмень</td>\n",
       "      <td>ultra</td>\n",
       "      <td>4028.687306</td>\n",
       "      <td>27.0</td>\n",
       "      <td>2021-08-28</td>\n",
       "      <td>8</td>\n",
       "      <td>6</td>\n",
       "      <td>0</td>\n",
       "      <td>199</td>\n",
       "    </tr>\n",
       "    <tr>\n",
       "      <th>...</th>\n",
       "      <td>...</td>\n",
       "      <td>...</td>\n",
       "      <td>...</td>\n",
       "      <td>...</td>\n",
       "      <td>...</td>\n",
       "      <td>...</td>\n",
       "      <td>...</td>\n",
       "      <td>...</td>\n",
       "      <td>...</td>\n",
       "      <td>...</td>\n",
       "      <td>...</td>\n",
       "      <td>...</td>\n",
       "    </tr>\n",
       "    <tr>\n",
       "      <th>18063</th>\n",
       "      <td>1534</td>\n",
       "      <td>Альберт</td>\n",
       "      <td>25</td>\n",
       "      <td>Краснодар</td>\n",
       "      <td>free</td>\n",
       "      <td>3781.098080</td>\n",
       "      <td>20.0</td>\n",
       "      <td>2021-11-04</td>\n",
       "      <td>11</td>\n",
       "      <td>8</td>\n",
       "      <td>50</td>\n",
       "      <td>0</td>\n",
       "    </tr>\n",
       "    <tr>\n",
       "      <th>18064</th>\n",
       "      <td>1534</td>\n",
       "      <td>Альберт</td>\n",
       "      <td>25</td>\n",
       "      <td>Краснодар</td>\n",
       "      <td>free</td>\n",
       "      <td>2840.423057</td>\n",
       "      <td>22.0</td>\n",
       "      <td>2021-11-16</td>\n",
       "      <td>11</td>\n",
       "      <td>8</td>\n",
       "      <td>50</td>\n",
       "      <td>0</td>\n",
       "    </tr>\n",
       "    <tr>\n",
       "      <th>18065</th>\n",
       "      <td>1534</td>\n",
       "      <td>Альберт</td>\n",
       "      <td>25</td>\n",
       "      <td>Краснодар</td>\n",
       "      <td>free</td>\n",
       "      <td>3826.185507</td>\n",
       "      <td>19.0</td>\n",
       "      <td>2021-11-18</td>\n",
       "      <td>11</td>\n",
       "      <td>8</td>\n",
       "      <td>50</td>\n",
       "      <td>0</td>\n",
       "    </tr>\n",
       "    <tr>\n",
       "      <th>18066</th>\n",
       "      <td>1534</td>\n",
       "      <td>Альберт</td>\n",
       "      <td>25</td>\n",
       "      <td>Краснодар</td>\n",
       "      <td>free</td>\n",
       "      <td>2902.308661</td>\n",
       "      <td>17.0</td>\n",
       "      <td>2021-11-27</td>\n",
       "      <td>11</td>\n",
       "      <td>8</td>\n",
       "      <td>50</td>\n",
       "      <td>0</td>\n",
       "    </tr>\n",
       "    <tr>\n",
       "      <th>18067</th>\n",
       "      <td>1534</td>\n",
       "      <td>Альберт</td>\n",
       "      <td>25</td>\n",
       "      <td>Краснодар</td>\n",
       "      <td>free</td>\n",
       "      <td>2371.711192</td>\n",
       "      <td>16.0</td>\n",
       "      <td>2021-12-29</td>\n",
       "      <td>12</td>\n",
       "      <td>8</td>\n",
       "      <td>50</td>\n",
       "      <td>0</td>\n",
       "    </tr>\n",
       "  </tbody>\n",
       "</table>\n",
       "<p>18068 rows × 12 columns</p>\n",
       "</div>"
      ],
      "text/plain": [
       "       user_id     name  age       city subscription_type     distance  \\\n",
       "0            1     Кира   22     Тюмень             ultra  4409.919140   \n",
       "1            1     Кира   22     Тюмень             ultra  2617.592153   \n",
       "2            1     Кира   22     Тюмень             ultra   754.159807   \n",
       "3            1     Кира   22     Тюмень             ultra  2694.783254   \n",
       "4            1     Кира   22     Тюмень             ultra  4028.687306   \n",
       "...        ...      ...  ...        ...               ...          ...   \n",
       "18063     1534  Альберт   25  Краснодар              free  3781.098080   \n",
       "18064     1534  Альберт   25  Краснодар              free  2840.423057   \n",
       "18065     1534  Альберт   25  Краснодар              free  3826.185507   \n",
       "18066     1534  Альберт   25  Краснодар              free  2902.308661   \n",
       "18067     1534  Альберт   25  Краснодар              free  2371.711192   \n",
       "\n",
       "       duration       date  date_month  minute_price  start_ride_price  \\\n",
       "0          26.0 2021-01-01           1             6                 0   \n",
       "1          16.0 2021-01-18           1             6                 0   \n",
       "2           7.0 2021-04-20           4             6                 0   \n",
       "3          19.0 2021-08-11           8             6                 0   \n",
       "4          27.0 2021-08-28           8             6                 0   \n",
       "...         ...        ...         ...           ...               ...   \n",
       "18063      20.0 2021-11-04          11             8                50   \n",
       "18064      22.0 2021-11-16          11             8                50   \n",
       "18065      19.0 2021-11-18          11             8                50   \n",
       "18066      17.0 2021-11-27          11             8                50   \n",
       "18067      16.0 2021-12-29          12             8                50   \n",
       "\n",
       "       subscription_fee  \n",
       "0                   199  \n",
       "1                   199  \n",
       "2                   199  \n",
       "3                   199  \n",
       "4                   199  \n",
       "...                 ...  \n",
       "18063                 0  \n",
       "18064                 0  \n",
       "18065                 0  \n",
       "18066                 0  \n",
       "18067                 0  \n",
       "\n",
       "[18068 rows x 12 columns]"
      ]
     },
     "execution_count": 38,
     "metadata": {},
     "output_type": "execute_result"
    }
   ],
   "source": [
    "dt_all['duration'] = np.ceil(dt_all['duration'])\n",
    "dt_all"
   ]
  },
  {
   "cell_type": "code",
   "execution_count": 39,
   "id": "02bb4c66",
   "metadata": {},
   "outputs": [
    {
     "data": {
      "text/html": [
       "<div>\n",
       "<style scoped>\n",
       "    .dataframe tbody tr th:only-of-type {\n",
       "        vertical-align: middle;\n",
       "    }\n",
       "\n",
       "    .dataframe tbody tr th {\n",
       "        vertical-align: top;\n",
       "    }\n",
       "\n",
       "    .dataframe thead th {\n",
       "        text-align: right;\n",
       "    }\n",
       "</style>\n",
       "<table border=\"1\" class=\"dataframe\">\n",
       "  <thead>\n",
       "    <tr style=\"text-align: right;\">\n",
       "      <th></th>\n",
       "      <th></th>\n",
       "      <th></th>\n",
       "      <th>user_id</th>\n",
       "      <th>subscription_fee</th>\n",
       "      <th>start_ride_price</th>\n",
       "      <th>minute_price</th>\n",
       "      <th>duration</th>\n",
       "      <th>cost</th>\n",
       "    </tr>\n",
       "    <tr>\n",
       "      <th>date_month</th>\n",
       "      <th>user_id</th>\n",
       "      <th>subscription_type</th>\n",
       "      <th></th>\n",
       "      <th></th>\n",
       "      <th></th>\n",
       "      <th></th>\n",
       "      <th></th>\n",
       "      <th></th>\n",
       "    </tr>\n",
       "  </thead>\n",
       "  <tbody>\n",
       "    <tr>\n",
       "      <th rowspan=\"5\" valign=\"top\">1</th>\n",
       "      <th>1</th>\n",
       "      <th>ultra</th>\n",
       "      <td>2</td>\n",
       "      <td>199</td>\n",
       "      <td>0</td>\n",
       "      <td>6</td>\n",
       "      <td>42.0</td>\n",
       "      <td>451.0</td>\n",
       "    </tr>\n",
       "    <tr>\n",
       "      <th>3</th>\n",
       "      <th>ultra</th>\n",
       "      <td>1</td>\n",
       "      <td>199</td>\n",
       "      <td>0</td>\n",
       "      <td>6</td>\n",
       "      <td>13.0</td>\n",
       "      <td>277.0</td>\n",
       "    </tr>\n",
       "    <tr>\n",
       "      <th>5</th>\n",
       "      <th>ultra</th>\n",
       "      <td>1</td>\n",
       "      <td>199</td>\n",
       "      <td>0</td>\n",
       "      <td>6</td>\n",
       "      <td>13.0</td>\n",
       "      <td>277.0</td>\n",
       "    </tr>\n",
       "    <tr>\n",
       "      <th>7</th>\n",
       "      <th>ultra</th>\n",
       "      <td>2</td>\n",
       "      <td>199</td>\n",
       "      <td>0</td>\n",
       "      <td>6</td>\n",
       "      <td>28.0</td>\n",
       "      <td>367.0</td>\n",
       "    </tr>\n",
       "    <tr>\n",
       "      <th>12</th>\n",
       "      <th>ultra</th>\n",
       "      <td>1</td>\n",
       "      <td>199</td>\n",
       "      <td>0</td>\n",
       "      <td>6</td>\n",
       "      <td>33.0</td>\n",
       "      <td>397.0</td>\n",
       "    </tr>\n",
       "    <tr>\n",
       "      <th>...</th>\n",
       "      <th>...</th>\n",
       "      <th>...</th>\n",
       "      <td>...</td>\n",
       "      <td>...</td>\n",
       "      <td>...</td>\n",
       "      <td>...</td>\n",
       "      <td>...</td>\n",
       "      <td>...</td>\n",
       "    </tr>\n",
       "    <tr>\n",
       "      <th rowspan=\"5\" valign=\"top\">12</th>\n",
       "      <th>1525</th>\n",
       "      <th>free</th>\n",
       "      <td>1</td>\n",
       "      <td>0</td>\n",
       "      <td>50</td>\n",
       "      <td>8</td>\n",
       "      <td>34.0</td>\n",
       "      <td>322.0</td>\n",
       "    </tr>\n",
       "    <tr>\n",
       "      <th>1526</th>\n",
       "      <th>free</th>\n",
       "      <td>1</td>\n",
       "      <td>0</td>\n",
       "      <td>50</td>\n",
       "      <td>8</td>\n",
       "      <td>23.0</td>\n",
       "      <td>234.0</td>\n",
       "    </tr>\n",
       "    <tr>\n",
       "      <th>1528</th>\n",
       "      <th>free</th>\n",
       "      <td>1</td>\n",
       "      <td>0</td>\n",
       "      <td>50</td>\n",
       "      <td>8</td>\n",
       "      <td>11.0</td>\n",
       "      <td>138.0</td>\n",
       "    </tr>\n",
       "    <tr>\n",
       "      <th>1532</th>\n",
       "      <th>free</th>\n",
       "      <td>2</td>\n",
       "      <td>0</td>\n",
       "      <td>50</td>\n",
       "      <td>8</td>\n",
       "      <td>42.0</td>\n",
       "      <td>436.0</td>\n",
       "    </tr>\n",
       "    <tr>\n",
       "      <th>1534</th>\n",
       "      <th>free</th>\n",
       "      <td>1</td>\n",
       "      <td>0</td>\n",
       "      <td>50</td>\n",
       "      <td>8</td>\n",
       "      <td>16.0</td>\n",
       "      <td>178.0</td>\n",
       "    </tr>\n",
       "  </tbody>\n",
       "</table>\n",
       "<p>11331 rows × 6 columns</p>\n",
       "</div>"
      ],
      "text/plain": [
       "                                      user_id  subscription_fee  \\\n",
       "date_month user_id subscription_type                              \n",
       "1          1       ultra                    2               199   \n",
       "           3       ultra                    1               199   \n",
       "           5       ultra                    1               199   \n",
       "           7       ultra                    2               199   \n",
       "           12      ultra                    1               199   \n",
       "...                                       ...               ...   \n",
       "12         1525    free                     1                 0   \n",
       "           1526    free                     1                 0   \n",
       "           1528    free                     1                 0   \n",
       "           1532    free                     2                 0   \n",
       "           1534    free                     1                 0   \n",
       "\n",
       "                                      start_ride_price  minute_price  \\\n",
       "date_month user_id subscription_type                                   \n",
       "1          1       ultra                             0             6   \n",
       "           3       ultra                             0             6   \n",
       "           5       ultra                             0             6   \n",
       "           7       ultra                             0             6   \n",
       "           12      ultra                             0             6   \n",
       "...                                                ...           ...   \n",
       "12         1525    free                             50             8   \n",
       "           1526    free                             50             8   \n",
       "           1528    free                             50             8   \n",
       "           1532    free                             50             8   \n",
       "           1534    free                             50             8   \n",
       "\n",
       "                                      duration   cost  \n",
       "date_month user_id subscription_type                   \n",
       "1          1       ultra                  42.0  451.0  \n",
       "           3       ultra                  13.0  277.0  \n",
       "           5       ultra                  13.0  277.0  \n",
       "           7       ultra                  28.0  367.0  \n",
       "           12      ultra                  33.0  397.0  \n",
       "...                                        ...    ...  \n",
       "12         1525    free                   34.0  322.0  \n",
       "           1526    free                   23.0  234.0  \n",
       "           1528    free                   11.0  138.0  \n",
       "           1532    free                   42.0  436.0  \n",
       "           1534    free                   16.0  178.0  \n",
       "\n",
       "[11331 rows x 6 columns]"
      ]
     },
     "execution_count": 39,
     "metadata": {},
     "output_type": "execute_result"
    }
   ],
   "source": [
    "dt_merge = dt_all.groupby(\n",
    "    ['date_month', 'user_id', 'subscription_type']).agg(\n",
    "        {'user_id' : 'count', \n",
    "         'subscription_fee' : 'mean', \n",
    "         'start_ride_price' : 'mean', \n",
    "         'minute_price' : 'mean',\n",
    "         'duration' : 'sum'\n",
    "        }\n",
    "    )\n",
    "dt_merge['cost'] = (\n",
    "    dt_merge['user_id'] * dt_merge['start_ride_price'] \n",
    "    + dt_merge['duration'] * dt_merge['minute_price']\n",
    "    + dt_merge['subscription_fee']\n",
    ")\n",
    "dt_merge"
   ]
  },
  {
   "cell_type": "code",
   "execution_count": 40,
   "id": "9cbb0160",
   "metadata": {},
   "outputs": [
    {
     "data": {
      "text/html": [
       "<div>\n",
       "<style scoped>\n",
       "    .dataframe tbody tr th:only-of-type {\n",
       "        vertical-align: middle;\n",
       "    }\n",
       "\n",
       "    .dataframe tbody tr th {\n",
       "        vertical-align: top;\n",
       "    }\n",
       "\n",
       "    .dataframe thead th {\n",
       "        text-align: right;\n",
       "    }\n",
       "</style>\n",
       "<table border=\"1\" class=\"dataframe\">\n",
       "  <thead>\n",
       "    <tr style=\"text-align: right;\">\n",
       "      <th></th>\n",
       "      <th>date_month</th>\n",
       "      <th>user_id</th>\n",
       "      <th>subscription_type</th>\n",
       "      <th>distance</th>\n",
       "      <th>duration</th>\n",
       "      <th>count</th>\n",
       "      <th>cost</th>\n",
       "    </tr>\n",
       "  </thead>\n",
       "  <tbody>\n",
       "    <tr>\n",
       "      <th>0</th>\n",
       "      <td>1</td>\n",
       "      <td>1</td>\n",
       "      <td>ultra</td>\n",
       "      <td>7027.511294</td>\n",
       "      <td>42.0</td>\n",
       "      <td>2</td>\n",
       "      <td>451.0</td>\n",
       "    </tr>\n",
       "    <tr>\n",
       "      <th>1</th>\n",
       "      <td>1</td>\n",
       "      <td>3</td>\n",
       "      <td>ultra</td>\n",
       "      <td>3061.777147</td>\n",
       "      <td>13.0</td>\n",
       "      <td>1</td>\n",
       "      <td>277.0</td>\n",
       "    </tr>\n",
       "    <tr>\n",
       "      <th>2</th>\n",
       "      <td>1</td>\n",
       "      <td>5</td>\n",
       "      <td>ultra</td>\n",
       "      <td>3914.646990</td>\n",
       "      <td>13.0</td>\n",
       "      <td>1</td>\n",
       "      <td>277.0</td>\n",
       "    </tr>\n",
       "    <tr>\n",
       "      <th>3</th>\n",
       "      <td>1</td>\n",
       "      <td>7</td>\n",
       "      <td>ultra</td>\n",
       "      <td>6478.080979</td>\n",
       "      <td>28.0</td>\n",
       "      <td>2</td>\n",
       "      <td>367.0</td>\n",
       "    </tr>\n",
       "    <tr>\n",
       "      <th>4</th>\n",
       "      <td>1</td>\n",
       "      <td>12</td>\n",
       "      <td>ultra</td>\n",
       "      <td>3577.151148</td>\n",
       "      <td>33.0</td>\n",
       "      <td>1</td>\n",
       "      <td>397.0</td>\n",
       "    </tr>\n",
       "    <tr>\n",
       "      <th>...</th>\n",
       "      <td>...</td>\n",
       "      <td>...</td>\n",
       "      <td>...</td>\n",
       "      <td>...</td>\n",
       "      <td>...</td>\n",
       "      <td>...</td>\n",
       "      <td>...</td>\n",
       "    </tr>\n",
       "    <tr>\n",
       "      <th>11326</th>\n",
       "      <td>12</td>\n",
       "      <td>1525</td>\n",
       "      <td>free</td>\n",
       "      <td>4597.854350</td>\n",
       "      <td>34.0</td>\n",
       "      <td>1</td>\n",
       "      <td>322.0</td>\n",
       "    </tr>\n",
       "    <tr>\n",
       "      <th>11327</th>\n",
       "      <td>12</td>\n",
       "      <td>1526</td>\n",
       "      <td>free</td>\n",
       "      <td>3644.121544</td>\n",
       "      <td>23.0</td>\n",
       "      <td>1</td>\n",
       "      <td>234.0</td>\n",
       "    </tr>\n",
       "    <tr>\n",
       "      <th>11328</th>\n",
       "      <td>12</td>\n",
       "      <td>1528</td>\n",
       "      <td>free</td>\n",
       "      <td>3998.569324</td>\n",
       "      <td>11.0</td>\n",
       "      <td>1</td>\n",
       "      <td>138.0</td>\n",
       "    </tr>\n",
       "    <tr>\n",
       "      <th>11329</th>\n",
       "      <td>12</td>\n",
       "      <td>1532</td>\n",
       "      <td>free</td>\n",
       "      <td>6111.889853</td>\n",
       "      <td>42.0</td>\n",
       "      <td>2</td>\n",
       "      <td>436.0</td>\n",
       "    </tr>\n",
       "    <tr>\n",
       "      <th>11330</th>\n",
       "      <td>12</td>\n",
       "      <td>1534</td>\n",
       "      <td>free</td>\n",
       "      <td>2371.711192</td>\n",
       "      <td>16.0</td>\n",
       "      <td>1</td>\n",
       "      <td>178.0</td>\n",
       "    </tr>\n",
       "  </tbody>\n",
       "</table>\n",
       "<p>11331 rows × 7 columns</p>\n",
       "</div>"
      ],
      "text/plain": [
       "       date_month  user_id subscription_type     distance  duration  count  \\\n",
       "0               1        1             ultra  7027.511294      42.0      2   \n",
       "1               1        3             ultra  3061.777147      13.0      1   \n",
       "2               1        5             ultra  3914.646990      13.0      1   \n",
       "3               1        7             ultra  6478.080979      28.0      2   \n",
       "4               1       12             ultra  3577.151148      33.0      1   \n",
       "...           ...      ...               ...          ...       ...    ...   \n",
       "11326          12     1525              free  4597.854350      34.0      1   \n",
       "11327          12     1526              free  3644.121544      23.0      1   \n",
       "11328          12     1528              free  3998.569324      11.0      1   \n",
       "11329          12     1532              free  6111.889853      42.0      2   \n",
       "11330          12     1534              free  2371.711192      16.0      1   \n",
       "\n",
       "        cost  \n",
       "0      451.0  \n",
       "1      277.0  \n",
       "2      277.0  \n",
       "3      367.0  \n",
       "4      397.0  \n",
       "...      ...  \n",
       "11326  322.0  \n",
       "11327  234.0  \n",
       "11328  138.0  \n",
       "11329  436.0  \n",
       "11330  178.0  \n",
       "\n",
       "[11331 rows x 7 columns]"
      ]
     },
     "execution_count": 40,
     "metadata": {},
     "output_type": "execute_result"
    }
   ],
   "source": [
    "dt_merge1 = dt_all.pivot_table(\n",
    "    index=['date_month', 'user_id', 'subscription_type'],\n",
    "    values=['duration', 'distance'], \n",
    "    aggfunc='sum'\n",
    ")\n",
    "dt_merge1[['count', 'cost']] = dt_merge[['user_id', 'cost']]\n",
    "dt_merge1 = dt_merge1.reset_index()\n",
    "dt_merge1"
   ]
  },
  {
   "cell_type": "markdown",
   "id": "41545ac0",
   "metadata": {},
   "source": [
    "#### Шаг 6. Проверка гипотез"
   ]
  },
  {
   "cell_type": "code",
   "execution_count": 41,
   "id": "46e8d00a",
   "metadata": {},
   "outputs": [
    {
     "data": {
      "text/html": [
       "<div>\n",
       "<style scoped>\n",
       "    .dataframe tbody tr th:only-of-type {\n",
       "        vertical-align: middle;\n",
       "    }\n",
       "\n",
       "    .dataframe tbody tr th {\n",
       "        vertical-align: top;\n",
       "    }\n",
       "\n",
       "    .dataframe thead th {\n",
       "        text-align: right;\n",
       "    }\n",
       "</style>\n",
       "<table border=\"1\" class=\"dataframe\">\n",
       "  <thead>\n",
       "    <tr style=\"text-align: right;\">\n",
       "      <th></th>\n",
       "      <th>user_id</th>\n",
       "      <th>name</th>\n",
       "      <th>age</th>\n",
       "      <th>city</th>\n",
       "      <th>subscription_type</th>\n",
       "      <th>distance</th>\n",
       "      <th>duration</th>\n",
       "      <th>date</th>\n",
       "      <th>date_month</th>\n",
       "      <th>minute_price</th>\n",
       "      <th>start_ride_price</th>\n",
       "      <th>subscription_fee</th>\n",
       "    </tr>\n",
       "  </thead>\n",
       "  <tbody>\n",
       "    <tr>\n",
       "      <th>0</th>\n",
       "      <td>1</td>\n",
       "      <td>Кира</td>\n",
       "      <td>22</td>\n",
       "      <td>Тюмень</td>\n",
       "      <td>ultra</td>\n",
       "      <td>4409.919140</td>\n",
       "      <td>26.0</td>\n",
       "      <td>2021-01-01</td>\n",
       "      <td>1</td>\n",
       "      <td>6</td>\n",
       "      <td>0</td>\n",
       "      <td>199</td>\n",
       "    </tr>\n",
       "    <tr>\n",
       "      <th>1</th>\n",
       "      <td>1</td>\n",
       "      <td>Кира</td>\n",
       "      <td>22</td>\n",
       "      <td>Тюмень</td>\n",
       "      <td>ultra</td>\n",
       "      <td>2617.592153</td>\n",
       "      <td>16.0</td>\n",
       "      <td>2021-01-18</td>\n",
       "      <td>1</td>\n",
       "      <td>6</td>\n",
       "      <td>0</td>\n",
       "      <td>199</td>\n",
       "    </tr>\n",
       "    <tr>\n",
       "      <th>2</th>\n",
       "      <td>1</td>\n",
       "      <td>Кира</td>\n",
       "      <td>22</td>\n",
       "      <td>Тюмень</td>\n",
       "      <td>ultra</td>\n",
       "      <td>754.159807</td>\n",
       "      <td>7.0</td>\n",
       "      <td>2021-04-20</td>\n",
       "      <td>4</td>\n",
       "      <td>6</td>\n",
       "      <td>0</td>\n",
       "      <td>199</td>\n",
       "    </tr>\n",
       "    <tr>\n",
       "      <th>3</th>\n",
       "      <td>1</td>\n",
       "      <td>Кира</td>\n",
       "      <td>22</td>\n",
       "      <td>Тюмень</td>\n",
       "      <td>ultra</td>\n",
       "      <td>2694.783254</td>\n",
       "      <td>19.0</td>\n",
       "      <td>2021-08-11</td>\n",
       "      <td>8</td>\n",
       "      <td>6</td>\n",
       "      <td>0</td>\n",
       "      <td>199</td>\n",
       "    </tr>\n",
       "    <tr>\n",
       "      <th>4</th>\n",
       "      <td>1</td>\n",
       "      <td>Кира</td>\n",
       "      <td>22</td>\n",
       "      <td>Тюмень</td>\n",
       "      <td>ultra</td>\n",
       "      <td>4028.687306</td>\n",
       "      <td>27.0</td>\n",
       "      <td>2021-08-28</td>\n",
       "      <td>8</td>\n",
       "      <td>6</td>\n",
       "      <td>0</td>\n",
       "      <td>199</td>\n",
       "    </tr>\n",
       "    <tr>\n",
       "      <th>...</th>\n",
       "      <td>...</td>\n",
       "      <td>...</td>\n",
       "      <td>...</td>\n",
       "      <td>...</td>\n",
       "      <td>...</td>\n",
       "      <td>...</td>\n",
       "      <td>...</td>\n",
       "      <td>...</td>\n",
       "      <td>...</td>\n",
       "      <td>...</td>\n",
       "      <td>...</td>\n",
       "      <td>...</td>\n",
       "    </tr>\n",
       "    <tr>\n",
       "      <th>18063</th>\n",
       "      <td>1534</td>\n",
       "      <td>Альберт</td>\n",
       "      <td>25</td>\n",
       "      <td>Краснодар</td>\n",
       "      <td>free</td>\n",
       "      <td>3781.098080</td>\n",
       "      <td>20.0</td>\n",
       "      <td>2021-11-04</td>\n",
       "      <td>11</td>\n",
       "      <td>8</td>\n",
       "      <td>50</td>\n",
       "      <td>0</td>\n",
       "    </tr>\n",
       "    <tr>\n",
       "      <th>18064</th>\n",
       "      <td>1534</td>\n",
       "      <td>Альберт</td>\n",
       "      <td>25</td>\n",
       "      <td>Краснодар</td>\n",
       "      <td>free</td>\n",
       "      <td>2840.423057</td>\n",
       "      <td>22.0</td>\n",
       "      <td>2021-11-16</td>\n",
       "      <td>11</td>\n",
       "      <td>8</td>\n",
       "      <td>50</td>\n",
       "      <td>0</td>\n",
       "    </tr>\n",
       "    <tr>\n",
       "      <th>18065</th>\n",
       "      <td>1534</td>\n",
       "      <td>Альберт</td>\n",
       "      <td>25</td>\n",
       "      <td>Краснодар</td>\n",
       "      <td>free</td>\n",
       "      <td>3826.185507</td>\n",
       "      <td>19.0</td>\n",
       "      <td>2021-11-18</td>\n",
       "      <td>11</td>\n",
       "      <td>8</td>\n",
       "      <td>50</td>\n",
       "      <td>0</td>\n",
       "    </tr>\n",
       "    <tr>\n",
       "      <th>18066</th>\n",
       "      <td>1534</td>\n",
       "      <td>Альберт</td>\n",
       "      <td>25</td>\n",
       "      <td>Краснодар</td>\n",
       "      <td>free</td>\n",
       "      <td>2902.308661</td>\n",
       "      <td>17.0</td>\n",
       "      <td>2021-11-27</td>\n",
       "      <td>11</td>\n",
       "      <td>8</td>\n",
       "      <td>50</td>\n",
       "      <td>0</td>\n",
       "    </tr>\n",
       "    <tr>\n",
       "      <th>18067</th>\n",
       "      <td>1534</td>\n",
       "      <td>Альберт</td>\n",
       "      <td>25</td>\n",
       "      <td>Краснодар</td>\n",
       "      <td>free</td>\n",
       "      <td>2371.711192</td>\n",
       "      <td>16.0</td>\n",
       "      <td>2021-12-29</td>\n",
       "      <td>12</td>\n",
       "      <td>8</td>\n",
       "      <td>50</td>\n",
       "      <td>0</td>\n",
       "    </tr>\n",
       "  </tbody>\n",
       "</table>\n",
       "<p>18068 rows × 12 columns</p>\n",
       "</div>"
      ],
      "text/plain": [
       "       user_id     name  age       city subscription_type     distance  \\\n",
       "0            1     Кира   22     Тюмень             ultra  4409.919140   \n",
       "1            1     Кира   22     Тюмень             ultra  2617.592153   \n",
       "2            1     Кира   22     Тюмень             ultra   754.159807   \n",
       "3            1     Кира   22     Тюмень             ultra  2694.783254   \n",
       "4            1     Кира   22     Тюмень             ultra  4028.687306   \n",
       "...        ...      ...  ...        ...               ...          ...   \n",
       "18063     1534  Альберт   25  Краснодар              free  3781.098080   \n",
       "18064     1534  Альберт   25  Краснодар              free  2840.423057   \n",
       "18065     1534  Альберт   25  Краснодар              free  3826.185507   \n",
       "18066     1534  Альберт   25  Краснодар              free  2902.308661   \n",
       "18067     1534  Альберт   25  Краснодар              free  2371.711192   \n",
       "\n",
       "       duration       date  date_month  minute_price  start_ride_price  \\\n",
       "0          26.0 2021-01-01           1             6                 0   \n",
       "1          16.0 2021-01-18           1             6                 0   \n",
       "2           7.0 2021-04-20           4             6                 0   \n",
       "3          19.0 2021-08-11           8             6                 0   \n",
       "4          27.0 2021-08-28           8             6                 0   \n",
       "...         ...        ...         ...           ...               ...   \n",
       "18063      20.0 2021-11-04          11             8                50   \n",
       "18064      22.0 2021-11-16          11             8                50   \n",
       "18065      19.0 2021-11-18          11             8                50   \n",
       "18066      17.0 2021-11-27          11             8                50   \n",
       "18067      16.0 2021-12-29          12             8                50   \n",
       "\n",
       "       subscription_fee  \n",
       "0                   199  \n",
       "1                   199  \n",
       "2                   199  \n",
       "3                   199  \n",
       "4                   199  \n",
       "...                 ...  \n",
       "18063                 0  \n",
       "18064                 0  \n",
       "18065                 0  \n",
       "18066                 0  \n",
       "18067                 0  \n",
       "\n",
       "[18068 rows x 12 columns]"
      ]
     },
     "execution_count": 41,
     "metadata": {},
     "output_type": "execute_result"
    }
   ],
   "source": [
    "dt_all"
   ]
  },
  {
   "cell_type": "code",
   "execution_count": 42,
   "id": "e52df71d",
   "metadata": {},
   "outputs": [
    {
     "data": {
      "image/png": "[encoded data removed]",
      "text/plain": [
       "<Figure size 576x576 with 1 Axes>"
      ]
     },
     "metadata": {
      "needs_background": "light"
     },
     "output_type": "display_data"
    }
   ],
   "source": [
    "ax = dt_ultra.plot(\n",
    "    kind='hist',\n",
    "    y='duration',\n",
    "    histtype='step',\n",
    "    range=(0, 50),\n",
    "    bins=25,\n",
    "    linewidth=5,\n",
    "    alpha=0.7,\n",
    "    label='raw',\n",
    ")\n",
    "dt_free.plot(\n",
    "    kind='hist',\n",
    "    y='duration',\n",
    "    histtype='step',\n",
    "    range=(0, 50),\n",
    "    bins=25,\n",
    "    linewidth=5,\n",
    "    alpha=0.7,\n",
    "    label='filtered',\n",
    "    ax=ax,\n",
    "    grid=True,\n",
    "    legend=True,\n",
    "    figsize=(8, 8)\n",
    ");"
   ]
  },
  {
   "cell_type": "markdown",
   "id": "0cb95937",
   "metadata": {},
   "source": [
    "### Важно понять, тратят ли пользователи с подпиской больше времени на поездки? \n",
    "\n",
    "Нулевая гипотеза: Среднее время, \n",
    "которое тратят пользователи с подпиской за одну поездку больше или равно среднему времени, \n",
    "которое тратят пользователи без подписки за одну поездку. \n",
    "\n",
    "Альтернативная гипотеза: Среднее время, \n",
    "которое тратят пользователи с подпиской за одну поездку меньше среднего времени, \n",
    "которое тратят пользователи без подписки за одну поездку.\n"
   ]
  },
  {
   "cell_type": "code",
   "execution_count": 43,
   "id": "6bea764c",
   "metadata": {},
   "outputs": [
    {
     "name": "stdout",
     "output_type": "stream",
     "text": [
      "Средняя продолжительность пользователей с подпиской:  18.54198516280583\n",
      "Средняя продолжительность пользователей без подписки:  17.39090929866399\n",
      "\n",
      "He получилось отвергнуть нулевую гипотезу\n"
     ]
    }
   ],
   "source": [
    "print('Средняя продолжительность пользователей с подпиской: ', np.mean(dt_ultra['duration']))\n",
    "print('Средняя продолжительность пользователей без подписки: ', np.mean(dt_free['duration']))\n",
    "print()\n",
    "\n",
    "alpha = 0.05\n",
    "\n",
    "results = st.ttest_ind(\n",
    "    dt_ultra['duration'], dt_free['duration'], alternative='less'\n",
    ")\n",
    "\n",
    "# вывод об отвержении или неотвержении нулевой гипотезы\n",
    "if results.pvalue < alpha:\n",
    "    print ('Отвергаем нулевую гипотезу и рассматриваем альтернативную')\n",
    "else:\n",
    "    print('He получилось отвергнуть нулевую гипотезу')"
   ]
  },
  {
   "cell_type": "markdown",
   "id": "536efde1",
   "metadata": {},
   "source": [
    "### Будет ли помесячная выручка от пользователей с подпиской по месяцам выше, чем выручка от пользователей без подписки?\n",
    "\n",
    "Нулевая гипотеза: помесячная выручка от пользователей с подпиской по месяцам выше или равна, чем выручка от пользователей без подписки.\n",
    "\n",
    "Альтернативная гипотеза: помесячная выручка от пользователей с подпиской по месяцам меньше, чем выручка от пользователей без подписки."
   ]
  },
  {
   "cell_type": "code",
   "execution_count": 44,
   "id": "848d339c",
   "metadata": {},
   "outputs": [
    {
     "name": "stdout",
     "output_type": "stream",
     "text": [
      "Средняя выручка пользователей с подпиской:  362.7921906022502\n",
      "Средняя вырчука пользователей без подписки:  328.6413651073845\n",
      "\n",
      "He получилось отвергнуть нулевую гипотезу\n"
     ]
    }
   ],
   "source": [
    "print('Средняя выручка пользователей с подпиской: ', \n",
    "      np.mean(\n",
    "          dt_merge1.loc[dt_merge1['subscription_type'] == 'ultra', 'cost']\n",
    "      )\n",
    ")\n",
    "print('Средняя вырчука пользователей без подписки: ', np.mean(\n",
    "    dt_merge1.loc[dt_merge1['subscription_type'] == 'free', 'cost']\n",
    "    )\n",
    ")\n",
    "print()\n",
    "\n",
    "alpha = 0.05\n",
    "\n",
    "results = st.ttest_ind(\n",
    "    dt_merge1.loc[dt_merge1['subscription_type'] == 'ultra', 'cost'], \n",
    "    dt_merge1.loc[dt_merge1['subscription_type'] == 'free', 'cost'], \n",
    "    alternative='less'\n",
    ")\n",
    "\n",
    "# вывод об отвержении или неотвержении нулевой гипотезы\n",
    "if results.pvalue < alpha:\n",
    "    print ('Отвергаем нулевую гипотезу и рассматриваем альтернативную')\n",
    "else:\n",
    "    print('He получилось отвергнуть нулевую гипотезу')\n",
    "    \n"
   ]
  },
  {
   "cell_type": "markdown",
   "id": "649eec29",
   "metadata": {},
   "source": [
    "Вывод: Наиболее вероятно, что помесячная выручка от пользователей с подписко будет больше, чем у пользователей без подписки"
   ]
  },
  {
   "cell_type": "markdown",
   "id": "031bf53b",
   "metadata": {},
   "source": [
    "### Расстояние одной поездки в 3130 метров — оптимальное с точки зрения износа самоката. Можно ли сказать, что среднее расстояние, которое проезжают пользователи с подпиской за одну поездку, не превышает 3130 метров?\n",
    "\n",
    "Нулевая гипотеза: Среднее расстояние, \n",
    "которое проезжают пользователи с подпиской за одну поездку, не превышает 3130 метров. \n",
    "\n",
    "Альтернативная гипотеза: Среднее расстояние, \n",
    "которое проезжают пользователи с подпиской за одну поездку, превышает 3130 метров."
   ]
  },
  {
   "cell_type": "code",
   "execution_count": 45,
   "id": "0cba6436",
   "metadata": {},
   "outputs": [
    {
     "name": "stdout",
     "output_type": "stream",
     "text": [
      "Ответ: Нулевая гипотеза наиболее вероятна\n"
     ]
    }
   ],
   "source": [
    "distance = 3130\n",
    "\n",
    "alpha = 0.05\n",
    "results = st.ttest_1samp(dt_ultra['distance'], distance, alternative='greater')\n",
    "\n",
    "if results.pvalue < alpha:\n",
    "    print('Ответ: Альтернативная гипотеза имеет больший шанс быть истинной')\n",
    "else:\n",
    "    print('Ответ: Нулевая гипотеза наиболее вероятна')\n"
   ]
  },
  {
   "cell_type": "markdown",
   "id": "9356dfba",
   "metadata": {},
   "source": [
    "6.4 Представьте такую ситуацию: техническая команда сервиса обновила сервера, с которыми взаимодействует мобильное приложение. Она надеется, что из-за этого количество обращений в техподдержку значимо снизилось. Некоторый файл содержит для каждого пользователя данные о количестве обращений до обновления и после него. Какой тест вам понадобился бы для проверки этой гипотезы?\n",
    "\n",
    "Ответ: Двухвыборочный t-тест для зависимых выборок. Если говорить про код, то scipy.ttest_rel"
   ]
  },
  {
   "cell_type": "markdown",
   "id": "ec660ab9",
   "metadata": {},
   "source": [
    "### Вывод: \n",
    "По изученным данным можно сказать, что пользователи с подпиской приносят бóльшую пользу, чем пользователи без неё. Потому что если рассмотреть все графики и выводы, то получается так, что они по времени ездят примерно столько же или больше, чем люди без подписки, не проезжают больше 3130 метров, поэтому не заставляют самокат быстрее изнашиваться и помесячная вырчка от них больше. Поэтому для компании наилучшим вариантом будет нацелиться на пользователей без подписки и какими-либо методами сподвигнуть их к её приобретению "
   ]
  }
 ],
 "metadata": {
  "ExecuteTimeLog": [
   {
    "duration": 841,
    "start_time": "2024-08-14T15:24:42.915Z"
   },
   {
    "duration": 393,
    "start_time": "2024-08-14T15:26:11.302Z"
   },
   {
    "duration": 14,
    "start_time": "2024-08-14T15:27:20.617Z"
   },
   {
    "duration": 15,
    "start_time": "2024-08-14T15:27:39.033Z"
   },
   {
    "duration": 8,
    "start_time": "2024-08-14T15:27:42.587Z"
   },
   {
    "duration": 91,
    "start_time": "2024-08-14T15:28:08.287Z"
   },
   {
    "duration": 77,
    "start_time": "2024-08-14T15:28:25.118Z"
   },
   {
    "duration": 22,
    "start_time": "2024-08-14T15:28:25.538Z"
   },
   {
    "duration": 70,
    "start_time": "2024-08-14T15:29:01.384Z"
   },
   {
    "duration": 29,
    "start_time": "2024-08-14T15:29:04.358Z"
   },
   {
    "duration": 30,
    "start_time": "2024-08-14T15:29:18.911Z"
   },
   {
    "duration": 16,
    "start_time": "2024-08-14T15:29:32.018Z"
   },
   {
    "duration": 11,
    "start_time": "2024-08-14T15:29:45.976Z"
   },
   {
    "duration": 9,
    "start_time": "2024-08-14T15:29:57.580Z"
   },
   {
    "duration": 701,
    "start_time": "2024-08-19T20:30:14.945Z"
   },
   {
    "duration": 365,
    "start_time": "2024-08-19T20:30:15.648Z"
   },
   {
    "duration": 23,
    "start_time": "2024-08-19T20:30:16.014Z"
   },
   {
    "duration": 15,
    "start_time": "2024-08-19T20:30:16.038Z"
   },
   {
    "duration": 9,
    "start_time": "2024-08-19T20:30:16.054Z"
   },
   {
    "duration": 8,
    "start_time": "2024-08-19T20:30:16.064Z"
   },
   {
    "duration": 6,
    "start_time": "2024-08-19T20:31:04.940Z"
   },
   {
    "duration": 4,
    "start_time": "2024-08-19T20:31:28.009Z"
   },
   {
    "duration": 3,
    "start_time": "2024-08-19T20:31:28.658Z"
   },
   {
    "duration": 4,
    "start_time": "2024-08-19T20:31:28.972Z"
   },
   {
    "duration": 3,
    "start_time": "2024-08-19T20:31:41.280Z"
   },
   {
    "duration": 4,
    "start_time": "2024-08-19T20:31:41.603Z"
   },
   {
    "duration": 4,
    "start_time": "2024-08-19T20:31:41.884Z"
   },
   {
    "duration": 568,
    "start_time": "2024-08-19T20:36:15.941Z"
   },
   {
    "duration": 71,
    "start_time": "2024-08-19T20:36:16.510Z"
   },
   {
    "duration": 5,
    "start_time": "2024-08-19T20:36:16.582Z"
   },
   {
    "duration": 4,
    "start_time": "2024-08-19T20:36:16.588Z"
   },
   {
    "duration": 8,
    "start_time": "2024-08-19T20:36:16.593Z"
   },
   {
    "duration": 13,
    "start_time": "2024-08-19T20:36:16.602Z"
   },
   {
    "duration": 8,
    "start_time": "2024-08-19T20:36:16.617Z"
   },
   {
    "duration": 9,
    "start_time": "2024-08-19T20:36:16.626Z"
   },
   {
    "duration": 17,
    "start_time": "2024-08-19T20:36:16.636Z"
   },
   {
    "duration": 10,
    "start_time": "2024-08-19T20:36:16.654Z"
   },
   {
    "duration": 7,
    "start_time": "2024-08-19T20:36:16.666Z"
   },
   {
    "duration": 776,
    "start_time": "2024-08-19T20:38:35.605Z"
   },
   {
    "duration": 5,
    "start_time": "2024-08-19T20:38:58.172Z"
   },
   {
    "duration": 660,
    "start_time": "2024-08-19T20:39:42.909Z"
   },
   {
    "duration": 329,
    "start_time": "2024-08-19T20:39:49.033Z"
   },
   {
    "duration": 6,
    "start_time": "2024-08-19T20:40:12.553Z"
   },
   {
    "duration": 5,
    "start_time": "2024-08-19T20:40:29.168Z"
   },
   {
    "duration": 43,
    "start_time": "2024-08-21T16:10:16.211Z"
   },
   {
    "duration": 840,
    "start_time": "2024-08-21T16:10:22.107Z"
   },
   {
    "duration": 389,
    "start_time": "2024-08-21T16:10:22.949Z"
   },
   {
    "duration": 4,
    "start_time": "2024-08-21T16:10:23.340Z"
   },
   {
    "duration": 4,
    "start_time": "2024-08-21T16:10:23.346Z"
   },
   {
    "duration": 3,
    "start_time": "2024-08-21T16:10:23.353Z"
   },
   {
    "duration": 13,
    "start_time": "2024-08-21T16:10:23.357Z"
   },
   {
    "duration": 9,
    "start_time": "2024-08-21T16:10:23.371Z"
   },
   {
    "duration": 21,
    "start_time": "2024-08-21T16:10:23.381Z"
   },
   {
    "duration": 16,
    "start_time": "2024-08-21T16:10:23.403Z"
   },
   {
    "duration": 10,
    "start_time": "2024-08-21T16:10:23.420Z"
   },
   {
    "duration": 8,
    "start_time": "2024-08-21T16:10:23.432Z"
   },
   {
    "duration": 4,
    "start_time": "2024-08-21T16:10:23.442Z"
   },
   {
    "duration": 9,
    "start_time": "2024-08-21T16:10:23.447Z"
   },
   {
    "duration": 4,
    "start_time": "2024-08-21T16:10:23.458Z"
   },
   {
    "duration": 30,
    "start_time": "2024-08-21T16:10:23.464Z"
   },
   {
    "duration": 5,
    "start_time": "2024-08-21T16:12:01.657Z"
   },
   {
    "duration": 10,
    "start_time": "2024-08-21T16:12:13.665Z"
   },
   {
    "duration": 115,
    "start_time": "2024-08-21T16:13:30.206Z"
   },
   {
    "duration": 4,
    "start_time": "2024-08-21T16:13:32.975Z"
   },
   {
    "duration": 5,
    "start_time": "2024-08-21T16:13:42.486Z"
   },
   {
    "duration": 4,
    "start_time": "2024-08-21T16:13:55.415Z"
   },
   {
    "duration": 674,
    "start_time": "2024-08-21T16:14:46.903Z"
   },
   {
    "duration": 79,
    "start_time": "2024-08-21T16:14:47.579Z"
   },
   {
    "duration": 5,
    "start_time": "2024-08-21T16:14:47.660Z"
   },
   {
    "duration": 5,
    "start_time": "2024-08-21T16:14:47.666Z"
   },
   {
    "duration": 5,
    "start_time": "2024-08-21T16:14:47.672Z"
   },
   {
    "duration": 15,
    "start_time": "2024-08-21T16:14:47.678Z"
   },
   {
    "duration": 11,
    "start_time": "2024-08-21T16:14:47.698Z"
   },
   {
    "duration": 12,
    "start_time": "2024-08-21T16:14:47.711Z"
   },
   {
    "duration": 6,
    "start_time": "2024-08-21T16:18:27.624Z"
   },
   {
    "duration": 11,
    "start_time": "2024-08-21T16:18:41.089Z"
   },
   {
    "duration": 5,
    "start_time": "2024-08-21T16:18:53.475Z"
   },
   {
    "duration": 7,
    "start_time": "2024-08-21T16:19:08.348Z"
   },
   {
    "duration": 9,
    "start_time": "2024-08-21T16:19:13.499Z"
   },
   {
    "duration": 8,
    "start_time": "2024-08-21T16:19:33.050Z"
   },
   {
    "duration": 15,
    "start_time": "2024-08-21T16:20:05.713Z"
   },
   {
    "duration": 6,
    "start_time": "2024-08-21T16:20:26.503Z"
   },
   {
    "duration": 5,
    "start_time": "2024-08-21T16:20:39.260Z"
   },
   {
    "duration": 14,
    "start_time": "2024-08-21T16:25:49.980Z"
   },
   {
    "duration": 12,
    "start_time": "2024-08-21T16:26:54.857Z"
   },
   {
    "duration": 5,
    "start_time": "2024-08-21T16:27:02.968Z"
   },
   {
    "duration": 6,
    "start_time": "2024-08-21T16:27:11.471Z"
   },
   {
    "duration": 6,
    "start_time": "2024-08-21T16:27:16.404Z"
   },
   {
    "duration": 5,
    "start_time": "2024-08-21T16:35:11.371Z"
   },
   {
    "duration": 3,
    "start_time": "2024-08-21T16:35:33.493Z"
   },
   {
    "duration": 65,
    "start_time": "2024-08-21T16:35:40.111Z"
   },
   {
    "duration": 6,
    "start_time": "2024-08-21T16:35:49.450Z"
   },
   {
    "duration": 7,
    "start_time": "2024-08-21T16:37:59.874Z"
   },
   {
    "duration": 10,
    "start_time": "2024-08-21T16:38:02.899Z"
   },
   {
    "duration": 26,
    "start_time": "2024-08-21T16:39:32.288Z"
   },
   {
    "duration": 149,
    "start_time": "2024-08-21T16:40:25.276Z"
   },
   {
    "duration": 167,
    "start_time": "2024-08-21T16:51:50.226Z"
   },
   {
    "duration": 181,
    "start_time": "2024-08-21T16:51:54.669Z"
   },
   {
    "duration": 164,
    "start_time": "2024-08-21T16:51:59.190Z"
   },
   {
    "duration": 4,
    "start_time": "2024-08-21T16:52:20.266Z"
   },
   {
    "duration": 195,
    "start_time": "2024-08-21T18:00:36.706Z"
   },
   {
    "duration": 152,
    "start_time": "2024-08-21T18:00:40.193Z"
   },
   {
    "duration": 9,
    "start_time": "2024-08-21T18:02:15.555Z"
   },
   {
    "duration": 16,
    "start_time": "2024-08-21T18:02:35.579Z"
   },
   {
    "duration": 12,
    "start_time": "2024-08-21T18:02:48.847Z"
   },
   {
    "duration": 6,
    "start_time": "2024-08-21T18:03:11.066Z"
   },
   {
    "duration": 11,
    "start_time": "2024-08-21T18:04:00.229Z"
   },
   {
    "duration": 10,
    "start_time": "2024-08-21T18:06:45.199Z"
   },
   {
    "duration": 199,
    "start_time": "2024-08-21T18:08:23.979Z"
   },
   {
    "duration": 236,
    "start_time": "2024-08-21T18:08:29.610Z"
   },
   {
    "duration": 277,
    "start_time": "2024-08-21T18:08:43.145Z"
   },
   {
    "duration": 177,
    "start_time": "2024-08-21T18:09:09.959Z"
   },
   {
    "duration": 9,
    "start_time": "2024-08-21T18:21:47.922Z"
   },
   {
    "duration": 11,
    "start_time": "2024-08-21T18:21:53.135Z"
   },
   {
    "duration": 14,
    "start_time": "2024-08-21T18:22:06.644Z"
   },
   {
    "duration": 241,
    "start_time": "2024-08-21T18:23:34.997Z"
   },
   {
    "duration": 685,
    "start_time": "2024-08-21T18:25:16.808Z"
   },
   {
    "duration": 21,
    "start_time": "2024-08-21T18:26:00.204Z"
   },
   {
    "duration": 11,
    "start_time": "2024-08-21T18:30:27.402Z"
   },
   {
    "duration": 18,
    "start_time": "2024-08-21T18:30:48.961Z"
   },
   {
    "duration": 14,
    "start_time": "2024-08-21T18:31:02.223Z"
   },
   {
    "duration": 15,
    "start_time": "2024-08-21T18:31:05.641Z"
   },
   {
    "duration": 374,
    "start_time": "2024-08-21T18:31:27.063Z"
   },
   {
    "duration": 278,
    "start_time": "2024-08-21T18:32:41.128Z"
   },
   {
    "duration": 9,
    "start_time": "2024-08-21T18:42:58.116Z"
   },
   {
    "duration": 13,
    "start_time": "2024-08-21T18:43:04.680Z"
   },
   {
    "duration": 13,
    "start_time": "2024-08-21T18:46:20.366Z"
   },
   {
    "duration": 14,
    "start_time": "2024-08-21T18:46:24.044Z"
   },
   {
    "duration": 48,
    "start_time": "2024-09-10T03:09:53.912Z"
   },
   {
    "duration": 867,
    "start_time": "2024-09-10T03:10:00.040Z"
   },
   {
    "duration": 286,
    "start_time": "2024-09-10T03:10:00.909Z"
   },
   {
    "duration": 5,
    "start_time": "2024-09-10T03:10:01.197Z"
   },
   {
    "duration": 13,
    "start_time": "2024-09-10T03:10:01.203Z"
   },
   {
    "duration": 16,
    "start_time": "2024-09-10T03:10:01.219Z"
   },
   {
    "duration": 11,
    "start_time": "2024-09-10T03:10:01.237Z"
   },
   {
    "duration": 8,
    "start_time": "2024-09-10T03:10:01.250Z"
   },
   {
    "duration": 8,
    "start_time": "2024-09-10T03:10:01.259Z"
   },
   {
    "duration": 13,
    "start_time": "2024-09-10T03:10:01.269Z"
   },
   {
    "duration": 10,
    "start_time": "2024-09-10T03:10:01.283Z"
   },
   {
    "duration": 9,
    "start_time": "2024-09-10T03:10:01.295Z"
   },
   {
    "duration": 36,
    "start_time": "2024-09-10T03:10:01.306Z"
   },
   {
    "duration": 15,
    "start_time": "2024-09-10T03:10:01.344Z"
   },
   {
    "duration": 13,
    "start_time": "2024-09-10T03:10:01.363Z"
   },
   {
    "duration": 17,
    "start_time": "2024-09-10T03:10:01.378Z"
   },
   {
    "duration": 11,
    "start_time": "2024-09-10T03:10:01.397Z"
   },
   {
    "duration": 31,
    "start_time": "2024-09-10T03:10:01.410Z"
   },
   {
    "duration": 30,
    "start_time": "2024-09-10T03:10:01.442Z"
   },
   {
    "duration": 5,
    "start_time": "2024-09-10T03:10:01.474Z"
   },
   {
    "duration": 23,
    "start_time": "2024-09-10T03:10:01.481Z"
   },
   {
    "duration": 32,
    "start_time": "2024-09-10T03:10:01.506Z"
   },
   {
    "duration": 6,
    "start_time": "2024-09-10T03:10:01.540Z"
   },
   {
    "duration": 7,
    "start_time": "2024-09-10T03:10:01.548Z"
   },
   {
    "duration": 21,
    "start_time": "2024-09-10T03:10:01.556Z"
   },
   {
    "duration": 18,
    "start_time": "2024-09-10T03:10:01.578Z"
   },
   {
    "duration": 9,
    "start_time": "2024-09-10T03:10:01.597Z"
   },
   {
    "duration": 10,
    "start_time": "2024-09-10T03:10:01.607Z"
   },
   {
    "duration": 205,
    "start_time": "2024-09-10T03:10:01.618Z"
   },
   {
    "duration": 133,
    "start_time": "2024-09-10T03:10:01.825Z"
   },
   {
    "duration": 10,
    "start_time": "2024-09-10T03:10:01.959Z"
   },
   {
    "duration": 333,
    "start_time": "2024-09-10T03:10:01.971Z"
   },
   {
    "duration": 101,
    "start_time": "2024-09-10T03:10:02.306Z"
   },
   {
    "duration": 87,
    "start_time": "2024-09-10T03:11:54.413Z"
   },
   {
    "duration": 83,
    "start_time": "2024-09-10T03:12:07.512Z"
   },
   {
    "duration": 653,
    "start_time": "2024-09-10T03:12:24.852Z"
   },
   {
    "duration": 67,
    "start_time": "2024-09-10T03:12:25.506Z"
   },
   {
    "duration": 6,
    "start_time": "2024-09-10T03:12:25.574Z"
   },
   {
    "duration": 12,
    "start_time": "2024-09-10T03:12:25.582Z"
   },
   {
    "duration": 20,
    "start_time": "2024-09-10T03:12:25.596Z"
   },
   {
    "duration": 28,
    "start_time": "2024-09-10T03:12:25.617Z"
   },
   {
    "duration": 10,
    "start_time": "2024-09-10T03:12:25.647Z"
   },
   {
    "duration": 13,
    "start_time": "2024-09-10T03:12:25.659Z"
   },
   {
    "duration": 23,
    "start_time": "2024-09-10T03:12:25.674Z"
   },
   {
    "duration": 9,
    "start_time": "2024-09-10T03:12:25.699Z"
   },
   {
    "duration": 19,
    "start_time": "2024-09-10T03:12:25.710Z"
   },
   {
    "duration": 15,
    "start_time": "2024-09-10T03:12:25.730Z"
   },
   {
    "duration": 18,
    "start_time": "2024-09-10T03:12:25.747Z"
   },
   {
    "duration": 16,
    "start_time": "2024-09-10T03:12:25.768Z"
   },
   {
    "duration": 30,
    "start_time": "2024-09-10T03:12:25.786Z"
   },
   {
    "duration": 11,
    "start_time": "2024-09-10T03:12:25.818Z"
   },
   {
    "duration": 10,
    "start_time": "2024-09-10T03:12:25.831Z"
   },
   {
    "duration": 11,
    "start_time": "2024-09-10T03:12:25.843Z"
   },
   {
    "duration": 17,
    "start_time": "2024-09-10T03:12:25.856Z"
   },
   {
    "duration": 20,
    "start_time": "2024-09-10T03:12:25.875Z"
   },
   {
    "duration": 11,
    "start_time": "2024-09-10T03:12:25.896Z"
   },
   {
    "duration": 20,
    "start_time": "2024-09-10T03:12:25.908Z"
   },
   {
    "duration": 7,
    "start_time": "2024-09-10T03:12:25.930Z"
   },
   {
    "duration": 5,
    "start_time": "2024-09-10T03:12:25.939Z"
   },
   {
    "duration": 6,
    "start_time": "2024-09-10T03:12:25.945Z"
   },
   {
    "duration": 22,
    "start_time": "2024-09-10T03:12:25.952Z"
   },
   {
    "duration": 9,
    "start_time": "2024-09-10T03:12:25.976Z"
   },
   {
    "duration": 192,
    "start_time": "2024-09-10T03:12:25.987Z"
   },
   {
    "duration": 165,
    "start_time": "2024-09-10T03:12:26.180Z"
   },
   {
    "duration": 83,
    "start_time": "2024-09-10T03:12:26.347Z"
   },
   {
    "duration": 0,
    "start_time": "2024-09-10T03:12:26.432Z"
   },
   {
    "duration": 0,
    "start_time": "2024-09-10T03:12:26.434Z"
   },
   {
    "duration": 87,
    "start_time": "2024-09-10T03:12:37.553Z"
   },
   {
    "duration": 10,
    "start_time": "2024-09-10T03:13:29.313Z"
   },
   {
    "duration": 9,
    "start_time": "2024-09-10T03:13:47.200Z"
   },
   {
    "duration": 270,
    "start_time": "2024-09-10T03:14:39.701Z"
   },
   {
    "duration": 1204,
    "start_time": "2024-09-10T03:16:34.120Z"
   },
   {
    "duration": 8,
    "start_time": "2024-09-10T03:17:08.768Z"
   },
   {
    "duration": 338,
    "start_time": "2024-09-10T03:17:22.367Z"
   },
   {
    "duration": 305,
    "start_time": "2024-09-10T03:17:55.508Z"
   },
   {
    "duration": 231,
    "start_time": "2024-09-10T03:18:06.480Z"
   },
   {
    "duration": 233,
    "start_time": "2024-09-10T03:18:17.960Z"
   },
   {
    "duration": 221,
    "start_time": "2024-09-10T03:18:37.333Z"
   },
   {
    "duration": 241,
    "start_time": "2024-09-10T03:20:40.514Z"
   },
   {
    "duration": 248,
    "start_time": "2024-09-10T03:20:53.872Z"
   },
   {
    "duration": 301,
    "start_time": "2024-09-10T03:25:42.835Z"
   },
   {
    "duration": 9,
    "start_time": "2024-09-10T03:28:00.413Z"
   },
   {
    "duration": 23,
    "start_time": "2024-09-10T03:28:04.582Z"
   },
   {
    "duration": 18,
    "start_time": "2024-09-10T03:28:17.235Z"
   },
   {
    "duration": 11,
    "start_time": "2024-09-10T03:28:37.720Z"
   },
   {
    "duration": 24,
    "start_time": "2024-09-10T03:28:41.517Z"
   },
   {
    "duration": 27,
    "start_time": "2024-09-10T03:31:36.911Z"
   },
   {
    "duration": 20,
    "start_time": "2024-09-10T03:31:47.215Z"
   },
   {
    "duration": 15,
    "start_time": "2024-09-10T03:31:57.064Z"
   },
   {
    "duration": 106,
    "start_time": "2024-09-10T03:31:59.945Z"
   },
   {
    "duration": 22,
    "start_time": "2024-09-10T03:32:02.834Z"
   },
   {
    "duration": 22,
    "start_time": "2024-09-10T03:32:07.606Z"
   },
   {
    "duration": 20,
    "start_time": "2024-09-10T03:32:14.345Z"
   },
   {
    "duration": 15,
    "start_time": "2024-09-10T03:33:55.662Z"
   },
   {
    "duration": 29,
    "start_time": "2024-09-10T03:33:59.939Z"
   },
   {
    "duration": 20,
    "start_time": "2024-09-10T03:34:23.391Z"
   },
   {
    "duration": 23,
    "start_time": "2024-09-10T03:34:55.316Z"
   },
   {
    "duration": 11,
    "start_time": "2024-09-10T03:41:23.413Z"
   },
   {
    "duration": 13,
    "start_time": "2024-09-10T03:41:27.754Z"
   },
   {
    "duration": 8,
    "start_time": "2024-09-10T03:42:29.869Z"
   },
   {
    "duration": 50,
    "start_time": "2024-09-12T10:05:38.439Z"
   },
   {
    "duration": 807,
    "start_time": "2024-09-12T10:05:43.910Z"
   },
   {
    "duration": 292,
    "start_time": "2024-09-12T10:05:44.720Z"
   },
   {
    "duration": 6,
    "start_time": "2024-09-12T10:05:45.014Z"
   },
   {
    "duration": 32,
    "start_time": "2024-09-12T10:05:45.021Z"
   },
   {
    "duration": 40,
    "start_time": "2024-09-12T10:05:45.056Z"
   },
   {
    "duration": 70,
    "start_time": "2024-09-12T10:05:45.097Z"
   },
   {
    "duration": 78,
    "start_time": "2024-09-12T10:05:45.168Z"
   },
   {
    "duration": 54,
    "start_time": "2024-09-12T10:05:45.248Z"
   },
   {
    "duration": 36,
    "start_time": "2024-09-12T10:05:45.304Z"
   },
   {
    "duration": 38,
    "start_time": "2024-09-12T10:05:45.342Z"
   },
   {
    "duration": 45,
    "start_time": "2024-09-12T10:05:45.381Z"
   },
   {
    "duration": 16,
    "start_time": "2024-09-12T10:05:45.428Z"
   },
   {
    "duration": 23,
    "start_time": "2024-09-12T10:05:45.446Z"
   },
   {
    "duration": 11,
    "start_time": "2024-09-12T10:05:45.472Z"
   },
   {
    "duration": 24,
    "start_time": "2024-09-12T10:05:45.485Z"
   },
   {
    "duration": 49,
    "start_time": "2024-09-12T10:05:45.510Z"
   },
   {
    "duration": 6,
    "start_time": "2024-09-12T10:05:45.561Z"
   },
   {
    "duration": 23,
    "start_time": "2024-09-12T10:05:45.568Z"
   },
   {
    "duration": 17,
    "start_time": "2024-09-12T10:05:45.593Z"
   },
   {
    "duration": 16,
    "start_time": "2024-09-12T10:05:45.612Z"
   },
   {
    "duration": 103,
    "start_time": "2024-09-12T10:05:45.629Z"
   },
   {
    "duration": 19,
    "start_time": "2024-09-12T10:05:45.734Z"
   },
   {
    "duration": 10,
    "start_time": "2024-09-12T10:05:45.755Z"
   },
   {
    "duration": 6,
    "start_time": "2024-09-12T10:05:45.767Z"
   },
   {
    "duration": 16,
    "start_time": "2024-09-12T10:05:45.774Z"
   },
   {
    "duration": 25,
    "start_time": "2024-09-12T10:05:45.792Z"
   },
   {
    "duration": 5,
    "start_time": "2024-09-12T10:05:45.819Z"
   },
   {
    "duration": 223,
    "start_time": "2024-09-12T10:05:45.826Z"
   },
   {
    "duration": 140,
    "start_time": "2024-09-12T10:05:46.051Z"
   },
   {
    "duration": 8,
    "start_time": "2024-09-12T10:05:46.193Z"
   },
   {
    "duration": 314,
    "start_time": "2024-09-12T10:05:46.203Z"
   },
   {
    "duration": 303,
    "start_time": "2024-09-12T10:05:46.519Z"
   },
   {
    "duration": 244,
    "start_time": "2024-09-12T10:05:46.823Z"
   },
   {
    "duration": 304,
    "start_time": "2024-09-12T10:05:47.069Z"
   },
   {
    "duration": 26,
    "start_time": "2024-09-12T10:05:47.375Z"
   },
   {
    "duration": 8,
    "start_time": "2024-09-12T10:05:47.403Z"
   },
   {
    "duration": 161,
    "start_time": "2024-09-12T10:05:47.413Z"
   },
   {
    "duration": 305,
    "start_time": "2024-09-12T10:06:12.401Z"
   },
   {
    "duration": 454,
    "start_time": "2024-09-12T10:06:32.553Z"
   },
   {
    "duration": 443,
    "start_time": "2024-09-12T10:06:40.280Z"
   },
   {
    "duration": 441,
    "start_time": "2024-09-12T10:07:02.061Z"
   },
   {
    "duration": 509,
    "start_time": "2024-09-12T10:07:06.493Z"
   },
   {
    "duration": 413,
    "start_time": "2024-09-12T10:07:35.973Z"
   },
   {
    "duration": 497,
    "start_time": "2024-09-12T10:09:06.584Z"
   },
   {
    "duration": 339,
    "start_time": "2024-09-12T10:10:15.745Z"
   },
   {
    "duration": 557,
    "start_time": "2024-09-12T10:10:22.122Z"
   },
   {
    "duration": 617,
    "start_time": "2024-09-12T10:10:41.223Z"
   },
   {
    "duration": 313,
    "start_time": "2024-09-12T10:10:58.723Z"
   },
   {
    "duration": 486,
    "start_time": "2024-09-12T10:11:05.488Z"
   },
   {
    "duration": 978,
    "start_time": "2024-09-12T10:28:08.884Z"
   },
   {
    "duration": 5,
    "start_time": "2024-09-12T10:28:28.996Z"
   },
   {
    "duration": 13,
    "start_time": "2024-09-12T10:30:10.566Z"
   },
   {
    "duration": 107,
    "start_time": "2024-09-12T10:30:20.299Z"
   },
   {
    "duration": 108,
    "start_time": "2024-09-12T10:30:56.204Z"
   },
   {
    "duration": 88,
    "start_time": "2024-09-12T10:36:14.942Z"
   },
   {
    "duration": 84,
    "start_time": "2024-09-12T10:36:20.980Z"
   },
   {
    "duration": 74,
    "start_time": "2024-09-12T10:36:35.863Z"
   },
   {
    "duration": 108,
    "start_time": "2024-09-12T10:36:43.020Z"
   },
   {
    "duration": 93,
    "start_time": "2024-09-12T10:36:51.733Z"
   },
   {
    "duration": 88,
    "start_time": "2024-09-12T10:36:55.645Z"
   },
   {
    "duration": 83,
    "start_time": "2024-09-12T10:44:38.049Z"
   },
   {
    "duration": 102,
    "start_time": "2024-09-12T10:45:10.744Z"
   },
   {
    "duration": 100,
    "start_time": "2024-09-12T10:45:29.089Z"
   },
   {
    "duration": 21,
    "start_time": "2024-09-12T10:45:57.331Z"
   },
   {
    "duration": 93,
    "start_time": "2024-09-12T10:46:53.762Z"
   },
   {
    "duration": 95,
    "start_time": "2024-09-12T10:47:09.242Z"
   },
   {
    "duration": 178,
    "start_time": "2024-09-12T10:47:58.237Z"
   },
   {
    "duration": 91,
    "start_time": "2024-09-12T10:48:14.711Z"
   },
   {
    "duration": 1178,
    "start_time": "2024-09-12T10:48:51.792Z"
   },
   {
    "duration": 1084,
    "start_time": "2024-09-12T10:49:03.442Z"
   },
   {
    "duration": 1035,
    "start_time": "2024-09-12T10:49:09.247Z"
   },
   {
    "duration": 96,
    "start_time": "2024-09-12T10:49:38.591Z"
   },
   {
    "duration": 94,
    "start_time": "2024-09-12T10:51:38.887Z"
   },
   {
    "duration": 102,
    "start_time": "2024-09-12T10:51:52.616Z"
   },
   {
    "duration": 105,
    "start_time": "2024-09-12T10:52:32.385Z"
   },
   {
    "duration": 159,
    "start_time": "2024-09-12T10:52:46.755Z"
   },
   {
    "duration": 91,
    "start_time": "2024-09-12T10:54:26.300Z"
   },
   {
    "duration": 26,
    "start_time": "2024-09-12T10:55:25.250Z"
   },
   {
    "duration": 128,
    "start_time": "2024-09-12T10:55:32.095Z"
   },
   {
    "duration": 734,
    "start_time": "2024-09-12T11:27:58.142Z"
   },
   {
    "duration": 83,
    "start_time": "2024-09-12T11:27:58.879Z"
   },
   {
    "duration": 8,
    "start_time": "2024-09-12T11:27:58.964Z"
   },
   {
    "duration": 11,
    "start_time": "2024-09-12T11:27:58.974Z"
   },
   {
    "duration": 7,
    "start_time": "2024-09-12T11:27:58.987Z"
   },
   {
    "duration": 18,
    "start_time": "2024-09-12T11:27:58.996Z"
   },
   {
    "duration": 12,
    "start_time": "2024-09-12T11:27:59.016Z"
   },
   {
    "duration": 10,
    "start_time": "2024-09-12T11:27:59.029Z"
   },
   {
    "duration": 28,
    "start_time": "2024-09-12T11:27:59.041Z"
   },
   {
    "duration": 12,
    "start_time": "2024-09-12T11:27:59.072Z"
   },
   {
    "duration": 27,
    "start_time": "2024-09-12T11:27:59.086Z"
   },
   {
    "duration": 19,
    "start_time": "2024-09-12T11:27:59.115Z"
   },
   {
    "duration": 25,
    "start_time": "2024-09-12T11:27:59.136Z"
   },
   {
    "duration": 14,
    "start_time": "2024-09-12T11:27:59.163Z"
   },
   {
    "duration": 16,
    "start_time": "2024-09-12T11:27:59.179Z"
   },
   {
    "duration": 22,
    "start_time": "2024-09-12T11:27:59.197Z"
   },
   {
    "duration": 10,
    "start_time": "2024-09-12T11:27:59.221Z"
   },
   {
    "duration": 25,
    "start_time": "2024-09-12T11:27:59.233Z"
   },
   {
    "duration": 29,
    "start_time": "2024-09-12T11:27:59.261Z"
   },
   {
    "duration": 9,
    "start_time": "2024-09-12T11:27:59.292Z"
   },
   {
    "duration": 39,
    "start_time": "2024-09-12T11:27:59.303Z"
   },
   {
    "duration": 23,
    "start_time": "2024-09-12T11:27:59.343Z"
   },
   {
    "duration": 39,
    "start_time": "2024-09-12T11:27:59.368Z"
   },
   {
    "duration": 21,
    "start_time": "2024-09-12T11:27:59.408Z"
   },
   {
    "duration": 30,
    "start_time": "2024-09-12T11:27:59.431Z"
   },
   {
    "duration": 16,
    "start_time": "2024-09-12T11:27:59.463Z"
   },
   {
    "duration": 19,
    "start_time": "2024-09-12T11:27:59.481Z"
   },
   {
    "duration": 220,
    "start_time": "2024-09-12T11:27:59.503Z"
   },
   {
    "duration": 148,
    "start_time": "2024-09-12T11:27:59.724Z"
   },
   {
    "duration": 8,
    "start_time": "2024-09-12T11:27:59.874Z"
   },
   {
    "duration": 314,
    "start_time": "2024-09-12T11:27:59.883Z"
   },
   {
    "duration": 328,
    "start_time": "2024-09-12T11:28:00.199Z"
   },
   {
    "duration": 243,
    "start_time": "2024-09-12T11:28:00.529Z"
   },
   {
    "duration": 284,
    "start_time": "2024-09-12T11:28:00.774Z"
   },
   {
    "duration": 28,
    "start_time": "2024-09-12T11:28:01.060Z"
   },
   {
    "duration": 9,
    "start_time": "2024-09-12T11:28:01.090Z"
   },
   {
    "duration": 508,
    "start_time": "2024-09-12T11:28:01.101Z"
   },
   {
    "duration": 545,
    "start_time": "2024-09-12T11:28:01.611Z"
   },
   {
    "duration": 78,
    "start_time": "2024-09-12T11:28:02.157Z"
   },
   {
    "duration": 18,
    "start_time": "2024-09-12T11:28:30.713Z"
   },
   {
    "duration": 76,
    "start_time": "2024-09-12T11:33:52.930Z"
   },
   {
    "duration": 85,
    "start_time": "2024-09-12T11:34:05.200Z"
   },
   {
    "duration": 19,
    "start_time": "2024-09-12T11:34:19.128Z"
   },
   {
    "duration": 16,
    "start_time": "2024-09-12T11:34:36.800Z"
   },
   {
    "duration": 995,
    "start_time": "2024-09-12T11:44:31.050Z"
   },
   {
    "duration": 98,
    "start_time": "2024-09-12T11:44:39.997Z"
   },
   {
    "duration": 94,
    "start_time": "2024-09-12T11:45:12.688Z"
   },
   {
    "duration": 96,
    "start_time": "2024-09-12T11:45:18.311Z"
   },
   {
    "duration": 22,
    "start_time": "2024-09-12T11:46:11.506Z"
   },
   {
    "duration": 102,
    "start_time": "2024-09-12T11:46:15.534Z"
   },
   {
    "duration": 99,
    "start_time": "2024-09-12T11:47:10.378Z"
   },
   {
    "duration": 23,
    "start_time": "2024-09-12T11:49:36.639Z"
   },
   {
    "duration": 24,
    "start_time": "2024-09-12T11:50:06.115Z"
   },
   {
    "duration": 25,
    "start_time": "2024-09-12T11:50:34.254Z"
   },
   {
    "duration": 27,
    "start_time": "2024-09-12T11:50:42.639Z"
   },
   {
    "duration": 22,
    "start_time": "2024-09-12T11:50:52.633Z"
   },
   {
    "duration": 94,
    "start_time": "2024-09-12T11:50:58.337Z"
   },
   {
    "duration": 28,
    "start_time": "2024-09-12T11:51:01.160Z"
   },
   {
    "duration": 22,
    "start_time": "2024-09-12T11:53:12.426Z"
   },
   {
    "duration": 18874,
    "start_time": "2024-09-12T11:53:46.037Z"
   },
   {
    "duration": 15624,
    "start_time": "2024-09-12T11:55:34.385Z"
   },
   {
    "duration": 3411,
    "start_time": "2024-09-12T11:56:07.318Z"
   },
   {
    "duration": 330,
    "start_time": "2024-09-12T11:56:30.684Z"
   },
   {
    "duration": 302,
    "start_time": "2024-09-12T11:56:43.833Z"
   },
   {
    "duration": 71,
    "start_time": "2024-09-12T11:56:49.713Z"
   },
   {
    "duration": 1400,
    "start_time": "2024-09-12T12:00:52.753Z"
   },
   {
    "duration": 1201,
    "start_time": "2024-09-12T12:01:10.447Z"
   },
   {
    "duration": 1263,
    "start_time": "2024-09-12T12:01:29.209Z"
   },
   {
    "duration": 23,
    "start_time": "2024-09-12T12:01:59.704Z"
   },
   {
    "duration": 126,
    "start_time": "2024-09-12T12:02:03.957Z"
   },
   {
    "duration": 28,
    "start_time": "2024-09-12T12:27:25.505Z"
   },
   {
    "duration": 26,
    "start_time": "2024-09-12T12:27:58.359Z"
   },
   {
    "duration": 28,
    "start_time": "2024-09-12T12:30:06.721Z"
   },
   {
    "duration": 25,
    "start_time": "2024-09-12T12:31:09.961Z"
   },
   {
    "duration": 312,
    "start_time": "2024-09-12T12:31:20.703Z"
   },
   {
    "duration": 29,
    "start_time": "2024-09-12T12:32:23.979Z"
   },
   {
    "duration": 888,
    "start_time": "2024-09-17T06:11:05.132Z"
   },
   {
    "duration": 296,
    "start_time": "2024-09-17T06:11:06.023Z"
   },
   {
    "duration": 6,
    "start_time": "2024-09-17T06:11:06.323Z"
   },
   {
    "duration": 24,
    "start_time": "2024-09-17T06:11:06.331Z"
   },
   {
    "duration": 28,
    "start_time": "2024-09-17T06:11:06.356Z"
   },
   {
    "duration": 22,
    "start_time": "2024-09-17T06:11:06.386Z"
   },
   {
    "duration": 18,
    "start_time": "2024-09-17T06:11:06.410Z"
   },
   {
    "duration": 15,
    "start_time": "2024-09-17T06:11:06.429Z"
   },
   {
    "duration": 12,
    "start_time": "2024-09-17T06:11:06.445Z"
   },
   {
    "duration": 17,
    "start_time": "2024-09-17T06:11:06.459Z"
   },
   {
    "duration": 39,
    "start_time": "2024-09-17T06:11:06.478Z"
   },
   {
    "duration": 38,
    "start_time": "2024-09-17T06:11:06.518Z"
   },
   {
    "duration": 30,
    "start_time": "2024-09-17T06:11:06.559Z"
   },
   {
    "duration": 16,
    "start_time": "2024-09-17T06:11:06.590Z"
   },
   {
    "duration": 14,
    "start_time": "2024-09-17T06:11:06.608Z"
   },
   {
    "duration": 68,
    "start_time": "2024-09-17T06:11:06.624Z"
   },
   {
    "duration": 51,
    "start_time": "2024-09-17T06:11:06.694Z"
   },
   {
    "duration": 11,
    "start_time": "2024-09-17T06:11:06.747Z"
   },
   {
    "duration": 10,
    "start_time": "2024-09-17T06:11:06.760Z"
   },
   {
    "duration": 17,
    "start_time": "2024-09-17T06:11:06.771Z"
   },
   {
    "duration": 6,
    "start_time": "2024-09-17T06:11:06.790Z"
   },
   {
    "duration": 11,
    "start_time": "2024-09-17T06:11:06.797Z"
   },
   {
    "duration": 11,
    "start_time": "2024-09-17T06:11:06.810Z"
   },
   {
    "duration": 18,
    "start_time": "2024-09-17T06:11:06.822Z"
   },
   {
    "duration": 10,
    "start_time": "2024-09-17T06:11:06.842Z"
   },
   {
    "duration": 31,
    "start_time": "2024-09-17T06:11:06.853Z"
   },
   {
    "duration": 6,
    "start_time": "2024-09-17T06:11:06.886Z"
   },
   {
    "duration": 242,
    "start_time": "2024-09-17T06:11:06.894Z"
   },
   {
    "duration": 142,
    "start_time": "2024-09-17T06:11:07.138Z"
   },
   {
    "duration": 9,
    "start_time": "2024-09-17T06:11:07.281Z"
   },
   {
    "duration": 343,
    "start_time": "2024-09-17T06:11:07.291Z"
   },
   {
    "duration": 311,
    "start_time": "2024-09-17T06:11:07.636Z"
   },
   {
    "duration": 238,
    "start_time": "2024-09-17T06:11:07.949Z"
   },
   {
    "duration": 276,
    "start_time": "2024-09-17T06:11:08.189Z"
   },
   {
    "duration": 26,
    "start_time": "2024-09-17T06:11:08.467Z"
   },
   {
    "duration": 35,
    "start_time": "2024-09-17T06:11:08.506Z"
   },
   {
    "duration": 483,
    "start_time": "2024-09-17T06:11:08.543Z"
   },
   {
    "duration": 537,
    "start_time": "2024-09-17T06:11:09.028Z"
   },
   {
    "duration": 100,
    "start_time": "2024-09-17T06:11:09.567Z"
   },
   {
    "duration": 117,
    "start_time": "2024-09-17T06:14:13.654Z"
   },
   {
    "duration": 125,
    "start_time": "2024-09-17T06:15:08.793Z"
   },
   {
    "duration": 622,
    "start_time": "2024-09-17T06:20:52.930Z"
   },
   {
    "duration": 70,
    "start_time": "2024-09-17T06:20:53.555Z"
   },
   {
    "duration": 6,
    "start_time": "2024-09-17T06:20:53.626Z"
   },
   {
    "duration": 11,
    "start_time": "2024-09-17T06:20:53.634Z"
   },
   {
    "duration": 45,
    "start_time": "2024-09-17T06:20:53.647Z"
   },
   {
    "duration": 59,
    "start_time": "2024-09-17T06:20:53.693Z"
   },
   {
    "duration": 28,
    "start_time": "2024-09-17T06:20:53.754Z"
   },
   {
    "duration": 39,
    "start_time": "2024-09-17T06:20:53.784Z"
   },
   {
    "duration": 39,
    "start_time": "2024-09-17T06:20:53.825Z"
   },
   {
    "duration": 26,
    "start_time": "2024-09-17T06:20:53.865Z"
   },
   {
    "duration": 13,
    "start_time": "2024-09-17T06:20:53.892Z"
   },
   {
    "duration": 45,
    "start_time": "2024-09-17T06:20:53.907Z"
   },
   {
    "duration": 22,
    "start_time": "2024-09-17T06:20:53.954Z"
   },
   {
    "duration": 28,
    "start_time": "2024-09-17T06:20:53.979Z"
   },
   {
    "duration": 20,
    "start_time": "2024-09-17T06:20:54.009Z"
   },
   {
    "duration": 31,
    "start_time": "2024-09-17T06:20:54.030Z"
   },
   {
    "duration": 40,
    "start_time": "2024-09-17T06:20:54.064Z"
   },
   {
    "duration": 31,
    "start_time": "2024-09-17T06:20:54.106Z"
   },
   {
    "duration": 16,
    "start_time": "2024-09-17T06:20:54.138Z"
   },
   {
    "duration": 48,
    "start_time": "2024-09-17T06:20:54.155Z"
   },
   {
    "duration": 21,
    "start_time": "2024-09-17T06:20:54.205Z"
   },
   {
    "duration": 22,
    "start_time": "2024-09-17T06:20:54.228Z"
   },
   {
    "duration": 25,
    "start_time": "2024-09-17T06:20:54.252Z"
   },
   {
    "duration": 30,
    "start_time": "2024-09-17T06:20:54.279Z"
   },
   {
    "duration": 40,
    "start_time": "2024-09-17T06:20:54.311Z"
   },
   {
    "duration": 40,
    "start_time": "2024-09-17T06:20:54.353Z"
   },
   {
    "duration": 25,
    "start_time": "2024-09-17T06:20:54.395Z"
   },
   {
    "duration": 240,
    "start_time": "2024-09-17T06:20:54.422Z"
   },
   {
    "duration": 135,
    "start_time": "2024-09-17T06:20:54.664Z"
   },
   {
    "duration": 11,
    "start_time": "2024-09-17T06:20:54.800Z"
   },
   {
    "duration": 312,
    "start_time": "2024-09-17T06:20:54.813Z"
   },
   {
    "duration": 294,
    "start_time": "2024-09-17T06:20:55.128Z"
   },
   {
    "duration": 241,
    "start_time": "2024-09-17T06:20:55.424Z"
   },
   {
    "duration": 314,
    "start_time": "2024-09-17T06:20:55.667Z"
   },
   {
    "duration": 38,
    "start_time": "2024-09-17T06:20:55.983Z"
   },
   {
    "duration": 12,
    "start_time": "2024-09-17T06:20:56.023Z"
   },
   {
    "duration": 480,
    "start_time": "2024-09-17T06:20:56.037Z"
   },
   {
    "duration": 518,
    "start_time": "2024-09-17T06:20:56.519Z"
   },
   {
    "duration": 695,
    "start_time": "2024-09-17T06:22:38.018Z"
   },
   {
    "duration": 70,
    "start_time": "2024-09-17T06:22:38.714Z"
   },
   {
    "duration": 15,
    "start_time": "2024-09-17T06:22:38.785Z"
   },
   {
    "duration": 46,
    "start_time": "2024-09-17T06:22:38.802Z"
   },
   {
    "duration": 16,
    "start_time": "2024-09-17T06:22:38.852Z"
   },
   {
    "duration": 33,
    "start_time": "2024-09-17T06:22:38.870Z"
   },
   {
    "duration": 39,
    "start_time": "2024-09-17T06:22:38.905Z"
   },
   {
    "duration": 47,
    "start_time": "2024-09-17T06:22:38.946Z"
   },
   {
    "duration": 56,
    "start_time": "2024-09-17T06:22:38.995Z"
   },
   {
    "duration": 35,
    "start_time": "2024-09-17T06:22:39.054Z"
   },
   {
    "duration": 46,
    "start_time": "2024-09-17T06:22:39.091Z"
   },
   {
    "duration": 69,
    "start_time": "2024-09-17T06:22:39.139Z"
   },
   {
    "duration": 37,
    "start_time": "2024-09-17T06:22:39.210Z"
   },
   {
    "duration": 24,
    "start_time": "2024-09-17T06:22:39.251Z"
   },
   {
    "duration": 39,
    "start_time": "2024-09-17T06:22:39.277Z"
   },
   {
    "duration": 20,
    "start_time": "2024-09-17T06:22:39.318Z"
   },
   {
    "duration": 57,
    "start_time": "2024-09-17T06:22:39.340Z"
   },
   {
    "duration": 33,
    "start_time": "2024-09-17T06:22:39.399Z"
   },
   {
    "duration": 8,
    "start_time": "2024-09-17T06:22:39.434Z"
   },
   {
    "duration": 22,
    "start_time": "2024-09-17T06:22:39.444Z"
   },
   {
    "duration": 34,
    "start_time": "2024-09-17T06:22:39.468Z"
   },
   {
    "duration": 23,
    "start_time": "2024-09-17T06:22:39.504Z"
   },
   {
    "duration": 23,
    "start_time": "2024-09-17T06:22:39.529Z"
   },
   {
    "duration": 38,
    "start_time": "2024-09-17T06:22:39.554Z"
   },
   {
    "duration": 19,
    "start_time": "2024-09-17T06:22:39.595Z"
   },
   {
    "duration": 61,
    "start_time": "2024-09-17T06:22:39.616Z"
   },
   {
    "duration": 13,
    "start_time": "2024-09-17T06:22:39.679Z"
   },
   {
    "duration": 252,
    "start_time": "2024-09-17T06:22:39.693Z"
   },
   {
    "duration": 145,
    "start_time": "2024-09-17T06:22:39.947Z"
   },
   {
    "duration": 16,
    "start_time": "2024-09-17T06:22:40.094Z"
   },
   {
    "duration": 306,
    "start_time": "2024-09-17T06:22:40.112Z"
   },
   {
    "duration": 295,
    "start_time": "2024-09-17T06:22:40.420Z"
   },
   {
    "duration": 240,
    "start_time": "2024-09-17T06:22:40.717Z"
   },
   {
    "duration": 331,
    "start_time": "2024-09-17T06:22:40.959Z"
   },
   {
    "duration": 42,
    "start_time": "2024-09-17T06:22:41.292Z"
   },
   {
    "duration": 43,
    "start_time": "2024-09-17T06:22:41.339Z"
   },
   {
    "duration": 517,
    "start_time": "2024-09-17T06:22:41.384Z"
   },
   {
    "duration": 519,
    "start_time": "2024-09-17T06:22:41.905Z"
   },
   {
    "duration": 44711,
    "start_time": "2024-09-17T06:22:42.426Z"
   },
   {
    "duration": 27954,
    "start_time": "2024-09-17T06:24:51.210Z"
   },
   {
    "duration": 1159,
    "start_time": "2024-09-17T06:34:35.258Z"
   },
   {
    "duration": 71,
    "start_time": "2024-09-17T06:34:36.418Z"
   },
   {
    "duration": 5,
    "start_time": "2024-09-17T06:34:36.491Z"
   },
   {
    "duration": 6,
    "start_time": "2024-09-17T06:34:36.497Z"
   },
   {
    "duration": 84,
    "start_time": "2024-09-17T06:34:36.505Z"
   },
   {
    "duration": 29,
    "start_time": "2024-09-17T06:34:36.590Z"
   },
   {
    "duration": 18,
    "start_time": "2024-09-17T06:34:36.621Z"
   },
   {
    "duration": 8,
    "start_time": "2024-09-17T06:34:36.640Z"
   },
   {
    "duration": 18,
    "start_time": "2024-09-17T06:34:36.649Z"
   },
   {
    "duration": 17,
    "start_time": "2024-09-17T06:34:36.668Z"
   },
   {
    "duration": 15,
    "start_time": "2024-09-17T06:34:36.687Z"
   },
   {
    "duration": 19,
    "start_time": "2024-09-17T06:34:36.703Z"
   },
   {
    "duration": 201,
    "start_time": "2024-09-17T06:34:36.724Z"
   },
   {
    "duration": 10,
    "start_time": "2024-09-17T06:34:36.930Z"
   },
   {
    "duration": 7,
    "start_time": "2024-09-17T06:34:36.942Z"
   },
   {
    "duration": 8,
    "start_time": "2024-09-17T06:34:36.951Z"
   },
   {
    "duration": 8,
    "start_time": "2024-09-17T06:34:36.961Z"
   },
   {
    "duration": 34,
    "start_time": "2024-09-17T06:34:36.971Z"
   },
   {
    "duration": 6,
    "start_time": "2024-09-17T06:34:37.007Z"
   },
   {
    "duration": 21,
    "start_time": "2024-09-17T06:34:37.014Z"
   },
   {
    "duration": 10,
    "start_time": "2024-09-17T06:34:37.036Z"
   },
   {
    "duration": 5,
    "start_time": "2024-09-17T06:34:37.048Z"
   },
   {
    "duration": 9,
    "start_time": "2024-09-17T06:34:37.055Z"
   },
   {
    "duration": 17,
    "start_time": "2024-09-17T06:34:37.065Z"
   },
   {
    "duration": 21,
    "start_time": "2024-09-17T06:34:37.084Z"
   },
   {
    "duration": 22,
    "start_time": "2024-09-17T06:34:37.107Z"
   },
   {
    "duration": 10,
    "start_time": "2024-09-17T06:34:37.131Z"
   },
   {
    "duration": 228,
    "start_time": "2024-09-17T06:34:37.143Z"
   },
   {
    "duration": 144,
    "start_time": "2024-09-17T06:34:37.373Z"
   },
   {
    "duration": 8,
    "start_time": "2024-09-17T06:34:37.519Z"
   },
   {
    "duration": 301,
    "start_time": "2024-09-17T06:34:37.529Z"
   },
   {
    "duration": 237,
    "start_time": "2024-09-17T06:34:37.831Z"
   },
   {
    "duration": 238,
    "start_time": "2024-09-17T06:34:38.069Z"
   },
   {
    "duration": 284,
    "start_time": "2024-09-17T06:34:38.308Z"
   },
   {
    "duration": 34,
    "start_time": "2024-09-17T06:34:38.593Z"
   },
   {
    "duration": 11,
    "start_time": "2024-09-17T06:34:38.628Z"
   },
   {
    "duration": 491,
    "start_time": "2024-09-17T06:34:38.641Z"
   },
   {
    "duration": 561,
    "start_time": "2024-09-17T06:34:39.134Z"
   },
   {
    "duration": 28551,
    "start_time": "2024-09-17T06:34:39.696Z"
   },
   {
    "duration": 1210,
    "start_time": "2024-09-17T07:15:25.184Z"
   },
   {
    "duration": 73,
    "start_time": "2024-09-17T07:15:26.396Z"
   },
   {
    "duration": 5,
    "start_time": "2024-09-17T07:15:26.470Z"
   },
   {
    "duration": 7,
    "start_time": "2024-09-17T07:15:26.476Z"
   },
   {
    "duration": 5,
    "start_time": "2024-09-17T07:15:26.485Z"
   },
   {
    "duration": 8,
    "start_time": "2024-09-17T07:15:26.491Z"
   },
   {
    "duration": 8,
    "start_time": "2024-09-17T07:15:26.501Z"
   },
   {
    "duration": 6,
    "start_time": "2024-09-17T07:15:26.510Z"
   },
   {
    "duration": 17,
    "start_time": "2024-09-17T07:15:26.517Z"
   },
   {
    "duration": 18,
    "start_time": "2024-09-17T07:15:26.535Z"
   },
   {
    "duration": 17,
    "start_time": "2024-09-17T07:15:26.555Z"
   },
   {
    "duration": 60,
    "start_time": "2024-09-17T07:15:26.574Z"
   },
   {
    "duration": 84,
    "start_time": "2024-09-17T07:15:26.635Z"
   },
   {
    "duration": 13,
    "start_time": "2024-09-17T07:15:26.724Z"
   },
   {
    "duration": 6,
    "start_time": "2024-09-17T07:15:26.739Z"
   },
   {
    "duration": 30,
    "start_time": "2024-09-17T07:15:26.746Z"
   },
   {
    "duration": 9,
    "start_time": "2024-09-17T07:15:26.777Z"
   },
   {
    "duration": 11,
    "start_time": "2024-09-17T07:15:26.788Z"
   },
   {
    "duration": 13,
    "start_time": "2024-09-17T07:15:26.805Z"
   },
   {
    "duration": 12,
    "start_time": "2024-09-17T07:15:26.820Z"
   },
   {
    "duration": 12,
    "start_time": "2024-09-17T07:15:26.834Z"
   },
   {
    "duration": 10,
    "start_time": "2024-09-17T07:15:26.848Z"
   },
   {
    "duration": 16,
    "start_time": "2024-09-17T07:15:26.860Z"
   },
   {
    "duration": 6,
    "start_time": "2024-09-17T07:15:26.878Z"
   },
   {
    "duration": 104,
    "start_time": "2024-09-17T07:15:26.886Z"
   },
   {
    "duration": 14,
    "start_time": "2024-09-17T07:15:26.992Z"
   },
   {
    "duration": 8,
    "start_time": "2024-09-17T07:15:27.007Z"
   },
   {
    "duration": 232,
    "start_time": "2024-09-17T07:15:27.017Z"
   },
   {
    "duration": 139,
    "start_time": "2024-09-17T07:15:27.251Z"
   },
   {
    "duration": 18,
    "start_time": "2024-09-17T07:15:27.392Z"
   },
   {
    "duration": 316,
    "start_time": "2024-09-17T07:15:27.411Z"
   },
   {
    "duration": 231,
    "start_time": "2024-09-17T07:15:27.728Z"
   },
   {
    "duration": 233,
    "start_time": "2024-09-17T07:15:27.961Z"
   },
   {
    "duration": 266,
    "start_time": "2024-09-17T07:15:28.195Z"
   },
   {
    "duration": 26,
    "start_time": "2024-09-17T07:15:28.463Z"
   },
   {
    "duration": 21,
    "start_time": "2024-09-17T07:15:28.490Z"
   },
   {
    "duration": 483,
    "start_time": "2024-09-17T07:15:28.513Z"
   },
   {
    "duration": 572,
    "start_time": "2024-09-17T07:15:28.998Z"
   },
   {
    "duration": 2,
    "start_time": "2024-09-17T07:15:29.572Z"
   },
   {
    "duration": 7,
    "start_time": "2024-09-17T07:15:29.576Z"
   },
   {
    "duration": 28824,
    "start_time": "2024-09-17T07:15:29.586Z"
   },
   {
    "duration": 19,
    "start_time": "2024-09-17T07:31:34.630Z"
   },
   {
    "duration": 40,
    "start_time": "2024-09-17T07:36:50.102Z"
   },
   {
    "duration": 248,
    "start_time": "2024-09-17T08:15:40.530Z"
   },
   {
    "duration": 253,
    "start_time": "2024-09-17T08:15:45.089Z"
   },
   {
    "duration": 524,
    "start_time": "2024-09-17T08:16:32.801Z"
   },
   {
    "duration": 622,
    "start_time": "2024-09-17T08:16:40.456Z"
   },
   {
    "duration": 499,
    "start_time": "2024-09-17T08:16:44.201Z"
   },
   {
    "duration": 509,
    "start_time": "2024-09-17T08:16:48.160Z"
   },
   {
    "duration": 513,
    "start_time": "2024-09-17T08:17:10.634Z"
   },
   {
    "duration": 466,
    "start_time": "2024-09-17T08:17:27.859Z"
   },
   {
    "duration": 485,
    "start_time": "2024-09-17T08:17:54.920Z"
   },
   {
    "duration": 394,
    "start_time": "2024-09-17T08:18:37.960Z"
   },
   {
    "duration": 509,
    "start_time": "2024-09-17T08:18:48.993Z"
   },
   {
    "duration": 47,
    "start_time": "2024-09-17T08:19:45.705Z"
   },
   {
    "duration": 402,
    "start_time": "2024-09-17T08:19:51.289Z"
   },
   {
    "duration": 1318,
    "start_time": "2024-09-18T07:49:58.020Z"
   },
   {
    "duration": 298,
    "start_time": "2024-09-18T07:49:59.341Z"
   },
   {
    "duration": 6,
    "start_time": "2024-09-18T07:49:59.641Z"
   },
   {
    "duration": 11,
    "start_time": "2024-09-18T07:49:59.649Z"
   },
   {
    "duration": 23,
    "start_time": "2024-09-18T07:49:59.662Z"
   },
   {
    "duration": 10,
    "start_time": "2024-09-18T07:49:59.687Z"
   },
   {
    "duration": 5,
    "start_time": "2024-09-18T07:49:59.698Z"
   },
   {
    "duration": 11,
    "start_time": "2024-09-18T07:49:59.705Z"
   },
   {
    "duration": 13,
    "start_time": "2024-09-18T07:49:59.718Z"
   },
   {
    "duration": 11,
    "start_time": "2024-09-18T07:49:59.733Z"
   },
   {
    "duration": 8,
    "start_time": "2024-09-18T07:49:59.745Z"
   },
   {
    "duration": 14,
    "start_time": "2024-09-18T07:49:59.755Z"
   },
   {
    "duration": 24,
    "start_time": "2024-09-18T07:49:59.771Z"
   },
   {
    "duration": 9,
    "start_time": "2024-09-18T07:49:59.797Z"
   },
   {
    "duration": 6,
    "start_time": "2024-09-18T07:49:59.808Z"
   },
   {
    "duration": 7,
    "start_time": "2024-09-18T07:49:59.816Z"
   },
   {
    "duration": 4,
    "start_time": "2024-09-18T07:49:59.825Z"
   },
   {
    "duration": 35,
    "start_time": "2024-09-18T07:49:59.831Z"
   },
   {
    "duration": 6,
    "start_time": "2024-09-18T07:49:59.868Z"
   },
   {
    "duration": 9,
    "start_time": "2024-09-18T07:49:59.876Z"
   },
   {
    "duration": 7,
    "start_time": "2024-09-18T07:49:59.886Z"
   },
   {
    "duration": 10,
    "start_time": "2024-09-18T07:49:59.895Z"
   },
   {
    "duration": 8,
    "start_time": "2024-09-18T07:49:59.907Z"
   },
   {
    "duration": 5,
    "start_time": "2024-09-18T07:49:59.917Z"
   },
   {
    "duration": 8,
    "start_time": "2024-09-18T07:49:59.968Z"
   },
   {
    "duration": 22,
    "start_time": "2024-09-18T07:49:59.980Z"
   },
   {
    "duration": 32,
    "start_time": "2024-09-18T07:50:00.004Z"
   },
   {
    "duration": 246,
    "start_time": "2024-09-18T07:50:00.040Z"
   },
   {
    "duration": 137,
    "start_time": "2024-09-18T07:50:00.287Z"
   },
   {
    "duration": 10,
    "start_time": "2024-09-18T07:50:00.426Z"
   },
   {
    "duration": 345,
    "start_time": "2024-09-18T07:50:00.437Z"
   },
   {
    "duration": 242,
    "start_time": "2024-09-18T07:50:00.784Z"
   },
   {
    "duration": 240,
    "start_time": "2024-09-18T07:50:01.028Z"
   },
   {
    "duration": 267,
    "start_time": "2024-09-18T07:50:01.271Z"
   },
   {
    "duration": 33,
    "start_time": "2024-09-18T07:50:01.540Z"
   },
   {
    "duration": 10,
    "start_time": "2024-09-18T07:50:01.575Z"
   },
   {
    "duration": 485,
    "start_time": "2024-09-18T07:50:01.587Z"
   },
   {
    "duration": 610,
    "start_time": "2024-09-18T07:50:02.073Z"
   },
   {
    "duration": 4,
    "start_time": "2024-09-18T07:50:02.684Z"
   },
   {
    "duration": 20,
    "start_time": "2024-09-18T07:50:02.689Z"
   },
   {
    "duration": 27394,
    "start_time": "2024-09-18T07:50:02.711Z"
   },
   {
    "duration": 17,
    "start_time": "2024-09-18T07:50:30.107Z"
   },
   {
    "duration": 52,
    "start_time": "2024-09-18T07:50:30.126Z"
   },
   {
    "duration": 377,
    "start_time": "2024-09-18T07:50:30.180Z"
   },
   {
    "duration": 373,
    "start_time": "2024-09-18T07:51:12.266Z"
   },
   {
    "duration": 375,
    "start_time": "2024-09-18T07:51:19.061Z"
   },
   {
    "duration": 445,
    "start_time": "2024-09-18T07:51:24.086Z"
   },
   {
    "duration": 1175,
    "start_time": "2024-09-18T07:53:11.131Z"
   },
   {
    "duration": 193,
    "start_time": "2024-09-18T07:53:19.688Z"
   },
   {
    "duration": 155,
    "start_time": "2024-09-18T07:53:26.612Z"
   },
   {
    "duration": 403,
    "start_time": "2024-09-18T07:53:46.021Z"
   },
   {
    "duration": 236,
    "start_time": "2024-09-18T07:54:18.383Z"
   },
   {
    "duration": 345,
    "start_time": "2024-09-18T07:54:18.651Z"
   },
   {
    "duration": 240,
    "start_time": "2024-09-18T07:54:22.946Z"
   },
   {
    "duration": 226,
    "start_time": "2024-09-18T07:54:25.311Z"
   },
   {
    "duration": 327,
    "start_time": "2024-09-18T07:56:01.842Z"
   },
   {
    "duration": 284,
    "start_time": "2024-09-18T07:56:23.929Z"
   },
   {
    "duration": 1397,
    "start_time": "2024-09-20T09:50:12.637Z"
   },
   {
    "duration": 295,
    "start_time": "2024-09-20T09:50:14.036Z"
   },
   {
    "duration": 7,
    "start_time": "2024-09-20T09:50:14.332Z"
   },
   {
    "duration": 4,
    "start_time": "2024-09-20T09:50:14.342Z"
   },
   {
    "duration": 5,
    "start_time": "2024-09-20T09:50:14.348Z"
   },
   {
    "duration": 8,
    "start_time": "2024-09-20T09:50:14.355Z"
   },
   {
    "duration": 15,
    "start_time": "2024-09-20T09:50:14.364Z"
   },
   {
    "duration": 10,
    "start_time": "2024-09-20T09:50:14.381Z"
   },
   {
    "duration": 12,
    "start_time": "2024-09-20T09:50:14.392Z"
   },
   {
    "duration": 26,
    "start_time": "2024-09-20T09:50:14.407Z"
   },
   {
    "duration": 23,
    "start_time": "2024-09-20T09:50:14.434Z"
   },
   {
    "duration": 20,
    "start_time": "2024-09-20T09:50:14.459Z"
   },
   {
    "duration": 16,
    "start_time": "2024-09-20T09:50:14.480Z"
   },
   {
    "duration": 11,
    "start_time": "2024-09-20T09:50:14.498Z"
   },
   {
    "duration": 11,
    "start_time": "2024-09-20T09:50:14.510Z"
   },
   {
    "duration": 15,
    "start_time": "2024-09-20T09:50:14.523Z"
   },
   {
    "duration": 11,
    "start_time": "2024-09-20T09:50:14.540Z"
   },
   {
    "duration": 14,
    "start_time": "2024-09-20T09:50:14.553Z"
   },
   {
    "duration": 6,
    "start_time": "2024-09-20T09:50:14.568Z"
   },
   {
    "duration": 10,
    "start_time": "2024-09-20T09:50:14.575Z"
   },
   {
    "duration": 11,
    "start_time": "2024-09-20T09:50:14.587Z"
   },
   {
    "duration": 8,
    "start_time": "2024-09-20T09:50:14.600Z"
   },
   {
    "duration": 57,
    "start_time": "2024-09-20T09:50:14.609Z"
   },
   {
    "duration": 9,
    "start_time": "2024-09-20T09:50:14.667Z"
   },
   {
    "duration": 29,
    "start_time": "2024-09-20T09:50:14.678Z"
   },
   {
    "duration": 7,
    "start_time": "2024-09-20T09:50:14.709Z"
   },
   {
    "duration": 5,
    "start_time": "2024-09-20T09:50:14.717Z"
   },
   {
    "duration": 211,
    "start_time": "2024-09-20T09:50:14.725Z"
   },
   {
    "duration": 143,
    "start_time": "2024-09-20T09:50:14.938Z"
   },
   {
    "duration": 9,
    "start_time": "2024-09-20T09:50:15.082Z"
   },
   {
    "duration": 405,
    "start_time": "2024-09-20T09:50:15.092Z"
   },
   {
    "duration": 262,
    "start_time": "2024-09-20T09:50:15.499Z"
   },
   {
    "duration": 246,
    "start_time": "2024-09-20T09:50:15.762Z"
   },
   {
    "duration": 298,
    "start_time": "2024-09-20T09:50:16.010Z"
   },
   {
    "duration": 27,
    "start_time": "2024-09-20T09:50:16.309Z"
   },
   {
    "duration": 10,
    "start_time": "2024-09-20T09:50:16.346Z"
   },
   {
    "duration": 560,
    "start_time": "2024-09-20T09:50:16.358Z"
   },
   {
    "duration": 519,
    "start_time": "2024-09-20T09:50:16.920Z"
   },
   {
    "duration": 3,
    "start_time": "2024-09-20T09:50:17.441Z"
   },
   {
    "duration": 19,
    "start_time": "2024-09-20T09:50:17.446Z"
   },
   {
    "duration": 27862,
    "start_time": "2024-09-20T09:50:17.466Z"
   },
   {
    "duration": 26,
    "start_time": "2024-09-20T09:50:45.329Z"
   },
   {
    "duration": 60,
    "start_time": "2024-09-20T09:50:45.356Z"
   },
   {
    "duration": 370,
    "start_time": "2024-09-20T09:50:45.419Z"
   },
   {
    "duration": 291,
    "start_time": "2024-09-20T09:50:45.790Z"
   },
   {
    "duration": 304,
    "start_time": "2024-09-20T09:50:46.083Z"
   },
   {
    "duration": 5,
    "start_time": "2024-09-20T10:06:22.232Z"
   },
   {
    "duration": 5,
    "start_time": "2024-09-20T10:09:34.468Z"
   },
   {
    "duration": 6,
    "start_time": "2024-09-20T10:10:27.224Z"
   },
   {
    "duration": 6,
    "start_time": "2024-09-20T10:11:02.570Z"
   },
   {
    "duration": 5,
    "start_time": "2024-09-20T10:11:08.846Z"
   },
   {
    "duration": 5,
    "start_time": "2024-09-20T10:11:14.535Z"
   },
   {
    "duration": 5,
    "start_time": "2024-09-20T10:11:41.992Z"
   },
   {
    "duration": 1196,
    "start_time": "2024-09-20T10:23:59.145Z"
   },
   {
    "duration": 76,
    "start_time": "2024-09-20T10:24:00.343Z"
   },
   {
    "duration": 11,
    "start_time": "2024-09-20T10:24:00.421Z"
   },
   {
    "duration": 30,
    "start_time": "2024-09-20T10:24:00.433Z"
   },
   {
    "duration": 9,
    "start_time": "2024-09-20T10:24:00.465Z"
   },
   {
    "duration": 6,
    "start_time": "2024-09-20T10:24:00.476Z"
   },
   {
    "duration": 32,
    "start_time": "2024-09-20T10:24:00.484Z"
   },
   {
    "duration": 15,
    "start_time": "2024-09-20T10:24:00.518Z"
   },
   {
    "duration": 23,
    "start_time": "2024-09-20T10:24:00.535Z"
   },
   {
    "duration": 17,
    "start_time": "2024-09-20T10:24:00.560Z"
   },
   {
    "duration": 27,
    "start_time": "2024-09-20T10:24:00.579Z"
   },
   {
    "duration": 67,
    "start_time": "2024-09-20T10:24:00.607Z"
   },
   {
    "duration": 16,
    "start_time": "2024-09-20T10:24:00.676Z"
   },
   {
    "duration": 31,
    "start_time": "2024-09-20T10:24:00.695Z"
   },
   {
    "duration": 11,
    "start_time": "2024-09-20T10:24:00.728Z"
   },
   {
    "duration": 11,
    "start_time": "2024-09-20T10:24:00.740Z"
   },
   {
    "duration": 23,
    "start_time": "2024-09-20T10:24:00.752Z"
   },
   {
    "duration": 13,
    "start_time": "2024-09-20T10:24:00.777Z"
   },
   {
    "duration": 14,
    "start_time": "2024-09-20T10:24:00.792Z"
   },
   {
    "duration": 39,
    "start_time": "2024-09-20T10:24:00.808Z"
   },
   {
    "duration": 31,
    "start_time": "2024-09-20T10:24:00.849Z"
   },
   {
    "duration": 27,
    "start_time": "2024-09-20T10:24:00.882Z"
   },
   {
    "duration": 55,
    "start_time": "2024-09-20T10:24:00.910Z"
   },
   {
    "duration": 8,
    "start_time": "2024-09-20T10:24:00.967Z"
   },
   {
    "duration": 14,
    "start_time": "2024-09-20T10:24:00.977Z"
   },
   {
    "duration": 65,
    "start_time": "2024-09-20T10:24:00.993Z"
   },
   {
    "duration": 28,
    "start_time": "2024-09-20T10:24:01.060Z"
   },
   {
    "duration": 321,
    "start_time": "2024-09-20T10:24:01.089Z"
   },
   {
    "duration": 164,
    "start_time": "2024-09-20T10:24:01.412Z"
   },
   {
    "duration": 8,
    "start_time": "2024-09-20T10:24:01.578Z"
   },
   {
    "duration": 335,
    "start_time": "2024-09-20T10:24:01.588Z"
   },
   {
    "duration": 250,
    "start_time": "2024-09-20T10:24:01.925Z"
   },
   {
    "duration": 274,
    "start_time": "2024-09-20T10:24:02.177Z"
   },
   {
    "duration": 293,
    "start_time": "2024-09-20T10:24:02.453Z"
   },
   {
    "duration": 27,
    "start_time": "2024-09-20T10:24:02.748Z"
   },
   {
    "duration": 156,
    "start_time": "2024-09-20T10:24:02.777Z"
   },
   {
    "duration": 528,
    "start_time": "2024-09-20T10:24:02.935Z"
   },
   {
    "duration": 602,
    "start_time": "2024-09-20T10:24:03.465Z"
   },
   {
    "duration": 3,
    "start_time": "2024-09-20T10:24:04.069Z"
   },
   {
    "duration": 11,
    "start_time": "2024-09-20T10:24:04.073Z"
   },
   {
    "duration": 27943,
    "start_time": "2024-09-20T10:24:04.095Z"
   },
   {
    "duration": 20,
    "start_time": "2024-09-20T10:24:32.040Z"
   },
   {
    "duration": 82,
    "start_time": "2024-09-20T10:24:32.062Z"
   },
   {
    "duration": 369,
    "start_time": "2024-09-20T10:24:32.146Z"
   },
   {
    "duration": 289,
    "start_time": "2024-09-20T10:24:32.517Z"
   },
   {
    "duration": 310,
    "start_time": "2024-09-20T10:24:32.808Z"
   },
   {
    "duration": 6,
    "start_time": "2024-09-20T10:24:33.119Z"
   },
   {
    "duration": 5,
    "start_time": "2024-09-20T10:33:08.188Z"
   },
   {
    "duration": 1186,
    "start_time": "2024-09-20T10:33:51.575Z"
   },
   {
    "duration": 74,
    "start_time": "2024-09-20T10:33:52.762Z"
   },
   {
    "duration": 6,
    "start_time": "2024-09-20T10:33:52.837Z"
   },
   {
    "duration": 21,
    "start_time": "2024-09-20T10:33:52.844Z"
   },
   {
    "duration": 34,
    "start_time": "2024-09-20T10:33:52.867Z"
   },
   {
    "duration": 50,
    "start_time": "2024-09-20T10:33:52.903Z"
   },
   {
    "duration": 47,
    "start_time": "2024-09-20T10:33:52.955Z"
   },
   {
    "duration": 38,
    "start_time": "2024-09-20T10:33:53.003Z"
   },
   {
    "duration": 38,
    "start_time": "2024-09-20T10:33:53.043Z"
   },
   {
    "duration": 21,
    "start_time": "2024-09-20T10:33:53.084Z"
   },
   {
    "duration": 33,
    "start_time": "2024-09-20T10:33:53.107Z"
   },
   {
    "duration": 23,
    "start_time": "2024-09-20T10:33:53.143Z"
   },
   {
    "duration": 22,
    "start_time": "2024-09-20T10:33:53.168Z"
   },
   {
    "duration": 33,
    "start_time": "2024-09-20T10:33:53.192Z"
   },
   {
    "duration": 34,
    "start_time": "2024-09-20T10:33:53.226Z"
   },
   {
    "duration": 14,
    "start_time": "2024-09-20T10:33:53.262Z"
   },
   {
    "duration": 18,
    "start_time": "2024-09-20T10:33:53.279Z"
   },
   {
    "duration": 19,
    "start_time": "2024-09-20T10:33:53.299Z"
   },
   {
    "duration": 11,
    "start_time": "2024-09-20T10:33:53.321Z"
   },
   {
    "duration": 27,
    "start_time": "2024-09-20T10:33:53.334Z"
   },
   {
    "duration": 10,
    "start_time": "2024-09-20T10:33:53.362Z"
   },
   {
    "duration": 42,
    "start_time": "2024-09-20T10:33:53.374Z"
   },
   {
    "duration": 20,
    "start_time": "2024-09-20T10:33:53.418Z"
   },
   {
    "duration": 6,
    "start_time": "2024-09-20T10:33:53.440Z"
   },
   {
    "duration": 7,
    "start_time": "2024-09-20T10:33:53.448Z"
   },
   {
    "duration": 7,
    "start_time": "2024-09-20T10:33:53.457Z"
   },
   {
    "duration": 6,
    "start_time": "2024-09-20T10:33:53.466Z"
   },
   {
    "duration": 231,
    "start_time": "2024-09-20T10:33:53.476Z"
   },
   {
    "duration": 138,
    "start_time": "2024-09-20T10:33:53.709Z"
   },
   {
    "duration": 9,
    "start_time": "2024-09-20T10:33:53.849Z"
   },
   {
    "duration": 309,
    "start_time": "2024-09-20T10:33:53.859Z"
   },
   {
    "duration": 238,
    "start_time": "2024-09-20T10:33:54.170Z"
   },
   {
    "duration": 239,
    "start_time": "2024-09-20T10:33:54.410Z"
   },
   {
    "duration": 289,
    "start_time": "2024-09-20T10:33:54.651Z"
   },
   {
    "duration": 41,
    "start_time": "2024-09-20T10:33:54.943Z"
   },
   {
    "duration": 10,
    "start_time": "2024-09-20T10:33:54.985Z"
   },
   {
    "duration": 510,
    "start_time": "2024-09-20T10:33:54.996Z"
   },
   {
    "duration": 575,
    "start_time": "2024-09-20T10:33:55.508Z"
   },
   {
    "duration": 3,
    "start_time": "2024-09-20T10:33:56.084Z"
   },
   {
    "duration": 18,
    "start_time": "2024-09-20T10:33:56.089Z"
   },
   {
    "duration": 3,
    "start_time": "2024-09-20T11:19:36.021Z"
   },
   {
    "duration": 94,
    "start_time": "2024-09-20T11:19:36.026Z"
   },
   {
    "duration": 4,
    "start_time": "2024-09-20T11:19:36.121Z"
   },
   {
    "duration": 8,
    "start_time": "2024-09-20T11:19:36.127Z"
   },
   {
    "duration": 20,
    "start_time": "2024-09-20T11:19:36.137Z"
   },
   {
    "duration": 13,
    "start_time": "2024-09-20T11:19:36.158Z"
   },
   {
    "duration": 10,
    "start_time": "2024-09-20T11:19:36.172Z"
   },
   {
    "duration": 37,
    "start_time": "2024-09-20T11:19:36.184Z"
   },
   {
    "duration": 16,
    "start_time": "2024-09-20T11:19:36.223Z"
   },
   {
    "duration": 19,
    "start_time": "2024-09-20T11:19:36.241Z"
   },
   {
    "duration": 11,
    "start_time": "2024-09-20T11:19:36.262Z"
   },
   {
    "duration": 73,
    "start_time": "2024-09-20T11:19:36.274Z"
   },
   {
    "duration": 15,
    "start_time": "2024-09-20T11:19:36.349Z"
   },
   {
    "duration": 11,
    "start_time": "2024-09-20T11:19:36.368Z"
   },
   {
    "duration": 11,
    "start_time": "2024-09-20T11:19:36.381Z"
   },
   {
    "duration": 34,
    "start_time": "2024-09-20T11:19:36.394Z"
   },
   {
    "duration": 5,
    "start_time": "2024-09-20T11:19:36.430Z"
   },
   {
    "duration": 32,
    "start_time": "2024-09-20T11:19:36.436Z"
   },
   {
    "duration": 7,
    "start_time": "2024-09-20T11:19:36.469Z"
   },
   {
    "duration": 48,
    "start_time": "2024-09-20T11:19:36.477Z"
   },
   {
    "duration": 45,
    "start_time": "2024-09-20T11:19:36.526Z"
   },
   {
    "duration": 15,
    "start_time": "2024-09-20T11:19:36.573Z"
   },
   {
    "duration": 10,
    "start_time": "2024-09-20T11:19:36.590Z"
   },
   {
    "duration": 15,
    "start_time": "2024-09-20T11:19:36.601Z"
   },
   {
    "duration": 27,
    "start_time": "2024-09-20T11:19:36.618Z"
   },
   {
    "duration": 20,
    "start_time": "2024-09-20T11:19:36.647Z"
   },
   {
    "duration": 5,
    "start_time": "2024-09-20T11:19:36.669Z"
   },
   {
    "duration": 222,
    "start_time": "2024-09-20T11:19:36.676Z"
   },
   {
    "duration": 137,
    "start_time": "2024-09-20T11:19:36.899Z"
   },
   {
    "duration": 12,
    "start_time": "2024-09-20T11:19:37.037Z"
   },
   {
    "duration": 446,
    "start_time": "2024-09-20T11:19:37.051Z"
   },
   {
    "duration": 251,
    "start_time": "2024-09-20T11:19:37.499Z"
   },
   {
    "duration": 280,
    "start_time": "2024-09-20T11:19:37.752Z"
   },
   {
    "duration": 299,
    "start_time": "2024-09-20T11:19:38.034Z"
   },
   {
    "duration": 33,
    "start_time": "2024-09-20T11:19:38.335Z"
   },
   {
    "duration": 10,
    "start_time": "2024-09-20T11:19:38.370Z"
   },
   {
    "duration": 561,
    "start_time": "2024-09-20T11:19:38.381Z"
   },
   {
    "duration": 497,
    "start_time": "2024-09-20T11:19:38.945Z"
   },
   {
    "duration": 3,
    "start_time": "2024-09-20T11:19:39.445Z"
   },
   {
    "duration": 16,
    "start_time": "2024-09-20T11:19:39.449Z"
   },
   {
    "duration": 1337,
    "start_time": "2024-09-20T11:19:44.976Z"
   },
   {
    "duration": 75,
    "start_time": "2024-09-20T11:19:46.315Z"
   },
   {
    "duration": 6,
    "start_time": "2024-09-20T11:19:46.391Z"
   },
   {
    "duration": 12,
    "start_time": "2024-09-20T11:19:46.398Z"
   },
   {
    "duration": 6,
    "start_time": "2024-09-20T11:19:46.412Z"
   },
   {
    "duration": 8,
    "start_time": "2024-09-20T11:19:46.420Z"
   },
   {
    "duration": 6,
    "start_time": "2024-09-20T11:19:46.429Z"
   },
   {
    "duration": 5,
    "start_time": "2024-09-20T11:19:46.437Z"
   },
   {
    "duration": 18,
    "start_time": "2024-09-20T11:19:46.444Z"
   },
   {
    "duration": 10,
    "start_time": "2024-09-20T11:19:46.464Z"
   },
   {
    "duration": 9,
    "start_time": "2024-09-20T11:19:46.475Z"
   },
   {
    "duration": 14,
    "start_time": "2024-09-20T11:19:46.486Z"
   },
   {
    "duration": 14,
    "start_time": "2024-09-20T11:19:46.502Z"
   },
   {
    "duration": 37,
    "start_time": "2024-09-20T11:19:46.519Z"
   },
   {
    "duration": 11,
    "start_time": "2024-09-20T11:19:46.559Z"
   },
   {
    "duration": 15,
    "start_time": "2024-09-20T11:19:46.572Z"
   },
   {
    "duration": 7,
    "start_time": "2024-09-20T11:19:46.589Z"
   },
   {
    "duration": 19,
    "start_time": "2024-09-20T11:19:46.598Z"
   },
   {
    "duration": 32,
    "start_time": "2024-09-20T11:19:46.619Z"
   },
   {
    "duration": 15,
    "start_time": "2024-09-20T11:19:46.652Z"
   },
   {
    "duration": 7,
    "start_time": "2024-09-20T11:19:46.669Z"
   },
   {
    "duration": 24,
    "start_time": "2024-09-20T11:19:46.677Z"
   },
   {
    "duration": 9,
    "start_time": "2024-09-20T11:19:46.703Z"
   },
   {
    "duration": 5,
    "start_time": "2024-09-20T11:19:46.714Z"
   },
   {
    "duration": 7,
    "start_time": "2024-09-20T11:19:46.720Z"
   },
   {
    "duration": 8,
    "start_time": "2024-09-20T11:19:46.745Z"
   },
   {
    "duration": 17,
    "start_time": "2024-09-20T11:19:46.755Z"
   },
   {
    "duration": 291,
    "start_time": "2024-09-20T11:19:46.774Z"
   },
   {
    "duration": 144,
    "start_time": "2024-09-20T11:19:47.067Z"
   },
   {
    "duration": 9,
    "start_time": "2024-09-20T11:19:47.213Z"
   },
   {
    "duration": 329,
    "start_time": "2024-09-20T11:19:47.229Z"
   },
   {
    "duration": 254,
    "start_time": "2024-09-20T11:19:47.560Z"
   },
   {
    "duration": 246,
    "start_time": "2024-09-20T11:19:47.815Z"
   },
   {
    "duration": 302,
    "start_time": "2024-09-20T11:19:48.063Z"
   },
   {
    "duration": 27,
    "start_time": "2024-09-20T11:19:48.367Z"
   },
   {
    "duration": 9,
    "start_time": "2024-09-20T11:19:48.396Z"
   },
   {
    "duration": 554,
    "start_time": "2024-09-20T11:19:48.407Z"
   },
   {
    "duration": 623,
    "start_time": "2024-09-20T11:19:48.963Z"
   },
   {
    "duration": 3,
    "start_time": "2024-09-20T11:19:49.588Z"
   },
   {
    "duration": 16,
    "start_time": "2024-09-20T11:19:49.593Z"
   },
   {
    "duration": 28655,
    "start_time": "2024-09-20T11:19:49.613Z"
   },
   {
    "duration": 19,
    "start_time": "2024-09-20T11:20:18.270Z"
   },
   {
    "duration": 70,
    "start_time": "2024-09-20T11:20:18.290Z"
   },
   {
    "duration": 505,
    "start_time": "2024-09-20T11:20:18.362Z"
   },
   {
    "duration": 309,
    "start_time": "2024-09-20T11:20:18.869Z"
   },
   {
    "duration": 345,
    "start_time": "2024-09-20T11:20:19.179Z"
   },
   {
    "duration": 6,
    "start_time": "2024-09-20T11:20:19.526Z"
   },
   {
    "duration": 10,
    "start_time": "2024-09-20T12:14:33.365Z"
   },
   {
    "duration": 1121,
    "start_time": "2024-09-20T12:14:43.104Z"
   },
   {
    "duration": 74,
    "start_time": "2024-09-20T12:14:44.226Z"
   },
   {
    "duration": 6,
    "start_time": "2024-09-20T12:14:44.302Z"
   },
   {
    "duration": 13,
    "start_time": "2024-09-20T12:14:44.309Z"
   },
   {
    "duration": 25,
    "start_time": "2024-09-20T12:14:44.325Z"
   },
   {
    "duration": 26,
    "start_time": "2024-09-20T12:14:44.351Z"
   },
   {
    "duration": 25,
    "start_time": "2024-09-20T12:14:44.379Z"
   },
   {
    "duration": 22,
    "start_time": "2024-09-20T12:14:44.406Z"
   },
   {
    "duration": 32,
    "start_time": "2024-09-20T12:14:44.429Z"
   },
   {
    "duration": 18,
    "start_time": "2024-09-20T12:14:44.463Z"
   },
   {
    "duration": 33,
    "start_time": "2024-09-20T12:14:44.482Z"
   },
   {
    "duration": 17,
    "start_time": "2024-09-20T12:14:44.517Z"
   },
   {
    "duration": 18,
    "start_time": "2024-09-20T12:14:44.535Z"
   },
   {
    "duration": 14,
    "start_time": "2024-09-20T12:14:44.557Z"
   },
   {
    "duration": 19,
    "start_time": "2024-09-20T12:14:44.573Z"
   },
   {
    "duration": 20,
    "start_time": "2024-09-20T12:14:44.594Z"
   },
   {
    "duration": 14,
    "start_time": "2024-09-20T12:14:44.616Z"
   },
   {
    "duration": 16,
    "start_time": "2024-09-20T12:14:44.632Z"
   },
   {
    "duration": 12,
    "start_time": "2024-09-20T12:14:44.650Z"
   },
   {
    "duration": 29,
    "start_time": "2024-09-20T12:14:44.664Z"
   },
   {
    "duration": 11,
    "start_time": "2024-09-20T12:14:44.696Z"
   },
   {
    "duration": 38,
    "start_time": "2024-09-20T12:14:44.709Z"
   },
   {
    "duration": 22,
    "start_time": "2024-09-20T12:14:44.749Z"
   },
   {
    "duration": 18,
    "start_time": "2024-09-20T12:14:44.772Z"
   },
   {
    "duration": 11,
    "start_time": "2024-09-20T12:14:44.792Z"
   },
   {
    "duration": 21,
    "start_time": "2024-09-20T12:14:44.805Z"
   },
   {
    "duration": 21,
    "start_time": "2024-09-20T12:14:44.828Z"
   },
   {
    "duration": 244,
    "start_time": "2024-09-20T12:14:44.851Z"
   },
   {
    "duration": 143,
    "start_time": "2024-09-20T12:14:45.097Z"
   },
   {
    "duration": 9,
    "start_time": "2024-09-20T12:14:45.245Z"
   },
   {
    "duration": 342,
    "start_time": "2024-09-20T12:14:45.256Z"
   },
   {
    "duration": 236,
    "start_time": "2024-09-20T12:14:45.600Z"
   },
   {
    "duration": 244,
    "start_time": "2024-09-20T12:14:45.838Z"
   },
   {
    "duration": 281,
    "start_time": "2024-09-20T12:14:46.084Z"
   },
   {
    "duration": 28,
    "start_time": "2024-09-20T12:14:46.366Z"
   },
   {
    "duration": 10,
    "start_time": "2024-09-20T12:14:46.395Z"
   },
   {
    "duration": 553,
    "start_time": "2024-09-20T12:14:46.407Z"
   },
   {
    "duration": 577,
    "start_time": "2024-09-20T12:14:46.962Z"
   },
   {
    "duration": 3,
    "start_time": "2024-09-20T12:14:47.546Z"
   },
   {
    "duration": 53,
    "start_time": "2024-09-20T12:14:47.551Z"
   },
   {
    "duration": 43446,
    "start_time": "2024-09-20T12:14:47.609Z"
   },
   {
    "duration": 20,
    "start_time": "2024-09-20T12:15:31.056Z"
   },
   {
    "duration": 50,
    "start_time": "2024-09-20T12:15:31.078Z"
   },
   {
    "duration": 424,
    "start_time": "2024-09-20T12:15:31.131Z"
   },
   {
    "duration": 304,
    "start_time": "2024-09-20T12:15:31.556Z"
   },
   {
    "duration": 310,
    "start_time": "2024-09-20T12:15:31.862Z"
   },
   {
    "duration": 6,
    "start_time": "2024-09-20T12:15:32.174Z"
   },
   {
    "duration": 5,
    "start_time": "2024-09-20T12:16:40.201Z"
   },
   {
    "duration": 666,
    "start_time": "2024-09-20T12:16:42.156Z"
   },
   {
    "duration": 8,
    "start_time": "2024-09-20T12:18:06.146Z"
   },
   {
    "duration": 28593,
    "start_time": "2024-09-20T12:18:07.537Z"
   },
   {
    "duration": 6,
    "start_time": "2024-09-20T12:19:48.427Z"
   },
   {
    "duration": 29046,
    "start_time": "2024-09-20T12:19:48.761Z"
   },
   {
    "duration": 80,
    "start_time": "2024-09-20T12:23:11.112Z"
   },
   {
    "duration": 9,
    "start_time": "2024-09-20T12:24:01.852Z"
   },
   {
    "duration": 4,
    "start_time": "2024-09-20T12:24:05.579Z"
   },
   {
    "duration": 4,
    "start_time": "2024-09-20T12:24:15.751Z"
   },
   {
    "duration": 9,
    "start_time": "2024-09-20T12:24:58.831Z"
   },
   {
    "duration": 5,
    "start_time": "2024-09-20T12:25:27.718Z"
   },
   {
    "duration": 4,
    "start_time": "2024-09-20T12:25:36.814Z"
   },
   {
    "duration": 5,
    "start_time": "2024-09-20T12:25:40.673Z"
   },
   {
    "duration": 6,
    "start_time": "2024-09-20T12:25:42.688Z"
   },
   {
    "duration": 4,
    "start_time": "2024-09-20T12:25:47.743Z"
   },
   {
    "duration": 8,
    "start_time": "2024-09-20T12:26:00.346Z"
   },
   {
    "duration": 9,
    "start_time": "2024-09-20T12:26:18.355Z"
   },
   {
    "duration": 10,
    "start_time": "2024-09-20T12:26:26.308Z"
   },
   {
    "duration": 9,
    "start_time": "2024-09-20T12:26:29.267Z"
   },
   {
    "duration": 5,
    "start_time": "2024-09-20T12:26:44.148Z"
   },
   {
    "duration": 29054,
    "start_time": "2024-09-20T12:27:11.647Z"
   },
   {
    "duration": 78,
    "start_time": "2024-09-20T12:34:01.929Z"
   },
   {
    "duration": 87,
    "start_time": "2024-09-20T12:34:32.269Z"
   },
   {
    "duration": 1160,
    "start_time": "2024-09-20T12:34:59.769Z"
   },
   {
    "duration": 74,
    "start_time": "2024-09-20T12:35:00.931Z"
   },
   {
    "duration": 6,
    "start_time": "2024-09-20T12:35:01.006Z"
   },
   {
    "duration": 69,
    "start_time": "2024-09-20T12:35:01.014Z"
   },
   {
    "duration": 71,
    "start_time": "2024-09-20T12:35:01.086Z"
   },
   {
    "duration": 31,
    "start_time": "2024-09-20T12:35:01.158Z"
   },
   {
    "duration": 62,
    "start_time": "2024-09-20T12:35:01.190Z"
   },
   {
    "duration": 94,
    "start_time": "2024-09-20T12:35:01.254Z"
   },
   {
    "duration": 48,
    "start_time": "2024-09-20T12:35:01.350Z"
   },
   {
    "duration": 73,
    "start_time": "2024-09-20T12:35:01.400Z"
   },
   {
    "duration": 33,
    "start_time": "2024-09-20T12:35:01.475Z"
   },
   {
    "duration": 81,
    "start_time": "2024-09-20T12:35:01.509Z"
   },
   {
    "duration": 67,
    "start_time": "2024-09-20T12:35:01.592Z"
   },
   {
    "duration": 46,
    "start_time": "2024-09-20T12:35:01.662Z"
   },
   {
    "duration": 56,
    "start_time": "2024-09-20T12:35:01.710Z"
   },
   {
    "duration": 32,
    "start_time": "2024-09-20T12:35:01.768Z"
   },
   {
    "duration": 35,
    "start_time": "2024-09-20T12:35:01.801Z"
   },
   {
    "duration": 78,
    "start_time": "2024-09-20T12:35:01.837Z"
   },
   {
    "duration": 74,
    "start_time": "2024-09-20T12:35:01.917Z"
   },
   {
    "duration": 39,
    "start_time": "2024-09-20T12:35:01.992Z"
   },
   {
    "duration": 49,
    "start_time": "2024-09-20T12:35:02.032Z"
   },
   {
    "duration": 18,
    "start_time": "2024-09-20T12:35:02.082Z"
   },
   {
    "duration": 27,
    "start_time": "2024-09-20T12:35:02.102Z"
   },
   {
    "duration": 51,
    "start_time": "2024-09-20T12:35:02.131Z"
   },
   {
    "duration": 33,
    "start_time": "2024-09-20T12:35:02.183Z"
   },
   {
    "duration": 78,
    "start_time": "2024-09-20T12:35:02.218Z"
   },
   {
    "duration": 20,
    "start_time": "2024-09-20T12:35:02.298Z"
   },
   {
    "duration": 276,
    "start_time": "2024-09-20T12:35:02.319Z"
   },
   {
    "duration": 144,
    "start_time": "2024-09-20T12:35:02.597Z"
   },
   {
    "duration": 10,
    "start_time": "2024-09-20T12:35:02.746Z"
   },
   {
    "duration": 358,
    "start_time": "2024-09-20T12:35:02.758Z"
   },
   {
    "duration": 255,
    "start_time": "2024-09-20T12:35:03.118Z"
   },
   {
    "duration": 234,
    "start_time": "2024-09-20T12:35:03.375Z"
   },
   {
    "duration": 273,
    "start_time": "2024-09-20T12:35:03.610Z"
   },
   {
    "duration": 26,
    "start_time": "2024-09-20T12:35:03.885Z"
   },
   {
    "duration": 17,
    "start_time": "2024-09-20T12:35:03.912Z"
   },
   {
    "duration": 475,
    "start_time": "2024-09-20T12:35:03.931Z"
   },
   {
    "duration": 610,
    "start_time": "2024-09-20T12:35:04.407Z"
   },
   {
    "duration": 2,
    "start_time": "2024-09-20T12:35:05.019Z"
   },
   {
    "duration": 78,
    "start_time": "2024-09-20T12:35:05.023Z"
   },
   {
    "duration": 0,
    "start_time": "2024-09-20T12:35:05.103Z"
   },
   {
    "duration": 0,
    "start_time": "2024-09-20T12:35:05.104Z"
   },
   {
    "duration": 0,
    "start_time": "2024-09-20T12:35:05.106Z"
   },
   {
    "duration": 0,
    "start_time": "2024-09-20T12:35:05.107Z"
   },
   {
    "duration": 0,
    "start_time": "2024-09-20T12:35:05.108Z"
   },
   {
    "duration": 0,
    "start_time": "2024-09-20T12:35:05.109Z"
   },
   {
    "duration": 0,
    "start_time": "2024-09-20T12:35:05.110Z"
   },
   {
    "duration": 6,
    "start_time": "2024-09-20T12:35:43.528Z"
   },
   {
    "duration": 6,
    "start_time": "2024-09-20T12:36:04.908Z"
   },
   {
    "duration": 44156,
    "start_time": "2024-09-20T12:36:05.640Z"
   },
   {
    "duration": 43946,
    "start_time": "2024-09-20T12:36:57.003Z"
   },
   {
    "duration": 5,
    "start_time": "2024-09-20T12:43:42.323Z"
   },
   {
    "duration": 28612,
    "start_time": "2024-09-20T12:43:43.172Z"
   },
   {
    "duration": 1196,
    "start_time": "2024-09-20T12:46:44.240Z"
   },
   {
    "duration": 73,
    "start_time": "2024-09-20T12:46:45.438Z"
   },
   {
    "duration": 5,
    "start_time": "2024-09-20T12:46:45.512Z"
   },
   {
    "duration": 63,
    "start_time": "2024-09-20T12:46:45.519Z"
   },
   {
    "duration": 110,
    "start_time": "2024-09-20T12:46:45.584Z"
   },
   {
    "duration": 7,
    "start_time": "2024-09-20T12:46:45.696Z"
   },
   {
    "duration": 10,
    "start_time": "2024-09-20T12:46:45.704Z"
   },
   {
    "duration": 34,
    "start_time": "2024-09-20T12:46:45.716Z"
   },
   {
    "duration": 23,
    "start_time": "2024-09-20T12:46:45.751Z"
   },
   {
    "duration": 22,
    "start_time": "2024-09-20T12:46:45.775Z"
   },
   {
    "duration": 15,
    "start_time": "2024-09-20T12:46:45.799Z"
   },
   {
    "duration": 22,
    "start_time": "2024-09-20T12:46:45.815Z"
   },
   {
    "duration": 29,
    "start_time": "2024-09-20T12:46:45.839Z"
   },
   {
    "duration": 20,
    "start_time": "2024-09-20T12:46:45.871Z"
   },
   {
    "duration": 8,
    "start_time": "2024-09-20T12:46:45.893Z"
   },
   {
    "duration": 42,
    "start_time": "2024-09-20T12:46:45.902Z"
   },
   {
    "duration": 7,
    "start_time": "2024-09-20T12:46:45.945Z"
   },
   {
    "duration": 11,
    "start_time": "2024-09-20T12:46:45.953Z"
   },
   {
    "duration": 7,
    "start_time": "2024-09-20T12:46:45.966Z"
   },
   {
    "duration": 8,
    "start_time": "2024-09-20T12:46:45.974Z"
   },
   {
    "duration": 6,
    "start_time": "2024-09-20T12:46:45.984Z"
   },
   {
    "duration": 6,
    "start_time": "2024-09-20T12:46:45.991Z"
   },
   {
    "duration": 8,
    "start_time": "2024-09-20T12:46:45.999Z"
   },
   {
    "duration": 38,
    "start_time": "2024-09-20T12:46:46.008Z"
   },
   {
    "duration": 46,
    "start_time": "2024-09-20T12:46:46.048Z"
   },
   {
    "duration": 16,
    "start_time": "2024-09-20T12:46:46.096Z"
   },
   {
    "duration": 5,
    "start_time": "2024-09-20T12:46:46.114Z"
   },
   {
    "duration": 228,
    "start_time": "2024-09-20T12:46:46.121Z"
   },
   {
    "duration": 139,
    "start_time": "2024-09-20T12:46:46.351Z"
   },
   {
    "duration": 10,
    "start_time": "2024-09-20T12:46:46.492Z"
   },
   {
    "duration": 350,
    "start_time": "2024-09-20T12:46:46.503Z"
   },
   {
    "duration": 275,
    "start_time": "2024-09-20T12:46:46.855Z"
   },
   {
    "duration": 242,
    "start_time": "2024-09-20T12:46:47.132Z"
   },
   {
    "duration": 272,
    "start_time": "2024-09-20T12:46:47.376Z"
   },
   {
    "duration": 27,
    "start_time": "2024-09-20T12:46:47.649Z"
   },
   {
    "duration": 10,
    "start_time": "2024-09-20T12:46:47.678Z"
   },
   {
    "duration": 469,
    "start_time": "2024-09-20T12:46:47.690Z"
   },
   {
    "duration": 628,
    "start_time": "2024-09-20T12:46:48.160Z"
   },
   {
    "duration": 2,
    "start_time": "2024-09-20T12:46:48.790Z"
   },
   {
    "duration": 25,
    "start_time": "2024-09-20T12:46:48.794Z"
   },
   {
    "duration": 28209,
    "start_time": "2024-09-20T12:46:48.824Z"
   },
   {
    "duration": 24,
    "start_time": "2024-09-20T12:47:17.035Z"
   },
   {
    "duration": 37,
    "start_time": "2024-09-20T12:47:17.061Z"
   },
   {
    "duration": 379,
    "start_time": "2024-09-20T12:47:17.100Z"
   },
   {
    "duration": 296,
    "start_time": "2024-09-20T12:47:17.481Z"
   },
   {
    "duration": 314,
    "start_time": "2024-09-20T12:47:17.778Z"
   },
   {
    "duration": 6,
    "start_time": "2024-09-20T12:47:18.093Z"
   },
   {
    "duration": 6,
    "start_time": "2024-09-20T12:47:44.273Z"
   },
   {
    "duration": 6,
    "start_time": "2024-09-20T12:47:47.822Z"
   },
   {
    "duration": 6,
    "start_time": "2024-09-20T12:48:10.095Z"
   },
   {
    "duration": 1316,
    "start_time": "2024-09-21T04:07:54.167Z"
   },
   {
    "duration": 367,
    "start_time": "2024-09-21T04:07:55.485Z"
   },
   {
    "duration": 7,
    "start_time": "2024-09-21T04:07:55.853Z"
   },
   {
    "duration": 6,
    "start_time": "2024-09-21T04:07:55.862Z"
   },
   {
    "duration": 4,
    "start_time": "2024-09-21T04:07:55.870Z"
   },
   {
    "duration": 33,
    "start_time": "2024-09-21T04:07:55.876Z"
   },
   {
    "duration": 9,
    "start_time": "2024-09-21T04:07:55.911Z"
   },
   {
    "duration": 4,
    "start_time": "2024-09-21T04:07:55.921Z"
   },
   {
    "duration": 11,
    "start_time": "2024-09-21T04:07:55.927Z"
   },
   {
    "duration": 10,
    "start_time": "2024-09-21T04:07:55.939Z"
   },
   {
    "duration": 7,
    "start_time": "2024-09-21T04:07:55.950Z"
   },
   {
    "duration": 18,
    "start_time": "2024-09-21T04:07:55.958Z"
   },
   {
    "duration": 27,
    "start_time": "2024-09-21T04:07:55.978Z"
   },
   {
    "duration": 9,
    "start_time": "2024-09-21T04:07:56.009Z"
   },
   {
    "duration": 6,
    "start_time": "2024-09-21T04:07:56.020Z"
   },
   {
    "duration": 8,
    "start_time": "2024-09-21T04:07:56.027Z"
   },
   {
    "duration": 6,
    "start_time": "2024-09-21T04:07:56.036Z"
   },
   {
    "duration": 11,
    "start_time": "2024-09-21T04:07:56.043Z"
   },
   {
    "duration": 3,
    "start_time": "2024-09-21T04:07:56.056Z"
   },
   {
    "duration": 101,
    "start_time": "2024-09-21T04:07:56.098Z"
   },
   {
    "duration": 0,
    "start_time": "2024-09-21T04:07:56.200Z"
   },
   {
    "duration": 0,
    "start_time": "2024-09-21T04:07:56.202Z"
   },
   {
    "duration": 0,
    "start_time": "2024-09-21T04:07:56.203Z"
   },
   {
    "duration": 0,
    "start_time": "2024-09-21T04:07:56.204Z"
   },
   {
    "duration": 0,
    "start_time": "2024-09-21T04:07:56.205Z"
   },
   {
    "duration": 0,
    "start_time": "2024-09-21T04:07:56.206Z"
   },
   {
    "duration": 0,
    "start_time": "2024-09-21T04:07:56.207Z"
   },
   {
    "duration": 0,
    "start_time": "2024-09-21T04:07:56.208Z"
   },
   {
    "duration": 0,
    "start_time": "2024-09-21T04:07:56.209Z"
   },
   {
    "duration": 0,
    "start_time": "2024-09-21T04:07:56.210Z"
   },
   {
    "duration": 0,
    "start_time": "2024-09-21T04:07:56.211Z"
   },
   {
    "duration": 0,
    "start_time": "2024-09-21T04:07:56.212Z"
   },
   {
    "duration": 0,
    "start_time": "2024-09-21T04:07:56.213Z"
   },
   {
    "duration": 0,
    "start_time": "2024-09-21T04:07:56.214Z"
   },
   {
    "duration": 0,
    "start_time": "2024-09-21T04:07:56.215Z"
   },
   {
    "duration": 0,
    "start_time": "2024-09-21T04:07:56.216Z"
   },
   {
    "duration": 0,
    "start_time": "2024-09-21T04:07:56.218Z"
   },
   {
    "duration": 0,
    "start_time": "2024-09-21T04:07:56.218Z"
   },
   {
    "duration": 0,
    "start_time": "2024-09-21T04:07:56.220Z"
   },
   {
    "duration": 0,
    "start_time": "2024-09-21T04:07:56.220Z"
   },
   {
    "duration": 0,
    "start_time": "2024-09-21T04:07:56.222Z"
   },
   {
    "duration": 0,
    "start_time": "2024-09-21T04:07:56.223Z"
   },
   {
    "duration": 0,
    "start_time": "2024-09-21T04:07:56.224Z"
   },
   {
    "duration": 0,
    "start_time": "2024-09-21T04:07:56.225Z"
   },
   {
    "duration": 0,
    "start_time": "2024-09-21T04:07:56.226Z"
   },
   {
    "duration": 0,
    "start_time": "2024-09-21T04:07:56.227Z"
   },
   {
    "duration": 0,
    "start_time": "2024-09-21T04:07:56.228Z"
   },
   {
    "duration": 0,
    "start_time": "2024-09-21T04:07:56.229Z"
   },
   {
    "duration": 0,
    "start_time": "2024-09-21T04:07:56.230Z"
   },
   {
    "duration": 7,
    "start_time": "2024-09-21T04:08:22.316Z"
   },
   {
    "duration": 3,
    "start_time": "2024-09-21T04:08:34.767Z"
   },
   {
    "duration": 8,
    "start_time": "2024-09-21T04:08:35.656Z"
   },
   {
    "duration": 3,
    "start_time": "2024-09-21T04:08:52.365Z"
   },
   {
    "duration": 7,
    "start_time": "2024-09-21T04:08:53.214Z"
   },
   {
    "duration": 2,
    "start_time": "2024-09-21T04:08:58.710Z"
   },
   {
    "duration": 7,
    "start_time": "2024-09-21T04:08:59.330Z"
   },
   {
    "duration": 6,
    "start_time": "2024-09-21T04:09:02.789Z"
   },
   {
    "duration": 6,
    "start_time": "2024-09-21T04:09:02.969Z"
   },
   {
    "duration": 5,
    "start_time": "2024-09-21T04:09:03.145Z"
   },
   {
    "duration": 5,
    "start_time": "2024-09-21T04:09:03.333Z"
   },
   {
    "duration": 9,
    "start_time": "2024-09-21T04:09:05.386Z"
   },
   {
    "duration": 6,
    "start_time": "2024-09-21T04:09:05.734Z"
   },
   {
    "duration": 59,
    "start_time": "2024-09-21T04:09:25.883Z"
   },
   {
    "duration": 3,
    "start_time": "2024-09-21T04:09:36.515Z"
   },
   {
    "duration": 7,
    "start_time": "2024-09-21T04:09:36.945Z"
   },
   {
    "duration": 61,
    "start_time": "2024-09-21T04:09:42.100Z"
   },
   {
    "duration": 3,
    "start_time": "2024-09-21T04:09:53.895Z"
   },
   {
    "duration": 6,
    "start_time": "2024-09-21T04:09:54.316Z"
   },
   {
    "duration": 3,
    "start_time": "2024-09-21T04:09:59.726Z"
   },
   {
    "duration": 7,
    "start_time": "2024-09-21T04:09:59.997Z"
   },
   {
    "duration": 8,
    "start_time": "2024-09-21T04:10:21.378Z"
   },
   {
    "duration": 7,
    "start_time": "2024-09-21T04:10:21.673Z"
   },
   {
    "duration": 3,
    "start_time": "2024-09-21T04:10:31.306Z"
   },
   {
    "duration": 7,
    "start_time": "2024-09-21T04:10:31.645Z"
   },
   {
    "duration": 9,
    "start_time": "2024-09-21T04:10:32.084Z"
   },
   {
    "duration": 6,
    "start_time": "2024-09-21T04:10:32.522Z"
   },
   {
    "duration": 5,
    "start_time": "2024-09-21T04:10:44.535Z"
   },
   {
    "duration": 6,
    "start_time": "2024-09-21T04:10:44.987Z"
   },
   {
    "duration": 4,
    "start_time": "2024-09-21T04:11:21.890Z"
   },
   {
    "duration": 211,
    "start_time": "2024-09-21T04:11:23.150Z"
   },
   {
    "duration": 6,
    "start_time": "2024-09-21T04:11:38.754Z"
   },
   {
    "duration": 127,
    "start_time": "2024-09-21T04:11:49.552Z"
   },
   {
    "duration": 234,
    "start_time": "2024-09-21T04:13:47.769Z"
   },
   {
    "duration": 206,
    "start_time": "2024-09-21T04:14:02.384Z"
   },
   {
    "duration": 10,
    "start_time": "2024-09-21T04:15:03.692Z"
   },
   {
    "duration": 17,
    "start_time": "2024-09-21T04:15:08.543Z"
   },
   {
    "duration": 83,
    "start_time": "2024-09-21T04:15:31.853Z"
   },
   {
    "duration": 102,
    "start_time": "2024-09-21T04:16:17.469Z"
   },
   {
    "duration": 87,
    "start_time": "2024-09-21T04:16:20.522Z"
   },
   {
    "duration": 95,
    "start_time": "2024-09-21T04:17:09.702Z"
   },
   {
    "duration": 8,
    "start_time": "2024-09-21T04:17:11.228Z"
   },
   {
    "duration": 302,
    "start_time": "2024-09-21T04:17:12.861Z"
   },
   {
    "duration": 316,
    "start_time": "2024-09-21T04:20:28.120Z"
   },
   {
    "duration": 229,
    "start_time": "2024-09-21T04:25:30.085Z"
   },
   {
    "duration": 264,
    "start_time": "2024-09-21T04:26:11.543Z"
   },
   {
    "duration": 27,
    "start_time": "2024-09-21T04:29:13.789Z"
   },
   {
    "duration": 230,
    "start_time": "2024-09-21T04:29:35.138Z"
   },
   {
    "duration": 267,
    "start_time": "2024-09-21T04:29:38.430Z"
   },
   {
    "duration": 24,
    "start_time": "2024-09-21T04:29:41.498Z"
   },
   {
    "duration": 19,
    "start_time": "2024-09-21T04:30:10.732Z"
   },
   {
    "duration": 9,
    "start_time": "2024-09-21T04:30:24.291Z"
   },
   {
    "duration": 447,
    "start_time": "2024-09-21T04:30:25.004Z"
   },
   {
    "duration": 298,
    "start_time": "2024-09-21T04:31:10.723Z"
   },
   {
    "duration": 304,
    "start_time": "2024-09-21T04:31:23.192Z"
   },
   {
    "duration": 562,
    "start_time": "2024-09-21T04:31:49.758Z"
   },
   {
    "duration": 1201,
    "start_time": "2024-09-21T13:51:46.514Z"
   },
   {
    "duration": 284,
    "start_time": "2024-09-21T13:51:47.717Z"
   },
   {
    "duration": 7,
    "start_time": "2024-09-21T13:51:48.003Z"
   },
   {
    "duration": 7,
    "start_time": "2024-09-21T13:51:48.012Z"
   },
   {
    "duration": 14,
    "start_time": "2024-09-21T13:51:48.020Z"
   },
   {
    "duration": 7,
    "start_time": "2024-09-21T13:51:48.035Z"
   },
   {
    "duration": 11,
    "start_time": "2024-09-21T13:51:48.044Z"
   },
   {
    "duration": 8,
    "start_time": "2024-09-21T13:51:48.056Z"
   },
   {
    "duration": 20,
    "start_time": "2024-09-21T13:51:48.066Z"
   },
   {
    "duration": 15,
    "start_time": "2024-09-21T13:51:48.089Z"
   },
   {
    "duration": 14,
    "start_time": "2024-09-21T13:51:48.107Z"
   },
   {
    "duration": 41,
    "start_time": "2024-09-21T13:51:48.122Z"
   },
   {
    "duration": 14,
    "start_time": "2024-09-21T13:51:48.165Z"
   },
   {
    "duration": 16,
    "start_time": "2024-09-21T13:51:48.180Z"
   },
   {
    "duration": 15,
    "start_time": "2024-09-21T13:51:48.197Z"
   },
   {
    "duration": 20,
    "start_time": "2024-09-21T13:51:48.213Z"
   },
   {
    "duration": 26,
    "start_time": "2024-09-21T13:51:48.235Z"
   },
   {
    "duration": 12,
    "start_time": "2024-09-21T13:51:48.264Z"
   },
   {
    "duration": 3,
    "start_time": "2024-09-21T13:51:48.278Z"
   },
   {
    "duration": 18,
    "start_time": "2024-09-21T13:51:48.283Z"
   },
   {
    "duration": 11,
    "start_time": "2024-09-21T13:51:48.303Z"
   },
   {
    "duration": 5,
    "start_time": "2024-09-21T13:51:48.316Z"
   },
   {
    "duration": 9,
    "start_time": "2024-09-21T13:51:48.323Z"
   },
   {
    "duration": 46,
    "start_time": "2024-09-21T13:51:48.333Z"
   },
   {
    "duration": 15,
    "start_time": "2024-09-21T13:51:48.381Z"
   },
   {
    "duration": 70,
    "start_time": "2024-09-21T13:51:48.397Z"
   },
   {
    "duration": 123,
    "start_time": "2024-09-21T13:51:48.468Z"
   },
   {
    "duration": 12,
    "start_time": "2024-09-21T13:51:48.595Z"
   },
   {
    "duration": 286,
    "start_time": "2024-09-21T13:51:48.609Z"
   },
   {
    "duration": 198,
    "start_time": "2024-09-21T13:51:48.896Z"
   },
   {
    "duration": 241,
    "start_time": "2024-09-21T13:51:49.095Z"
   },
   {
    "duration": 31,
    "start_time": "2024-09-21T13:51:49.338Z"
   },
   {
    "duration": 155,
    "start_time": "2024-09-21T13:51:49.370Z"
   },
   {
    "duration": 44,
    "start_time": "2024-09-21T13:51:49.527Z"
   },
   {
    "duration": 388,
    "start_time": "2024-09-21T13:51:49.572Z"
   },
   {
    "duration": 484,
    "start_time": "2024-09-21T13:51:49.962Z"
   },
   {
    "duration": 3,
    "start_time": "2024-09-21T13:51:50.447Z"
   },
   {
    "duration": 14,
    "start_time": "2024-09-21T13:51:50.452Z"
   },
   {
    "duration": 21099,
    "start_time": "2024-09-21T13:51:50.467Z"
   },
   {
    "duration": 15,
    "start_time": "2024-09-21T13:52:11.567Z"
   },
   {
    "duration": 60,
    "start_time": "2024-09-21T13:52:11.584Z"
   },
   {
    "duration": 337,
    "start_time": "2024-09-21T13:52:11.646Z"
   },
   {
    "duration": 286,
    "start_time": "2024-09-21T13:52:11.985Z"
   },
   {
    "duration": 245,
    "start_time": "2024-09-21T13:52:12.273Z"
   },
   {
    "duration": 7,
    "start_time": "2024-09-21T13:52:12.520Z"
   },
   {
    "duration": 432,
    "start_time": "2024-09-21T14:17:24.005Z"
   },
   {
    "duration": 198,
    "start_time": "2024-09-21T14:17:29.391Z"
   },
   {
    "duration": 139,
    "start_time": "2024-09-21T14:17:56.175Z"
   },
   {
    "duration": 155,
    "start_time": "2024-09-21T14:18:44.847Z"
   },
   {
    "duration": 525,
    "start_time": "2024-09-21T14:19:31.079Z"
   },
   {
    "duration": 153,
    "start_time": "2024-09-21T14:19:37.369Z"
   },
   {
    "duration": 195,
    "start_time": "2024-09-21T14:19:54.437Z"
   },
   {
    "duration": 94,
    "start_time": "2024-09-21T14:20:10.563Z"
   },
   {
    "duration": 276,
    "start_time": "2024-09-21T14:20:24.480Z"
   },
   {
    "duration": 217,
    "start_time": "2024-09-21T14:20:35.584Z"
   },
   {
    "duration": 183,
    "start_time": "2024-09-21T14:20:49.897Z"
   },
   {
    "duration": 192,
    "start_time": "2024-09-21T14:21:26.667Z"
   },
   {
    "duration": 364,
    "start_time": "2024-09-21T14:22:17.921Z"
   },
   {
    "duration": 187,
    "start_time": "2024-09-21T14:22:28.240Z"
   },
   {
    "duration": 224,
    "start_time": "2024-09-21T14:22:43.101Z"
   },
   {
    "duration": 189,
    "start_time": "2024-09-21T14:22:50.648Z"
   },
   {
    "duration": 188,
    "start_time": "2024-09-21T14:24:05.898Z"
   },
   {
    "duration": 192,
    "start_time": "2024-09-21T14:24:13.025Z"
   },
   {
    "duration": 214,
    "start_time": "2024-09-21T14:24:16.438Z"
   },
   {
    "duration": 185,
    "start_time": "2024-09-21T14:24:21.552Z"
   },
   {
    "duration": 251,
    "start_time": "2024-09-21T14:24:32.242Z"
   },
   {
    "duration": 199,
    "start_time": "2024-09-21T14:24:36.362Z"
   },
   {
    "duration": 198,
    "start_time": "2024-09-21T14:24:40.449Z"
   },
   {
    "duration": 192,
    "start_time": "2024-09-21T14:25:45.702Z"
   },
   {
    "duration": 202,
    "start_time": "2024-09-21T14:27:23.478Z"
   },
   {
    "duration": 211,
    "start_time": "2024-09-21T14:27:39.635Z"
   },
   {
    "duration": 237,
    "start_time": "2024-09-21T14:27:42.488Z"
   },
   {
    "duration": 201,
    "start_time": "2024-09-21T14:28:33.504Z"
   },
   {
    "duration": 208,
    "start_time": "2024-09-21T14:28:40.249Z"
   },
   {
    "duration": 144,
    "start_time": "2024-09-21T14:48:53.088Z"
   },
   {
    "duration": 10,
    "start_time": "2024-09-21T14:51:13.815Z"
   },
   {
    "duration": 4,
    "start_time": "2024-09-21T14:51:35.518Z"
   },
   {
    "duration": 4,
    "start_time": "2024-09-21T14:51:39.688Z"
   },
   {
    "duration": 4,
    "start_time": "2024-09-21T14:51:49.475Z"
   },
   {
    "duration": 5,
    "start_time": "2024-09-21T14:51:58.783Z"
   },
   {
    "duration": 8,
    "start_time": "2024-09-21T14:55:14.554Z"
   },
   {
    "duration": 4,
    "start_time": "2024-09-21T14:55:26.586Z"
   },
   {
    "duration": 8,
    "start_time": "2024-09-21T14:55:39.897Z"
   },
   {
    "duration": 5,
    "start_time": "2024-09-21T14:55:43.666Z"
   },
   {
    "duration": 5,
    "start_time": "2024-09-21T14:56:44.626Z"
   },
   {
    "duration": 4,
    "start_time": "2024-09-21T14:56:50.751Z"
   },
   {
    "duration": 5,
    "start_time": "2024-09-21T14:56:55.802Z"
   },
   {
    "duration": 970,
    "start_time": "2024-09-21T15:02:16.735Z"
   },
   {
    "duration": 63,
    "start_time": "2024-09-21T15:02:17.707Z"
   },
   {
    "duration": 4,
    "start_time": "2024-09-21T15:02:17.772Z"
   },
   {
    "duration": 95,
    "start_time": "2024-09-21T15:02:17.777Z"
   },
   {
    "duration": 9,
    "start_time": "2024-09-21T15:02:17.874Z"
   },
   {
    "duration": 19,
    "start_time": "2024-09-21T15:02:17.884Z"
   },
   {
    "duration": 12,
    "start_time": "2024-09-21T15:02:17.904Z"
   },
   {
    "duration": 20,
    "start_time": "2024-09-21T15:02:17.917Z"
   },
   {
    "duration": 22,
    "start_time": "2024-09-21T15:02:17.939Z"
   },
   {
    "duration": 8,
    "start_time": "2024-09-21T15:02:17.962Z"
   },
   {
    "duration": 12,
    "start_time": "2024-09-21T15:02:17.971Z"
   },
   {
    "duration": 18,
    "start_time": "2024-09-21T15:02:17.984Z"
   },
   {
    "duration": 18,
    "start_time": "2024-09-21T15:02:18.003Z"
   },
   {
    "duration": 23,
    "start_time": "2024-09-21T15:02:18.023Z"
   },
   {
    "duration": 14,
    "start_time": "2024-09-21T15:02:18.048Z"
   },
   {
    "duration": 23,
    "start_time": "2024-09-21T15:02:18.063Z"
   },
   {
    "duration": 17,
    "start_time": "2024-09-21T15:02:18.087Z"
   },
   {
    "duration": 19,
    "start_time": "2024-09-21T15:02:18.105Z"
   },
   {
    "duration": 3,
    "start_time": "2024-09-21T15:02:18.125Z"
   },
   {
    "duration": 10,
    "start_time": "2024-09-21T15:02:18.129Z"
   },
   {
    "duration": 8,
    "start_time": "2024-09-21T15:02:18.141Z"
   },
   {
    "duration": 8,
    "start_time": "2024-09-21T15:02:18.151Z"
   },
   {
    "duration": 12,
    "start_time": "2024-09-21T15:02:18.161Z"
   },
   {
    "duration": 10,
    "start_time": "2024-09-21T15:02:18.174Z"
   },
   {
    "duration": 19,
    "start_time": "2024-09-21T15:02:18.185Z"
   },
   {
    "duration": 20,
    "start_time": "2024-09-21T15:02:18.205Z"
   },
   {
    "duration": 99,
    "start_time": "2024-09-21T15:02:18.226Z"
   },
   {
    "duration": 7,
    "start_time": "2024-09-21T15:02:18.326Z"
   },
   {
    "duration": 253,
    "start_time": "2024-09-21T15:02:18.335Z"
   },
   {
    "duration": 188,
    "start_time": "2024-09-21T15:02:18.589Z"
   },
   {
    "duration": 225,
    "start_time": "2024-09-21T15:02:18.779Z"
   },
   {
    "duration": 20,
    "start_time": "2024-09-21T15:02:19.007Z"
   },
   {
    "duration": 78,
    "start_time": "2024-09-21T15:02:19.029Z"
   },
   {
    "duration": 6,
    "start_time": "2024-09-21T15:02:19.109Z"
   },
   {
    "duration": 93,
    "start_time": "2024-09-21T15:02:19.117Z"
   },
   {
    "duration": 0,
    "start_time": "2024-09-21T15:02:19.211Z"
   },
   {
    "duration": 0,
    "start_time": "2024-09-21T15:02:19.212Z"
   },
   {
    "duration": 0,
    "start_time": "2024-09-21T15:02:19.213Z"
   },
   {
    "duration": 0,
    "start_time": "2024-09-21T15:02:19.214Z"
   },
   {
    "duration": 0,
    "start_time": "2024-09-21T15:02:19.215Z"
   },
   {
    "duration": 0,
    "start_time": "2024-09-21T15:02:19.216Z"
   },
   {
    "duration": 0,
    "start_time": "2024-09-21T15:02:19.217Z"
   },
   {
    "duration": 0,
    "start_time": "2024-09-21T15:02:19.218Z"
   },
   {
    "duration": 940,
    "start_time": "2024-09-21T15:09:05.663Z"
   },
   {
    "duration": 63,
    "start_time": "2024-09-21T15:09:06.607Z"
   },
   {
    "duration": 6,
    "start_time": "2024-09-21T15:09:06.671Z"
   },
   {
    "duration": 27,
    "start_time": "2024-09-21T15:09:06.679Z"
   },
   {
    "duration": 6,
    "start_time": "2024-09-21T15:09:06.709Z"
   },
   {
    "duration": 11,
    "start_time": "2024-09-21T15:09:06.716Z"
   },
   {
    "duration": 18,
    "start_time": "2024-09-21T15:09:06.728Z"
   },
   {
    "duration": 21,
    "start_time": "2024-09-21T15:09:06.748Z"
   },
   {
    "duration": 68,
    "start_time": "2024-09-21T15:09:06.771Z"
   },
   {
    "duration": 11,
    "start_time": "2024-09-21T15:09:06.841Z"
   },
   {
    "duration": 23,
    "start_time": "2024-09-21T15:09:06.853Z"
   },
   {
    "duration": 69,
    "start_time": "2024-09-21T15:09:06.877Z"
   },
   {
    "duration": 24,
    "start_time": "2024-09-21T15:09:06.947Z"
   },
   {
    "duration": 65,
    "start_time": "2024-09-21T15:09:06.974Z"
   },
   {
    "duration": 135,
    "start_time": "2024-09-21T15:09:07.041Z"
   },
   {
    "duration": 21,
    "start_time": "2024-09-21T15:09:07.178Z"
   },
   {
    "duration": 7,
    "start_time": "2024-09-21T15:09:07.200Z"
   },
   {
    "duration": 10,
    "start_time": "2024-09-21T15:09:07.209Z"
   },
   {
    "duration": 4,
    "start_time": "2024-09-21T15:09:07.221Z"
   },
   {
    "duration": 16,
    "start_time": "2024-09-21T15:09:07.227Z"
   },
   {
    "duration": 9,
    "start_time": "2024-09-21T15:09:07.244Z"
   },
   {
    "duration": 12,
    "start_time": "2024-09-21T15:09:07.255Z"
   },
   {
    "duration": 10,
    "start_time": "2024-09-21T15:09:07.268Z"
   },
   {
    "duration": 8,
    "start_time": "2024-09-21T15:09:07.280Z"
   },
   {
    "duration": 17,
    "start_time": "2024-09-21T15:09:07.289Z"
   },
   {
    "duration": 9,
    "start_time": "2024-09-21T15:09:07.307Z"
   },
   {
    "duration": 105,
    "start_time": "2024-09-21T15:09:07.317Z"
   },
   {
    "duration": 7,
    "start_time": "2024-09-21T15:09:07.424Z"
   },
   {
    "duration": 234,
    "start_time": "2024-09-21T15:09:07.432Z"
   },
   {
    "duration": 190,
    "start_time": "2024-09-21T15:09:07.667Z"
   },
   {
    "duration": 222,
    "start_time": "2024-09-21T15:09:07.859Z"
   },
   {
    "duration": 25,
    "start_time": "2024-09-21T15:09:08.083Z"
   },
   {
    "duration": 14,
    "start_time": "2024-09-21T15:09:08.109Z"
   },
   {
    "duration": 21,
    "start_time": "2024-09-21T15:09:08.124Z"
   },
   {
    "duration": 213,
    "start_time": "2024-09-21T15:09:08.146Z"
   },
   {
    "duration": 87,
    "start_time": "2024-09-21T15:09:08.361Z"
   },
   {
    "duration": 0,
    "start_time": "2024-09-21T15:09:08.450Z"
   },
   {
    "duration": 0,
    "start_time": "2024-09-21T15:09:08.451Z"
   },
   {
    "duration": 0,
    "start_time": "2024-09-21T15:09:08.452Z"
   },
   {
    "duration": 0,
    "start_time": "2024-09-21T15:09:08.453Z"
   },
   {
    "duration": 0,
    "start_time": "2024-09-21T15:09:08.455Z"
   },
   {
    "duration": 0,
    "start_time": "2024-09-21T15:09:08.455Z"
   },
   {
    "duration": 221,
    "start_time": "2024-09-21T15:09:48.957Z"
   },
   {
    "duration": 1118,
    "start_time": "2024-09-21T15:10:06.528Z"
   },
   {
    "duration": 65,
    "start_time": "2024-09-21T15:10:07.648Z"
   },
   {
    "duration": 203,
    "start_time": "2024-09-21T15:10:07.714Z"
   },
   {
    "duration": 22,
    "start_time": "2024-09-21T15:10:07.919Z"
   },
   {
    "duration": 28,
    "start_time": "2024-09-21T15:10:07.942Z"
   },
   {
    "duration": 18,
    "start_time": "2024-09-21T15:10:07.972Z"
   },
   {
    "duration": 28,
    "start_time": "2024-09-21T15:10:07.992Z"
   },
   {
    "duration": 17,
    "start_time": "2024-09-21T15:10:08.022Z"
   },
   {
    "duration": 68,
    "start_time": "2024-09-21T15:10:08.041Z"
   },
   {
    "duration": 23,
    "start_time": "2024-09-21T15:10:08.110Z"
   },
   {
    "duration": 20,
    "start_time": "2024-09-21T15:10:08.134Z"
   },
   {
    "duration": 26,
    "start_time": "2024-09-21T15:10:08.155Z"
   },
   {
    "duration": 46,
    "start_time": "2024-09-21T15:10:08.182Z"
   },
   {
    "duration": 8,
    "start_time": "2024-09-21T15:10:08.231Z"
   },
   {
    "duration": 10,
    "start_time": "2024-09-21T15:10:08.241Z"
   },
   {
    "duration": 10,
    "start_time": "2024-09-21T15:10:08.252Z"
   },
   {
    "duration": 5,
    "start_time": "2024-09-21T15:10:08.263Z"
   },
   {
    "duration": 15,
    "start_time": "2024-09-21T15:10:08.269Z"
   },
   {
    "duration": 5,
    "start_time": "2024-09-21T15:10:08.285Z"
   },
   {
    "duration": 11,
    "start_time": "2024-09-21T15:10:08.291Z"
   },
   {
    "duration": 22,
    "start_time": "2024-09-21T15:10:08.303Z"
   },
   {
    "duration": 7,
    "start_time": "2024-09-21T15:10:08.327Z"
   },
   {
    "duration": 5,
    "start_time": "2024-09-21T15:10:08.335Z"
   },
   {
    "duration": 7,
    "start_time": "2024-09-21T15:10:08.341Z"
   },
   {
    "duration": 8,
    "start_time": "2024-09-21T15:10:08.349Z"
   },
   {
    "duration": 9,
    "start_time": "2024-09-21T15:10:08.358Z"
   },
   {
    "duration": 93,
    "start_time": "2024-09-21T15:10:08.368Z"
   },
   {
    "duration": 7,
    "start_time": "2024-09-21T15:10:08.462Z"
   },
   {
    "duration": 231,
    "start_time": "2024-09-21T15:10:08.470Z"
   },
   {
    "duration": 194,
    "start_time": "2024-09-21T15:10:08.703Z"
   },
   {
    "duration": 224,
    "start_time": "2024-09-21T15:10:08.898Z"
   },
   {
    "duration": 20,
    "start_time": "2024-09-21T15:10:09.124Z"
   },
   {
    "duration": 15,
    "start_time": "2024-09-21T15:10:09.146Z"
   },
   {
    "duration": 18,
    "start_time": "2024-09-21T15:10:09.162Z"
   },
   {
    "duration": 244,
    "start_time": "2024-09-21T15:10:09.181Z"
   },
   {
    "duration": 206,
    "start_time": "2024-09-21T15:10:09.426Z"
   },
   {
    "duration": 2,
    "start_time": "2024-09-21T15:10:09.633Z"
   },
   {
    "duration": 6,
    "start_time": "2024-09-21T15:10:09.637Z"
   },
   {
    "duration": 20341,
    "start_time": "2024-09-21T15:10:09.644Z"
   },
   {
    "duration": 23,
    "start_time": "2024-09-21T15:10:29.987Z"
   },
   {
    "duration": 197,
    "start_time": "2024-09-21T15:10:30.014Z"
   },
   {
    "duration": 113,
    "start_time": "2024-09-21T15:10:30.213Z"
   },
   {
    "duration": 4,
    "start_time": "2024-09-21T15:11:04.197Z"
   },
   {
    "duration": 68,
    "start_time": "2024-09-21T15:29:40.692Z"
   },
   {
    "duration": 8,
    "start_time": "2024-09-21T15:32:01.908Z"
   },
   {
    "duration": 6,
    "start_time": "2024-09-21T15:32:24.122Z"
   },
   {
    "duration": 5,
    "start_time": "2024-09-21T15:38:25.930Z"
   },
   {
    "duration": 5,
    "start_time": "2024-09-21T15:38:37.520Z"
   },
   {
    "duration": 6,
    "start_time": "2024-09-21T15:38:47.603Z"
   },
   {
    "duration": 4,
    "start_time": "2024-09-21T15:38:54.804Z"
   },
   {
    "duration": 70,
    "start_time": "2024-09-21T15:38:57.625Z"
   },
   {
    "duration": 201,
    "start_time": "2024-09-21T15:41:44.279Z"
   },
   {
    "duration": 6,
    "start_time": "2024-09-21T15:47:19.316Z"
   },
   {
    "duration": 19,
    "start_time": "2024-09-21T15:47:23.876Z"
   },
   {
    "duration": 5,
    "start_time": "2024-09-21T15:47:42.347Z"
   },
   {
    "duration": 23,
    "start_time": "2024-09-21T15:47:43.322Z"
   },
   {
    "duration": 4,
    "start_time": "2024-09-21T15:47:55.401Z"
   },
   {
    "duration": 31853,
    "start_time": "2024-09-21T15:47:56.256Z"
   },
   {
    "duration": 5,
    "start_time": "2024-09-21T15:48:52.869Z"
   },
   {
    "duration": 975,
    "start_time": "2024-09-21T15:49:20.523Z"
   },
   {
    "duration": 64,
    "start_time": "2024-09-21T15:49:21.499Z"
   },
   {
    "duration": 5,
    "start_time": "2024-09-21T15:49:21.564Z"
   },
   {
    "duration": 26,
    "start_time": "2024-09-21T15:49:21.570Z"
   },
   {
    "duration": 9,
    "start_time": "2024-09-21T15:49:21.597Z"
   },
   {
    "duration": 5,
    "start_time": "2024-09-21T15:49:21.607Z"
   },
   {
    "duration": 6,
    "start_time": "2024-09-21T15:49:21.613Z"
   },
   {
    "duration": 21,
    "start_time": "2024-09-21T15:49:21.620Z"
   },
   {
    "duration": 14,
    "start_time": "2024-09-21T15:49:21.642Z"
   },
   {
    "duration": 8,
    "start_time": "2024-09-21T15:49:21.657Z"
   },
   {
    "duration": 8,
    "start_time": "2024-09-21T15:49:21.666Z"
   },
   {
    "duration": 11,
    "start_time": "2024-09-21T15:49:21.675Z"
   },
   {
    "duration": 11,
    "start_time": "2024-09-21T15:49:21.687Z"
   },
   {
    "duration": 7,
    "start_time": "2024-09-21T15:49:21.701Z"
   },
   {
    "duration": 7,
    "start_time": "2024-09-21T15:49:21.709Z"
   },
   {
    "duration": 9,
    "start_time": "2024-09-21T15:49:21.717Z"
   },
   {
    "duration": 3,
    "start_time": "2024-09-21T15:49:21.728Z"
   },
   {
    "duration": 9,
    "start_time": "2024-09-21T15:49:21.733Z"
   },
   {
    "duration": 2,
    "start_time": "2024-09-21T15:49:21.743Z"
   },
   {
    "duration": 54,
    "start_time": "2024-09-21T15:49:21.746Z"
   },
   {
    "duration": 35,
    "start_time": "2024-09-21T15:49:21.801Z"
   },
   {
    "duration": 5,
    "start_time": "2024-09-21T15:49:21.838Z"
   },
   {
    "duration": 4,
    "start_time": "2024-09-21T15:49:21.844Z"
   },
   {
    "duration": 7,
    "start_time": "2024-09-21T15:49:21.849Z"
   },
   {
    "duration": 6,
    "start_time": "2024-09-21T15:49:21.857Z"
   },
   {
    "duration": 5,
    "start_time": "2024-09-21T15:49:21.864Z"
   },
   {
    "duration": 87,
    "start_time": "2024-09-21T15:49:21.870Z"
   },
   {
    "duration": 7,
    "start_time": "2024-09-21T15:49:21.958Z"
   },
   {
    "duration": 272,
    "start_time": "2024-09-21T15:49:21.966Z"
   },
   {
    "duration": 190,
    "start_time": "2024-09-21T15:49:22.239Z"
   },
   {
    "duration": 255,
    "start_time": "2024-09-21T15:49:22.430Z"
   },
   {
    "duration": 26,
    "start_time": "2024-09-21T15:49:22.686Z"
   },
   {
    "duration": 20,
    "start_time": "2024-09-21T15:49:22.721Z"
   },
   {
    "duration": 12,
    "start_time": "2024-09-21T15:49:22.742Z"
   },
   {
    "duration": 220,
    "start_time": "2024-09-21T15:49:22.755Z"
   },
   {
    "duration": 197,
    "start_time": "2024-09-21T15:49:22.976Z"
   },
   {
    "duration": 3,
    "start_time": "2024-09-21T15:49:23.174Z"
   },
   {
    "duration": 77,
    "start_time": "2024-09-21T15:49:23.178Z"
   },
   {
    "duration": 24474,
    "start_time": "2024-09-21T15:49:23.257Z"
   },
   {
    "duration": 13,
    "start_time": "2024-09-21T15:49:47.733Z"
   },
   {
    "duration": 162,
    "start_time": "2024-09-21T15:49:47.749Z"
   },
   {
    "duration": 7,
    "start_time": "2024-09-21T15:49:47.912Z"
   },
   {
    "duration": 113,
    "start_time": "2024-09-21T15:49:47.920Z"
   },
   {
    "duration": 9,
    "start_time": "2024-09-21T16:00:41.384Z"
   },
   {
    "duration": 15,
    "start_time": "2024-09-21T16:00:59.403Z"
   },
   {
    "duration": 21,
    "start_time": "2024-09-21T16:01:08.552Z"
   },
   {
    "duration": 21,
    "start_time": "2024-09-21T16:01:22.912Z"
   },
   {
    "duration": 22,
    "start_time": "2024-09-21T16:01:30.326Z"
   },
   {
    "duration": 23,
    "start_time": "2024-09-21T16:01:38.439Z"
   },
   {
    "duration": 277,
    "start_time": "2024-09-21T16:06:00.263Z"
   },
   {
    "duration": 1032,
    "start_time": "2024-09-21T16:07:16.378Z"
   },
   {
    "duration": 275,
    "start_time": "2024-09-21T16:07:17.411Z"
   },
   {
    "duration": 4,
    "start_time": "2024-09-21T16:07:17.687Z"
   },
   {
    "duration": 4,
    "start_time": "2024-09-21T16:07:17.693Z"
   },
   {
    "duration": 4,
    "start_time": "2024-09-21T16:07:17.699Z"
   },
   {
    "duration": 4,
    "start_time": "2024-09-21T16:07:17.704Z"
   },
   {
    "duration": 27,
    "start_time": "2024-09-21T16:07:17.710Z"
   },
   {
    "duration": 20,
    "start_time": "2024-09-21T16:07:17.738Z"
   },
   {
    "duration": 11,
    "start_time": "2024-09-21T16:07:17.759Z"
   },
   {
    "duration": 8,
    "start_time": "2024-09-21T16:07:17.771Z"
   },
   {
    "duration": 13,
    "start_time": "2024-09-21T16:07:17.780Z"
   },
   {
    "duration": 21,
    "start_time": "2024-09-21T16:07:17.795Z"
   },
   {
    "duration": 94,
    "start_time": "2024-09-21T16:07:17.817Z"
   },
   {
    "duration": 8,
    "start_time": "2024-09-21T16:07:17.914Z"
   },
   {
    "duration": 125,
    "start_time": "2024-09-21T16:07:17.923Z"
   },
   {
    "duration": 26,
    "start_time": "2024-09-21T16:07:18.049Z"
   },
   {
    "duration": 6,
    "start_time": "2024-09-21T16:07:18.077Z"
   },
   {
    "duration": 10,
    "start_time": "2024-09-21T16:07:18.084Z"
   },
   {
    "duration": 3,
    "start_time": "2024-09-21T16:07:18.095Z"
   },
   {
    "duration": 15,
    "start_time": "2024-09-21T16:07:18.099Z"
   },
   {
    "duration": 12,
    "start_time": "2024-09-21T16:07:18.115Z"
   },
   {
    "duration": 21,
    "start_time": "2024-09-21T16:07:18.129Z"
   },
   {
    "duration": 47,
    "start_time": "2024-09-21T16:07:18.151Z"
   },
   {
    "duration": 77,
    "start_time": "2024-09-21T16:07:18.199Z"
   },
   {
    "duration": 4,
    "start_time": "2024-09-21T16:07:18.277Z"
   },
   {
    "duration": 13,
    "start_time": "2024-09-21T16:07:18.282Z"
   },
   {
    "duration": 119,
    "start_time": "2024-09-21T16:07:18.297Z"
   },
   {
    "duration": 9,
    "start_time": "2024-09-21T16:07:18.422Z"
   },
   {
    "duration": 250,
    "start_time": "2024-09-21T16:07:18.433Z"
   },
   {
    "duration": 189,
    "start_time": "2024-09-21T16:07:18.684Z"
   },
   {
    "duration": 222,
    "start_time": "2024-09-21T16:07:18.874Z"
   },
   {
    "duration": 26,
    "start_time": "2024-09-21T16:07:19.097Z"
   },
   {
    "duration": 37,
    "start_time": "2024-09-21T16:07:19.125Z"
   },
   {
    "duration": 297,
    "start_time": "2024-09-21T16:07:19.163Z"
   },
   {
    "duration": 214,
    "start_time": "2024-09-21T16:07:19.461Z"
   },
   {
    "duration": 203,
    "start_time": "2024-09-21T16:07:19.676Z"
   },
   {
    "duration": 3,
    "start_time": "2024-09-21T16:07:19.880Z"
   },
   {
    "duration": 137,
    "start_time": "2024-09-21T16:07:19.884Z"
   },
   {
    "duration": 2,
    "start_time": "2024-09-21T16:07:20.023Z"
   },
   {
    "duration": 157,
    "start_time": "2024-09-21T16:07:20.026Z"
   },
   {
    "duration": 145,
    "start_time": "2024-09-21T16:07:20.186Z"
   },
   {
    "duration": 7,
    "start_time": "2024-09-21T16:07:20.333Z"
   },
   {
    "duration": 8,
    "start_time": "2024-09-21T16:07:20.341Z"
   },
   {
    "duration": 962,
    "start_time": "2024-09-21T16:08:14.952Z"
   },
   {
    "duration": 283,
    "start_time": "2024-09-21T16:08:15.915Z"
   },
   {
    "duration": 4,
    "start_time": "2024-09-21T16:08:16.199Z"
   },
   {
    "duration": 55,
    "start_time": "2024-09-21T16:08:16.204Z"
   },
   {
    "duration": 9,
    "start_time": "2024-09-21T16:08:16.261Z"
   },
   {
    "duration": 5,
    "start_time": "2024-09-21T16:08:16.271Z"
   },
   {
    "duration": 4,
    "start_time": "2024-09-21T16:08:16.277Z"
   },
   {
    "duration": 9,
    "start_time": "2024-09-21T16:08:16.282Z"
   },
   {
    "duration": 20,
    "start_time": "2024-09-21T16:08:16.292Z"
   },
   {
    "duration": 7,
    "start_time": "2024-09-21T16:08:16.313Z"
   },
   {
    "duration": 19,
    "start_time": "2024-09-21T16:08:16.321Z"
   },
   {
    "duration": 10,
    "start_time": "2024-09-21T16:08:16.341Z"
   },
   {
    "duration": 8,
    "start_time": "2024-09-21T16:08:16.352Z"
   },
   {
    "duration": 8,
    "start_time": "2024-09-21T16:08:16.362Z"
   },
   {
    "duration": 16,
    "start_time": "2024-09-21T16:08:16.371Z"
   },
   {
    "duration": 6,
    "start_time": "2024-09-21T16:08:16.388Z"
   },
   {
    "duration": 4,
    "start_time": "2024-09-21T16:08:16.406Z"
   },
   {
    "duration": 11,
    "start_time": "2024-09-21T16:08:16.411Z"
   },
   {
    "duration": 3,
    "start_time": "2024-09-21T16:08:16.424Z"
   },
   {
    "duration": 7,
    "start_time": "2024-09-21T16:08:16.428Z"
   },
   {
    "duration": 13,
    "start_time": "2024-09-21T16:08:16.436Z"
   },
   {
    "duration": 8,
    "start_time": "2024-09-21T16:08:16.450Z"
   },
   {
    "duration": 5,
    "start_time": "2024-09-21T16:08:16.459Z"
   },
   {
    "duration": 12,
    "start_time": "2024-09-21T16:08:16.465Z"
   },
   {
    "duration": 12,
    "start_time": "2024-09-21T16:08:16.478Z"
   },
   {
    "duration": 16,
    "start_time": "2024-09-21T16:08:16.492Z"
   },
   {
    "duration": 99,
    "start_time": "2024-09-21T16:08:16.509Z"
   },
   {
    "duration": 7,
    "start_time": "2024-09-21T16:08:16.609Z"
   },
   {
    "duration": 233,
    "start_time": "2024-09-21T16:08:16.617Z"
   },
   {
    "duration": 191,
    "start_time": "2024-09-21T16:08:16.852Z"
   },
   {
    "duration": 223,
    "start_time": "2024-09-21T16:08:17.044Z"
   },
   {
    "duration": 21,
    "start_time": "2024-09-21T16:08:17.268Z"
   },
   {
    "duration": 52,
    "start_time": "2024-09-21T16:08:17.290Z"
   },
   {
    "duration": 10,
    "start_time": "2024-09-21T16:08:17.344Z"
   },
   {
    "duration": 194,
    "start_time": "2024-09-21T16:08:17.356Z"
   },
   {
    "duration": 194,
    "start_time": "2024-09-21T16:08:17.551Z"
   },
   {
    "duration": 3,
    "start_time": "2024-09-21T16:08:17.746Z"
   },
   {
    "duration": 18,
    "start_time": "2024-09-21T16:08:17.750Z"
   },
   {
    "duration": 3,
    "start_time": "2024-09-21T16:08:17.769Z"
   },
   {
    "duration": 16,
    "start_time": "2024-09-21T16:08:17.773Z"
   },
   {
    "duration": 131,
    "start_time": "2024-09-21T16:08:17.807Z"
   },
   {
    "duration": 6,
    "start_time": "2024-09-21T16:08:17.940Z"
   },
   {
    "duration": 7,
    "start_time": "2024-09-21T16:08:17.947Z"
   },
   {
    "duration": 14,
    "start_time": "2024-09-21T16:09:08.532Z"
   },
   {
    "duration": 9,
    "start_time": "2024-09-21T16:09:24.662Z"
   },
   {
    "duration": 1002,
    "start_time": "2024-09-21T16:09:43.495Z"
   },
   {
    "duration": 63,
    "start_time": "2024-09-21T16:09:44.498Z"
   },
   {
    "duration": 4,
    "start_time": "2024-09-21T16:09:44.562Z"
   },
   {
    "duration": 4,
    "start_time": "2024-09-21T16:09:44.568Z"
   },
   {
    "duration": 5,
    "start_time": "2024-09-21T16:09:44.573Z"
   },
   {
    "duration": 6,
    "start_time": "2024-09-21T16:09:44.579Z"
   },
   {
    "duration": 18,
    "start_time": "2024-09-21T16:09:44.586Z"
   },
   {
    "duration": 13,
    "start_time": "2024-09-21T16:09:44.605Z"
   },
   {
    "duration": 10,
    "start_time": "2024-09-21T16:09:44.619Z"
   },
   {
    "duration": 7,
    "start_time": "2024-09-21T16:09:44.630Z"
   },
   {
    "duration": 10,
    "start_time": "2024-09-21T16:09:44.639Z"
   },
   {
    "duration": 10,
    "start_time": "2024-09-21T16:09:44.650Z"
   },
   {
    "duration": 15,
    "start_time": "2024-09-21T16:09:44.661Z"
   },
   {
    "duration": 10,
    "start_time": "2024-09-21T16:09:44.680Z"
   },
   {
    "duration": 16,
    "start_time": "2024-09-21T16:09:44.691Z"
   },
   {
    "duration": 6,
    "start_time": "2024-09-21T16:09:44.708Z"
   },
   {
    "duration": 4,
    "start_time": "2024-09-21T16:09:44.715Z"
   },
   {
    "duration": 7,
    "start_time": "2024-09-21T16:09:44.720Z"
   },
   {
    "duration": 3,
    "start_time": "2024-09-21T16:09:44.728Z"
   },
   {
    "duration": 7,
    "start_time": "2024-09-21T16:09:44.732Z"
   },
   {
    "duration": 6,
    "start_time": "2024-09-21T16:09:44.740Z"
   },
   {
    "duration": 4,
    "start_time": "2024-09-21T16:09:44.747Z"
   },
   {
    "duration": 6,
    "start_time": "2024-09-21T16:09:44.752Z"
   },
   {
    "duration": 5,
    "start_time": "2024-09-21T16:09:44.759Z"
   },
   {
    "duration": 3,
    "start_time": "2024-09-21T16:09:44.765Z"
   },
   {
    "duration": 38,
    "start_time": "2024-09-21T16:09:44.769Z"
   },
   {
    "duration": 111,
    "start_time": "2024-09-21T16:09:44.809Z"
   },
   {
    "duration": 7,
    "start_time": "2024-09-21T16:09:44.921Z"
   },
   {
    "duration": 233,
    "start_time": "2024-09-21T16:09:44.929Z"
   },
   {
    "duration": 189,
    "start_time": "2024-09-21T16:09:45.163Z"
   },
   {
    "duration": 235,
    "start_time": "2024-09-21T16:09:45.353Z"
   },
   {
    "duration": 26,
    "start_time": "2024-09-21T16:09:45.590Z"
   },
   {
    "duration": 16,
    "start_time": "2024-09-21T16:09:45.617Z"
   },
   {
    "duration": 9,
    "start_time": "2024-09-21T16:09:45.634Z"
   },
   {
    "duration": 211,
    "start_time": "2024-09-21T16:09:45.644Z"
   },
   {
    "duration": 193,
    "start_time": "2024-09-21T16:09:45.857Z"
   },
   {
    "duration": 2,
    "start_time": "2024-09-21T16:09:46.052Z"
   },
   {
    "duration": 36,
    "start_time": "2024-09-21T16:09:46.055Z"
   },
   {
    "duration": 2,
    "start_time": "2024-09-21T16:09:46.093Z"
   },
   {
    "duration": 14,
    "start_time": "2024-09-21T16:09:46.096Z"
   },
   {
    "duration": 136,
    "start_time": "2024-09-21T16:09:46.113Z"
   },
   {
    "duration": 6,
    "start_time": "2024-09-21T16:09:46.250Z"
   },
   {
    "duration": 43,
    "start_time": "2024-09-21T16:09:46.258Z"
   },
   {
    "duration": 18,
    "start_time": "2024-09-21T16:10:08.133Z"
   },
   {
    "duration": 15,
    "start_time": "2024-09-21T16:10:27.240Z"
   },
   {
    "duration": 14,
    "start_time": "2024-09-21T16:10:38.247Z"
   },
   {
    "duration": 16,
    "start_time": "2024-09-21T16:10:57.419Z"
   },
   {
    "duration": 32,
    "start_time": "2024-09-21T16:11:02.683Z"
   },
   {
    "duration": 21,
    "start_time": "2024-09-21T16:11:25.672Z"
   },
   {
    "duration": 22,
    "start_time": "2024-09-21T16:11:32.760Z"
   },
   {
    "duration": 7,
    "start_time": "2024-09-21T16:11:42.420Z"
   },
   {
    "duration": 979,
    "start_time": "2024-09-21T16:12:18.132Z"
   },
   {
    "duration": 64,
    "start_time": "2024-09-21T16:12:19.113Z"
   },
   {
    "duration": 5,
    "start_time": "2024-09-21T16:12:19.178Z"
   },
   {
    "duration": 140,
    "start_time": "2024-09-21T16:12:19.186Z"
   },
   {
    "duration": 31,
    "start_time": "2024-09-21T16:12:19.328Z"
   },
   {
    "duration": 5,
    "start_time": "2024-09-21T16:12:19.360Z"
   },
   {
    "duration": 5,
    "start_time": "2024-09-21T16:12:19.366Z"
   },
   {
    "duration": 4,
    "start_time": "2024-09-21T16:12:19.372Z"
   },
   {
    "duration": 13,
    "start_time": "2024-09-21T16:12:19.377Z"
   },
   {
    "duration": 7,
    "start_time": "2024-09-21T16:12:19.393Z"
   },
   {
    "duration": 9,
    "start_time": "2024-09-21T16:12:19.402Z"
   },
   {
    "duration": 9,
    "start_time": "2024-09-21T16:12:19.413Z"
   },
   {
    "duration": 9,
    "start_time": "2024-09-21T16:12:19.424Z"
   },
   {
    "duration": 8,
    "start_time": "2024-09-21T16:12:19.434Z"
   },
   {
    "duration": 4,
    "start_time": "2024-09-21T16:12:19.444Z"
   },
   {
    "duration": 6,
    "start_time": "2024-09-21T16:12:19.450Z"
   },
   {
    "duration": 13,
    "start_time": "2024-09-21T16:12:19.458Z"
   },
   {
    "duration": 9,
    "start_time": "2024-09-21T16:12:19.472Z"
   },
   {
    "duration": 25,
    "start_time": "2024-09-21T16:12:19.482Z"
   },
   {
    "duration": 5,
    "start_time": "2024-09-21T16:12:19.508Z"
   },
   {
    "duration": 8,
    "start_time": "2024-09-21T16:12:19.515Z"
   },
   {
    "duration": 9,
    "start_time": "2024-09-21T16:12:19.524Z"
   },
   {
    "duration": 5,
    "start_time": "2024-09-21T16:12:19.534Z"
   },
   {
    "duration": 7,
    "start_time": "2024-09-21T16:12:19.540Z"
   },
   {
    "duration": 6,
    "start_time": "2024-09-21T16:12:19.548Z"
   },
   {
    "duration": 7,
    "start_time": "2024-09-21T16:12:19.555Z"
   },
   {
    "duration": 105,
    "start_time": "2024-09-21T16:12:19.564Z"
   },
   {
    "duration": 7,
    "start_time": "2024-09-21T16:12:19.671Z"
   },
   {
    "duration": 232,
    "start_time": "2024-09-21T16:12:19.679Z"
   },
   {
    "duration": 191,
    "start_time": "2024-09-21T16:12:19.912Z"
   },
   {
    "duration": 232,
    "start_time": "2024-09-21T16:12:20.104Z"
   },
   {
    "duration": 20,
    "start_time": "2024-09-21T16:12:20.338Z"
   },
   {
    "duration": 14,
    "start_time": "2024-09-21T16:12:20.360Z"
   },
   {
    "duration": 7,
    "start_time": "2024-09-21T16:12:20.375Z"
   },
   {
    "duration": 229,
    "start_time": "2024-09-21T16:12:20.383Z"
   },
   {
    "duration": 212,
    "start_time": "2024-09-21T16:12:20.614Z"
   },
   {
    "duration": 2,
    "start_time": "2024-09-21T16:12:20.827Z"
   },
   {
    "duration": 70,
    "start_time": "2024-09-21T16:12:20.830Z"
   },
   {
    "duration": 0,
    "start_time": "2024-09-21T16:12:20.901Z"
   },
   {
    "duration": 0,
    "start_time": "2024-09-21T16:12:20.902Z"
   },
   {
    "duration": 0,
    "start_time": "2024-09-21T16:12:20.903Z"
   },
   {
    "duration": 0,
    "start_time": "2024-09-21T16:12:20.904Z"
   },
   {
    "duration": 0,
    "start_time": "2024-09-21T16:12:20.905Z"
   },
   {
    "duration": 5,
    "start_time": "2024-09-21T16:12:44.440Z"
   },
   {
    "duration": 24638,
    "start_time": "2024-09-21T16:12:46.575Z"
   },
   {
    "duration": 14,
    "start_time": "2024-09-21T16:13:11.215Z"
   },
   {
    "duration": 263,
    "start_time": "2024-09-21T16:13:11.231Z"
   },
   {
    "duration": 6,
    "start_time": "2024-09-21T16:13:11.496Z"
   },
   {
    "duration": 11,
    "start_time": "2024-09-21T16:13:11.503Z"
   },
   {
    "duration": 54,
    "start_time": "2024-09-21T22:11:43.280Z"
   },
   {
    "duration": 1205,
    "start_time": "2024-09-21T22:11:46.516Z"
   },
   {
    "duration": 74,
    "start_time": "2024-09-21T22:11:47.725Z"
   },
   {
    "duration": 6,
    "start_time": "2024-09-21T22:11:47.800Z"
   },
   {
    "duration": 39,
    "start_time": "2024-09-21T22:11:47.807Z"
   },
   {
    "duration": 9,
    "start_time": "2024-09-21T22:11:47.848Z"
   },
   {
    "duration": 6,
    "start_time": "2024-09-21T22:11:47.858Z"
   },
   {
    "duration": 5,
    "start_time": "2024-09-21T22:11:47.866Z"
   },
   {
    "duration": 5,
    "start_time": "2024-09-21T22:11:47.872Z"
   },
   {
    "duration": 16,
    "start_time": "2024-09-21T22:11:47.878Z"
   },
   {
    "duration": 11,
    "start_time": "2024-09-21T22:11:47.896Z"
   },
   {
    "duration": 26,
    "start_time": "2024-09-21T22:11:47.909Z"
   },
   {
    "duration": 15,
    "start_time": "2024-09-21T22:11:47.938Z"
   },
   {
    "duration": 12,
    "start_time": "2024-09-21T22:11:47.955Z"
   },
   {
    "duration": 10,
    "start_time": "2024-09-21T22:11:47.971Z"
   },
   {
    "duration": 45,
    "start_time": "2024-09-21T22:11:47.983Z"
   },
   {
    "duration": 11,
    "start_time": "2024-09-21T22:11:48.030Z"
   },
   {
    "duration": 8,
    "start_time": "2024-09-21T22:11:48.044Z"
   },
   {
    "duration": 16,
    "start_time": "2024-09-21T22:11:48.053Z"
   },
   {
    "duration": 3,
    "start_time": "2024-09-21T22:11:48.071Z"
   },
   {
    "duration": 10,
    "start_time": "2024-09-21T22:11:48.076Z"
   },
   {
    "duration": 16,
    "start_time": "2024-09-21T22:11:48.125Z"
   },
   {
    "duration": 8,
    "start_time": "2024-09-21T22:11:48.144Z"
   },
   {
    "duration": 28,
    "start_time": "2024-09-21T22:11:48.154Z"
   },
   {
    "duration": 5,
    "start_time": "2024-09-21T22:11:48.184Z"
   },
   {
    "duration": 4,
    "start_time": "2024-09-21T22:11:48.191Z"
   },
   {
    "duration": 6,
    "start_time": "2024-09-21T22:11:48.196Z"
   },
   {
    "duration": 154,
    "start_time": "2024-09-21T22:11:48.204Z"
   },
   {
    "duration": 8,
    "start_time": "2024-09-21T22:11:48.359Z"
   },
   {
    "duration": 352,
    "start_time": "2024-09-21T22:11:48.369Z"
   },
   {
    "duration": 280,
    "start_time": "2024-09-21T22:11:48.723Z"
   },
   {
    "duration": 295,
    "start_time": "2024-09-21T22:11:49.004Z"
   },
   {
    "duration": 48,
    "start_time": "2024-09-21T22:11:49.302Z"
   },
   {
    "duration": 19,
    "start_time": "2024-09-21T22:11:49.352Z"
   },
   {
    "duration": 9,
    "start_time": "2024-09-21T22:11:49.372Z"
   },
   {
    "duration": 319,
    "start_time": "2024-09-21T22:11:49.382Z"
   },
   {
    "duration": 254,
    "start_time": "2024-09-21T22:11:49.703Z"
   },
   {
    "duration": 2,
    "start_time": "2024-09-21T22:11:49.959Z"
   },
   {
    "duration": 5,
    "start_time": "2024-09-21T22:11:49.963Z"
   },
   {
    "duration": 34848,
    "start_time": "2024-09-21T22:11:49.969Z"
   },
   {
    "duration": 19,
    "start_time": "2024-09-21T22:12:24.819Z"
   },
   {
    "duration": 1456,
    "start_time": "2024-09-22T06:35:30.115Z"
   },
   {
    "duration": 287,
    "start_time": "2024-09-22T06:35:31.574Z"
   },
   {
    "duration": 7,
    "start_time": "2024-09-22T06:35:31.863Z"
   },
   {
    "duration": 18,
    "start_time": "2024-09-22T06:35:31.873Z"
   },
   {
    "duration": 27,
    "start_time": "2024-09-22T06:35:31.894Z"
   },
   {
    "duration": 12,
    "start_time": "2024-09-22T06:35:31.923Z"
   },
   {
    "duration": 7,
    "start_time": "2024-09-22T06:35:31.937Z"
   },
   {
    "duration": 5,
    "start_time": "2024-09-22T06:35:31.946Z"
   },
   {
    "duration": 28,
    "start_time": "2024-09-22T06:35:31.953Z"
   },
   {
    "duration": 28,
    "start_time": "2024-09-22T06:35:31.982Z"
   },
   {
    "duration": 16,
    "start_time": "2024-09-22T06:35:32.014Z"
   },
   {
    "duration": 27,
    "start_time": "2024-09-22T06:35:32.032Z"
   },
   {
    "duration": 52,
    "start_time": "2024-09-22T06:35:32.061Z"
   },
   {
    "duration": 27,
    "start_time": "2024-09-22T06:35:32.116Z"
   },
   {
    "duration": 19,
    "start_time": "2024-09-22T06:35:32.145Z"
   },
   {
    "duration": 18,
    "start_time": "2024-09-22T06:35:32.166Z"
   },
   {
    "duration": 28,
    "start_time": "2024-09-22T06:35:32.186Z"
   },
   {
    "duration": 33,
    "start_time": "2024-09-22T06:35:32.215Z"
   },
   {
    "duration": 24,
    "start_time": "2024-09-22T06:35:32.250Z"
   },
   {
    "duration": 37,
    "start_time": "2024-09-22T06:35:32.276Z"
   },
   {
    "duration": 46,
    "start_time": "2024-09-22T06:35:32.315Z"
   },
   {
    "duration": 30,
    "start_time": "2024-09-22T06:35:32.362Z"
   },
   {
    "duration": 31,
    "start_time": "2024-09-22T06:35:32.394Z"
   },
   {
    "duration": 12,
    "start_time": "2024-09-22T06:35:32.427Z"
   },
   {
    "duration": 5,
    "start_time": "2024-09-22T06:35:32.441Z"
   },
   {
    "duration": 9,
    "start_time": "2024-09-22T06:35:32.448Z"
   },
   {
    "duration": 1092,
    "start_time": "2024-09-22T06:35:32.458Z"
   },
   {
    "duration": 0,
    "start_time": "2024-09-22T06:35:33.552Z"
   },
   {
    "duration": 0,
    "start_time": "2024-09-22T06:35:33.553Z"
   },
   {
    "duration": 0,
    "start_time": "2024-09-22T06:35:33.554Z"
   },
   {
    "duration": 0,
    "start_time": "2024-09-22T06:35:33.556Z"
   },
   {
    "duration": 0,
    "start_time": "2024-09-22T06:35:33.557Z"
   },
   {
    "duration": 0,
    "start_time": "2024-09-22T06:35:33.559Z"
   },
   {
    "duration": 0,
    "start_time": "2024-09-22T06:35:33.560Z"
   },
   {
    "duration": 0,
    "start_time": "2024-09-22T06:35:33.561Z"
   },
   {
    "duration": 0,
    "start_time": "2024-09-22T06:35:33.562Z"
   },
   {
    "duration": 0,
    "start_time": "2024-09-22T06:35:33.563Z"
   },
   {
    "duration": 0,
    "start_time": "2024-09-22T06:35:33.564Z"
   },
   {
    "duration": 0,
    "start_time": "2024-09-22T06:35:33.565Z"
   },
   {
    "duration": 0,
    "start_time": "2024-09-22T06:35:33.566Z"
   },
   {
    "duration": 0,
    "start_time": "2024-09-22T06:35:33.567Z"
   },
   {
    "duration": 0,
    "start_time": "2024-09-22T06:35:33.569Z"
   },
   {
    "duration": 0,
    "start_time": "2024-09-22T06:35:33.570Z"
   },
   {
    "duration": 0,
    "start_time": "2024-09-22T06:35:33.571Z"
   },
   {
    "duration": 0,
    "start_time": "2024-09-22T06:35:33.572Z"
   },
   {
    "duration": 321,
    "start_time": "2024-09-22T06:35:40.322Z"
   },
   {
    "duration": 260,
    "start_time": "2024-09-22T06:35:54.925Z"
   },
   {
    "duration": 289,
    "start_time": "2024-09-22T06:36:04.194Z"
   },
   {
    "duration": 315,
    "start_time": "2024-09-22T06:37:06.514Z"
   },
   {
    "duration": 8,
    "start_time": "2024-09-22T06:38:05.360Z"
   },
   {
    "duration": 1132,
    "start_time": "2024-09-22T06:38:10.150Z"
   },
   {
    "duration": 69,
    "start_time": "2024-09-22T06:38:11.284Z"
   },
   {
    "duration": 6,
    "start_time": "2024-09-22T06:38:11.355Z"
   },
   {
    "duration": 10,
    "start_time": "2024-09-22T06:38:11.363Z"
   },
   {
    "duration": 6,
    "start_time": "2024-09-22T06:38:11.375Z"
   },
   {
    "duration": 6,
    "start_time": "2024-09-22T06:38:11.382Z"
   },
   {
    "duration": 13,
    "start_time": "2024-09-22T06:38:11.389Z"
   },
   {
    "duration": 7,
    "start_time": "2024-09-22T06:38:11.404Z"
   },
   {
    "duration": 26,
    "start_time": "2024-09-22T06:38:11.412Z"
   },
   {
    "duration": 12,
    "start_time": "2024-09-22T06:38:11.440Z"
   },
   {
    "duration": 25,
    "start_time": "2024-09-22T06:38:11.453Z"
   },
   {
    "duration": 41,
    "start_time": "2024-09-22T06:38:11.480Z"
   },
   {
    "duration": 12,
    "start_time": "2024-09-22T06:38:11.522Z"
   },
   {
    "duration": 9,
    "start_time": "2024-09-22T06:38:11.536Z"
   },
   {
    "duration": 15,
    "start_time": "2024-09-22T06:38:11.547Z"
   },
   {
    "duration": 8,
    "start_time": "2024-09-22T06:38:11.564Z"
   },
   {
    "duration": 7,
    "start_time": "2024-09-22T06:38:11.574Z"
   },
   {
    "duration": 22,
    "start_time": "2024-09-22T06:38:11.582Z"
   },
   {
    "duration": 15,
    "start_time": "2024-09-22T06:38:11.606Z"
   },
   {
    "duration": 10,
    "start_time": "2024-09-22T06:38:11.623Z"
   },
   {
    "duration": 16,
    "start_time": "2024-09-22T06:38:11.635Z"
   },
   {
    "duration": 6,
    "start_time": "2024-09-22T06:38:11.653Z"
   },
   {
    "duration": 9,
    "start_time": "2024-09-22T06:38:11.660Z"
   },
   {
    "duration": 9,
    "start_time": "2024-09-22T06:38:11.671Z"
   },
   {
    "duration": 19,
    "start_time": "2024-09-22T06:38:11.681Z"
   },
   {
    "duration": 21,
    "start_time": "2024-09-22T06:38:11.702Z"
   },
   {
    "duration": 336,
    "start_time": "2024-09-22T06:38:11.725Z"
   },
   {
    "duration": 131,
    "start_time": "2024-09-22T06:38:12.066Z"
   },
   {
    "duration": 23,
    "start_time": "2024-09-22T06:38:12.199Z"
   },
   {
    "duration": 312,
    "start_time": "2024-09-22T06:38:12.224Z"
   },
   {
    "duration": 244,
    "start_time": "2024-09-22T06:38:12.538Z"
   },
   {
    "duration": 340,
    "start_time": "2024-09-22T06:38:12.784Z"
   },
   {
    "duration": 29,
    "start_time": "2024-09-22T06:38:13.126Z"
   },
   {
    "duration": 22,
    "start_time": "2024-09-22T06:38:13.156Z"
   },
   {
    "duration": 42,
    "start_time": "2024-09-22T06:38:13.180Z"
   },
   {
    "duration": 262,
    "start_time": "2024-09-22T06:38:13.224Z"
   },
   {
    "duration": 279,
    "start_time": "2024-09-22T06:38:13.488Z"
   },
   {
    "duration": 4,
    "start_time": "2024-09-22T06:38:13.770Z"
   },
   {
    "duration": 8,
    "start_time": "2024-09-22T06:38:13.776Z"
   },
   {
    "duration": 124,
    "start_time": "2024-09-22T06:38:13.790Z"
   },
   {
    "duration": 0,
    "start_time": "2024-09-22T06:38:13.916Z"
   },
   {
    "duration": 0,
    "start_time": "2024-09-22T06:38:13.920Z"
   },
   {
    "duration": 0,
    "start_time": "2024-09-22T06:38:13.922Z"
   },
   {
    "duration": 1,
    "start_time": "2024-09-22T06:38:13.923Z"
   },
   {
    "duration": 0,
    "start_time": "2024-09-22T06:38:13.925Z"
   },
   {
    "duration": 1231,
    "start_time": "2024-09-22T06:41:09.827Z"
   },
   {
    "duration": 71,
    "start_time": "2024-09-22T06:41:11.061Z"
   },
   {
    "duration": 5,
    "start_time": "2024-09-22T06:41:11.134Z"
   },
   {
    "duration": 8,
    "start_time": "2024-09-22T06:41:11.141Z"
   },
   {
    "duration": 16,
    "start_time": "2024-09-22T06:41:11.151Z"
   },
   {
    "duration": 6,
    "start_time": "2024-09-22T06:41:11.168Z"
   },
   {
    "duration": 6,
    "start_time": "2024-09-22T06:41:11.176Z"
   },
   {
    "duration": 12,
    "start_time": "2024-09-22T06:41:11.183Z"
   },
   {
    "duration": 33,
    "start_time": "2024-09-22T06:41:11.198Z"
   },
   {
    "duration": 16,
    "start_time": "2024-09-22T06:41:11.233Z"
   },
   {
    "duration": 16,
    "start_time": "2024-09-22T06:41:11.251Z"
   },
   {
    "duration": 79,
    "start_time": "2024-09-22T06:41:11.269Z"
   },
   {
    "duration": 12,
    "start_time": "2024-09-22T06:41:11.350Z"
   },
   {
    "duration": 13,
    "start_time": "2024-09-22T06:41:11.367Z"
   },
   {
    "duration": 11,
    "start_time": "2024-09-22T06:41:11.384Z"
   },
   {
    "duration": 29,
    "start_time": "2024-09-22T06:41:11.397Z"
   },
   {
    "duration": 7,
    "start_time": "2024-09-22T06:41:11.428Z"
   },
   {
    "duration": 13,
    "start_time": "2024-09-22T06:41:11.437Z"
   },
   {
    "duration": 4,
    "start_time": "2024-09-22T06:41:11.452Z"
   },
   {
    "duration": 14,
    "start_time": "2024-09-22T06:41:11.458Z"
   },
   {
    "duration": 13,
    "start_time": "2024-09-22T06:41:11.474Z"
   },
   {
    "duration": 38,
    "start_time": "2024-09-22T06:41:11.489Z"
   },
   {
    "duration": 6,
    "start_time": "2024-09-22T06:41:11.529Z"
   },
   {
    "duration": 7,
    "start_time": "2024-09-22T06:41:11.537Z"
   },
   {
    "duration": 6,
    "start_time": "2024-09-22T06:41:11.546Z"
   },
   {
    "duration": 7,
    "start_time": "2024-09-22T06:41:11.554Z"
   },
   {
    "duration": 382,
    "start_time": "2024-09-22T06:41:11.563Z"
   },
   {
    "duration": 121,
    "start_time": "2024-09-22T06:41:11.947Z"
   },
   {
    "duration": 11,
    "start_time": "2024-09-22T06:41:12.070Z"
   },
   {
    "duration": 340,
    "start_time": "2024-09-22T06:41:12.083Z"
   },
   {
    "duration": 260,
    "start_time": "2024-09-22T06:41:12.425Z"
   },
   {
    "duration": 306,
    "start_time": "2024-09-22T06:41:12.688Z"
   },
   {
    "duration": 38,
    "start_time": "2024-09-22T06:41:12.995Z"
   },
   {
    "duration": 21,
    "start_time": "2024-09-22T06:41:13.035Z"
   },
   {
    "duration": 9,
    "start_time": "2024-09-22T06:41:13.058Z"
   },
   {
    "duration": 286,
    "start_time": "2024-09-22T06:41:13.069Z"
   },
   {
    "duration": 263,
    "start_time": "2024-09-22T06:41:13.357Z"
   },
   {
    "duration": 3,
    "start_time": "2024-09-22T06:41:13.622Z"
   },
   {
    "duration": 18,
    "start_time": "2024-09-22T06:41:13.627Z"
   },
   {
    "duration": 141,
    "start_time": "2024-09-22T06:41:13.647Z"
   },
   {
    "duration": 36084,
    "start_time": "2024-09-22T06:41:13.792Z"
   },
   {
    "duration": 20,
    "start_time": "2024-09-22T06:41:49.878Z"
   },
   {
    "duration": 203,
    "start_time": "2024-09-22T06:41:49.900Z"
   },
   {
    "duration": 15,
    "start_time": "2024-09-22T06:41:50.105Z"
   },
   {
    "duration": 20,
    "start_time": "2024-09-22T06:41:50.122Z"
   },
   {
    "duration": 1231,
    "start_time": "2024-09-22T06:42:22.783Z"
   },
   {
    "duration": 72,
    "start_time": "2024-09-22T06:42:24.017Z"
   },
   {
    "duration": 5,
    "start_time": "2024-09-22T06:42:24.091Z"
   },
   {
    "duration": 10,
    "start_time": "2024-09-22T06:42:24.098Z"
   },
   {
    "duration": 4,
    "start_time": "2024-09-22T06:42:24.111Z"
   },
   {
    "duration": 34,
    "start_time": "2024-09-22T06:42:24.117Z"
   },
   {
    "duration": 5,
    "start_time": "2024-09-22T06:42:24.153Z"
   },
   {
    "duration": 23,
    "start_time": "2024-09-22T06:42:24.159Z"
   },
   {
    "duration": 12,
    "start_time": "2024-09-22T06:42:24.184Z"
   },
   {
    "duration": 10,
    "start_time": "2024-09-22T06:42:24.198Z"
   },
   {
    "duration": 28,
    "start_time": "2024-09-22T06:42:24.210Z"
   },
   {
    "duration": 20,
    "start_time": "2024-09-22T06:42:24.240Z"
   },
   {
    "duration": 18,
    "start_time": "2024-09-22T06:42:24.263Z"
   },
   {
    "duration": 45,
    "start_time": "2024-09-22T06:42:24.285Z"
   },
   {
    "duration": 20,
    "start_time": "2024-09-22T06:42:24.332Z"
   },
   {
    "duration": 28,
    "start_time": "2024-09-22T06:42:24.354Z"
   },
   {
    "duration": 30,
    "start_time": "2024-09-22T06:42:24.384Z"
   },
   {
    "duration": 12,
    "start_time": "2024-09-22T06:42:24.417Z"
   },
   {
    "duration": 22,
    "start_time": "2024-09-22T06:42:24.432Z"
   },
   {
    "duration": 25,
    "start_time": "2024-09-22T06:42:24.456Z"
   },
   {
    "duration": 17,
    "start_time": "2024-09-22T06:42:24.483Z"
   },
   {
    "duration": 9,
    "start_time": "2024-09-22T06:42:24.508Z"
   },
   {
    "duration": 7,
    "start_time": "2024-09-22T06:42:24.520Z"
   },
   {
    "duration": 13,
    "start_time": "2024-09-22T06:42:24.530Z"
   },
   {
    "duration": 21,
    "start_time": "2024-09-22T06:42:24.545Z"
   },
   {
    "duration": 24,
    "start_time": "2024-09-22T06:42:24.568Z"
   },
   {
    "duration": 341,
    "start_time": "2024-09-22T06:42:24.594Z"
   },
   {
    "duration": 115,
    "start_time": "2024-09-22T06:42:24.937Z"
   },
   {
    "duration": 10,
    "start_time": "2024-09-22T06:42:25.055Z"
   },
   {
    "duration": 369,
    "start_time": "2024-09-22T06:42:25.067Z"
   },
   {
    "duration": 313,
    "start_time": "2024-09-22T06:42:25.438Z"
   },
   {
    "duration": 403,
    "start_time": "2024-09-22T06:42:25.754Z"
   },
   {
    "duration": 37,
    "start_time": "2024-09-22T06:42:26.159Z"
   },
   {
    "duration": 35,
    "start_time": "2024-09-22T06:42:26.199Z"
   },
   {
    "duration": 29,
    "start_time": "2024-09-22T06:42:26.236Z"
   },
   {
    "duration": 271,
    "start_time": "2024-09-22T06:42:26.267Z"
   },
   {
    "duration": 254,
    "start_time": "2024-09-22T06:42:26.540Z"
   },
   {
    "duration": 3,
    "start_time": "2024-09-22T06:42:26.796Z"
   },
   {
    "duration": 27,
    "start_time": "2024-09-22T06:42:26.801Z"
   },
   {
    "duration": 35345,
    "start_time": "2024-09-22T06:42:26.830Z"
   },
   {
    "duration": 13,
    "start_time": "2024-09-22T06:43:02.179Z"
   },
   {
    "duration": 61,
    "start_time": "2024-09-22T06:43:02.193Z"
   },
   {
    "duration": 194,
    "start_time": "2024-09-22T06:43:02.256Z"
   },
   {
    "duration": 8,
    "start_time": "2024-09-22T06:43:02.452Z"
   },
   {
    "duration": 53,
    "start_time": "2024-09-22T06:43:02.462Z"
   },
   {
    "duration": 10,
    "start_time": "2024-09-22T06:54:39.819Z"
   },
   {
    "duration": 103,
    "start_time": "2024-09-22T06:54:45.594Z"
   },
   {
    "duration": 8,
    "start_time": "2024-09-22T06:54:54.499Z"
   },
   {
    "duration": 3,
    "start_time": "2024-09-22T06:57:01.658Z"
   },
   {
    "duration": 21,
    "start_time": "2024-09-22T06:57:53.872Z"
   },
   {
    "duration": 1240,
    "start_time": "2024-09-22T07:00:49.097Z"
   },
   {
    "duration": 83,
    "start_time": "2024-09-22T07:00:50.338Z"
   },
   {
    "duration": 8,
    "start_time": "2024-09-22T07:00:50.423Z"
   },
   {
    "duration": 35,
    "start_time": "2024-09-22T07:00:50.434Z"
   },
   {
    "duration": 81,
    "start_time": "2024-09-22T07:00:50.471Z"
   },
   {
    "duration": 13,
    "start_time": "2024-09-22T07:00:50.554Z"
   },
   {
    "duration": 27,
    "start_time": "2024-09-22T07:00:50.568Z"
   },
   {
    "duration": 14,
    "start_time": "2024-09-22T07:00:50.597Z"
   },
   {
    "duration": 30,
    "start_time": "2024-09-22T07:00:50.613Z"
   },
   {
    "duration": 13,
    "start_time": "2024-09-22T07:00:50.644Z"
   },
   {
    "duration": 15,
    "start_time": "2024-09-22T07:00:50.659Z"
   },
   {
    "duration": 38,
    "start_time": "2024-09-22T07:00:50.676Z"
   },
   {
    "duration": 29,
    "start_time": "2024-09-22T07:00:50.717Z"
   },
   {
    "duration": 13,
    "start_time": "2024-09-22T07:00:50.747Z"
   },
   {
    "duration": 28,
    "start_time": "2024-09-22T07:00:50.761Z"
   },
   {
    "duration": 81,
    "start_time": "2024-09-22T07:00:50.791Z"
   },
   {
    "duration": 31,
    "start_time": "2024-09-22T07:00:50.874Z"
   },
   {
    "duration": 30,
    "start_time": "2024-09-22T07:00:50.906Z"
   },
   {
    "duration": 11,
    "start_time": "2024-09-22T07:00:50.938Z"
   },
   {
    "duration": 19,
    "start_time": "2024-09-22T07:00:50.951Z"
   },
   {
    "duration": 80,
    "start_time": "2024-09-22T07:00:50.972Z"
   },
   {
    "duration": 22,
    "start_time": "2024-09-22T07:00:51.054Z"
   },
   {
    "duration": 22,
    "start_time": "2024-09-22T07:00:51.077Z"
   },
   {
    "duration": 39,
    "start_time": "2024-09-22T07:00:51.101Z"
   },
   {
    "duration": 19,
    "start_time": "2024-09-22T07:00:51.142Z"
   },
   {
    "duration": 7,
    "start_time": "2024-09-22T07:00:51.163Z"
   },
   {
    "duration": 327,
    "start_time": "2024-09-22T07:00:51.172Z"
   },
   {
    "duration": 108,
    "start_time": "2024-09-22T07:00:51.500Z"
   },
   {
    "duration": 15,
    "start_time": "2024-09-22T07:00:51.610Z"
   },
   {
    "duration": 337,
    "start_time": "2024-09-22T07:00:51.627Z"
   },
   {
    "duration": 288,
    "start_time": "2024-09-22T07:00:51.966Z"
   },
   {
    "duration": 299,
    "start_time": "2024-09-22T07:00:52.256Z"
   },
   {
    "duration": 26,
    "start_time": "2024-09-22T07:00:52.557Z"
   },
   {
    "duration": 19,
    "start_time": "2024-09-22T07:00:52.584Z"
   },
   {
    "duration": 9,
    "start_time": "2024-09-22T07:00:52.622Z"
   },
   {
    "duration": 259,
    "start_time": "2024-09-22T07:00:52.632Z"
   },
   {
    "duration": 263,
    "start_time": "2024-09-22T07:00:52.892Z"
   },
   {
    "duration": 19,
    "start_time": "2024-09-22T07:00:53.157Z"
   },
   {
    "duration": 27,
    "start_time": "2024-09-22T07:00:53.178Z"
   },
   {
    "duration": 132,
    "start_time": "2024-09-22T07:00:53.208Z"
   },
   {
    "duration": 0,
    "start_time": "2024-09-22T07:00:53.342Z"
   },
   {
    "duration": 0,
    "start_time": "2024-09-22T07:00:53.343Z"
   },
   {
    "duration": 0,
    "start_time": "2024-09-22T07:00:53.344Z"
   },
   {
    "duration": 0,
    "start_time": "2024-09-22T07:00:53.345Z"
   },
   {
    "duration": 0,
    "start_time": "2024-09-22T07:00:53.346Z"
   },
   {
    "duration": 0,
    "start_time": "2024-09-22T07:00:53.347Z"
   },
   {
    "duration": 1139,
    "start_time": "2024-09-22T07:01:53.768Z"
   },
   {
    "duration": 72,
    "start_time": "2024-09-22T07:01:54.910Z"
   },
   {
    "duration": 7,
    "start_time": "2024-09-22T07:01:54.983Z"
   },
   {
    "duration": 26,
    "start_time": "2024-09-22T07:01:54.991Z"
   },
   {
    "duration": 19,
    "start_time": "2024-09-22T07:01:55.019Z"
   },
   {
    "duration": 12,
    "start_time": "2024-09-22T07:01:55.040Z"
   },
   {
    "duration": 17,
    "start_time": "2024-09-22T07:01:55.054Z"
   },
   {
    "duration": 70,
    "start_time": "2024-09-22T07:01:55.074Z"
   },
   {
    "duration": 16,
    "start_time": "2024-09-22T07:01:55.147Z"
   },
   {
    "duration": 13,
    "start_time": "2024-09-22T07:01:55.165Z"
   },
   {
    "duration": 17,
    "start_time": "2024-09-22T07:01:55.180Z"
   },
   {
    "duration": 13,
    "start_time": "2024-09-22T07:01:55.198Z"
   },
   {
    "duration": 32,
    "start_time": "2024-09-22T07:01:55.213Z"
   },
   {
    "duration": 10,
    "start_time": "2024-09-22T07:01:55.249Z"
   },
   {
    "duration": 21,
    "start_time": "2024-09-22T07:01:55.261Z"
   },
   {
    "duration": 9,
    "start_time": "2024-09-22T07:01:55.284Z"
   },
   {
    "duration": 13,
    "start_time": "2024-09-22T07:01:55.295Z"
   },
   {
    "duration": 14,
    "start_time": "2024-09-22T07:01:55.309Z"
   },
   {
    "duration": 3,
    "start_time": "2024-09-22T07:01:55.325Z"
   },
   {
    "duration": 61,
    "start_time": "2024-09-22T07:01:55.330Z"
   },
   {
    "duration": 30,
    "start_time": "2024-09-22T07:01:55.393Z"
   },
   {
    "duration": 6,
    "start_time": "2024-09-22T07:01:55.425Z"
   },
   {
    "duration": 15,
    "start_time": "2024-09-22T07:01:55.433Z"
   },
   {
    "duration": 14,
    "start_time": "2024-09-22T07:01:55.450Z"
   },
   {
    "duration": 6,
    "start_time": "2024-09-22T07:01:55.466Z"
   },
   {
    "duration": 6,
    "start_time": "2024-09-22T07:01:55.475Z"
   },
   {
    "duration": 349,
    "start_time": "2024-09-22T07:01:55.483Z"
   },
   {
    "duration": 118,
    "start_time": "2024-09-22T07:01:55.835Z"
   },
   {
    "duration": 9,
    "start_time": "2024-09-22T07:01:55.955Z"
   },
   {
    "duration": 341,
    "start_time": "2024-09-22T07:01:55.966Z"
   },
   {
    "duration": 249,
    "start_time": "2024-09-22T07:01:56.309Z"
   },
   {
    "duration": 290,
    "start_time": "2024-09-22T07:01:56.559Z"
   },
   {
    "duration": 41,
    "start_time": "2024-09-22T07:01:56.850Z"
   },
   {
    "duration": 38,
    "start_time": "2024-09-22T07:01:56.894Z"
   },
   {
    "duration": 9,
    "start_time": "2024-09-22T07:01:56.934Z"
   },
   {
    "duration": 271,
    "start_time": "2024-09-22T07:01:56.944Z"
   },
   {
    "duration": 262,
    "start_time": "2024-09-22T07:01:57.220Z"
   },
   {
    "duration": 21,
    "start_time": "2024-09-22T07:01:57.484Z"
   },
   {
    "duration": 15,
    "start_time": "2024-09-22T07:01:57.507Z"
   },
   {
    "duration": 9,
    "start_time": "2024-09-22T07:01:57.524Z"
   },
   {
    "duration": 35410,
    "start_time": "2024-09-22T07:01:57.539Z"
   },
   {
    "duration": 13,
    "start_time": "2024-09-22T07:02:32.950Z"
   },
   {
    "duration": 42,
    "start_time": "2024-09-22T07:02:32.964Z"
   },
   {
    "duration": 204,
    "start_time": "2024-09-22T07:02:33.008Z"
   },
   {
    "duration": 8,
    "start_time": "2024-09-22T07:02:33.214Z"
   },
   {
    "duration": 44,
    "start_time": "2024-09-22T07:02:33.224Z"
   },
   {
    "duration": 7,
    "start_time": "2024-09-22T07:06:02.124Z"
   },
   {
    "duration": 115,
    "start_time": "2024-09-22T07:06:03.897Z"
   },
   {
    "duration": 7,
    "start_time": "2024-09-22T07:11:48.532Z"
   },
   {
    "duration": 23,
    "start_time": "2024-09-22T07:11:54.426Z"
   },
   {
    "duration": 5,
    "start_time": "2024-09-22T07:12:12.107Z"
   },
   {
    "duration": 22,
    "start_time": "2024-09-22T07:12:13.834Z"
   },
   {
    "duration": 15,
    "start_time": "2024-09-22T07:12:41.079Z"
   },
   {
    "duration": 6,
    "start_time": "2024-09-22T07:13:32.744Z"
   },
   {
    "duration": 1181,
    "start_time": "2024-09-22T07:13:34.138Z"
   },
   {
    "duration": 5,
    "start_time": "2024-09-22T07:19:07.001Z"
   },
   {
    "duration": 22,
    "start_time": "2024-09-22T07:19:55.133Z"
   },
   {
    "duration": 17,
    "start_time": "2024-09-22T07:20:31.802Z"
   },
   {
    "duration": 20,
    "start_time": "2024-09-22T07:20:44.983Z"
   },
   {
    "duration": 25,
    "start_time": "2024-09-22T07:21:07.431Z"
   },
   {
    "duration": 13,
    "start_time": "2024-09-22T07:21:30.243Z"
   },
   {
    "duration": 14,
    "start_time": "2024-09-22T07:21:35.357Z"
   },
   {
    "duration": 31,
    "start_time": "2024-09-22T07:21:41.601Z"
   },
   {
    "duration": 31,
    "start_time": "2024-09-22T07:21:52.906Z"
   },
   {
    "duration": 87,
    "start_time": "2024-09-22T07:30:24.199Z"
   },
   {
    "duration": 62,
    "start_time": "2024-09-22T07:30:28.878Z"
   },
   {
    "duration": 63,
    "start_time": "2024-09-22T07:30:58.321Z"
   },
   {
    "duration": 83,
    "start_time": "2024-09-22T07:31:15.873Z"
   },
   {
    "duration": 81,
    "start_time": "2024-09-22T07:31:23.559Z"
   },
   {
    "duration": 94,
    "start_time": "2024-09-22T07:42:44.640Z"
   },
   {
    "duration": 51,
    "start_time": "2024-09-22T07:43:28.257Z"
   },
   {
    "duration": 2353,
    "start_time": "2024-09-22T07:43:32.455Z"
   },
   {
    "duration": 1238,
    "start_time": "2024-09-22T07:43:51.780Z"
   },
   {
    "duration": 1342,
    "start_time": "2024-09-22T07:44:11.045Z"
   },
   {
    "duration": 1077,
    "start_time": "2024-09-22T07:44:30.507Z"
   },
   {
    "duration": 1143,
    "start_time": "2024-09-22T07:44:59.758Z"
   },
   {
    "duration": 75,
    "start_time": "2024-09-22T07:45:00.903Z"
   },
   {
    "duration": 6,
    "start_time": "2024-09-22T07:45:00.979Z"
   },
   {
    "duration": 14,
    "start_time": "2024-09-22T07:45:00.986Z"
   },
   {
    "duration": 88,
    "start_time": "2024-09-22T07:45:01.001Z"
   },
   {
    "duration": 18,
    "start_time": "2024-09-22T07:45:01.091Z"
   },
   {
    "duration": 7,
    "start_time": "2024-09-22T07:45:01.111Z"
   },
   {
    "duration": 18,
    "start_time": "2024-09-22T07:45:01.120Z"
   },
   {
    "duration": 12,
    "start_time": "2024-09-22T07:45:01.140Z"
   },
   {
    "duration": 33,
    "start_time": "2024-09-22T07:45:01.155Z"
   },
   {
    "duration": 31,
    "start_time": "2024-09-22T07:45:01.189Z"
   },
   {
    "duration": 43,
    "start_time": "2024-09-22T07:45:01.221Z"
   },
   {
    "duration": 39,
    "start_time": "2024-09-22T07:45:01.266Z"
   },
   {
    "duration": 13,
    "start_time": "2024-09-22T07:45:01.307Z"
   },
   {
    "duration": 42,
    "start_time": "2024-09-22T07:45:01.322Z"
   },
   {
    "duration": 26,
    "start_time": "2024-09-22T07:45:01.366Z"
   },
   {
    "duration": 28,
    "start_time": "2024-09-22T07:45:01.394Z"
   },
   {
    "duration": 43,
    "start_time": "2024-09-22T07:45:01.424Z"
   },
   {
    "duration": 81,
    "start_time": "2024-09-22T07:45:01.469Z"
   },
   {
    "duration": 25,
    "start_time": "2024-09-22T07:45:01.552Z"
   },
   {
    "duration": 26,
    "start_time": "2024-09-22T07:45:01.579Z"
   },
   {
    "duration": 29,
    "start_time": "2024-09-22T07:45:01.606Z"
   },
   {
    "duration": 82,
    "start_time": "2024-09-22T07:45:01.637Z"
   },
   {
    "duration": 48,
    "start_time": "2024-09-22T07:45:01.721Z"
   },
   {
    "duration": 16,
    "start_time": "2024-09-22T07:45:01.771Z"
   },
   {
    "duration": 18,
    "start_time": "2024-09-22T07:45:01.789Z"
   },
   {
    "duration": 354,
    "start_time": "2024-09-22T07:45:01.808Z"
   },
   {
    "duration": 106,
    "start_time": "2024-09-22T07:45:02.166Z"
   },
   {
    "duration": 10,
    "start_time": "2024-09-22T07:45:02.273Z"
   },
   {
    "duration": 322,
    "start_time": "2024-09-22T07:45:02.285Z"
   },
   {
    "duration": 269,
    "start_time": "2024-09-22T07:45:02.608Z"
   },
   {
    "duration": 304,
    "start_time": "2024-09-22T07:45:02.879Z"
   },
   {
    "duration": 42,
    "start_time": "2024-09-22T07:45:03.185Z"
   },
   {
    "duration": 68,
    "start_time": "2024-09-22T07:45:03.231Z"
   },
   {
    "duration": 9,
    "start_time": "2024-09-22T07:45:03.300Z"
   },
   {
    "duration": 273,
    "start_time": "2024-09-22T07:45:03.310Z"
   },
   {
    "duration": 257,
    "start_time": "2024-09-22T07:45:03.584Z"
   },
   {
    "duration": 20,
    "start_time": "2024-09-22T07:45:03.842Z"
   },
   {
    "duration": 32,
    "start_time": "2024-09-22T07:45:03.864Z"
   },
   {
    "duration": 37,
    "start_time": "2024-09-22T07:45:03.897Z"
   },
   {
    "duration": 8,
    "start_time": "2024-09-22T07:45:03.936Z"
   },
   {
    "duration": 28,
    "start_time": "2024-09-22T07:45:03.946Z"
   },
   {
    "duration": 39,
    "start_time": "2024-09-22T07:45:03.976Z"
   },
   {
    "duration": 1689,
    "start_time": "2024-09-22T07:45:04.017Z"
   },
   {
    "duration": 0,
    "start_time": "2024-09-22T07:45:05.708Z"
   },
   {
    "duration": 0,
    "start_time": "2024-09-22T07:45:05.709Z"
   },
   {
    "duration": 0,
    "start_time": "2024-09-22T07:45:05.710Z"
   },
   {
    "duration": 0,
    "start_time": "2024-09-22T07:45:05.711Z"
   },
   {
    "duration": 0,
    "start_time": "2024-09-22T07:45:05.713Z"
   },
   {
    "duration": 89,
    "start_time": "2024-09-22T07:45:25.576Z"
   },
   {
    "duration": 82,
    "start_time": "2024-09-22T07:45:29.966Z"
   },
   {
    "duration": 82,
    "start_time": "2024-09-22T07:47:39.118Z"
   },
   {
    "duration": 112,
    "start_time": "2024-09-22T07:47:55.036Z"
   },
   {
    "duration": 13,
    "start_time": "2024-09-22T07:51:19.927Z"
   },
   {
    "duration": 20,
    "start_time": "2024-09-22T07:51:23.707Z"
   },
   {
    "duration": 20,
    "start_time": "2024-09-22T07:51:45.598Z"
   },
   {
    "duration": 21,
    "start_time": "2024-09-22T07:52:31.368Z"
   },
   {
    "duration": 20,
    "start_time": "2024-09-22T07:54:16.591Z"
   },
   {
    "duration": 22,
    "start_time": "2024-09-22T07:54:46.702Z"
   },
   {
    "duration": 15,
    "start_time": "2024-09-22T07:55:41.019Z"
   },
   {
    "duration": 1044,
    "start_time": "2024-09-22T07:55:47.192Z"
   },
   {
    "duration": 17,
    "start_time": "2024-09-22T07:56:02.174Z"
   },
   {
    "duration": 19,
    "start_time": "2024-09-22T07:57:01.151Z"
   },
   {
    "duration": 13,
    "start_time": "2024-09-22T07:57:05.576Z"
   },
   {
    "duration": 19,
    "start_time": "2024-09-22T07:57:22.732Z"
   },
   {
    "duration": 15,
    "start_time": "2024-09-22T07:57:42.180Z"
   },
   {
    "duration": 1159,
    "start_time": "2024-09-22T07:57:46.783Z"
   },
   {
    "duration": 28,
    "start_time": "2024-09-22T07:59:53.762Z"
   },
   {
    "duration": 18,
    "start_time": "2024-09-22T08:02:12.354Z"
   },
   {
    "duration": 803,
    "start_time": "2024-09-22T08:02:19.515Z"
   },
   {
    "duration": 13,
    "start_time": "2024-09-22T08:02:28.543Z"
   },
   {
    "duration": 1299,
    "start_time": "2024-09-22T08:02:44.741Z"
   },
   {
    "duration": 999,
    "start_time": "2024-09-22T08:02:58.722Z"
   },
   {
    "duration": 21,
    "start_time": "2024-09-22T08:03:07.596Z"
   },
   {
    "duration": 13,
    "start_time": "2024-09-22T08:03:23.119Z"
   },
   {
    "duration": 14,
    "start_time": "2024-09-22T08:03:34.757Z"
   },
   {
    "duration": 14,
    "start_time": "2024-09-22T08:03:39.080Z"
   },
   {
    "duration": 13,
    "start_time": "2024-09-22T08:03:46.449Z"
   },
   {
    "duration": 15,
    "start_time": "2024-09-22T08:03:49.099Z"
   },
   {
    "duration": 1024,
    "start_time": "2024-09-22T08:03:59.190Z"
   },
   {
    "duration": 1113,
    "start_time": "2024-09-22T08:04:09.289Z"
   },
   {
    "duration": 18,
    "start_time": "2024-09-22T08:04:16.760Z"
   },
   {
    "duration": 9,
    "start_time": "2024-09-22T08:07:20.690Z"
   },
   {
    "duration": 35,
    "start_time": "2024-09-22T08:07:28.018Z"
   },
   {
    "duration": 22,
    "start_time": "2024-09-22T08:07:55.967Z"
   },
   {
    "duration": 13,
    "start_time": "2024-09-22T08:08:16.339Z"
   },
   {
    "duration": 23,
    "start_time": "2024-09-22T08:08:20.223Z"
   },
   {
    "duration": 1078,
    "start_time": "2024-09-22T08:08:41.749Z"
   },
   {
    "duration": 1253,
    "start_time": "2024-09-22T08:08:51.276Z"
   },
   {
    "duration": 1001,
    "start_time": "2024-09-22T08:08:56.048Z"
   },
   {
    "duration": 16,
    "start_time": "2024-09-22T08:09:15.263Z"
   },
   {
    "duration": 26,
    "start_time": "2024-09-22T08:09:20.207Z"
   },
   {
    "duration": 1004,
    "start_time": "2024-09-22T08:09:32.364Z"
   },
   {
    "duration": 424,
    "start_time": "2024-09-22T08:09:43.091Z"
   },
   {
    "duration": 23,
    "start_time": "2024-09-22T08:09:59.904Z"
   },
   {
    "duration": 26,
    "start_time": "2024-09-22T08:10:11.653Z"
   },
   {
    "duration": 24,
    "start_time": "2024-09-22T08:10:24.326Z"
   },
   {
    "duration": 17,
    "start_time": "2024-09-22T08:10:33.515Z"
   },
   {
    "duration": 24,
    "start_time": "2024-09-22T08:10:34.198Z"
   },
   {
    "duration": 21,
    "start_time": "2024-09-22T08:11:33.529Z"
   },
   {
    "duration": 34,
    "start_time": "2024-09-22T08:12:22.710Z"
   },
   {
    "duration": 25,
    "start_time": "2024-09-22T08:12:25.635Z"
   },
   {
    "duration": 32,
    "start_time": "2024-09-22T08:12:31.013Z"
   },
   {
    "duration": 29,
    "start_time": "2024-09-22T08:15:57.297Z"
   },
   {
    "duration": 94,
    "start_time": "2024-09-22T08:17:43.315Z"
   },
   {
    "duration": 72,
    "start_time": "2024-09-22T08:18:49.056Z"
   },
   {
    "duration": 34,
    "start_time": "2024-09-22T08:18:52.611Z"
   },
   {
    "duration": 29,
    "start_time": "2024-09-22T08:19:28.245Z"
   },
   {
    "duration": 1148,
    "start_time": "2024-09-22T08:20:16.260Z"
   },
   {
    "duration": 73,
    "start_time": "2024-09-22T08:20:17.410Z"
   },
   {
    "duration": 6,
    "start_time": "2024-09-22T08:20:17.484Z"
   },
   {
    "duration": 5,
    "start_time": "2024-09-22T08:20:17.492Z"
   },
   {
    "duration": 5,
    "start_time": "2024-09-22T08:20:17.500Z"
   },
   {
    "duration": 4,
    "start_time": "2024-09-22T08:20:17.507Z"
   },
   {
    "duration": 17,
    "start_time": "2024-09-22T08:20:17.513Z"
   },
   {
    "duration": 5,
    "start_time": "2024-09-22T08:20:17.532Z"
   },
   {
    "duration": 17,
    "start_time": "2024-09-22T08:20:17.538Z"
   },
   {
    "duration": 10,
    "start_time": "2024-09-22T08:20:17.556Z"
   },
   {
    "duration": 8,
    "start_time": "2024-09-22T08:20:17.568Z"
   },
   {
    "duration": 66,
    "start_time": "2024-09-22T08:20:17.577Z"
   },
   {
    "duration": 13,
    "start_time": "2024-09-22T08:20:17.645Z"
   },
   {
    "duration": 9,
    "start_time": "2024-09-22T08:20:17.661Z"
   },
   {
    "duration": 10,
    "start_time": "2024-09-22T08:20:17.672Z"
   },
   {
    "duration": 15,
    "start_time": "2024-09-22T08:20:17.683Z"
   },
   {
    "duration": 7,
    "start_time": "2024-09-22T08:20:17.700Z"
   },
   {
    "duration": 31,
    "start_time": "2024-09-22T08:20:17.709Z"
   },
   {
    "duration": 3,
    "start_time": "2024-09-22T08:20:17.742Z"
   },
   {
    "duration": 17,
    "start_time": "2024-09-22T08:20:17.747Z"
   },
   {
    "duration": 11,
    "start_time": "2024-09-22T08:20:17.766Z"
   },
   {
    "duration": 6,
    "start_time": "2024-09-22T08:20:17.779Z"
   },
   {
    "duration": 10,
    "start_time": "2024-09-22T08:20:17.787Z"
   },
   {
    "duration": 22,
    "start_time": "2024-09-22T08:20:17.799Z"
   },
   {
    "duration": 17,
    "start_time": "2024-09-22T08:20:17.823Z"
   },
   {
    "duration": 7,
    "start_time": "2024-09-22T08:20:17.841Z"
   },
   {
    "duration": 333,
    "start_time": "2024-09-22T08:20:17.849Z"
   },
   {
    "duration": 99,
    "start_time": "2024-09-22T08:20:18.184Z"
   },
   {
    "duration": 8,
    "start_time": "2024-09-22T08:20:18.285Z"
   },
   {
    "duration": 308,
    "start_time": "2024-09-22T08:20:18.294Z"
   },
   {
    "duration": 240,
    "start_time": "2024-09-22T08:20:18.603Z"
   },
   {
    "duration": 287,
    "start_time": "2024-09-22T08:20:18.845Z"
   },
   {
    "duration": 26,
    "start_time": "2024-09-22T08:20:19.134Z"
   },
   {
    "duration": 19,
    "start_time": "2024-09-22T08:20:19.161Z"
   },
   {
    "duration": 11,
    "start_time": "2024-09-22T08:20:19.181Z"
   },
   {
    "duration": 315,
    "start_time": "2024-09-22T08:20:19.194Z"
   },
   {
    "duration": 245,
    "start_time": "2024-09-22T08:20:19.511Z"
   },
   {
    "duration": 22,
    "start_time": "2024-09-22T08:20:19.758Z"
   },
   {
    "duration": 51,
    "start_time": "2024-09-22T08:20:19.783Z"
   },
   {
    "duration": 113,
    "start_time": "2024-09-22T08:20:19.835Z"
   },
   {
    "duration": 18,
    "start_time": "2024-09-22T08:20:19.953Z"
   },
   {
    "duration": 204,
    "start_time": "2024-09-22T08:20:19.973Z"
   },
   {
    "duration": 8,
    "start_time": "2024-09-22T08:20:20.179Z"
   },
   {
    "duration": 18,
    "start_time": "2024-09-22T08:20:20.189Z"
   },
   {
    "duration": 16,
    "start_time": "2024-09-22T08:22:33.062Z"
   },
   {
    "duration": 30,
    "start_time": "2024-09-22T08:22:33.552Z"
   },
   {
    "duration": 8,
    "start_time": "2024-09-22T08:24:14.579Z"
   },
   {
    "duration": 114,
    "start_time": "2024-09-22T08:29:56.294Z"
   },
   {
    "duration": 4,
    "start_time": "2024-09-22T08:31:20.013Z"
   },
   {
    "duration": 4,
    "start_time": "2024-09-22T08:31:32.656Z"
   },
   {
    "duration": 28,
    "start_time": "2024-09-22T08:31:50.909Z"
   },
   {
    "duration": 42,
    "start_time": "2024-09-22T08:32:54.576Z"
   },
   {
    "duration": 8,
    "start_time": "2024-09-22T08:34:26.608Z"
   },
   {
    "duration": 5,
    "start_time": "2024-09-22T08:34:35.549Z"
   },
   {
    "duration": 3,
    "start_time": "2024-09-22T08:34:41.508Z"
   },
   {
    "duration": 18,
    "start_time": "2024-09-22T08:34:44.537Z"
   },
   {
    "duration": 27,
    "start_time": "2024-09-22T08:34:47.159Z"
   },
   {
    "duration": 5,
    "start_time": "2024-09-22T08:34:49.235Z"
   },
   {
    "duration": 5,
    "start_time": "2024-09-22T08:35:21.997Z"
   },
   {
    "duration": 3,
    "start_time": "2024-09-22T08:35:28.752Z"
   },
   {
    "duration": 5,
    "start_time": "2024-09-22T08:35:31.581Z"
   },
   {
    "duration": 145,
    "start_time": "2024-09-22T08:36:54.119Z"
   },
   {
    "duration": 29,
    "start_time": "2024-09-22T08:36:54.832Z"
   },
   {
    "duration": 36,
    "start_time": "2024-09-22T08:38:33.857Z"
   },
   {
    "duration": 2136,
    "start_time": "2024-09-22T08:38:34.452Z"
   },
   {
    "duration": 38,
    "start_time": "2024-09-22T08:38:47.690Z"
   },
   {
    "duration": 36,
    "start_time": "2024-09-22T08:39:14.036Z"
   },
   {
    "duration": 5,
    "start_time": "2024-09-22T08:41:08.765Z"
   },
   {
    "duration": 17,
    "start_time": "2024-09-22T08:42:12.391Z"
   },
   {
    "duration": 8,
    "start_time": "2024-09-22T08:43:19.949Z"
   },
   {
    "duration": 9,
    "start_time": "2024-09-22T08:46:32.773Z"
   },
   {
    "duration": 12,
    "start_time": "2024-09-22T08:48:06.820Z"
   },
   {
    "duration": 7,
    "start_time": "2024-09-22T08:49:10.046Z"
   },
   {
    "duration": 12,
    "start_time": "2024-09-22T08:49:16.081Z"
   },
   {
    "duration": 10,
    "start_time": "2024-09-22T08:50:09.937Z"
   },
   {
    "duration": 5,
    "start_time": "2024-09-22T08:50:32.125Z"
   },
   {
    "duration": 6,
    "start_time": "2024-09-22T08:50:51.445Z"
   },
   {
    "duration": 4,
    "start_time": "2024-09-22T08:50:56.092Z"
   },
   {
    "duration": 16,
    "start_time": "2024-09-22T08:51:09.076Z"
   },
   {
    "duration": 12,
    "start_time": "2024-09-22T08:51:54.255Z"
   },
   {
    "duration": 77,
    "start_time": "2024-09-22T08:56:32.548Z"
   },
   {
    "duration": 1164,
    "start_time": "2024-09-22T11:24:02.208Z"
   },
   {
    "duration": 77,
    "start_time": "2024-09-22T11:24:03.374Z"
   },
   {
    "duration": 5,
    "start_time": "2024-09-22T11:24:03.453Z"
   },
   {
    "duration": 25,
    "start_time": "2024-09-22T11:24:03.460Z"
   },
   {
    "duration": 51,
    "start_time": "2024-09-22T11:24:03.487Z"
   },
   {
    "duration": 44,
    "start_time": "2024-09-22T11:24:03.540Z"
   },
   {
    "duration": 31,
    "start_time": "2024-09-22T11:24:03.586Z"
   },
   {
    "duration": 59,
    "start_time": "2024-09-22T11:24:03.619Z"
   },
   {
    "duration": 43,
    "start_time": "2024-09-22T11:24:03.679Z"
   },
   {
    "duration": 35,
    "start_time": "2024-09-22T11:24:03.723Z"
   },
   {
    "duration": 40,
    "start_time": "2024-09-22T11:24:03.760Z"
   },
   {
    "duration": 50,
    "start_time": "2024-09-22T11:24:03.801Z"
   },
   {
    "duration": 39,
    "start_time": "2024-09-22T11:24:03.853Z"
   },
   {
    "duration": 54,
    "start_time": "2024-09-22T11:24:03.894Z"
   },
   {
    "duration": 44,
    "start_time": "2024-09-22T11:24:03.949Z"
   },
   {
    "duration": 22,
    "start_time": "2024-09-22T11:24:03.994Z"
   },
   {
    "duration": 36,
    "start_time": "2024-09-22T11:24:04.018Z"
   },
   {
    "duration": 46,
    "start_time": "2024-09-22T11:24:04.056Z"
   },
   {
    "duration": 21,
    "start_time": "2024-09-22T11:24:04.103Z"
   },
   {
    "duration": 41,
    "start_time": "2024-09-22T11:24:04.129Z"
   },
   {
    "duration": 51,
    "start_time": "2024-09-22T11:24:04.172Z"
   },
   {
    "duration": 18,
    "start_time": "2024-09-22T11:24:04.224Z"
   },
   {
    "duration": 34,
    "start_time": "2024-09-22T11:24:04.244Z"
   },
   {
    "duration": 28,
    "start_time": "2024-09-22T11:24:04.280Z"
   },
   {
    "duration": 11,
    "start_time": "2024-09-22T11:24:04.310Z"
   },
   {
    "duration": 36,
    "start_time": "2024-09-22T11:24:04.323Z"
   },
   {
    "duration": 319,
    "start_time": "2024-09-22T11:24:04.360Z"
   },
   {
    "duration": 95,
    "start_time": "2024-09-22T11:24:04.681Z"
   },
   {
    "duration": 8,
    "start_time": "2024-09-22T11:24:04.778Z"
   },
   {
    "duration": 356,
    "start_time": "2024-09-22T11:24:04.787Z"
   },
   {
    "duration": 234,
    "start_time": "2024-09-22T11:24:05.145Z"
   },
   {
    "duration": 285,
    "start_time": "2024-09-22T11:24:05.381Z"
   },
   {
    "duration": 24,
    "start_time": "2024-09-22T11:24:05.667Z"
   },
   {
    "duration": 39,
    "start_time": "2024-09-22T11:24:05.693Z"
   },
   {
    "duration": 9,
    "start_time": "2024-09-22T11:24:05.738Z"
   },
   {
    "duration": 267,
    "start_time": "2024-09-22T11:24:05.748Z"
   },
   {
    "duration": 257,
    "start_time": "2024-09-22T11:24:06.017Z"
   },
   {
    "duration": 18,
    "start_time": "2024-09-22T11:24:06.275Z"
   },
   {
    "duration": 51,
    "start_time": "2024-09-22T11:24:06.295Z"
   },
   {
    "duration": 120,
    "start_time": "2024-09-22T11:24:06.347Z"
   },
   {
    "duration": 12,
    "start_time": "2024-09-22T11:24:06.471Z"
   },
   {
    "duration": 49,
    "start_time": "2024-09-22T13:36:10.591Z"
   },
   {
    "duration": 1052,
    "start_time": "2024-09-22T13:36:18.207Z"
   },
   {
    "duration": 354,
    "start_time": "2024-09-22T13:36:19.261Z"
   },
   {
    "duration": 5,
    "start_time": "2024-09-22T13:36:19.617Z"
   },
   {
    "duration": 26,
    "start_time": "2024-09-22T13:36:19.624Z"
   },
   {
    "duration": 4,
    "start_time": "2024-09-22T13:36:19.654Z"
   },
   {
    "duration": 5,
    "start_time": "2024-09-22T13:36:19.659Z"
   },
   {
    "duration": 4,
    "start_time": "2024-09-22T13:36:19.665Z"
   },
   {
    "duration": 5,
    "start_time": "2024-09-22T13:36:19.670Z"
   },
   {
    "duration": 13,
    "start_time": "2024-09-22T13:36:19.676Z"
   },
   {
    "duration": 11,
    "start_time": "2024-09-22T13:36:19.690Z"
   },
   {
    "duration": 7,
    "start_time": "2024-09-22T13:36:19.703Z"
   },
   {
    "duration": 10,
    "start_time": "2024-09-22T13:36:19.712Z"
   },
   {
    "duration": 11,
    "start_time": "2024-09-22T13:36:19.724Z"
   },
   {
    "duration": 9,
    "start_time": "2024-09-22T13:36:19.738Z"
   },
   {
    "duration": 5,
    "start_time": "2024-09-22T13:36:19.789Z"
   },
   {
    "duration": 9,
    "start_time": "2024-09-22T13:36:19.796Z"
   },
   {
    "duration": 8,
    "start_time": "2024-09-22T13:36:19.806Z"
   },
   {
    "duration": 10,
    "start_time": "2024-09-22T13:36:19.816Z"
   },
   {
    "duration": 3,
    "start_time": "2024-09-22T13:36:19.828Z"
   },
   {
    "duration": 16,
    "start_time": "2024-09-22T13:36:19.832Z"
   },
   {
    "duration": 42,
    "start_time": "2024-09-22T13:36:19.849Z"
   },
   {
    "duration": 5,
    "start_time": "2024-09-22T13:36:19.893Z"
   },
   {
    "duration": 5,
    "start_time": "2024-09-22T13:36:19.900Z"
   },
   {
    "duration": 6,
    "start_time": "2024-09-22T13:36:19.907Z"
   },
   {
    "duration": 7,
    "start_time": "2024-09-22T13:36:19.914Z"
   },
   {
    "duration": 5,
    "start_time": "2024-09-22T13:36:19.922Z"
   },
   {
    "duration": 353,
    "start_time": "2024-09-22T13:36:19.928Z"
   },
   {
    "duration": 111,
    "start_time": "2024-09-22T13:36:20.283Z"
   },
   {
    "duration": 9,
    "start_time": "2024-09-22T13:36:20.396Z"
   },
   {
    "duration": 294,
    "start_time": "2024-09-22T13:36:20.406Z"
   },
   {
    "duration": 234,
    "start_time": "2024-09-22T13:36:20.701Z"
   },
   {
    "duration": 264,
    "start_time": "2024-09-22T13:36:20.936Z"
   },
   {
    "duration": 26,
    "start_time": "2024-09-22T13:36:21.201Z"
   },
   {
    "duration": 18,
    "start_time": "2024-09-22T13:36:21.229Z"
   },
   {
    "duration": 8,
    "start_time": "2024-09-22T13:36:21.248Z"
   },
   {
    "duration": 259,
    "start_time": "2024-09-22T13:36:21.258Z"
   },
   {
    "duration": 229,
    "start_time": "2024-09-22T13:36:21.519Z"
   },
   {
    "duration": 20,
    "start_time": "2024-09-22T13:36:21.749Z"
   },
   {
    "duration": 46,
    "start_time": "2024-09-22T13:36:21.770Z"
   },
   {
    "duration": 118,
    "start_time": "2024-09-22T13:36:21.818Z"
   },
   {
    "duration": 16,
    "start_time": "2024-09-22T13:36:21.940Z"
   },
   {
    "duration": 179,
    "start_time": "2024-09-22T13:36:21.957Z"
   },
   {
    "duration": 7,
    "start_time": "2024-09-22T13:36:22.138Z"
   },
   {
    "duration": 15,
    "start_time": "2024-09-22T13:36:22.146Z"
   },
   {
    "duration": 7,
    "start_time": "2024-09-22T13:36:22.163Z"
   }
  ],
  "kernelspec": {
   "display_name": "Python 3 (ipykernel)",
   "language": "python",
   "name": "python3"
  },
  "language_info": {
   "codemirror_mode": {
    "name": "ipython",
    "version": 3
   },
   "file_extension": ".py",
   "mimetype": "text/x-python",
   "name": "python",
   "nbconvert_exporter": "python",
   "pygments_lexer": "ipython3",
   "version": "3.9.5"
  },
  "toc": {
   "base_numbering": 1,
   "nav_menu": {},
   "number_sections": true,
   "sideBar": true,
   "skip_h1_title": true,
   "title_cell": "Table of Contents",
   "title_sidebar": "Contents",
   "toc_cell": false,
   "toc_position": {},
   "toc_section_display": true,
   "toc_window_display": false
  }
 },
 "nbformat": 4,
 "nbformat_minor": 5
}
