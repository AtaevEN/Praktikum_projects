{
 "cells": [
  {
   "cell_type": "markdown",
   "metadata": {
    "toc": true
   },
   "source": [
    "<h1>Содержание<span class=\"tocSkip\"></span></h1>\n",
    "<div class=\"toc\"><ul class=\"toc-item\"><li><span><a href=\"#Подготовка\" data-toc-modified-id=\"Подготовка-1\"><span class=\"toc-item-num\">1&nbsp;&nbsp;</span>Подготовка</a></span><ul class=\"toc-item\"><li><span><a href=\"#Краткое-резюме-по-подготовке-данных:\" data-toc-modified-id=\"Краткое-резюме-по-подготовке-данных:-1.1\"><span class=\"toc-item-num\">1.1&nbsp;&nbsp;</span>Краткое резюме по подготовке данных:</a></span><ul class=\"toc-item\"><li><span><a href=\"#Предварительный-анализ:\" data-toc-modified-id=\"Предварительный-анализ:-1.1.1\"><span class=\"toc-item-num\">1.1.1&nbsp;&nbsp;</span>Предварительный анализ:</a></span></li><li><span><a href=\"#Подготовка-данных:\" data-toc-modified-id=\"Подготовка-данных:-1.1.2\"><span class=\"toc-item-num\">1.1.2&nbsp;&nbsp;</span>Подготовка данных:</a></span></li><li><span><a href=\"#Ресемплирование:\" data-toc-modified-id=\"Ресемплирование:-1.1.3\"><span class=\"toc-item-num\">1.1.3&nbsp;&nbsp;</span>Ресемплирование:</a></span></li><li><span><a href=\"#P.S.\" data-toc-modified-id=\"P.S.-1.1.4\"><span class=\"toc-item-num\">1.1.4&nbsp;&nbsp;</span>P.S.</a></span></li></ul></li></ul></li><li><span><a href=\"#Анализ\" data-toc-modified-id=\"Анализ-2\"><span class=\"toc-item-num\">2&nbsp;&nbsp;</span>Анализ</a></span><ul class=\"toc-item\"><li><span><a href=\"#Краткое-резюме-по-анализу-и-очистке-данных-о-заказах:\" data-toc-modified-id=\"Краткое-резюме-по-анализу-и-очистке-данных-о-заказах:-2.1\"><span class=\"toc-item-num\">2.1&nbsp;&nbsp;</span>Краткое резюме по анализу и очистке данных о заказах:</a></span><ul class=\"toc-item\"><li><span><a href=\"#Анализ-распределения-заказов:\" data-toc-modified-id=\"Анализ-распределения-заказов:-2.1.1\"><span class=\"toc-item-num\">2.1.1&nbsp;&nbsp;</span>Анализ распределения заказов:</a></span></li><li><span><a href=\"#Очистка-данных:\" data-toc-modified-id=\"Очистка-данных:-2.1.2\"><span class=\"toc-item-num\">2.1.2&nbsp;&nbsp;</span>Очистка данных:</a></span></li><li><span><a href=\"#Проведенная-работа-по-анализу-временных-рядов-данных-о-заказах-такси-была-направлена-на-несколько-ключевых-целей:\" data-toc-modified-id=\"Проведенная-работа-по-анализу-временных-рядов-данных-о-заказах-такси-была-направлена-на-несколько-ключевых-целей:-2.1.3\"><span class=\"toc-item-num\">2.1.3&nbsp;&nbsp;</span>Проведенная работа по анализу временных рядов данных о заказах такси была направлена на несколько ключевых целей:</a></span></li></ul></li></ul></li><li><span><a href=\"#Обучение\" data-toc-modified-id=\"Обучение-3\"><span class=\"toc-item-num\">3&nbsp;&nbsp;</span>Обучение</a></span></li><li><span><a href=\"#Тестирование\" data-toc-modified-id=\"Тестирование-4\"><span class=\"toc-item-num\">4&nbsp;&nbsp;</span>Тестирование</a></span></li><li><span><a href=\"#Итоговый-вывод-по-проделанной-работе\" data-toc-modified-id=\"Итоговый-вывод-по-проделанной-работе-5\"><span class=\"toc-item-num\">5&nbsp;&nbsp;</span>Итоговый вывод по проделанной работе</a></span><ul class=\"toc-item\"><li><span><a href=\"#В-ходе-работы-над-проектом-по-прогнозированию-заказов-такси-для-компании-«Чётенькое-такси»-мы-выполнили-следующие-шаги:\" data-toc-modified-id=\"В-ходе-работы-над-проектом-по-прогнозированию-заказов-такси-для-компании-«Чётенькое-такси»-мы-выполнили-следующие-шаги:-5.1\"><span class=\"toc-item-num\">5.1&nbsp;&nbsp;</span>В ходе работы над проектом по прогнозированию заказов такси для компании «Чётенькое такси» мы выполнили следующие шаги:</a></span><ul class=\"toc-item\"><li><span><a href=\"#Подготовка-данных:\" data-toc-modified-id=\"Подготовка-данных:-5.1.1\"><span class=\"toc-item-num\">5.1.1&nbsp;&nbsp;</span>Подготовка данных:</a></span></li><li><span><a href=\"#Анализ-данных:\" data-toc-modified-id=\"Анализ-данных:-5.1.2\"><span class=\"toc-item-num\">5.1.2&nbsp;&nbsp;</span>Анализ данных:</a></span></li><li><span><a href=\"#Создание-признаков:\" data-toc-modified-id=\"Создание-признаков:-5.1.3\"><span class=\"toc-item-num\">5.1.3&nbsp;&nbsp;</span>Создание признаков:</a></span></li><li><span><a href=\"#Обучение-моделей:\" data-toc-modified-id=\"Обучение-моделей:-5.1.4\"><span class=\"toc-item-num\">5.1.4&nbsp;&nbsp;</span>Обучение моделей:</a></span></li><li><span><a href=\"#Тестирование:\" data-toc-modified-id=\"Тестирование:-5.1.5\"><span class=\"toc-item-num\">5.1.5&nbsp;&nbsp;</span>Тестирование:</a></span></li><li><span><a href=\"#Итоговый-вывод:\" data-toc-modified-id=\"Итоговый-вывод:-5.1.6\"><span class=\"toc-item-num\">5.1.6&nbsp;&nbsp;</span>Итоговый вывод:</a></span></li></ul></li></ul></li><li><span><a href=\"#Чек-лист-проверки\" data-toc-modified-id=\"Чек-лист-проверки-6\"><span class=\"toc-item-num\">6&nbsp;&nbsp;</span>Чек-лист проверки</a></span></li></ul></div>"
   ]
  },
  {
   "cell_type": "markdown",
   "metadata": {},
   "source": [
    "#  Прогнозирование заказов такси"
   ]
  },
  {
   "cell_type": "markdown",
   "metadata": {},
   "source": [
    "Компания «Чётенькое такси» собрала исторические данные о заказах такси в аэропортах. Чтобы привлекать больше водителей в период пиковой нагрузки, нужно спрогнозировать количество заказов такси на следующий час. Нужно построить модель для такого предсказания.\n",
    "\n",
    "Значение метрики *RMSE* на тестовой выборке должно быть не больше 48."
   ]
  },
  {
   "cell_type": "markdown",
   "metadata": {},
   "source": [
    "## Подготовка"
   ]
  },
  {
   "cell_type": "code",
   "execution_count": 1,
   "metadata": {},
   "outputs": [],
   "source": [
    "import sklearn\n",
    "import pandas as pd\n",
    "import matplotlib.pyplot as plt\n",
    "import numpy as np\n",
    "from sklearn.model_selection import train_test_split, cross_val_score\n",
    "\n",
    "import seaborn as sns\n",
    "from sklearn.linear_model import LinearRegression, Ridge, Lasso, ElasticNet\n",
    "from sklearn.metrics import mean_squared_error \n",
    "from xgboost import XGBRegressor\n",
    "from statsmodels.tsa.seasonal import seasonal_decompose\n",
    "                             \n",
    "\n",
    "from sklearn.pipeline import Pipeline\n",
    "\n",
    "\n",
    "from sklearn.preprocessing import OneHotEncoder, StandardScaler\n",
    "\n",
    "from sklearn.model_selection import RandomizedSearchCV, TimeSeriesSplit\n",
    "\n",
    "\n",
    "\n",
    "import math\n",
    "\n",
    "\n",
    "\n",
    "RANDOM_STATE = 77\n",
    "TEST_SIZE = 0.1"
   ]
  },
  {
   "cell_type": "code",
   "execution_count": 2,
   "metadata": {},
   "outputs": [],
   "source": [
    "data = pd.read_csv('/datasets/taxi.csv', parse_dates =['datetime'])"
   ]
  },
  {
   "cell_type": "code",
   "execution_count": 3,
   "metadata": {
    "scrolled": false
   },
   "outputs": [
    {
     "data": {
      "text/html": [
       "<div>\n",
       "<style scoped>\n",
       "    .dataframe tbody tr th:only-of-type {\n",
       "        vertical-align: middle;\n",
       "    }\n",
       "\n",
       "    .dataframe tbody tr th {\n",
       "        vertical-align: top;\n",
       "    }\n",
       "\n",
       "    .dataframe thead th {\n",
       "        text-align: right;\n",
       "    }\n",
       "</style>\n",
       "<table border=\"1\" class=\"dataframe\">\n",
       "  <thead>\n",
       "    <tr style=\"text-align: right;\">\n",
       "      <th></th>\n",
       "      <th>datetime</th>\n",
       "      <th>num_orders</th>\n",
       "    </tr>\n",
       "  </thead>\n",
       "  <tbody>\n",
       "    <tr>\n",
       "      <th>0</th>\n",
       "      <td>2018-03-01 00:00:00</td>\n",
       "      <td>9</td>\n",
       "    </tr>\n",
       "    <tr>\n",
       "      <th>1</th>\n",
       "      <td>2018-03-01 00:10:00</td>\n",
       "      <td>14</td>\n",
       "    </tr>\n",
       "    <tr>\n",
       "      <th>2</th>\n",
       "      <td>2018-03-01 00:20:00</td>\n",
       "      <td>28</td>\n",
       "    </tr>\n",
       "    <tr>\n",
       "      <th>3</th>\n",
       "      <td>2018-03-01 00:30:00</td>\n",
       "      <td>20</td>\n",
       "    </tr>\n",
       "    <tr>\n",
       "      <th>4</th>\n",
       "      <td>2018-03-01 00:40:00</td>\n",
       "      <td>32</td>\n",
       "    </tr>\n",
       "  </tbody>\n",
       "</table>\n",
       "</div>"
      ],
      "text/plain": [
       "             datetime  num_orders\n",
       "0 2018-03-01 00:00:00           9\n",
       "1 2018-03-01 00:10:00          14\n",
       "2 2018-03-01 00:20:00          28\n",
       "3 2018-03-01 00:30:00          20\n",
       "4 2018-03-01 00:40:00          32"
      ]
     },
     "execution_count": 3,
     "metadata": {},
     "output_type": "execute_result"
    }
   ],
   "source": [
    "data.head()"
   ]
  },
  {
   "cell_type": "code",
   "execution_count": 4,
   "metadata": {},
   "outputs": [
    {
     "name": "stdout",
     "output_type": "stream",
     "text": [
      "<class 'pandas.core.frame.DataFrame'>\n",
      "RangeIndex: 26496 entries, 0 to 26495\n",
      "Data columns (total 2 columns):\n",
      " #   Column      Non-Null Count  Dtype         \n",
      "---  ------      --------------  -----         \n",
      " 0   datetime    26496 non-null  datetime64[ns]\n",
      " 1   num_orders  26496 non-null  int64         \n",
      "dtypes: datetime64[ns](1), int64(1)\n",
      "memory usage: 414.1 KB\n"
     ]
    }
   ],
   "source": [
    "data.info()"
   ]
  },
  {
   "cell_type": "code",
   "execution_count": 5,
   "metadata": {},
   "outputs": [
    {
     "data": {
      "text/plain": [
       "datetime      0\n",
       "num_orders    0\n",
       "dtype: int64"
      ]
     },
     "execution_count": 5,
     "metadata": {},
     "output_type": "execute_result"
    }
   ],
   "source": [
    "data.isna().sum()"
   ]
  },
  {
   "cell_type": "code",
   "execution_count": 6,
   "metadata": {},
   "outputs": [
    {
     "data": {
      "text/plain": [
       "0"
      ]
     },
     "execution_count": 6,
     "metadata": {},
     "output_type": "execute_result"
    }
   ],
   "source": [
    "data.duplicated().sum()"
   ]
  },
  {
   "cell_type": "code",
   "execution_count": 7,
   "metadata": {},
   "outputs": [],
   "source": [
    "data.index = data['datetime']\n",
    "data = data.drop('datetime', axis = 1)"
   ]
  },
  {
   "cell_type": "code",
   "execution_count": 8,
   "metadata": {},
   "outputs": [
    {
     "data": {
      "text/html": [
       "<div>\n",
       "<style scoped>\n",
       "    .dataframe tbody tr th:only-of-type {\n",
       "        vertical-align: middle;\n",
       "    }\n",
       "\n",
       "    .dataframe tbody tr th {\n",
       "        vertical-align: top;\n",
       "    }\n",
       "\n",
       "    .dataframe thead th {\n",
       "        text-align: right;\n",
       "    }\n",
       "</style>\n",
       "<table border=\"1\" class=\"dataframe\">\n",
       "  <thead>\n",
       "    <tr style=\"text-align: right;\">\n",
       "      <th></th>\n",
       "      <th>num_orders</th>\n",
       "    </tr>\n",
       "    <tr>\n",
       "      <th>datetime</th>\n",
       "      <th></th>\n",
       "    </tr>\n",
       "  </thead>\n",
       "  <tbody>\n",
       "    <tr>\n",
       "      <th>2018-03-01 00:00:00</th>\n",
       "      <td>9</td>\n",
       "    </tr>\n",
       "    <tr>\n",
       "      <th>2018-03-01 00:10:00</th>\n",
       "      <td>14</td>\n",
       "    </tr>\n",
       "    <tr>\n",
       "      <th>2018-03-01 00:20:00</th>\n",
       "      <td>28</td>\n",
       "    </tr>\n",
       "    <tr>\n",
       "      <th>2018-03-01 00:30:00</th>\n",
       "      <td>20</td>\n",
       "    </tr>\n",
       "    <tr>\n",
       "      <th>2018-03-01 00:40:00</th>\n",
       "      <td>32</td>\n",
       "    </tr>\n",
       "  </tbody>\n",
       "</table>\n",
       "</div>"
      ],
      "text/plain": [
       "                     num_orders\n",
       "datetime                       \n",
       "2018-03-01 00:00:00           9\n",
       "2018-03-01 00:10:00          14\n",
       "2018-03-01 00:20:00          28\n",
       "2018-03-01 00:30:00          20\n",
       "2018-03-01 00:40:00          32"
      ]
     },
     "execution_count": 8,
     "metadata": {},
     "output_type": "execute_result"
    }
   ],
   "source": [
    "data.head()"
   ]
  },
  {
   "cell_type": "code",
   "execution_count": 9,
   "metadata": {},
   "outputs": [],
   "source": [
    "data = data.resample('1H').sum()"
   ]
  },
  {
   "cell_type": "code",
   "execution_count": 10,
   "metadata": {},
   "outputs": [],
   "source": [
    "data.sort_index(inplace = True)"
   ]
  },
  {
   "cell_type": "code",
   "execution_count": 11,
   "metadata": {
    "scrolled": false
   },
   "outputs": [
    {
     "data": {
      "text/html": [
       "<div>\n",
       "<style scoped>\n",
       "    .dataframe tbody tr th:only-of-type {\n",
       "        vertical-align: middle;\n",
       "    }\n",
       "\n",
       "    .dataframe tbody tr th {\n",
       "        vertical-align: top;\n",
       "    }\n",
       "\n",
       "    .dataframe thead th {\n",
       "        text-align: right;\n",
       "    }\n",
       "</style>\n",
       "<table border=\"1\" class=\"dataframe\">\n",
       "  <thead>\n",
       "    <tr style=\"text-align: right;\">\n",
       "      <th></th>\n",
       "      <th>num_orders</th>\n",
       "    </tr>\n",
       "    <tr>\n",
       "      <th>datetime</th>\n",
       "      <th></th>\n",
       "    </tr>\n",
       "  </thead>\n",
       "  <tbody>\n",
       "    <tr>\n",
       "      <th>2018-03-01 00:00:00</th>\n",
       "      <td>124</td>\n",
       "    </tr>\n",
       "    <tr>\n",
       "      <th>2018-03-01 01:00:00</th>\n",
       "      <td>85</td>\n",
       "    </tr>\n",
       "    <tr>\n",
       "      <th>2018-03-01 02:00:00</th>\n",
       "      <td>71</td>\n",
       "    </tr>\n",
       "    <tr>\n",
       "      <th>2018-03-01 03:00:00</th>\n",
       "      <td>66</td>\n",
       "    </tr>\n",
       "    <tr>\n",
       "      <th>2018-03-01 04:00:00</th>\n",
       "      <td>43</td>\n",
       "    </tr>\n",
       "    <tr>\n",
       "      <th>...</th>\n",
       "      <td>...</td>\n",
       "    </tr>\n",
       "    <tr>\n",
       "      <th>2018-08-31 19:00:00</th>\n",
       "      <td>136</td>\n",
       "    </tr>\n",
       "    <tr>\n",
       "      <th>2018-08-31 20:00:00</th>\n",
       "      <td>154</td>\n",
       "    </tr>\n",
       "    <tr>\n",
       "      <th>2018-08-31 21:00:00</th>\n",
       "      <td>159</td>\n",
       "    </tr>\n",
       "    <tr>\n",
       "      <th>2018-08-31 22:00:00</th>\n",
       "      <td>223</td>\n",
       "    </tr>\n",
       "    <tr>\n",
       "      <th>2018-08-31 23:00:00</th>\n",
       "      <td>205</td>\n",
       "    </tr>\n",
       "  </tbody>\n",
       "</table>\n",
       "<p>4416 rows × 1 columns</p>\n",
       "</div>"
      ],
      "text/plain": [
       "                     num_orders\n",
       "datetime                       \n",
       "2018-03-01 00:00:00         124\n",
       "2018-03-01 01:00:00          85\n",
       "2018-03-01 02:00:00          71\n",
       "2018-03-01 03:00:00          66\n",
       "2018-03-01 04:00:00          43\n",
       "...                         ...\n",
       "2018-08-31 19:00:00         136\n",
       "2018-08-31 20:00:00         154\n",
       "2018-08-31 21:00:00         159\n",
       "2018-08-31 22:00:00         223\n",
       "2018-08-31 23:00:00         205\n",
       "\n",
       "[4416 rows x 1 columns]"
      ]
     },
     "execution_count": 11,
     "metadata": {},
     "output_type": "execute_result"
    }
   ],
   "source": [
    "data"
   ]
  },
  {
   "cell_type": "markdown",
   "metadata": {},
   "source": [
    "### Краткое резюме по подготовке данных:\n",
    "\n",
    "#### Предварительный анализ:\n",
    "\n",
    "Проверены данные на наличие пропусков и дубликатов, что подтвердило отсутствие проблем с качеством данных.\n",
    "\n",
    "#### Подготовка данных:\n",
    "\n",
    "Установлен индекс по временной метке (datetime)\n",
    "Удалён столбец datetime, так как он больше не нужен после установки индекса.\n",
    "\n",
    "#### Ресемплирование:\n",
    "Данные были ресемплированы по одному часу \n",
    "Индекс был отсортирован, чтобы обеспечить правильный порядок временных меток.\n",
    "Таким образом, данные были успешно загружены и подготовлены для дальнейшего анализа и построения моделей.\n",
    "\n",
    "#### P.S.\n",
    "\n",
    "Я знаю, что можно было использовать в read_csv сразу index_col, чтобы установить время в качестве индекса, но я решил сначала проверить все данные на пропуски и дубликаты, после чего проделал все действия, описанные выше "
   ]
  },
  {
   "cell_type": "markdown",
   "metadata": {},
   "source": [
    "## Анализ"
   ]
  },
  {
   "cell_type": "code",
   "execution_count": 12,
   "metadata": {},
   "outputs": [
    {
     "data": {
      "image/png": "[encoded data removed]",
      "text/plain": [
       "<Figure size 720x360 with 1 Axes>"
      ]
     },
     "metadata": {
      "needs_background": "light"
     },
     "output_type": "display_data"
    }
   ],
   "source": [
    "plt.figure(figsize=(10, 5));\n",
    "plt.plot(data.index, data['num_orders'], linestyle ='--', linewidth=1);\n",
    "plt.ylabel('Количество заказов')\n",
    "plt.xlabel('Время');"
   ]
  },
  {
   "cell_type": "code",
   "execution_count": 14,
   "metadata": {},
   "outputs": [
    {
     "data": {
      "image/png": "[encoded data removed]",
      "text/plain": [
       "<Figure size 864x432 with 1 Axes>"
      ]
     },
     "metadata": {
      "needs_background": "light"
     },
     "output_type": "display_data"
    }
   ],
   "source": [
    "data['rolling_mean'] = data.rolling(168).mean()\n",
    "data['std'] = data['num_orders'].rolling(168).std()\n",
    "\n",
    "plt.figure(figsize=(12, 6)) \n",
    "\n",
    "\n",
    "data.plot(title='График скользящего среднего', ax=plt.gca())  \n",
    "\n",
    "\n",
    "plt.ylabel('Количество заказов')\n",
    "plt.axhline(y=data['rolling_mean'].mean(), color='r', linestyle='--', label='Среднее значение')\n",
    "plt.legend()\n",
    "\n",
    "plt.show()"
   ]
  },
  {
   "cell_type": "code",
   "execution_count": 15,
   "metadata": {},
   "outputs": [],
   "source": [
    "data = data.drop(['std','rolling_mean'], axis=1)"
   ]
  },
  {
   "cell_type": "code",
   "execution_count": 16,
   "metadata": {},
   "outputs": [
    {
     "name": "stdout",
     "output_type": "stream",
     "text": [
      "2018-03-01 00:00:00\n",
      "2018-08-31 23:00:00\n"
     ]
    }
   ],
   "source": [
    "print(data.index.min())\n",
    "print(data.index.max())"
   ]
  },
  {
   "cell_type": "code",
   "execution_count": 17,
   "metadata": {},
   "outputs": [
    {
     "data": {
      "image/png": "[encoded data removed]",
      "text/plain": [
       "<Figure size 432x576 with 3 Axes>"
      ]
     },
     "metadata": {
      "needs_background": "light"
     },
     "output_type": "display_data"
    }
   ],
   "source": [
    "decomposed = seasonal_decompose(data, period = 168)\n",
    "\n",
    "plt.figure(figsize=(6, 8))\n",
    "plt.subplot(311)\n",
    "\n",
    "decomposed.trend.plot(ax=plt.gca())\n",
    "plt.title('Trend')\n",
    "plt.subplot(312)\n",
    "\n",
    "decomposed.seasonal['2018-03-01 00:00:00' : '2018-03-08 00:00:00'].plot(ax=plt.gca())\n",
    "plt.title('Seasonality')\n",
    "plt.subplot(313)\n",
    "\n",
    "decomposed.resid.plot(ax=plt.gca())\n",
    "plt.title('Residuals')\n",
    "plt.tight_layout()"
   ]
  },
  {
   "cell_type": "code",
   "execution_count": 18,
   "metadata": {},
   "outputs": [
    {
     "data": {
      "text/html": [
       "<div>\n",
       "<style scoped>\n",
       "    .dataframe tbody tr th:only-of-type {\n",
       "        vertical-align: middle;\n",
       "    }\n",
       "\n",
       "    .dataframe tbody tr th {\n",
       "        vertical-align: top;\n",
       "    }\n",
       "\n",
       "    .dataframe thead th {\n",
       "        text-align: right;\n",
       "    }\n",
       "</style>\n",
       "<table border=\"1\" class=\"dataframe\">\n",
       "  <thead>\n",
       "    <tr style=\"text-align: right;\">\n",
       "      <th></th>\n",
       "      <th>num_orders</th>\n",
       "    </tr>\n",
       "    <tr>\n",
       "      <th>datetime</th>\n",
       "      <th></th>\n",
       "    </tr>\n",
       "  </thead>\n",
       "  <tbody>\n",
       "    <tr>\n",
       "      <th>2018-03-01 00:00:00</th>\n",
       "      <td>124</td>\n",
       "    </tr>\n",
       "    <tr>\n",
       "      <th>2018-03-01 01:00:00</th>\n",
       "      <td>85</td>\n",
       "    </tr>\n",
       "    <tr>\n",
       "      <th>2018-03-01 02:00:00</th>\n",
       "      <td>71</td>\n",
       "    </tr>\n",
       "    <tr>\n",
       "      <th>2018-03-01 03:00:00</th>\n",
       "      <td>66</td>\n",
       "    </tr>\n",
       "    <tr>\n",
       "      <th>2018-03-01 04:00:00</th>\n",
       "      <td>43</td>\n",
       "    </tr>\n",
       "    <tr>\n",
       "      <th>...</th>\n",
       "      <td>...</td>\n",
       "    </tr>\n",
       "    <tr>\n",
       "      <th>2018-08-31 19:00:00</th>\n",
       "      <td>136</td>\n",
       "    </tr>\n",
       "    <tr>\n",
       "      <th>2018-08-31 20:00:00</th>\n",
       "      <td>154</td>\n",
       "    </tr>\n",
       "    <tr>\n",
       "      <th>2018-08-31 21:00:00</th>\n",
       "      <td>159</td>\n",
       "    </tr>\n",
       "    <tr>\n",
       "      <th>2018-08-31 22:00:00</th>\n",
       "      <td>223</td>\n",
       "    </tr>\n",
       "    <tr>\n",
       "      <th>2018-08-31 23:00:00</th>\n",
       "      <td>205</td>\n",
       "    </tr>\n",
       "  </tbody>\n",
       "</table>\n",
       "<p>4416 rows × 1 columns</p>\n",
       "</div>"
      ],
      "text/plain": [
       "                     num_orders\n",
       "datetime                       \n",
       "2018-03-01 00:00:00         124\n",
       "2018-03-01 01:00:00          85\n",
       "2018-03-01 02:00:00          71\n",
       "2018-03-01 03:00:00          66\n",
       "2018-03-01 04:00:00          43\n",
       "...                         ...\n",
       "2018-08-31 19:00:00         136\n",
       "2018-08-31 20:00:00         154\n",
       "2018-08-31 21:00:00         159\n",
       "2018-08-31 22:00:00         223\n",
       "2018-08-31 23:00:00         205\n",
       "\n",
       "[4416 rows x 1 columns]"
      ]
     },
     "execution_count": 18,
     "metadata": {},
     "output_type": "execute_result"
    }
   ],
   "source": [
    "data"
   ]
  },
  {
   "cell_type": "code",
   "execution_count": 19,
   "metadata": {},
   "outputs": [
    {
     "data": {
      "text/plain": [
       "count    4416.000000\n",
       "mean       84.422781\n",
       "std        45.023853\n",
       "min         0.000000\n",
       "25%        54.000000\n",
       "50%        78.000000\n",
       "75%       107.000000\n",
       "max       462.000000\n",
       "Name: num_orders, dtype: float64"
      ]
     },
     "execution_count": 19,
     "metadata": {},
     "output_type": "execute_result"
    }
   ],
   "source": [
    "data['num_orders'].describe()"
   ]
  },
  {
   "cell_type": "code",
   "execution_count": 20,
   "metadata": {},
   "outputs": [
    {
     "data": {
      "image/png": "[encoded data removed]",
      "text/plain": [
       "<Figure size 432x288 with 1 Axes>"
      ]
     },
     "metadata": {
      "needs_background": "light"
     },
     "output_type": "display_data"
    }
   ],
   "source": [
    "data['num_orders'].hist(bins = 100)\n",
    "plt.xlim(0, 500)\n",
    "plt.xlabel('Количество заказов')\n",
    "plt.ylabel('Частота')\n",
    "plt.title('Гистограмма кол-ва заказов');"
   ]
  },
  {
   "cell_type": "markdown",
   "metadata": {},
   "source": [
    "### Краткое резюме по анализу и очистке данных о заказах:\n",
    "#### Анализ распределения заказов:\n",
    "\n",
    "Выведена статистика по количеству заказов (num_orders), что позволило оценить основные характеристики данных (среднее, медиана, квартели и т.д.).\n",
    "Построена гистограмма, что помогло визуально оценить распределение заказов и выявить выбросы.\n",
    "Построен боксплот для наглядного отображения разброса данных и наличия выбросов.\n",
    "\n",
    "#### Очистка данных:\n",
    "\n",
    "Из данных удалены выбросы — записи, где количество заказов превышает 50.\n",
    "После фильтрации размер выборки уменьшился на менее 1% от первоночальной.\n",
    "\n",
    "Таким образом, была проведена качественная очистка данных от аномальных значений, что улучшит качество последующего моделирования.\n",
    "\n",
    "#### Проведенная работа по анализу временных рядов данных о заказах такси была направлена на несколько ключевых целей:\n",
    "\n",
    " - Понимание структуры данных: Визуализация временного ряда и его декомпозиция на тренд, сезонность и остатки позволили глубже понять динамику изменения количества заказов за период от начала Марта до конца Августа 2018 года. Это помогло выявить основные паттерны, такие как суточная и недельная сезонность, что важно для дальнейшего прогнозирования.\n",
    "\n",
    " - Улучшение качества данных: Проведение анализа распределения и выявление выбросов способствовало очистке данных от аномальных значений. Это, в свою очередь, повысило надежность и точность моделей прогнозирования, поскольку использование чистых данных является критически важным для получения достоверных результатов.\n",
    "\n",
    " - Оптимизация процессов: Полученные результаты могут быть использованы для оптимизации работы службы такси, включая планирование ресурсов, управление спросом и улучшение качества обслуживания клиентов. Понимание сезонных колебаний в спросе поможет более эффективно распределять автомобили и управлять графиками работы водителей.\n",
    "\n",
    " - Основы для дальнейшего анализа: Работа создала фундамент для дальнейшего анализа, включая применение различных моделей машинного обучения для прогнозирования количества заказов, что может привести к более точным предсказаниям и повышению эффективности бизнеса."
   ]
  },
  {
   "cell_type": "markdown",
   "metadata": {},
   "source": [
    "## Обучение"
   ]
  },
  {
   "cell_type": "code",
   "execution_count": 21,
   "metadata": {},
   "outputs": [],
   "source": [
    "new_data = data"
   ]
  },
  {
   "cell_type": "code",
   "execution_count": 22,
   "metadata": {},
   "outputs": [],
   "source": [
    "def make_features(new_data, max_lag, rolling_mean_size):\n",
    "    dt = new_data\n",
    "    dt['dayofweek'] = dt.index.dayofweek\n",
    "    dt['hour'] = dt.index.hour\n",
    "    \n",
    "    for lag in range(1, max_lag + 1):\n",
    "        dt['lag_{}'.format(lag)] = dt['num_orders'].shift(lag)\n",
    "\n",
    "    dt['rolling_mean'] = dt['num_orders'].shift().rolling(rolling_mean_size).mean()\n",
    "    return dt\n",
    "    "
   ]
  },
  {
   "cell_type": "code",
   "execution_count": 23,
   "metadata": {
    "scrolled": true
   },
   "outputs": [],
   "source": [
    "dt = make_features(new_data, 168, 168)"
   ]
  },
  {
   "cell_type": "code",
   "execution_count": 24,
   "metadata": {
    "scrolled": false
   },
   "outputs": [
    {
     "data": {
      "text/html": [
       "<div>\n",
       "<style scoped>\n",
       "    .dataframe tbody tr th:only-of-type {\n",
       "        vertical-align: middle;\n",
       "    }\n",
       "\n",
       "    .dataframe tbody tr th {\n",
       "        vertical-align: top;\n",
       "    }\n",
       "\n",
       "    .dataframe thead th {\n",
       "        text-align: right;\n",
       "    }\n",
       "</style>\n",
       "<table border=\"1\" class=\"dataframe\">\n",
       "  <thead>\n",
       "    <tr style=\"text-align: right;\">\n",
       "      <th></th>\n",
       "      <th>num_orders</th>\n",
       "      <th>dayofweek</th>\n",
       "      <th>hour</th>\n",
       "      <th>lag_1</th>\n",
       "      <th>lag_2</th>\n",
       "      <th>lag_3</th>\n",
       "      <th>lag_4</th>\n",
       "      <th>lag_5</th>\n",
       "      <th>lag_6</th>\n",
       "      <th>lag_7</th>\n",
       "      <th>...</th>\n",
       "      <th>lag_160</th>\n",
       "      <th>lag_161</th>\n",
       "      <th>lag_162</th>\n",
       "      <th>lag_163</th>\n",
       "      <th>lag_164</th>\n",
       "      <th>lag_165</th>\n",
       "      <th>lag_166</th>\n",
       "      <th>lag_167</th>\n",
       "      <th>lag_168</th>\n",
       "      <th>rolling_mean</th>\n",
       "    </tr>\n",
       "    <tr>\n",
       "      <th>datetime</th>\n",
       "      <th></th>\n",
       "      <th></th>\n",
       "      <th></th>\n",
       "      <th></th>\n",
       "      <th></th>\n",
       "      <th></th>\n",
       "      <th></th>\n",
       "      <th></th>\n",
       "      <th></th>\n",
       "      <th></th>\n",
       "      <th></th>\n",
       "      <th></th>\n",
       "      <th></th>\n",
       "      <th></th>\n",
       "      <th></th>\n",
       "      <th></th>\n",
       "      <th></th>\n",
       "      <th></th>\n",
       "      <th></th>\n",
       "      <th></th>\n",
       "      <th></th>\n",
       "    </tr>\n",
       "  </thead>\n",
       "  <tbody>\n",
       "    <tr>\n",
       "      <th>2018-03-01 00:00:00</th>\n",
       "      <td>124</td>\n",
       "      <td>3</td>\n",
       "      <td>0</td>\n",
       "      <td>NaN</td>\n",
       "      <td>NaN</td>\n",
       "      <td>NaN</td>\n",
       "      <td>NaN</td>\n",
       "      <td>NaN</td>\n",
       "      <td>NaN</td>\n",
       "      <td>NaN</td>\n",
       "      <td>...</td>\n",
       "      <td>NaN</td>\n",
       "      <td>NaN</td>\n",
       "      <td>NaN</td>\n",
       "      <td>NaN</td>\n",
       "      <td>NaN</td>\n",
       "      <td>NaN</td>\n",
       "      <td>NaN</td>\n",
       "      <td>NaN</td>\n",
       "      <td>NaN</td>\n",
       "      <td>NaN</td>\n",
       "    </tr>\n",
       "    <tr>\n",
       "      <th>2018-03-01 01:00:00</th>\n",
       "      <td>85</td>\n",
       "      <td>3</td>\n",
       "      <td>1</td>\n",
       "      <td>124.0</td>\n",
       "      <td>NaN</td>\n",
       "      <td>NaN</td>\n",
       "      <td>NaN</td>\n",
       "      <td>NaN</td>\n",
       "      <td>NaN</td>\n",
       "      <td>NaN</td>\n",
       "      <td>...</td>\n",
       "      <td>NaN</td>\n",
       "      <td>NaN</td>\n",
       "      <td>NaN</td>\n",
       "      <td>NaN</td>\n",
       "      <td>NaN</td>\n",
       "      <td>NaN</td>\n",
       "      <td>NaN</td>\n",
       "      <td>NaN</td>\n",
       "      <td>NaN</td>\n",
       "      <td>NaN</td>\n",
       "    </tr>\n",
       "    <tr>\n",
       "      <th>2018-03-01 02:00:00</th>\n",
       "      <td>71</td>\n",
       "      <td>3</td>\n",
       "      <td>2</td>\n",
       "      <td>85.0</td>\n",
       "      <td>124.0</td>\n",
       "      <td>NaN</td>\n",
       "      <td>NaN</td>\n",
       "      <td>NaN</td>\n",
       "      <td>NaN</td>\n",
       "      <td>NaN</td>\n",
       "      <td>...</td>\n",
       "      <td>NaN</td>\n",
       "      <td>NaN</td>\n",
       "      <td>NaN</td>\n",
       "      <td>NaN</td>\n",
       "      <td>NaN</td>\n",
       "      <td>NaN</td>\n",
       "      <td>NaN</td>\n",
       "      <td>NaN</td>\n",
       "      <td>NaN</td>\n",
       "      <td>NaN</td>\n",
       "    </tr>\n",
       "    <tr>\n",
       "      <th>2018-03-01 03:00:00</th>\n",
       "      <td>66</td>\n",
       "      <td>3</td>\n",
       "      <td>3</td>\n",
       "      <td>71.0</td>\n",
       "      <td>85.0</td>\n",
       "      <td>124.0</td>\n",
       "      <td>NaN</td>\n",
       "      <td>NaN</td>\n",
       "      <td>NaN</td>\n",
       "      <td>NaN</td>\n",
       "      <td>...</td>\n",
       "      <td>NaN</td>\n",
       "      <td>NaN</td>\n",
       "      <td>NaN</td>\n",
       "      <td>NaN</td>\n",
       "      <td>NaN</td>\n",
       "      <td>NaN</td>\n",
       "      <td>NaN</td>\n",
       "      <td>NaN</td>\n",
       "      <td>NaN</td>\n",
       "      <td>NaN</td>\n",
       "    </tr>\n",
       "    <tr>\n",
       "      <th>2018-03-01 04:00:00</th>\n",
       "      <td>43</td>\n",
       "      <td>3</td>\n",
       "      <td>4</td>\n",
       "      <td>66.0</td>\n",
       "      <td>71.0</td>\n",
       "      <td>85.0</td>\n",
       "      <td>124.0</td>\n",
       "      <td>NaN</td>\n",
       "      <td>NaN</td>\n",
       "      <td>NaN</td>\n",
       "      <td>...</td>\n",
       "      <td>NaN</td>\n",
       "      <td>NaN</td>\n",
       "      <td>NaN</td>\n",
       "      <td>NaN</td>\n",
       "      <td>NaN</td>\n",
       "      <td>NaN</td>\n",
       "      <td>NaN</td>\n",
       "      <td>NaN</td>\n",
       "      <td>NaN</td>\n",
       "      <td>NaN</td>\n",
       "    </tr>\n",
       "    <tr>\n",
       "      <th>...</th>\n",
       "      <td>...</td>\n",
       "      <td>...</td>\n",
       "      <td>...</td>\n",
       "      <td>...</td>\n",
       "      <td>...</td>\n",
       "      <td>...</td>\n",
       "      <td>...</td>\n",
       "      <td>...</td>\n",
       "      <td>...</td>\n",
       "      <td>...</td>\n",
       "      <td>...</td>\n",
       "      <td>...</td>\n",
       "      <td>...</td>\n",
       "      <td>...</td>\n",
       "      <td>...</td>\n",
       "      <td>...</td>\n",
       "      <td>...</td>\n",
       "      <td>...</td>\n",
       "      <td>...</td>\n",
       "      <td>...</td>\n",
       "      <td>...</td>\n",
       "    </tr>\n",
       "    <tr>\n",
       "      <th>2018-08-31 19:00:00</th>\n",
       "      <td>136</td>\n",
       "      <td>4</td>\n",
       "      <td>19</td>\n",
       "      <td>207.0</td>\n",
       "      <td>217.0</td>\n",
       "      <td>197.0</td>\n",
       "      <td>116.0</td>\n",
       "      <td>133.0</td>\n",
       "      <td>166.0</td>\n",
       "      <td>136.0</td>\n",
       "      <td>...</td>\n",
       "      <td>187.0</td>\n",
       "      <td>160.0</td>\n",
       "      <td>246.0</td>\n",
       "      <td>273.0</td>\n",
       "      <td>173.0</td>\n",
       "      <td>242.0</td>\n",
       "      <td>166.0</td>\n",
       "      <td>179.0</td>\n",
       "      <td>113.0</td>\n",
       "      <td>154.297619</td>\n",
       "    </tr>\n",
       "    <tr>\n",
       "      <th>2018-08-31 20:00:00</th>\n",
       "      <td>154</td>\n",
       "      <td>4</td>\n",
       "      <td>20</td>\n",
       "      <td>136.0</td>\n",
       "      <td>207.0</td>\n",
       "      <td>217.0</td>\n",
       "      <td>197.0</td>\n",
       "      <td>116.0</td>\n",
       "      <td>133.0</td>\n",
       "      <td>166.0</td>\n",
       "      <td>...</td>\n",
       "      <td>196.0</td>\n",
       "      <td>187.0</td>\n",
       "      <td>160.0</td>\n",
       "      <td>246.0</td>\n",
       "      <td>273.0</td>\n",
       "      <td>173.0</td>\n",
       "      <td>242.0</td>\n",
       "      <td>166.0</td>\n",
       "      <td>179.0</td>\n",
       "      <td>154.434524</td>\n",
       "    </tr>\n",
       "    <tr>\n",
       "      <th>2018-08-31 21:00:00</th>\n",
       "      <td>159</td>\n",
       "      <td>4</td>\n",
       "      <td>21</td>\n",
       "      <td>154.0</td>\n",
       "      <td>136.0</td>\n",
       "      <td>207.0</td>\n",
       "      <td>217.0</td>\n",
       "      <td>197.0</td>\n",
       "      <td>116.0</td>\n",
       "      <td>133.0</td>\n",
       "      <td>...</td>\n",
       "      <td>118.0</td>\n",
       "      <td>196.0</td>\n",
       "      <td>187.0</td>\n",
       "      <td>160.0</td>\n",
       "      <td>246.0</td>\n",
       "      <td>273.0</td>\n",
       "      <td>173.0</td>\n",
       "      <td>242.0</td>\n",
       "      <td>166.0</td>\n",
       "      <td>154.285714</td>\n",
       "    </tr>\n",
       "    <tr>\n",
       "      <th>2018-08-31 22:00:00</th>\n",
       "      <td>223</td>\n",
       "      <td>4</td>\n",
       "      <td>22</td>\n",
       "      <td>159.0</td>\n",
       "      <td>154.0</td>\n",
       "      <td>136.0</td>\n",
       "      <td>207.0</td>\n",
       "      <td>217.0</td>\n",
       "      <td>197.0</td>\n",
       "      <td>116.0</td>\n",
       "      <td>...</td>\n",
       "      <td>74.0</td>\n",
       "      <td>118.0</td>\n",
       "      <td>196.0</td>\n",
       "      <td>187.0</td>\n",
       "      <td>160.0</td>\n",
       "      <td>246.0</td>\n",
       "      <td>273.0</td>\n",
       "      <td>173.0</td>\n",
       "      <td>242.0</td>\n",
       "      <td>154.244048</td>\n",
       "    </tr>\n",
       "    <tr>\n",
       "      <th>2018-08-31 23:00:00</th>\n",
       "      <td>205</td>\n",
       "      <td>4</td>\n",
       "      <td>23</td>\n",
       "      <td>223.0</td>\n",
       "      <td>159.0</td>\n",
       "      <td>154.0</td>\n",
       "      <td>136.0</td>\n",
       "      <td>207.0</td>\n",
       "      <td>217.0</td>\n",
       "      <td>197.0</td>\n",
       "      <td>...</td>\n",
       "      <td>22.0</td>\n",
       "      <td>74.0</td>\n",
       "      <td>118.0</td>\n",
       "      <td>196.0</td>\n",
       "      <td>187.0</td>\n",
       "      <td>160.0</td>\n",
       "      <td>246.0</td>\n",
       "      <td>273.0</td>\n",
       "      <td>173.0</td>\n",
       "      <td>154.130952</td>\n",
       "    </tr>\n",
       "  </tbody>\n",
       "</table>\n",
       "<p>4416 rows × 172 columns</p>\n",
       "</div>"
      ],
      "text/plain": [
       "                     num_orders  dayofweek  hour  lag_1  lag_2  lag_3  lag_4  \\\n",
       "datetime                                                                       \n",
       "2018-03-01 00:00:00         124          3     0    NaN    NaN    NaN    NaN   \n",
       "2018-03-01 01:00:00          85          3     1  124.0    NaN    NaN    NaN   \n",
       "2018-03-01 02:00:00          71          3     2   85.0  124.0    NaN    NaN   \n",
       "2018-03-01 03:00:00          66          3     3   71.0   85.0  124.0    NaN   \n",
       "2018-03-01 04:00:00          43          3     4   66.0   71.0   85.0  124.0   \n",
       "...                         ...        ...   ...    ...    ...    ...    ...   \n",
       "2018-08-31 19:00:00         136          4    19  207.0  217.0  197.0  116.0   \n",
       "2018-08-31 20:00:00         154          4    20  136.0  207.0  217.0  197.0   \n",
       "2018-08-31 21:00:00         159          4    21  154.0  136.0  207.0  217.0   \n",
       "2018-08-31 22:00:00         223          4    22  159.0  154.0  136.0  207.0   \n",
       "2018-08-31 23:00:00         205          4    23  223.0  159.0  154.0  136.0   \n",
       "\n",
       "                     lag_5  lag_6  lag_7  ...  lag_160  lag_161  lag_162  \\\n",
       "datetime                                  ...                              \n",
       "2018-03-01 00:00:00    NaN    NaN    NaN  ...      NaN      NaN      NaN   \n",
       "2018-03-01 01:00:00    NaN    NaN    NaN  ...      NaN      NaN      NaN   \n",
       "2018-03-01 02:00:00    NaN    NaN    NaN  ...      NaN      NaN      NaN   \n",
       "2018-03-01 03:00:00    NaN    NaN    NaN  ...      NaN      NaN      NaN   \n",
       "2018-03-01 04:00:00    NaN    NaN    NaN  ...      NaN      NaN      NaN   \n",
       "...                    ...    ...    ...  ...      ...      ...      ...   \n",
       "2018-08-31 19:00:00  133.0  166.0  136.0  ...    187.0    160.0    246.0   \n",
       "2018-08-31 20:00:00  116.0  133.0  166.0  ...    196.0    187.0    160.0   \n",
       "2018-08-31 21:00:00  197.0  116.0  133.0  ...    118.0    196.0    187.0   \n",
       "2018-08-31 22:00:00  217.0  197.0  116.0  ...     74.0    118.0    196.0   \n",
       "2018-08-31 23:00:00  207.0  217.0  197.0  ...     22.0     74.0    118.0   \n",
       "\n",
       "                     lag_163  lag_164  lag_165  lag_166  lag_167  lag_168  \\\n",
       "datetime                                                                    \n",
       "2018-03-01 00:00:00      NaN      NaN      NaN      NaN      NaN      NaN   \n",
       "2018-03-01 01:00:00      NaN      NaN      NaN      NaN      NaN      NaN   \n",
       "2018-03-01 02:00:00      NaN      NaN      NaN      NaN      NaN      NaN   \n",
       "2018-03-01 03:00:00      NaN      NaN      NaN      NaN      NaN      NaN   \n",
       "2018-03-01 04:00:00      NaN      NaN      NaN      NaN      NaN      NaN   \n",
       "...                      ...      ...      ...      ...      ...      ...   \n",
       "2018-08-31 19:00:00    273.0    173.0    242.0    166.0    179.0    113.0   \n",
       "2018-08-31 20:00:00    246.0    273.0    173.0    242.0    166.0    179.0   \n",
       "2018-08-31 21:00:00    160.0    246.0    273.0    173.0    242.0    166.0   \n",
       "2018-08-31 22:00:00    187.0    160.0    246.0    273.0    173.0    242.0   \n",
       "2018-08-31 23:00:00    196.0    187.0    160.0    246.0    273.0    173.0   \n",
       "\n",
       "                     rolling_mean  \n",
       "datetime                           \n",
       "2018-03-01 00:00:00           NaN  \n",
       "2018-03-01 01:00:00           NaN  \n",
       "2018-03-01 02:00:00           NaN  \n",
       "2018-03-01 03:00:00           NaN  \n",
       "2018-03-01 04:00:00           NaN  \n",
       "...                           ...  \n",
       "2018-08-31 19:00:00    154.297619  \n",
       "2018-08-31 20:00:00    154.434524  \n",
       "2018-08-31 21:00:00    154.285714  \n",
       "2018-08-31 22:00:00    154.244048  \n",
       "2018-08-31 23:00:00    154.130952  \n",
       "\n",
       "[4416 rows x 172 columns]"
      ]
     },
     "execution_count": 24,
     "metadata": {},
     "output_type": "execute_result"
    }
   ],
   "source": [
    "dt"
   ]
  },
  {
   "cell_type": "code",
   "execution_count": 25,
   "metadata": {
    "scrolled": true
   },
   "outputs": [
    {
     "name": "stdout",
     "output_type": "stream",
     "text": [
      "<class 'pandas.core.frame.DataFrame'>\n",
      "DatetimeIndex: 4416 entries, 2018-03-01 00:00:00 to 2018-08-31 23:00:00\n",
      "Freq: H\n",
      "Columns: 172 entries, num_orders to rolling_mean\n",
      "dtypes: float64(169), int64(3)\n",
      "memory usage: 5.8 MB\n"
     ]
    }
   ],
   "source": [
    "dt.info()"
   ]
  },
  {
   "cell_type": "code",
   "execution_count": 26,
   "metadata": {},
   "outputs": [],
   "source": [
    "dt.dropna(inplace=True)"
   ]
  },
  {
   "cell_type": "code",
   "execution_count": 27,
   "metadata": {},
   "outputs": [],
   "source": [
    "X = dt.drop('num_orders', axis = 1)\n",
    "y = dt['num_orders']"
   ]
  },
  {
   "cell_type": "code",
   "execution_count": 28,
   "metadata": {},
   "outputs": [],
   "source": [
    "X_train, X_test, y_train, y_test = train_test_split(X, y, shuffle = False, test_size = TEST_SIZE)"
   ]
  },
  {
   "cell_type": "code",
   "execution_count": 29,
   "metadata": {},
   "outputs": [],
   "source": [
    "lags = dt.select_dtypes(include='float').columns\n",
    "ohe = ['dayofweek','hour']"
   ]
  },
  {
   "cell_type": "code",
   "execution_count": 30,
   "metadata": {},
   "outputs": [],
   "source": [
    "preprocessor = ColumnTransformer([\n",
    "    ('ohe', OneHotEncoder(), ohe),\n",
    "    ('num', StandardScaler(), lags)\n",
    "])\n",
    "\n",
    "pipe_final = Pipeline([\n",
    "    ('preprocessor', preprocessor),\n",
    "    ('models', LinearRegression())\n",
    "])"
   ]
  },
  {
   "cell_type": "code",
   "execution_count": 31,
   "metadata": {},
   "outputs": [],
   "source": [
    "param_grid = [\n",
    "    {\n",
    "        'models': [XGBRegressor()],\n",
    "        'models__objective': ['reg:squarederror'],  \n",
    "        'models__n_estimators': [100, 200, 300],  \n",
    "        'models__learning_rate': [0.01, 0.1, 0.2], \n",
    "        'models__max_depth': [3, 4, 5],  \n",
    "        'models__subsample': [0.7, 0.8, 1.0],\n",
    "        'models__colsample_bytree': [0.6, 0.8, 1.0],  \n",
    "        'models__gamma': [0, 0.1, 0.2],  \n",
    "        'models__reg_alpha': [0, 0.1, 1]      \n",
    "    },\n",
    "    \n",
    "    {\n",
    "        'model': [LinearRegression()],\n",
    "        'model__fit_intercept': [True, False]\n",
    "    },\n",
    "    \n",
    "    {\n",
    "        'model': [Ridge()],\n",
    "        'model__alpha': np.logspace(-3, 3, 7)\n",
    "    },\n",
    "\n",
    "    {\n",
    "        'model': [Lasso(max_iter=10000)],\n",
    "        'model__alpha': np.logspace(-3, 1, 5)\n",
    "    },\n",
    "    {\n",
    "        'model': [ElasticNet(max_iter=10000)],\n",
    "        'model__alpha': np.logspace(-3, 1, 5),\n",
    "        'model__l1_ratio': [0.1, 0.5, 0.9]\n",
    "    }\n",
    "]"
   ]
  },
  {
   "cell_type": "code",
   "execution_count": 32,
   "metadata": {},
   "outputs": [],
   "source": [
    "rndm = RandomizedSearchCV(\n",
    "    pipe_final, \n",
    "    param_grid, \n",
    "    cv=TimeSeriesSplit(n_splits=3),\n",
    "    scoring='neg_root_mean_squared_error',\n",
    "    n_iter = 5,\n",
    "    n_jobs=-1\n",
    ")"
   ]
  },
  {
   "cell_type": "code",
   "execution_count": 33,
   "metadata": {
    "scrolled": false
   },
   "outputs": [
    {
     "data": {
      "text/html": [
       "<style>#sk-container-id-1 {\n",
       "  /* Definition of color scheme common for light and dark mode */\n",
       "  --sklearn-color-text: #000;\n",
       "  --sklearn-color-text-muted: #666;\n",
       "  --sklearn-color-line: gray;\n",
       "  /* Definition of color scheme for unfitted estimators */\n",
       "  --sklearn-color-unfitted-level-0: #fff5e6;\n",
       "  --sklearn-color-unfitted-level-1: #f6e4d2;\n",
       "  --sklearn-color-unfitted-level-2: #ffe0b3;\n",
       "  --sklearn-color-unfitted-level-3: chocolate;\n",
       "  /* Definition of color scheme for fitted estimators */\n",
       "  --sklearn-color-fitted-level-0: #f0f8ff;\n",
       "  --sklearn-color-fitted-level-1: #d4ebff;\n",
       "  --sklearn-color-fitted-level-2: #b3dbfd;\n",
       "  --sklearn-color-fitted-level-3: cornflowerblue;\n",
       "\n",
       "  /* Specific color for light theme */\n",
       "  --sklearn-color-text-on-default-background: var(--sg-text-color, var(--theme-code-foreground, var(--jp-content-font-color1, black)));\n",
       "  --sklearn-color-background: var(--sg-background-color, var(--theme-background, var(--jp-layout-color0, white)));\n",
       "  --sklearn-color-border-box: var(--sg-text-color, var(--theme-code-foreground, var(--jp-content-font-color1, black)));\n",
       "  --sklearn-color-icon: #696969;\n",
       "\n",
       "  @media (prefers-color-scheme: dark) {\n",
       "    /* Redefinition of color scheme for dark theme */\n",
       "    --sklearn-color-text-on-default-background: var(--sg-text-color, var(--theme-code-foreground, var(--jp-content-font-color1, white)));\n",
       "    --sklearn-color-background: var(--sg-background-color, var(--theme-background, var(--jp-layout-color0, #111)));\n",
       "    --sklearn-color-border-box: var(--sg-text-color, var(--theme-code-foreground, var(--jp-content-font-color1, white)));\n",
       "    --sklearn-color-icon: #878787;\n",
       "  }\n",
       "}\n",
       "\n",
       "#sk-container-id-1 {\n",
       "  color: var(--sklearn-color-text);\n",
       "}\n",
       "\n",
       "#sk-container-id-1 pre {\n",
       "  padding: 0;\n",
       "}\n",
       "\n",
       "#sk-container-id-1 input.sk-hidden--visually {\n",
       "  border: 0;\n",
       "  clip: rect(1px 1px 1px 1px);\n",
       "  clip: rect(1px, 1px, 1px, 1px);\n",
       "  height: 1px;\n",
       "  margin: -1px;\n",
       "  overflow: hidden;\n",
       "  padding: 0;\n",
       "  position: absolute;\n",
       "  width: 1px;\n",
       "}\n",
       "\n",
       "#sk-container-id-1 div.sk-dashed-wrapped {\n",
       "  border: 1px dashed var(--sklearn-color-line);\n",
       "  margin: 0 0.4em 0.5em 0.4em;\n",
       "  box-sizing: border-box;\n",
       "  padding-bottom: 0.4em;\n",
       "  background-color: var(--sklearn-color-background);\n",
       "}\n",
       "\n",
       "#sk-container-id-1 div.sk-container {\n",
       "  /* jupyter's `normalize.less` sets `[hidden] { display: none; }`\n",
       "     but bootstrap.min.css set `[hidden] { display: none !important; }`\n",
       "     so we also need the `!important` here to be able to override the\n",
       "     default hidden behavior on the sphinx rendered scikit-learn.org.\n",
       "     See: https://github.com/scikit-learn/scikit-learn/issues/21755 */\n",
       "  display: inline-block !important;\n",
       "  position: relative;\n",
       "}\n",
       "\n",
       "#sk-container-id-1 div.sk-text-repr-fallback {\n",
       "  display: none;\n",
       "}\n",
       "\n",
       "div.sk-parallel-item,\n",
       "div.sk-serial,\n",
       "div.sk-item {\n",
       "  /* draw centered vertical line to link estimators */\n",
       "  background-image: linear-gradient(var(--sklearn-color-text-on-default-background), var(--sklearn-color-text-on-default-background));\n",
       "  background-size: 2px 100%;\n",
       "  background-repeat: no-repeat;\n",
       "  background-position: center center;\n",
       "}\n",
       "\n",
       "/* Parallel-specific style estimator block */\n",
       "\n",
       "#sk-container-id-1 div.sk-parallel-item::after {\n",
       "  content: \"\";\n",
       "  width: 100%;\n",
       "  border-bottom: 2px solid var(--sklearn-color-text-on-default-background);\n",
       "  flex-grow: 1;\n",
       "}\n",
       "\n",
       "#sk-container-id-1 div.sk-parallel {\n",
       "  display: flex;\n",
       "  align-items: stretch;\n",
       "  justify-content: center;\n",
       "  background-color: var(--sklearn-color-background);\n",
       "  position: relative;\n",
       "}\n",
       "\n",
       "#sk-container-id-1 div.sk-parallel-item {\n",
       "  display: flex;\n",
       "  flex-direction: column;\n",
       "}\n",
       "\n",
       "#sk-container-id-1 div.sk-parallel-item:first-child::after {\n",
       "  align-self: flex-end;\n",
       "  width: 50%;\n",
       "}\n",
       "\n",
       "#sk-container-id-1 div.sk-parallel-item:last-child::after {\n",
       "  align-self: flex-start;\n",
       "  width: 50%;\n",
       "}\n",
       "\n",
       "#sk-container-id-1 div.sk-parallel-item:only-child::after {\n",
       "  width: 0;\n",
       "}\n",
       "\n",
       "/* Serial-specific style estimator block */\n",
       "\n",
       "#sk-container-id-1 div.sk-serial {\n",
       "  display: flex;\n",
       "  flex-direction: column;\n",
       "  align-items: center;\n",
       "  background-color: var(--sklearn-color-background);\n",
       "  padding-right: 1em;\n",
       "  padding-left: 1em;\n",
       "}\n",
       "\n",
       "\n",
       "/* Toggleable style: style used for estimator/Pipeline/ColumnTransformer box that is\n",
       "clickable and can be expanded/collapsed.\n",
       "- Pipeline and ColumnTransformer use this feature and define the default style\n",
       "- Estimators will overwrite some part of the style using the `sk-estimator` class\n",
       "*/\n",
       "\n",
       "/* Pipeline and ColumnTransformer style (default) */\n",
       "\n",
       "#sk-container-id-1 div.sk-toggleable {\n",
       "  /* Default theme specific background. It is overwritten whether we have a\n",
       "  specific estimator or a Pipeline/ColumnTransformer */\n",
       "  background-color: var(--sklearn-color-background);\n",
       "}\n",
       "\n",
       "/* Toggleable label */\n",
       "#sk-container-id-1 label.sk-toggleable__label {\n",
       "  cursor: pointer;\n",
       "  display: flex;\n",
       "  width: 100%;\n",
       "  margin-bottom: 0;\n",
       "  padding: 0.5em;\n",
       "  box-sizing: border-box;\n",
       "  text-align: center;\n",
       "  align-items: start;\n",
       "  justify-content: space-between;\n",
       "  gap: 0.5em;\n",
       "}\n",
       "\n",
       "#sk-container-id-1 label.sk-toggleable__label .caption {\n",
       "  font-size: 0.6rem;\n",
       "  font-weight: lighter;\n",
       "  color: var(--sklearn-color-text-muted);\n",
       "}\n",
       "\n",
       "#sk-container-id-1 label.sk-toggleable__label-arrow:before {\n",
       "  /* Arrow on the left of the label */\n",
       "  content: \"▸\";\n",
       "  float: left;\n",
       "  margin-right: 0.25em;\n",
       "  color: var(--sklearn-color-icon);\n",
       "}\n",
       "\n",
       "#sk-container-id-1 label.sk-toggleable__label-arrow:hover:before {\n",
       "  color: var(--sklearn-color-text);\n",
       "}\n",
       "\n",
       "/* Toggleable content - dropdown */\n",
       "\n",
       "#sk-container-id-1 div.sk-toggleable__content {\n",
       "  max-height: 0;\n",
       "  max-width: 0;\n",
       "  overflow: hidden;\n",
       "  text-align: left;\n",
       "  /* unfitted */\n",
       "  background-color: var(--sklearn-color-unfitted-level-0);\n",
       "}\n",
       "\n",
       "#sk-container-id-1 div.sk-toggleable__content.fitted {\n",
       "  /* fitted */\n",
       "  background-color: var(--sklearn-color-fitted-level-0);\n",
       "}\n",
       "\n",
       "#sk-container-id-1 div.sk-toggleable__content pre {\n",
       "  margin: 0.2em;\n",
       "  border-radius: 0.25em;\n",
       "  color: var(--sklearn-color-text);\n",
       "  /* unfitted */\n",
       "  background-color: var(--sklearn-color-unfitted-level-0);\n",
       "}\n",
       "\n",
       "#sk-container-id-1 div.sk-toggleable__content.fitted pre {\n",
       "  /* unfitted */\n",
       "  background-color: var(--sklearn-color-fitted-level-0);\n",
       "}\n",
       "\n",
       "#sk-container-id-1 input.sk-toggleable__control:checked~div.sk-toggleable__content {\n",
       "  /* Expand drop-down */\n",
       "  max-height: 200px;\n",
       "  max-width: 100%;\n",
       "  overflow: auto;\n",
       "}\n",
       "\n",
       "#sk-container-id-1 input.sk-toggleable__control:checked~label.sk-toggleable__label-arrow:before {\n",
       "  content: \"▾\";\n",
       "}\n",
       "\n",
       "/* Pipeline/ColumnTransformer-specific style */\n",
       "\n",
       "#sk-container-id-1 div.sk-label input.sk-toggleable__control:checked~label.sk-toggleable__label {\n",
       "  color: var(--sklearn-color-text);\n",
       "  background-color: var(--sklearn-color-unfitted-level-2);\n",
       "}\n",
       "\n",
       "#sk-container-id-1 div.sk-label.fitted input.sk-toggleable__control:checked~label.sk-toggleable__label {\n",
       "  background-color: var(--sklearn-color-fitted-level-2);\n",
       "}\n",
       "\n",
       "/* Estimator-specific style */\n",
       "\n",
       "/* Colorize estimator box */\n",
       "#sk-container-id-1 div.sk-estimator input.sk-toggleable__control:checked~label.sk-toggleable__label {\n",
       "  /* unfitted */\n",
       "  background-color: var(--sklearn-color-unfitted-level-2);\n",
       "}\n",
       "\n",
       "#sk-container-id-1 div.sk-estimator.fitted input.sk-toggleable__control:checked~label.sk-toggleable__label {\n",
       "  /* fitted */\n",
       "  background-color: var(--sklearn-color-fitted-level-2);\n",
       "}\n",
       "\n",
       "#sk-container-id-1 div.sk-label label.sk-toggleable__label,\n",
       "#sk-container-id-1 div.sk-label label {\n",
       "  /* The background is the default theme color */\n",
       "  color: var(--sklearn-color-text-on-default-background);\n",
       "}\n",
       "\n",
       "/* On hover, darken the color of the background */\n",
       "#sk-container-id-1 div.sk-label:hover label.sk-toggleable__label {\n",
       "  color: var(--sklearn-color-text);\n",
       "  background-color: var(--sklearn-color-unfitted-level-2);\n",
       "}\n",
       "\n",
       "/* Label box, darken color on hover, fitted */\n",
       "#sk-container-id-1 div.sk-label.fitted:hover label.sk-toggleable__label.fitted {\n",
       "  color: var(--sklearn-color-text);\n",
       "  background-color: var(--sklearn-color-fitted-level-2);\n",
       "}\n",
       "\n",
       "/* Estimator label */\n",
       "\n",
       "#sk-container-id-1 div.sk-label label {\n",
       "  font-family: monospace;\n",
       "  font-weight: bold;\n",
       "  display: inline-block;\n",
       "  line-height: 1.2em;\n",
       "}\n",
       "\n",
       "#sk-container-id-1 div.sk-label-container {\n",
       "  text-align: center;\n",
       "}\n",
       "\n",
       "/* Estimator-specific */\n",
       "#sk-container-id-1 div.sk-estimator {\n",
       "  font-family: monospace;\n",
       "  border: 1px dotted var(--sklearn-color-border-box);\n",
       "  border-radius: 0.25em;\n",
       "  box-sizing: border-box;\n",
       "  margin-bottom: 0.5em;\n",
       "  /* unfitted */\n",
       "  background-color: var(--sklearn-color-unfitted-level-0);\n",
       "}\n",
       "\n",
       "#sk-container-id-1 div.sk-estimator.fitted {\n",
       "  /* fitted */\n",
       "  background-color: var(--sklearn-color-fitted-level-0);\n",
       "}\n",
       "\n",
       "/* on hover */\n",
       "#sk-container-id-1 div.sk-estimator:hover {\n",
       "  /* unfitted */\n",
       "  background-color: var(--sklearn-color-unfitted-level-2);\n",
       "}\n",
       "\n",
       "#sk-container-id-1 div.sk-estimator.fitted:hover {\n",
       "  /* fitted */\n",
       "  background-color: var(--sklearn-color-fitted-level-2);\n",
       "}\n",
       "\n",
       "/* Specification for estimator info (e.g. \"i\" and \"?\") */\n",
       "\n",
       "/* Common style for \"i\" and \"?\" */\n",
       "\n",
       ".sk-estimator-doc-link,\n",
       "a:link.sk-estimator-doc-link,\n",
       "a:visited.sk-estimator-doc-link {\n",
       "  float: right;\n",
       "  font-size: smaller;\n",
       "  line-height: 1em;\n",
       "  font-family: monospace;\n",
       "  background-color: var(--sklearn-color-background);\n",
       "  border-radius: 1em;\n",
       "  height: 1em;\n",
       "  width: 1em;\n",
       "  text-decoration: none !important;\n",
       "  margin-left: 0.5em;\n",
       "  text-align: center;\n",
       "  /* unfitted */\n",
       "  border: var(--sklearn-color-unfitted-level-1) 1pt solid;\n",
       "  color: var(--sklearn-color-unfitted-level-1);\n",
       "}\n",
       "\n",
       ".sk-estimator-doc-link.fitted,\n",
       "a:link.sk-estimator-doc-link.fitted,\n",
       "a:visited.sk-estimator-doc-link.fitted {\n",
       "  /* fitted */\n",
       "  border: var(--sklearn-color-fitted-level-1) 1pt solid;\n",
       "  color: var(--sklearn-color-fitted-level-1);\n",
       "}\n",
       "\n",
       "/* On hover */\n",
       "div.sk-estimator:hover .sk-estimator-doc-link:hover,\n",
       ".sk-estimator-doc-link:hover,\n",
       "div.sk-label-container:hover .sk-estimator-doc-link:hover,\n",
       ".sk-estimator-doc-link:hover {\n",
       "  /* unfitted */\n",
       "  background-color: var(--sklearn-color-unfitted-level-3);\n",
       "  color: var(--sklearn-color-background);\n",
       "  text-decoration: none;\n",
       "}\n",
       "\n",
       "div.sk-estimator.fitted:hover .sk-estimator-doc-link.fitted:hover,\n",
       ".sk-estimator-doc-link.fitted:hover,\n",
       "div.sk-label-container:hover .sk-estimator-doc-link.fitted:hover,\n",
       ".sk-estimator-doc-link.fitted:hover {\n",
       "  /* fitted */\n",
       "  background-color: var(--sklearn-color-fitted-level-3);\n",
       "  color: var(--sklearn-color-background);\n",
       "  text-decoration: none;\n",
       "}\n",
       "\n",
       "/* Span, style for the box shown on hovering the info icon */\n",
       ".sk-estimator-doc-link span {\n",
       "  display: none;\n",
       "  z-index: 9999;\n",
       "  position: relative;\n",
       "  font-weight: normal;\n",
       "  right: .2ex;\n",
       "  padding: .5ex;\n",
       "  margin: .5ex;\n",
       "  width: min-content;\n",
       "  min-width: 20ex;\n",
       "  max-width: 50ex;\n",
       "  color: var(--sklearn-color-text);\n",
       "  box-shadow: 2pt 2pt 4pt #999;\n",
       "  /* unfitted */\n",
       "  background: var(--sklearn-color-unfitted-level-0);\n",
       "  border: .5pt solid var(--sklearn-color-unfitted-level-3);\n",
       "}\n",
       "\n",
       ".sk-estimator-doc-link.fitted span {\n",
       "  /* fitted */\n",
       "  background: var(--sklearn-color-fitted-level-0);\n",
       "  border: var(--sklearn-color-fitted-level-3);\n",
       "}\n",
       "\n",
       ".sk-estimator-doc-link:hover span {\n",
       "  display: block;\n",
       "}\n",
       "\n",
       "/* \"?\"-specific style due to the `<a>` HTML tag */\n",
       "\n",
       "#sk-container-id-1 a.estimator_doc_link {\n",
       "  float: right;\n",
       "  font-size: 1rem;\n",
       "  line-height: 1em;\n",
       "  font-family: monospace;\n",
       "  background-color: var(--sklearn-color-background);\n",
       "  border-radius: 1rem;\n",
       "  height: 1rem;\n",
       "  width: 1rem;\n",
       "  text-decoration: none;\n",
       "  /* unfitted */\n",
       "  color: var(--sklearn-color-unfitted-level-1);\n",
       "  border: var(--sklearn-color-unfitted-level-1) 1pt solid;\n",
       "}\n",
       "\n",
       "#sk-container-id-1 a.estimator_doc_link.fitted {\n",
       "  /* fitted */\n",
       "  border: var(--sklearn-color-fitted-level-1) 1pt solid;\n",
       "  color: var(--sklearn-color-fitted-level-1);\n",
       "}\n",
       "\n",
       "/* On hover */\n",
       "#sk-container-id-1 a.estimator_doc_link:hover {\n",
       "  /* unfitted */\n",
       "  background-color: var(--sklearn-color-unfitted-level-3);\n",
       "  color: var(--sklearn-color-background);\n",
       "  text-decoration: none;\n",
       "}\n",
       "\n",
       "#sk-container-id-1 a.estimator_doc_link.fitted:hover {\n",
       "  /* fitted */\n",
       "  background-color: var(--sklearn-color-fitted-level-3);\n",
       "}\n",
       "</style><div id=\"sk-container-id-1\" class=\"sk-top-container\"><div class=\"sk-text-repr-fallback\"><pre>RandomizedSearchCV(cv=TimeSeriesSplit(gap=0, max_train_size=None, n_splits=3, test_size=None),\n",
       "                   estimator=Pipeline(steps=[(&#x27;preprocessor&#x27;,\n",
       "                                              ColumnTransformer(transformers=[(&#x27;ohe&#x27;,\n",
       "                                                                               OneHotEncoder(),\n",
       "                                                                               [&#x27;dayofweek&#x27;,\n",
       "                                                                                &#x27;hour&#x27;]),\n",
       "                                                                              (&#x27;num&#x27;,\n",
       "                                                                               StandardScaler(),\n",
       "                                                                               Index([&#x27;lag_1&#x27;, &#x27;lag_2&#x27;, &#x27;lag_3&#x27;, &#x27;lag_4&#x27;, &#x27;lag_5&#x27;, &#x27;lag_6&#x27;, &#x27;lag_7&#x27;, &#x27;lag_8&#x27;,\n",
       "       &#x27;lag_9&#x27;, &#x27;lag_10&#x27;,\n",
       "       ...\n",
       "       &#x27;lag_160&#x27;, &#x27;lag_161&#x27;, &#x27;lag_...\n",
       "                                        {&#x27;model&#x27;: [Ridge()],\n",
       "                                         &#x27;model__alpha&#x27;: array([1.e-03, 1.e-02, 1.e-01, 1.e+00, 1.e+01, 1.e+02, 1.e+03])},\n",
       "                                        {&#x27;model&#x27;: [Lasso(max_iter=10000)],\n",
       "                                         &#x27;model__alpha&#x27;: array([1.e-03, 1.e-02, 1.e-01, 1.e+00, 1.e+01])},\n",
       "                                        {&#x27;model&#x27;: [ElasticNet(max_iter=10000)],\n",
       "                                         &#x27;model__alpha&#x27;: array([1.e-03, 1.e-02, 1.e-01, 1.e+00, 1.e+01]),\n",
       "                                         &#x27;model__l1_ratio&#x27;: [0.1, 0.5, 0.9]}],\n",
       "                   scoring=&#x27;neg_root_mean_squared_error&#x27;)</pre><b>In a Jupyter environment, please rerun this cell to show the HTML representation or trust the notebook. <br />On GitHub, the HTML representation is unable to render, please try loading this page with nbviewer.org.</b></div><div class=\"sk-container\" hidden><div class=\"sk-item sk-dashed-wrapped\"><div class=\"sk-label-container\"><div class=\"sk-label fitted sk-toggleable\"><input class=\"sk-toggleable__control sk-hidden--visually\" id=\"sk-estimator-id-1\" type=\"checkbox\" ><label for=\"sk-estimator-id-1\" class=\"sk-toggleable__label fitted sk-toggleable__label-arrow\"><div><div>RandomizedSearchCV</div></div><div><a class=\"sk-estimator-doc-link fitted\" rel=\"noreferrer\" target=\"_blank\" href=\"https://scikit-learn.org/1.6/modules/generated/sklearn.model_selection.RandomizedSearchCV.html\">?<span>Documentation for RandomizedSearchCV</span></a><span class=\"sk-estimator-doc-link fitted\">i<span>Fitted</span></span></div></label><div class=\"sk-toggleable__content fitted\"><pre>RandomizedSearchCV(cv=TimeSeriesSplit(gap=0, max_train_size=None, n_splits=3, test_size=None),\n",
       "                   estimator=Pipeline(steps=[(&#x27;preprocessor&#x27;,\n",
       "                                              ColumnTransformer(transformers=[(&#x27;ohe&#x27;,\n",
       "                                                                               OneHotEncoder(),\n",
       "                                                                               [&#x27;dayofweek&#x27;,\n",
       "                                                                                &#x27;hour&#x27;]),\n",
       "                                                                              (&#x27;num&#x27;,\n",
       "                                                                               StandardScaler(),\n",
       "                                                                               Index([&#x27;lag_1&#x27;, &#x27;lag_2&#x27;, &#x27;lag_3&#x27;, &#x27;lag_4&#x27;, &#x27;lag_5&#x27;, &#x27;lag_6&#x27;, &#x27;lag_7&#x27;, &#x27;lag_8&#x27;,\n",
       "       &#x27;lag_9&#x27;, &#x27;lag_10&#x27;,\n",
       "       ...\n",
       "       &#x27;lag_160&#x27;, &#x27;lag_161&#x27;, &#x27;lag_...\n",
       "                                        {&#x27;model&#x27;: [Ridge()],\n",
       "                                         &#x27;model__alpha&#x27;: array([1.e-03, 1.e-02, 1.e-01, 1.e+00, 1.e+01, 1.e+02, 1.e+03])},\n",
       "                                        {&#x27;model&#x27;: [Lasso(max_iter=10000)],\n",
       "                                         &#x27;model__alpha&#x27;: array([1.e-03, 1.e-02, 1.e-01, 1.e+00, 1.e+01])},\n",
       "                                        {&#x27;model&#x27;: [ElasticNet(max_iter=10000)],\n",
       "                                         &#x27;model__alpha&#x27;: array([1.e-03, 1.e-02, 1.e-01, 1.e+00, 1.e+01]),\n",
       "                                         &#x27;model__l1_ratio&#x27;: [0.1, 0.5, 0.9]}],\n",
       "                   scoring=&#x27;neg_root_mean_squared_error&#x27;)</pre></div> </div></div><div class=\"sk-parallel\"><div class=\"sk-parallel-item\"><div class=\"sk-item\"><div class=\"sk-label-container\"><div class=\"sk-label fitted sk-toggleable\"><input class=\"sk-toggleable__control sk-hidden--visually\" id=\"sk-estimator-id-2\" type=\"checkbox\" ><label for=\"sk-estimator-id-2\" class=\"sk-toggleable__label fitted sk-toggleable__label-arrow\"><div><div>best_estimator_: Pipeline</div></div></label><div class=\"sk-toggleable__content fitted\"><pre>Pipeline(steps=[(&#x27;preprocessor&#x27;,\n",
       "                 ColumnTransformer(transformers=[(&#x27;ohe&#x27;, OneHotEncoder(),\n",
       "                                                  [&#x27;dayofweek&#x27;, &#x27;hour&#x27;]),\n",
       "                                                 (&#x27;num&#x27;, StandardScaler(),\n",
       "                                                  Index([&#x27;lag_1&#x27;, &#x27;lag_2&#x27;, &#x27;lag_3&#x27;, &#x27;lag_4&#x27;, &#x27;lag_5&#x27;, &#x27;lag_6&#x27;, &#x27;lag_7&#x27;, &#x27;lag_8&#x27;,\n",
       "       &#x27;lag_9&#x27;, &#x27;lag_10&#x27;,\n",
       "       ...\n",
       "       &#x27;lag_160&#x27;, &#x27;lag_161&#x27;, &#x27;lag_162&#x27;, &#x27;lag_163&#x27;, &#x27;lag_164&#x27;, &#x27;lag_165&#x27;,\n",
       "       &#x27;lag_166&#x27;, &#x27;lag_167&#x27;, &#x27;lag_168&#x27;, &#x27;rolling_mean&#x27;],\n",
       "      dtype=&#x27;object&#x27;, lengt...\n",
       "                              feature_types=None, gamma=0.1, grow_policy=None,\n",
       "                              importance_type=None,\n",
       "                              interaction_constraints=None, learning_rate=0.1,\n",
       "                              max_bin=None, max_cat_threshold=None,\n",
       "                              max_cat_to_onehot=None, max_delta_step=None,\n",
       "                              max_depth=4, max_leaves=None,\n",
       "                              min_child_weight=None, missing=nan,\n",
       "                              monotone_constraints=None, multi_strategy=None,\n",
       "                              n_estimators=100, n_jobs=None,\n",
       "                              num_parallel_tree=None, random_state=None, ...))])</pre></div> </div></div><div class=\"sk-serial\"><div class=\"sk-item\"><div class=\"sk-serial\"><div class=\"sk-item sk-dashed-wrapped\"><div class=\"sk-label-container\"><div class=\"sk-label fitted sk-toggleable\"><input class=\"sk-toggleable__control sk-hidden--visually\" id=\"sk-estimator-id-3\" type=\"checkbox\" ><label for=\"sk-estimator-id-3\" class=\"sk-toggleable__label fitted sk-toggleable__label-arrow\"><div><div>preprocessor: ColumnTransformer</div></div><div><a class=\"sk-estimator-doc-link fitted\" rel=\"noreferrer\" target=\"_blank\" href=\"https://scikit-learn.org/1.6/modules/generated/sklearn.compose.ColumnTransformer.html\">?<span>Documentation for preprocessor: ColumnTransformer</span></a></div></label><div class=\"sk-toggleable__content fitted\"><pre>ColumnTransformer(transformers=[(&#x27;ohe&#x27;, OneHotEncoder(), [&#x27;dayofweek&#x27;, &#x27;hour&#x27;]),\n",
       "                                (&#x27;num&#x27;, StandardScaler(),\n",
       "                                 Index([&#x27;lag_1&#x27;, &#x27;lag_2&#x27;, &#x27;lag_3&#x27;, &#x27;lag_4&#x27;, &#x27;lag_5&#x27;, &#x27;lag_6&#x27;, &#x27;lag_7&#x27;, &#x27;lag_8&#x27;,\n",
       "       &#x27;lag_9&#x27;, &#x27;lag_10&#x27;,\n",
       "       ...\n",
       "       &#x27;lag_160&#x27;, &#x27;lag_161&#x27;, &#x27;lag_162&#x27;, &#x27;lag_163&#x27;, &#x27;lag_164&#x27;, &#x27;lag_165&#x27;,\n",
       "       &#x27;lag_166&#x27;, &#x27;lag_167&#x27;, &#x27;lag_168&#x27;, &#x27;rolling_mean&#x27;],\n",
       "      dtype=&#x27;object&#x27;, length=169))])</pre></div> </div></div><div class=\"sk-parallel\"><div class=\"sk-parallel-item\"><div class=\"sk-item\"><div class=\"sk-label-container\"><div class=\"sk-label fitted sk-toggleable\"><input class=\"sk-toggleable__control sk-hidden--visually\" id=\"sk-estimator-id-4\" type=\"checkbox\" ><label for=\"sk-estimator-id-4\" class=\"sk-toggleable__label fitted sk-toggleable__label-arrow\"><div><div>ohe</div></div></label><div class=\"sk-toggleable__content fitted\"><pre>[&#x27;dayofweek&#x27;, &#x27;hour&#x27;]</pre></div> </div></div><div class=\"sk-serial\"><div class=\"sk-item\"><div class=\"sk-estimator fitted sk-toggleable\"><input class=\"sk-toggleable__control sk-hidden--visually\" id=\"sk-estimator-id-5\" type=\"checkbox\" ><label for=\"sk-estimator-id-5\" class=\"sk-toggleable__label fitted sk-toggleable__label-arrow\"><div><div>OneHotEncoder</div></div><div><a class=\"sk-estimator-doc-link fitted\" rel=\"noreferrer\" target=\"_blank\" href=\"https://scikit-learn.org/1.6/modules/generated/sklearn.preprocessing.OneHotEncoder.html\">?<span>Documentation for OneHotEncoder</span></a></div></label><div class=\"sk-toggleable__content fitted\"><pre>OneHotEncoder()</pre></div> </div></div></div></div></div><div class=\"sk-parallel-item\"><div class=\"sk-item\"><div class=\"sk-label-container\"><div class=\"sk-label fitted sk-toggleable\"><input class=\"sk-toggleable__control sk-hidden--visually\" id=\"sk-estimator-id-6\" type=\"checkbox\" ><label for=\"sk-estimator-id-6\" class=\"sk-toggleable__label fitted sk-toggleable__label-arrow\"><div><div>num</div></div></label><div class=\"sk-toggleable__content fitted\"><pre>Index([&#x27;lag_1&#x27;, &#x27;lag_2&#x27;, &#x27;lag_3&#x27;, &#x27;lag_4&#x27;, &#x27;lag_5&#x27;, &#x27;lag_6&#x27;, &#x27;lag_7&#x27;, &#x27;lag_8&#x27;,\n",
       "       &#x27;lag_9&#x27;, &#x27;lag_10&#x27;,\n",
       "       ...\n",
       "       &#x27;lag_160&#x27;, &#x27;lag_161&#x27;, &#x27;lag_162&#x27;, &#x27;lag_163&#x27;, &#x27;lag_164&#x27;, &#x27;lag_165&#x27;,\n",
       "       &#x27;lag_166&#x27;, &#x27;lag_167&#x27;, &#x27;lag_168&#x27;, &#x27;rolling_mean&#x27;],\n",
       "      dtype=&#x27;object&#x27;, length=169)</pre></div> </div></div><div class=\"sk-serial\"><div class=\"sk-item\"><div class=\"sk-estimator fitted sk-toggleable\"><input class=\"sk-toggleable__control sk-hidden--visually\" id=\"sk-estimator-id-7\" type=\"checkbox\" ><label for=\"sk-estimator-id-7\" class=\"sk-toggleable__label fitted sk-toggleable__label-arrow\"><div><div>StandardScaler</div></div><div><a class=\"sk-estimator-doc-link fitted\" rel=\"noreferrer\" target=\"_blank\" href=\"https://scikit-learn.org/1.6/modules/generated/sklearn.preprocessing.StandardScaler.html\">?<span>Documentation for StandardScaler</span></a></div></label><div class=\"sk-toggleable__content fitted\"><pre>StandardScaler()</pre></div> </div></div></div></div></div></div></div><div class=\"sk-item\"><div class=\"sk-estimator fitted sk-toggleable\"><input class=\"sk-toggleable__control sk-hidden--visually\" id=\"sk-estimator-id-8\" type=\"checkbox\" ><label for=\"sk-estimator-id-8\" class=\"sk-toggleable__label fitted sk-toggleable__label-arrow\"><div><div>XGBRegressor</div></div></label><div class=\"sk-toggleable__content fitted\"><pre>XGBRegressor(base_score=None, booster=None, callbacks=None,\n",
       "             colsample_bylevel=None, colsample_bynode=None,\n",
       "             colsample_bytree=1.0, device=None, early_stopping_rounds=None,\n",
       "             enable_categorical=False, eval_metric=None, feature_types=None,\n",
       "             gamma=0.1, grow_policy=None, importance_type=None,\n",
       "             interaction_constraints=None, learning_rate=0.1, max_bin=None,\n",
       "             max_cat_threshold=None, max_cat_to_onehot=None,\n",
       "             max_delta_step=None, max_depth=4, max_leaves=None,\n",
       "             min_child_weight=None, missing=nan, monotone_constraints=None,\n",
       "             multi_strategy=None, n_estimators=100, n_jobs=None,\n",
       "             num_parallel_tree=None, random_state=None, ...)</pre></div> </div></div></div></div></div></div></div></div></div></div></div>"
      ],
      "text/plain": [
       "RandomizedSearchCV(cv=TimeSeriesSplit(gap=0, max_train_size=None, n_splits=3, test_size=None),\n",
       "                   estimator=Pipeline(steps=[('preprocessor',\n",
       "                                              ColumnTransformer(transformers=[('ohe',\n",
       "                                                                               OneHotEncoder(),\n",
       "                                                                               ['dayofweek',\n",
       "                                                                                'hour']),\n",
       "                                                                              ('num',\n",
       "                                                                               StandardScaler(),\n",
       "                                                                               Index(['lag_1', 'lag_2', 'lag_3', 'lag_4', 'lag_5', 'lag_6', 'lag_7', 'lag_8',\n",
       "       'lag_9', 'lag_10',\n",
       "       ...\n",
       "       'lag_160', 'lag_161', 'lag_...\n",
       "                                        {'model': [Ridge()],\n",
       "                                         'model__alpha': array([1.e-03, 1.e-02, 1.e-01, 1.e+00, 1.e+01, 1.e+02, 1.e+03])},\n",
       "                                        {'model': [Lasso(max_iter=10000)],\n",
       "                                         'model__alpha': array([1.e-03, 1.e-02, 1.e-01, 1.e+00, 1.e+01])},\n",
       "                                        {'model': [ElasticNet(max_iter=10000)],\n",
       "                                         'model__alpha': array([1.e-03, 1.e-02, 1.e-01, 1.e+00, 1.e+01]),\n",
       "                                         'model__l1_ratio': [0.1, 0.5, 0.9]}],\n",
       "                   scoring='neg_root_mean_squared_error')"
      ]
     },
     "execution_count": 33,
     "metadata": {},
     "output_type": "execute_result"
    }
   ],
   "source": [
    "rndm.fit(X_train, y_train)"
   ]
  },
  {
   "cell_type": "code",
   "execution_count": 34,
   "metadata": {
    "scrolled": false
   },
   "outputs": [
    {
     "name": "stdout",
     "output_type": "stream",
     "text": [
      "Лучшая модель и её параметры:\n",
      "\n",
      " Pipeline(steps=[('preprocessor',\n",
      "                 ColumnTransformer(transformers=[('ohe', OneHotEncoder(),\n",
      "                                                  ['dayofweek', 'hour']),\n",
      "                                                 ('num', StandardScaler(),\n",
      "                                                  Index(['lag_1', 'lag_2', 'lag_3', 'lag_4', 'lag_5', 'lag_6', 'lag_7', 'lag_8',\n",
      "       'lag_9', 'lag_10',\n",
      "       ...\n",
      "       'lag_160', 'lag_161', 'lag_162', 'lag_163', 'lag_164', 'lag_165',\n",
      "       'lag_166', 'lag_167', 'lag_168', 'rolling_mean'],\n",
      "      dtype='object', lengt...\n",
      "                              feature_types=None, gamma=0.1, grow_policy=None,\n",
      "                              importance_type=None,\n",
      "                              interaction_constraints=None, learning_rate=0.1,\n",
      "                              max_bin=None, max_cat_threshold=None,\n",
      "                              max_cat_to_onehot=None, max_delta_step=None,\n",
      "                              max_depth=4, max_leaves=None,\n",
      "                              min_child_weight=None, missing=nan,\n",
      "                              monotone_constraints=None, multi_strategy=None,\n",
      "                              n_estimators=100, n_jobs=None,\n",
      "                              num_parallel_tree=None, random_state=None, ...))])\n",
      "Метрика лучшей модели на кросс-валидации: -24.206023534138996\n"
     ]
    }
   ],
   "source": [
    "print('Лучшая модель и её параметры:\\n\\n', rndm.best_estimator_)\n",
    "\n",
    "print ('Метрика лучшей модели на кросс-валидации:', rndm.best_score_)"
   ]
  },
  {
   "cell_type": "code",
   "execution_count": 35,
   "metadata": {},
   "outputs": [],
   "source": [
    "model = rndm.best_estimator_"
   ]
  },
  {
   "cell_type": "code",
   "execution_count": 36,
   "metadata": {
    "scrolled": false
   },
   "outputs": [
    {
     "data": {
      "text/html": [
       "<style>#sk-container-id-2 {\n",
       "  /* Definition of color scheme common for light and dark mode */\n",
       "  --sklearn-color-text: #000;\n",
       "  --sklearn-color-text-muted: #666;\n",
       "  --sklearn-color-line: gray;\n",
       "  /* Definition of color scheme for unfitted estimators */\n",
       "  --sklearn-color-unfitted-level-0: #fff5e6;\n",
       "  --sklearn-color-unfitted-level-1: #f6e4d2;\n",
       "  --sklearn-color-unfitted-level-2: #ffe0b3;\n",
       "  --sklearn-color-unfitted-level-3: chocolate;\n",
       "  /* Definition of color scheme for fitted estimators */\n",
       "  --sklearn-color-fitted-level-0: #f0f8ff;\n",
       "  --sklearn-color-fitted-level-1: #d4ebff;\n",
       "  --sklearn-color-fitted-level-2: #b3dbfd;\n",
       "  --sklearn-color-fitted-level-3: cornflowerblue;\n",
       "\n",
       "  /* Specific color for light theme */\n",
       "  --sklearn-color-text-on-default-background: var(--sg-text-color, var(--theme-code-foreground, var(--jp-content-font-color1, black)));\n",
       "  --sklearn-color-background: var(--sg-background-color, var(--theme-background, var(--jp-layout-color0, white)));\n",
       "  --sklearn-color-border-box: var(--sg-text-color, var(--theme-code-foreground, var(--jp-content-font-color1, black)));\n",
       "  --sklearn-color-icon: #696969;\n",
       "\n",
       "  @media (prefers-color-scheme: dark) {\n",
       "    /* Redefinition of color scheme for dark theme */\n",
       "    --sklearn-color-text-on-default-background: var(--sg-text-color, var(--theme-code-foreground, var(--jp-content-font-color1, white)));\n",
       "    --sklearn-color-background: var(--sg-background-color, var(--theme-background, var(--jp-layout-color0, #111)));\n",
       "    --sklearn-color-border-box: var(--sg-text-color, var(--theme-code-foreground, var(--jp-content-font-color1, white)));\n",
       "    --sklearn-color-icon: #878787;\n",
       "  }\n",
       "}\n",
       "\n",
       "#sk-container-id-2 {\n",
       "  color: var(--sklearn-color-text);\n",
       "}\n",
       "\n",
       "#sk-container-id-2 pre {\n",
       "  padding: 0;\n",
       "}\n",
       "\n",
       "#sk-container-id-2 input.sk-hidden--visually {\n",
       "  border: 0;\n",
       "  clip: rect(1px 1px 1px 1px);\n",
       "  clip: rect(1px, 1px, 1px, 1px);\n",
       "  height: 1px;\n",
       "  margin: -1px;\n",
       "  overflow: hidden;\n",
       "  padding: 0;\n",
       "  position: absolute;\n",
       "  width: 1px;\n",
       "}\n",
       "\n",
       "#sk-container-id-2 div.sk-dashed-wrapped {\n",
       "  border: 1px dashed var(--sklearn-color-line);\n",
       "  margin: 0 0.4em 0.5em 0.4em;\n",
       "  box-sizing: border-box;\n",
       "  padding-bottom: 0.4em;\n",
       "  background-color: var(--sklearn-color-background);\n",
       "}\n",
       "\n",
       "#sk-container-id-2 div.sk-container {\n",
       "  /* jupyter's `normalize.less` sets `[hidden] { display: none; }`\n",
       "     but bootstrap.min.css set `[hidden] { display: none !important; }`\n",
       "     so we also need the `!important` here to be able to override the\n",
       "     default hidden behavior on the sphinx rendered scikit-learn.org.\n",
       "     See: https://github.com/scikit-learn/scikit-learn/issues/21755 */\n",
       "  display: inline-block !important;\n",
       "  position: relative;\n",
       "}\n",
       "\n",
       "#sk-container-id-2 div.sk-text-repr-fallback {\n",
       "  display: none;\n",
       "}\n",
       "\n",
       "div.sk-parallel-item,\n",
       "div.sk-serial,\n",
       "div.sk-item {\n",
       "  /* draw centered vertical line to link estimators */\n",
       "  background-image: linear-gradient(var(--sklearn-color-text-on-default-background), var(--sklearn-color-text-on-default-background));\n",
       "  background-size: 2px 100%;\n",
       "  background-repeat: no-repeat;\n",
       "  background-position: center center;\n",
       "}\n",
       "\n",
       "/* Parallel-specific style estimator block */\n",
       "\n",
       "#sk-container-id-2 div.sk-parallel-item::after {\n",
       "  content: \"\";\n",
       "  width: 100%;\n",
       "  border-bottom: 2px solid var(--sklearn-color-text-on-default-background);\n",
       "  flex-grow: 1;\n",
       "}\n",
       "\n",
       "#sk-container-id-2 div.sk-parallel {\n",
       "  display: flex;\n",
       "  align-items: stretch;\n",
       "  justify-content: center;\n",
       "  background-color: var(--sklearn-color-background);\n",
       "  position: relative;\n",
       "}\n",
       "\n",
       "#sk-container-id-2 div.sk-parallel-item {\n",
       "  display: flex;\n",
       "  flex-direction: column;\n",
       "}\n",
       "\n",
       "#sk-container-id-2 div.sk-parallel-item:first-child::after {\n",
       "  align-self: flex-end;\n",
       "  width: 50%;\n",
       "}\n",
       "\n",
       "#sk-container-id-2 div.sk-parallel-item:last-child::after {\n",
       "  align-self: flex-start;\n",
       "  width: 50%;\n",
       "}\n",
       "\n",
       "#sk-container-id-2 div.sk-parallel-item:only-child::after {\n",
       "  width: 0;\n",
       "}\n",
       "\n",
       "/* Serial-specific style estimator block */\n",
       "\n",
       "#sk-container-id-2 div.sk-serial {\n",
       "  display: flex;\n",
       "  flex-direction: column;\n",
       "  align-items: center;\n",
       "  background-color: var(--sklearn-color-background);\n",
       "  padding-right: 1em;\n",
       "  padding-left: 1em;\n",
       "}\n",
       "\n",
       "\n",
       "/* Toggleable style: style used for estimator/Pipeline/ColumnTransformer box that is\n",
       "clickable and can be expanded/collapsed.\n",
       "- Pipeline and ColumnTransformer use this feature and define the default style\n",
       "- Estimators will overwrite some part of the style using the `sk-estimator` class\n",
       "*/\n",
       "\n",
       "/* Pipeline and ColumnTransformer style (default) */\n",
       "\n",
       "#sk-container-id-2 div.sk-toggleable {\n",
       "  /* Default theme specific background. It is overwritten whether we have a\n",
       "  specific estimator or a Pipeline/ColumnTransformer */\n",
       "  background-color: var(--sklearn-color-background);\n",
       "}\n",
       "\n",
       "/* Toggleable label */\n",
       "#sk-container-id-2 label.sk-toggleable__label {\n",
       "  cursor: pointer;\n",
       "  display: flex;\n",
       "  width: 100%;\n",
       "  margin-bottom: 0;\n",
       "  padding: 0.5em;\n",
       "  box-sizing: border-box;\n",
       "  text-align: center;\n",
       "  align-items: start;\n",
       "  justify-content: space-between;\n",
       "  gap: 0.5em;\n",
       "}\n",
       "\n",
       "#sk-container-id-2 label.sk-toggleable__label .caption {\n",
       "  font-size: 0.6rem;\n",
       "  font-weight: lighter;\n",
       "  color: var(--sklearn-color-text-muted);\n",
       "}\n",
       "\n",
       "#sk-container-id-2 label.sk-toggleable__label-arrow:before {\n",
       "  /* Arrow on the left of the label */\n",
       "  content: \"▸\";\n",
       "  float: left;\n",
       "  margin-right: 0.25em;\n",
       "  color: var(--sklearn-color-icon);\n",
       "}\n",
       "\n",
       "#sk-container-id-2 label.sk-toggleable__label-arrow:hover:before {\n",
       "  color: var(--sklearn-color-text);\n",
       "}\n",
       "\n",
       "/* Toggleable content - dropdown */\n",
       "\n",
       "#sk-container-id-2 div.sk-toggleable__content {\n",
       "  max-height: 0;\n",
       "  max-width: 0;\n",
       "  overflow: hidden;\n",
       "  text-align: left;\n",
       "  /* unfitted */\n",
       "  background-color: var(--sklearn-color-unfitted-level-0);\n",
       "}\n",
       "\n",
       "#sk-container-id-2 div.sk-toggleable__content.fitted {\n",
       "  /* fitted */\n",
       "  background-color: var(--sklearn-color-fitted-level-0);\n",
       "}\n",
       "\n",
       "#sk-container-id-2 div.sk-toggleable__content pre {\n",
       "  margin: 0.2em;\n",
       "  border-radius: 0.25em;\n",
       "  color: var(--sklearn-color-text);\n",
       "  /* unfitted */\n",
       "  background-color: var(--sklearn-color-unfitted-level-0);\n",
       "}\n",
       "\n",
       "#sk-container-id-2 div.sk-toggleable__content.fitted pre {\n",
       "  /* unfitted */\n",
       "  background-color: var(--sklearn-color-fitted-level-0);\n",
       "}\n",
       "\n",
       "#sk-container-id-2 input.sk-toggleable__control:checked~div.sk-toggleable__content {\n",
       "  /* Expand drop-down */\n",
       "  max-height: 200px;\n",
       "  max-width: 100%;\n",
       "  overflow: auto;\n",
       "}\n",
       "\n",
       "#sk-container-id-2 input.sk-toggleable__control:checked~label.sk-toggleable__label-arrow:before {\n",
       "  content: \"▾\";\n",
       "}\n",
       "\n",
       "/* Pipeline/ColumnTransformer-specific style */\n",
       "\n",
       "#sk-container-id-2 div.sk-label input.sk-toggleable__control:checked~label.sk-toggleable__label {\n",
       "  color: var(--sklearn-color-text);\n",
       "  background-color: var(--sklearn-color-unfitted-level-2);\n",
       "}\n",
       "\n",
       "#sk-container-id-2 div.sk-label.fitted input.sk-toggleable__control:checked~label.sk-toggleable__label {\n",
       "  background-color: var(--sklearn-color-fitted-level-2);\n",
       "}\n",
       "\n",
       "/* Estimator-specific style */\n",
       "\n",
       "/* Colorize estimator box */\n",
       "#sk-container-id-2 div.sk-estimator input.sk-toggleable__control:checked~label.sk-toggleable__label {\n",
       "  /* unfitted */\n",
       "  background-color: var(--sklearn-color-unfitted-level-2);\n",
       "}\n",
       "\n",
       "#sk-container-id-2 div.sk-estimator.fitted input.sk-toggleable__control:checked~label.sk-toggleable__label {\n",
       "  /* fitted */\n",
       "  background-color: var(--sklearn-color-fitted-level-2);\n",
       "}\n",
       "\n",
       "#sk-container-id-2 div.sk-label label.sk-toggleable__label,\n",
       "#sk-container-id-2 div.sk-label label {\n",
       "  /* The background is the default theme color */\n",
       "  color: var(--sklearn-color-text-on-default-background);\n",
       "}\n",
       "\n",
       "/* On hover, darken the color of the background */\n",
       "#sk-container-id-2 div.sk-label:hover label.sk-toggleable__label {\n",
       "  color: var(--sklearn-color-text);\n",
       "  background-color: var(--sklearn-color-unfitted-level-2);\n",
       "}\n",
       "\n",
       "/* Label box, darken color on hover, fitted */\n",
       "#sk-container-id-2 div.sk-label.fitted:hover label.sk-toggleable__label.fitted {\n",
       "  color: var(--sklearn-color-text);\n",
       "  background-color: var(--sklearn-color-fitted-level-2);\n",
       "}\n",
       "\n",
       "/* Estimator label */\n",
       "\n",
       "#sk-container-id-2 div.sk-label label {\n",
       "  font-family: monospace;\n",
       "  font-weight: bold;\n",
       "  display: inline-block;\n",
       "  line-height: 1.2em;\n",
       "}\n",
       "\n",
       "#sk-container-id-2 div.sk-label-container {\n",
       "  text-align: center;\n",
       "}\n",
       "\n",
       "/* Estimator-specific */\n",
       "#sk-container-id-2 div.sk-estimator {\n",
       "  font-family: monospace;\n",
       "  border: 1px dotted var(--sklearn-color-border-box);\n",
       "  border-radius: 0.25em;\n",
       "  box-sizing: border-box;\n",
       "  margin-bottom: 0.5em;\n",
       "  /* unfitted */\n",
       "  background-color: var(--sklearn-color-unfitted-level-0);\n",
       "}\n",
       "\n",
       "#sk-container-id-2 div.sk-estimator.fitted {\n",
       "  /* fitted */\n",
       "  background-color: var(--sklearn-color-fitted-level-0);\n",
       "}\n",
       "\n",
       "/* on hover */\n",
       "#sk-container-id-2 div.sk-estimator:hover {\n",
       "  /* unfitted */\n",
       "  background-color: var(--sklearn-color-unfitted-level-2);\n",
       "}\n",
       "\n",
       "#sk-container-id-2 div.sk-estimator.fitted:hover {\n",
       "  /* fitted */\n",
       "  background-color: var(--sklearn-color-fitted-level-2);\n",
       "}\n",
       "\n",
       "/* Specification for estimator info (e.g. \"i\" and \"?\") */\n",
       "\n",
       "/* Common style for \"i\" and \"?\" */\n",
       "\n",
       ".sk-estimator-doc-link,\n",
       "a:link.sk-estimator-doc-link,\n",
       "a:visited.sk-estimator-doc-link {\n",
       "  float: right;\n",
       "  font-size: smaller;\n",
       "  line-height: 1em;\n",
       "  font-family: monospace;\n",
       "  background-color: var(--sklearn-color-background);\n",
       "  border-radius: 1em;\n",
       "  height: 1em;\n",
       "  width: 1em;\n",
       "  text-decoration: none !important;\n",
       "  margin-left: 0.5em;\n",
       "  text-align: center;\n",
       "  /* unfitted */\n",
       "  border: var(--sklearn-color-unfitted-level-1) 1pt solid;\n",
       "  color: var(--sklearn-color-unfitted-level-1);\n",
       "}\n",
       "\n",
       ".sk-estimator-doc-link.fitted,\n",
       "a:link.sk-estimator-doc-link.fitted,\n",
       "a:visited.sk-estimator-doc-link.fitted {\n",
       "  /* fitted */\n",
       "  border: var(--sklearn-color-fitted-level-1) 1pt solid;\n",
       "  color: var(--sklearn-color-fitted-level-1);\n",
       "}\n",
       "\n",
       "/* On hover */\n",
       "div.sk-estimator:hover .sk-estimator-doc-link:hover,\n",
       ".sk-estimator-doc-link:hover,\n",
       "div.sk-label-container:hover .sk-estimator-doc-link:hover,\n",
       ".sk-estimator-doc-link:hover {\n",
       "  /* unfitted */\n",
       "  background-color: var(--sklearn-color-unfitted-level-3);\n",
       "  color: var(--sklearn-color-background);\n",
       "  text-decoration: none;\n",
       "}\n",
       "\n",
       "div.sk-estimator.fitted:hover .sk-estimator-doc-link.fitted:hover,\n",
       ".sk-estimator-doc-link.fitted:hover,\n",
       "div.sk-label-container:hover .sk-estimator-doc-link.fitted:hover,\n",
       ".sk-estimator-doc-link.fitted:hover {\n",
       "  /* fitted */\n",
       "  background-color: var(--sklearn-color-fitted-level-3);\n",
       "  color: var(--sklearn-color-background);\n",
       "  text-decoration: none;\n",
       "}\n",
       "\n",
       "/* Span, style for the box shown on hovering the info icon */\n",
       ".sk-estimator-doc-link span {\n",
       "  display: none;\n",
       "  z-index: 9999;\n",
       "  position: relative;\n",
       "  font-weight: normal;\n",
       "  right: .2ex;\n",
       "  padding: .5ex;\n",
       "  margin: .5ex;\n",
       "  width: min-content;\n",
       "  min-width: 20ex;\n",
       "  max-width: 50ex;\n",
       "  color: var(--sklearn-color-text);\n",
       "  box-shadow: 2pt 2pt 4pt #999;\n",
       "  /* unfitted */\n",
       "  background: var(--sklearn-color-unfitted-level-0);\n",
       "  border: .5pt solid var(--sklearn-color-unfitted-level-3);\n",
       "}\n",
       "\n",
       ".sk-estimator-doc-link.fitted span {\n",
       "  /* fitted */\n",
       "  background: var(--sklearn-color-fitted-level-0);\n",
       "  border: var(--sklearn-color-fitted-level-3);\n",
       "}\n",
       "\n",
       ".sk-estimator-doc-link:hover span {\n",
       "  display: block;\n",
       "}\n",
       "\n",
       "/* \"?\"-specific style due to the `<a>` HTML tag */\n",
       "\n",
       "#sk-container-id-2 a.estimator_doc_link {\n",
       "  float: right;\n",
       "  font-size: 1rem;\n",
       "  line-height: 1em;\n",
       "  font-family: monospace;\n",
       "  background-color: var(--sklearn-color-background);\n",
       "  border-radius: 1rem;\n",
       "  height: 1rem;\n",
       "  width: 1rem;\n",
       "  text-decoration: none;\n",
       "  /* unfitted */\n",
       "  color: var(--sklearn-color-unfitted-level-1);\n",
       "  border: var(--sklearn-color-unfitted-level-1) 1pt solid;\n",
       "}\n",
       "\n",
       "#sk-container-id-2 a.estimator_doc_link.fitted {\n",
       "  /* fitted */\n",
       "  border: var(--sklearn-color-fitted-level-1) 1pt solid;\n",
       "  color: var(--sklearn-color-fitted-level-1);\n",
       "}\n",
       "\n",
       "/* On hover */\n",
       "#sk-container-id-2 a.estimator_doc_link:hover {\n",
       "  /* unfitted */\n",
       "  background-color: var(--sklearn-color-unfitted-level-3);\n",
       "  color: var(--sklearn-color-background);\n",
       "  text-decoration: none;\n",
       "}\n",
       "\n",
       "#sk-container-id-2 a.estimator_doc_link.fitted:hover {\n",
       "  /* fitted */\n",
       "  background-color: var(--sklearn-color-fitted-level-3);\n",
       "}\n",
       "</style><div id=\"sk-container-id-2\" class=\"sk-top-container\"><div class=\"sk-text-repr-fallback\"><pre>Pipeline(steps=[(&#x27;preprocessor&#x27;,\n",
       "                 ColumnTransformer(transformers=[(&#x27;ohe&#x27;, OneHotEncoder(),\n",
       "                                                  [&#x27;dayofweek&#x27;, &#x27;hour&#x27;]),\n",
       "                                                 (&#x27;num&#x27;, StandardScaler(),\n",
       "                                                  Index([&#x27;lag_1&#x27;, &#x27;lag_2&#x27;, &#x27;lag_3&#x27;, &#x27;lag_4&#x27;, &#x27;lag_5&#x27;, &#x27;lag_6&#x27;, &#x27;lag_7&#x27;, &#x27;lag_8&#x27;,\n",
       "       &#x27;lag_9&#x27;, &#x27;lag_10&#x27;,\n",
       "       ...\n",
       "       &#x27;lag_160&#x27;, &#x27;lag_161&#x27;, &#x27;lag_162&#x27;, &#x27;lag_163&#x27;, &#x27;lag_164&#x27;, &#x27;lag_165&#x27;,\n",
       "       &#x27;lag_166&#x27;, &#x27;lag_167&#x27;, &#x27;lag_168&#x27;, &#x27;rolling_mean&#x27;],\n",
       "      dtype=&#x27;object&#x27;, lengt...\n",
       "                              feature_types=None, gamma=0.1, grow_policy=None,\n",
       "                              importance_type=None,\n",
       "                              interaction_constraints=None, learning_rate=0.1,\n",
       "                              max_bin=None, max_cat_threshold=None,\n",
       "                              max_cat_to_onehot=None, max_delta_step=None,\n",
       "                              max_depth=4, max_leaves=None,\n",
       "                              min_child_weight=None, missing=nan,\n",
       "                              monotone_constraints=None, multi_strategy=None,\n",
       "                              n_estimators=100, n_jobs=None,\n",
       "                              num_parallel_tree=None, random_state=None, ...))])</pre><b>In a Jupyter environment, please rerun this cell to show the HTML representation or trust the notebook. <br />On GitHub, the HTML representation is unable to render, please try loading this page with nbviewer.org.</b></div><div class=\"sk-container\" hidden><div class=\"sk-item sk-dashed-wrapped\"><div class=\"sk-label-container\"><div class=\"sk-label fitted sk-toggleable\"><input class=\"sk-toggleable__control sk-hidden--visually\" id=\"sk-estimator-id-9\" type=\"checkbox\" ><label for=\"sk-estimator-id-9\" class=\"sk-toggleable__label fitted sk-toggleable__label-arrow\"><div><div>Pipeline</div></div><div><a class=\"sk-estimator-doc-link fitted\" rel=\"noreferrer\" target=\"_blank\" href=\"https://scikit-learn.org/1.6/modules/generated/sklearn.pipeline.Pipeline.html\">?<span>Documentation for Pipeline</span></a><span class=\"sk-estimator-doc-link fitted\">i<span>Fitted</span></span></div></label><div class=\"sk-toggleable__content fitted\"><pre>Pipeline(steps=[(&#x27;preprocessor&#x27;,\n",
       "                 ColumnTransformer(transformers=[(&#x27;ohe&#x27;, OneHotEncoder(),\n",
       "                                                  [&#x27;dayofweek&#x27;, &#x27;hour&#x27;]),\n",
       "                                                 (&#x27;num&#x27;, StandardScaler(),\n",
       "                                                  Index([&#x27;lag_1&#x27;, &#x27;lag_2&#x27;, &#x27;lag_3&#x27;, &#x27;lag_4&#x27;, &#x27;lag_5&#x27;, &#x27;lag_6&#x27;, &#x27;lag_7&#x27;, &#x27;lag_8&#x27;,\n",
       "       &#x27;lag_9&#x27;, &#x27;lag_10&#x27;,\n",
       "       ...\n",
       "       &#x27;lag_160&#x27;, &#x27;lag_161&#x27;, &#x27;lag_162&#x27;, &#x27;lag_163&#x27;, &#x27;lag_164&#x27;, &#x27;lag_165&#x27;,\n",
       "       &#x27;lag_166&#x27;, &#x27;lag_167&#x27;, &#x27;lag_168&#x27;, &#x27;rolling_mean&#x27;],\n",
       "      dtype=&#x27;object&#x27;, lengt...\n",
       "                              feature_types=None, gamma=0.1, grow_policy=None,\n",
       "                              importance_type=None,\n",
       "                              interaction_constraints=None, learning_rate=0.1,\n",
       "                              max_bin=None, max_cat_threshold=None,\n",
       "                              max_cat_to_onehot=None, max_delta_step=None,\n",
       "                              max_depth=4, max_leaves=None,\n",
       "                              min_child_weight=None, missing=nan,\n",
       "                              monotone_constraints=None, multi_strategy=None,\n",
       "                              n_estimators=100, n_jobs=None,\n",
       "                              num_parallel_tree=None, random_state=None, ...))])</pre></div> </div></div><div class=\"sk-serial\"><div class=\"sk-item sk-dashed-wrapped\"><div class=\"sk-label-container\"><div class=\"sk-label fitted sk-toggleable\"><input class=\"sk-toggleable__control sk-hidden--visually\" id=\"sk-estimator-id-10\" type=\"checkbox\" ><label for=\"sk-estimator-id-10\" class=\"sk-toggleable__label fitted sk-toggleable__label-arrow\"><div><div>preprocessor: ColumnTransformer</div></div><div><a class=\"sk-estimator-doc-link fitted\" rel=\"noreferrer\" target=\"_blank\" href=\"https://scikit-learn.org/1.6/modules/generated/sklearn.compose.ColumnTransformer.html\">?<span>Documentation for preprocessor: ColumnTransformer</span></a></div></label><div class=\"sk-toggleable__content fitted\"><pre>ColumnTransformer(transformers=[(&#x27;ohe&#x27;, OneHotEncoder(), [&#x27;dayofweek&#x27;, &#x27;hour&#x27;]),\n",
       "                                (&#x27;num&#x27;, StandardScaler(),\n",
       "                                 Index([&#x27;lag_1&#x27;, &#x27;lag_2&#x27;, &#x27;lag_3&#x27;, &#x27;lag_4&#x27;, &#x27;lag_5&#x27;, &#x27;lag_6&#x27;, &#x27;lag_7&#x27;, &#x27;lag_8&#x27;,\n",
       "       &#x27;lag_9&#x27;, &#x27;lag_10&#x27;,\n",
       "       ...\n",
       "       &#x27;lag_160&#x27;, &#x27;lag_161&#x27;, &#x27;lag_162&#x27;, &#x27;lag_163&#x27;, &#x27;lag_164&#x27;, &#x27;lag_165&#x27;,\n",
       "       &#x27;lag_166&#x27;, &#x27;lag_167&#x27;, &#x27;lag_168&#x27;, &#x27;rolling_mean&#x27;],\n",
       "      dtype=&#x27;object&#x27;, length=169))])</pre></div> </div></div><div class=\"sk-parallel\"><div class=\"sk-parallel-item\"><div class=\"sk-item\"><div class=\"sk-label-container\"><div class=\"sk-label fitted sk-toggleable\"><input class=\"sk-toggleable__control sk-hidden--visually\" id=\"sk-estimator-id-11\" type=\"checkbox\" ><label for=\"sk-estimator-id-11\" class=\"sk-toggleable__label fitted sk-toggleable__label-arrow\"><div><div>ohe</div></div></label><div class=\"sk-toggleable__content fitted\"><pre>[&#x27;dayofweek&#x27;, &#x27;hour&#x27;]</pre></div> </div></div><div class=\"sk-serial\"><div class=\"sk-item\"><div class=\"sk-estimator fitted sk-toggleable\"><input class=\"sk-toggleable__control sk-hidden--visually\" id=\"sk-estimator-id-12\" type=\"checkbox\" ><label for=\"sk-estimator-id-12\" class=\"sk-toggleable__label fitted sk-toggleable__label-arrow\"><div><div>OneHotEncoder</div></div><div><a class=\"sk-estimator-doc-link fitted\" rel=\"noreferrer\" target=\"_blank\" href=\"https://scikit-learn.org/1.6/modules/generated/sklearn.preprocessing.OneHotEncoder.html\">?<span>Documentation for OneHotEncoder</span></a></div></label><div class=\"sk-toggleable__content fitted\"><pre>OneHotEncoder()</pre></div> </div></div></div></div></div><div class=\"sk-parallel-item\"><div class=\"sk-item\"><div class=\"sk-label-container\"><div class=\"sk-label fitted sk-toggleable\"><input class=\"sk-toggleable__control sk-hidden--visually\" id=\"sk-estimator-id-13\" type=\"checkbox\" ><label for=\"sk-estimator-id-13\" class=\"sk-toggleable__label fitted sk-toggleable__label-arrow\"><div><div>num</div></div></label><div class=\"sk-toggleable__content fitted\"><pre>Index([&#x27;lag_1&#x27;, &#x27;lag_2&#x27;, &#x27;lag_3&#x27;, &#x27;lag_4&#x27;, &#x27;lag_5&#x27;, &#x27;lag_6&#x27;, &#x27;lag_7&#x27;, &#x27;lag_8&#x27;,\n",
       "       &#x27;lag_9&#x27;, &#x27;lag_10&#x27;,\n",
       "       ...\n",
       "       &#x27;lag_160&#x27;, &#x27;lag_161&#x27;, &#x27;lag_162&#x27;, &#x27;lag_163&#x27;, &#x27;lag_164&#x27;, &#x27;lag_165&#x27;,\n",
       "       &#x27;lag_166&#x27;, &#x27;lag_167&#x27;, &#x27;lag_168&#x27;, &#x27;rolling_mean&#x27;],\n",
       "      dtype=&#x27;object&#x27;, length=169)</pre></div> </div></div><div class=\"sk-serial\"><div class=\"sk-item\"><div class=\"sk-estimator fitted sk-toggleable\"><input class=\"sk-toggleable__control sk-hidden--visually\" id=\"sk-estimator-id-14\" type=\"checkbox\" ><label for=\"sk-estimator-id-14\" class=\"sk-toggleable__label fitted sk-toggleable__label-arrow\"><div><div>StandardScaler</div></div><div><a class=\"sk-estimator-doc-link fitted\" rel=\"noreferrer\" target=\"_blank\" href=\"https://scikit-learn.org/1.6/modules/generated/sklearn.preprocessing.StandardScaler.html\">?<span>Documentation for StandardScaler</span></a></div></label><div class=\"sk-toggleable__content fitted\"><pre>StandardScaler()</pre></div> </div></div></div></div></div></div></div><div class=\"sk-item\"><div class=\"sk-estimator fitted sk-toggleable\"><input class=\"sk-toggleable__control sk-hidden--visually\" id=\"sk-estimator-id-15\" type=\"checkbox\" ><label for=\"sk-estimator-id-15\" class=\"sk-toggleable__label fitted sk-toggleable__label-arrow\"><div><div>XGBRegressor</div></div></label><div class=\"sk-toggleable__content fitted\"><pre>XGBRegressor(base_score=None, booster=None, callbacks=None,\n",
       "             colsample_bylevel=None, colsample_bynode=None,\n",
       "             colsample_bytree=1.0, device=None, early_stopping_rounds=None,\n",
       "             enable_categorical=False, eval_metric=None, feature_types=None,\n",
       "             gamma=0.1, grow_policy=None, importance_type=None,\n",
       "             interaction_constraints=None, learning_rate=0.1, max_bin=None,\n",
       "             max_cat_threshold=None, max_cat_to_onehot=None,\n",
       "             max_delta_step=None, max_depth=4, max_leaves=None,\n",
       "             min_child_weight=None, missing=nan, monotone_constraints=None,\n",
       "             multi_strategy=None, n_estimators=100, n_jobs=None,\n",
       "             num_parallel_tree=None, random_state=None, ...)</pre></div> </div></div></div></div></div></div>"
      ],
      "text/plain": [
       "Pipeline(steps=[('preprocessor',\n",
       "                 ColumnTransformer(transformers=[('ohe', OneHotEncoder(),\n",
       "                                                  ['dayofweek', 'hour']),\n",
       "                                                 ('num', StandardScaler(),\n",
       "                                                  Index(['lag_1', 'lag_2', 'lag_3', 'lag_4', 'lag_5', 'lag_6', 'lag_7', 'lag_8',\n",
       "       'lag_9', 'lag_10',\n",
       "       ...\n",
       "       'lag_160', 'lag_161', 'lag_162', 'lag_163', 'lag_164', 'lag_165',\n",
       "       'lag_166', 'lag_167', 'lag_168', 'rolling_mean'],\n",
       "      dtype='object', lengt...\n",
       "                              feature_types=None, gamma=0.1, grow_policy=None,\n",
       "                              importance_type=None,\n",
       "                              interaction_constraints=None, learning_rate=0.1,\n",
       "                              max_bin=None, max_cat_threshold=None,\n",
       "                              max_cat_to_onehot=None, max_delta_step=None,\n",
       "                              max_depth=4, max_leaves=None,\n",
       "                              min_child_weight=None, missing=nan,\n",
       "                              monotone_constraints=None, multi_strategy=None,\n",
       "                              n_estimators=100, n_jobs=None,\n",
       "                              num_parallel_tree=None, random_state=None, ...))])"
      ]
     },
     "execution_count": 36,
     "metadata": {},
     "output_type": "execute_result"
    }
   ],
   "source": [
    "model.fit(X_train, y_train)"
   ]
  },
  {
   "cell_type": "code",
   "execution_count": 37,
   "metadata": {},
   "outputs": [],
   "source": [
    "prediction = model.predict(X_train)"
   ]
  },
  {
   "cell_type": "code",
   "execution_count": 38,
   "metadata": {},
   "outputs": [],
   "source": [
    "rmse = np.sqrt(mean_squared_error(y_train, prediction))"
   ]
  },
  {
   "cell_type": "code",
   "execution_count": 39,
   "metadata": {
    "scrolled": true
   },
   "outputs": [
    {
     "data": {
      "text/plain": [
       "14.730753610345634"
      ]
     },
     "execution_count": 39,
     "metadata": {},
     "output_type": "execute_result"
    }
   ],
   "source": [
    "rmse "
   ]
  },
  {
   "cell_type": "markdown",
   "metadata": {},
   "source": [
    "## Тестирование"
   ]
  },
  {
   "cell_type": "code",
   "execution_count": 40,
   "metadata": {
    "scrolled": false
   },
   "outputs": [],
   "source": [
    "test_prediction = model.predict(X_test)"
   ]
  },
  {
   "cell_type": "code",
   "execution_count": 41,
   "metadata": {},
   "outputs": [],
   "source": [
    "rmse = np.sqrt(mean_squared_error(y_test, test_prediction))"
   ]
  },
  {
   "cell_type": "code",
   "execution_count": 42,
   "metadata": {
    "scrolled": true
   },
   "outputs": [
    {
     "data": {
      "text/plain": [
       "37.42357120372967"
      ]
     },
     "execution_count": 42,
     "metadata": {},
     "output_type": "execute_result"
    }
   ],
   "source": [
    "rmse"
   ]
  },
  {
   "cell_type": "markdown",
   "metadata": {},
   "source": [
    "## Итоговый вывод по проделанной работе\n",
    "\n",
    "### В ходе работы над проектом по прогнозированию заказов такси для компании «Чётенькое такси» мы выполнили следующие шаги:\n",
    "\n",
    "#### Подготовка данных:\n",
    "\n",
    "Загружены данные из файла taxi.csv и выполнено их ресемплирование по одному часу.\n",
    "Проведён первичный анализ данных: проверка на пропуски и дубликаты, а также визуализация распределения числа заказов с помощью гистограммы и боксплота.\n",
    "Удалены выбросы, чтобы улучшить качество модели.\n",
    "\n",
    "#### Анализ данных:\n",
    "\n",
    "Описательные статистики по числу заказов были получены, что позволило понять распределение данных.\n",
    "\n",
    "Визуализация данных помогла выявить аномалии и выбросы, которые могли повлиять на обучение модели.\n",
    "\n",
    "#### Создание признаков:\n",
    "\n",
    "Реализована функция make_features, которая добавила временные признаки (год, месяц, день, день недели, час) и лаговые признаки для учета временной зависимости в данных.\n",
    "\n",
    "Это улучшило качество предсказания, так как модель может учитывать предыдущие значения заказов.\n",
    "\n",
    "#### Обучение моделей:\n",
    "\n",
    "Данные были разделены на обучающую и тестовую выборки (90% и 10% соответственно).\n",
    "\n",
    "Использовался Pipeline и ColumnTransformer для предварительной обработки данных, включая стандартизацию числовых признаков.\n",
    "Обучены различные модели, включая XGBRegressor и LinearRegression, с использованием RandomizedSearchCV для подбора гиперпараметров.\n",
    "Подбор гиперпараметров проводился с использованием кросс-валидации с временными рядами, что позволило избежать утечки данных.\n",
    "\n",
    "#### Тестирование:\n",
    "\n",
    "Модель была протестирована на отложенной выборке, и значение метрики RMSE было рассчитано.\n",
    "Итоговое значение RMSE на тестовой выборке составило 36.79353421671055, что соответствует заданному критерию (не более 48).\n",
    "\n",
    "#### Итоговый вывод:\n",
    "В результате проделанной работы была построена модель, способная эффективно прогнозировать количество заказов такси на следующий час. Мы успешно справились с задачей, соблюдая требования к качеству модели, и получили результаты, удовлетворяющие критериям проекта. Подход, включающий предварительный анализ данных, создание временных признаков и тщательный подбор гиперпараметров, позволил добиться хороших результатов в прогнозировании.\n",
    "\n",
    "Теперь компания «Чётенькое такси» может использовать данную модель для оптимизации распределения водителей в пиковые часы, что, в свою очередь, повысит эффективность работы службы такси. "
   ]
  }
 ],
 "metadata": {
  "ExecuteTimeLog": [
   {
    "duration": 50,
    "start_time": "2025-05-23T19:56:57.254Z"
   },
   {
    "duration": 18651,
    "start_time": "2025-05-23T19:56:59.171Z"
   },
   {
    "duration": 73,
    "start_time": "2025-05-23T19:57:17.823Z"
   },
   {
    "duration": 7330,
    "start_time": "2025-05-23T19:57:24.272Z"
   },
   {
    "duration": 44,
    "start_time": "2025-05-23T19:57:31.604Z"
   },
   {
    "duration": 16,
    "start_time": "2025-05-23T19:57:34.075Z"
   },
   {
    "duration": 13,
    "start_time": "2025-05-23T19:57:46.827Z"
   },
   {
    "duration": 111,
    "start_time": "2025-05-23T19:57:58.218Z"
   },
   {
    "duration": 38,
    "start_time": "2025-05-23T19:58:10.590Z"
   },
   {
    "duration": 10,
    "start_time": "2025-05-23T19:58:11.456Z"
   },
   {
    "duration": 11,
    "start_time": "2025-05-23T19:58:12.649Z"
   },
   {
    "duration": 7,
    "start_time": "2025-05-23T19:58:30.328Z"
   },
   {
    "duration": 9,
    "start_time": "2025-05-23T19:58:37.245Z"
   },
   {
    "duration": 7,
    "start_time": "2025-05-23T19:58:40.737Z"
   },
   {
    "duration": 24,
    "start_time": "2025-05-23T19:59:18.173Z"
   },
   {
    "duration": 1021,
    "start_time": "2025-05-23T20:00:21.242Z"
   },
   {
    "duration": 191,
    "start_time": "2025-05-23T20:00:30.278Z"
   },
   {
    "duration": 144,
    "start_time": "2025-05-23T20:00:38.106Z"
   },
   {
    "duration": 194,
    "start_time": "2025-05-23T20:00:45.043Z"
   },
   {
    "duration": 192,
    "start_time": "2025-05-23T20:00:58.499Z"
   },
   {
    "duration": 283,
    "start_time": "2025-05-23T20:01:16.089Z"
   },
   {
    "duration": 236,
    "start_time": "2025-05-23T20:01:21.429Z"
   },
   {
    "duration": 8,
    "start_time": "2025-05-23T20:02:00.398Z"
   },
   {
    "duration": 14,
    "start_time": "2025-05-23T20:02:12.927Z"
   },
   {
    "duration": 103,
    "start_time": "2025-05-23T20:02:52.662Z"
   },
   {
    "duration": 89,
    "start_time": "2025-05-23T20:02:55.673Z"
   },
   {
    "duration": 3,
    "start_time": "2025-05-23T20:03:19.302Z"
   },
   {
    "duration": 6,
    "start_time": "2025-05-23T20:03:46.552Z"
   },
   {
    "duration": 5,
    "start_time": "2025-05-23T20:04:00.148Z"
   },
   {
    "duration": 16,
    "start_time": "2025-05-23T20:06:15.091Z"
   },
   {
    "duration": 38,
    "start_time": "2025-05-23T20:08:09.901Z"
   },
   {
    "duration": 8,
    "start_time": "2025-05-23T20:08:10.324Z"
   },
   {
    "duration": 9,
    "start_time": "2025-05-23T20:08:14.644Z"
   },
   {
    "duration": 6,
    "start_time": "2025-05-23T20:08:17.464Z"
   },
   {
    "duration": 5,
    "start_time": "2025-05-23T20:08:19.771Z"
   },
   {
    "duration": 37,
    "start_time": "2025-05-23T20:08:35.051Z"
   },
   {
    "duration": 10,
    "start_time": "2025-05-23T20:08:35.488Z"
   },
   {
    "duration": 10,
    "start_time": "2025-05-23T20:08:36.031Z"
   },
   {
    "duration": 6,
    "start_time": "2025-05-23T20:08:37.533Z"
   },
   {
    "duration": 7,
    "start_time": "2025-05-23T20:08:38.836Z"
   },
   {
    "duration": 1038,
    "start_time": "2025-05-23T20:08:39.484Z"
   },
   {
    "duration": 3,
    "start_time": "2025-05-23T20:08:50.533Z"
   },
   {
    "duration": 10,
    "start_time": "2025-05-23T20:08:54.392Z"
   },
   {
    "duration": 4,
    "start_time": "2025-05-23T20:09:30.851Z"
   },
   {
    "duration": 9,
    "start_time": "2025-05-23T20:09:33.641Z"
   },
   {
    "duration": 7,
    "start_time": "2025-05-23T20:09:35.605Z"
   },
   {
    "duration": 10,
    "start_time": "2025-05-23T20:09:38.022Z"
   },
   {
    "duration": 8,
    "start_time": "2025-05-23T20:09:42.952Z"
   },
   {
    "duration": 233,
    "start_time": "2025-05-23T20:09:45.258Z"
   },
   {
    "duration": 234,
    "start_time": "2025-05-23T20:09:53.926Z"
   },
   {
    "duration": 90,
    "start_time": "2025-05-23T20:09:58.306Z"
   },
   {
    "duration": 3,
    "start_time": "2025-05-23T20:10:00.160Z"
   },
   {
    "duration": 4,
    "start_time": "2025-05-23T20:10:10.249Z"
   },
   {
    "duration": 4,
    "start_time": "2025-05-23T20:10:10.680Z"
   },
   {
    "duration": 5,
    "start_time": "2025-05-23T20:13:14.012Z"
   },
   {
    "duration": 4,
    "start_time": "2025-05-23T20:20:27.809Z"
   },
   {
    "duration": 13,
    "start_time": "2025-05-23T20:20:28.470Z"
   },
   {
    "duration": 9,
    "start_time": "2025-05-23T20:20:42.732Z"
   },
   {
    "duration": 3,
    "start_time": "2025-05-23T20:21:37.328Z"
   },
   {
    "duration": 17,
    "start_time": "2025-05-23T20:21:40.516Z"
   },
   {
    "duration": 8,
    "start_time": "2025-05-23T20:21:48.944Z"
   },
   {
    "duration": 359,
    "start_time": "2025-05-23T20:21:49.467Z"
   },
   {
    "duration": 9111,
    "start_time": "2025-05-23T20:22:29.998Z"
   },
   {
    "duration": 51,
    "start_time": "2025-05-23T20:22:39.112Z"
   },
   {
    "duration": 30,
    "start_time": "2025-05-23T20:22:39.164Z"
   },
   {
    "duration": 35,
    "start_time": "2025-05-23T20:22:39.196Z"
   },
   {
    "duration": 161,
    "start_time": "2025-05-23T20:22:39.234Z"
   },
   {
    "duration": 139,
    "start_time": "2025-05-23T20:22:39.396Z"
   },
   {
    "duration": 125,
    "start_time": "2025-05-23T20:22:39.537Z"
   },
   {
    "duration": 178,
    "start_time": "2025-05-23T20:22:39.664Z"
   },
   {
    "duration": 34,
    "start_time": "2025-05-23T20:22:39.844Z"
   },
   {
    "duration": 3,
    "start_time": "2025-05-23T20:22:39.880Z"
   },
   {
    "duration": 13,
    "start_time": "2025-05-23T20:22:39.885Z"
   },
   {
    "duration": 21,
    "start_time": "2025-05-23T20:22:39.900Z"
   },
   {
    "duration": 248,
    "start_time": "2025-05-23T20:22:39.923Z"
   },
   {
    "duration": 111,
    "start_time": "2025-05-23T20:22:40.175Z"
   },
   {
    "duration": 3,
    "start_time": "2025-05-23T20:22:40.288Z"
   },
   {
    "duration": 23,
    "start_time": "2025-05-23T20:22:40.293Z"
   },
   {
    "duration": 6,
    "start_time": "2025-05-23T20:22:40.318Z"
   },
   {
    "duration": 6,
    "start_time": "2025-05-23T20:22:40.326Z"
   },
   {
    "duration": 4,
    "start_time": "2025-05-23T20:22:40.334Z"
   },
   {
    "duration": 17,
    "start_time": "2025-05-23T20:22:40.340Z"
   },
   {
    "duration": 17,
    "start_time": "2025-05-23T20:22:48.691Z"
   },
   {
    "duration": 4,
    "start_time": "2025-05-23T20:24:40.925Z"
   },
   {
    "duration": 10,
    "start_time": "2025-05-23T20:24:41.484Z"
   },
   {
    "duration": 18,
    "start_time": "2025-05-23T20:24:43.328Z"
   },
   {
    "duration": 8993,
    "start_time": "2025-05-23T20:25:07.754Z"
   },
   {
    "duration": 43,
    "start_time": "2025-05-23T20:25:16.750Z"
   },
   {
    "duration": 12,
    "start_time": "2025-05-23T20:25:16.795Z"
   },
   {
    "duration": 32,
    "start_time": "2025-05-23T20:25:16.809Z"
   },
   {
    "duration": 52,
    "start_time": "2025-05-23T20:25:16.844Z"
   },
   {
    "duration": 21,
    "start_time": "2025-05-23T20:25:16.897Z"
   },
   {
    "duration": 43,
    "start_time": "2025-05-23T20:25:16.919Z"
   },
   {
    "duration": 23,
    "start_time": "2025-05-23T20:25:16.963Z"
   },
   {
    "duration": 24,
    "start_time": "2025-05-23T20:25:16.988Z"
   },
   {
    "duration": 17,
    "start_time": "2025-05-23T20:25:17.014Z"
   },
   {
    "duration": 30,
    "start_time": "2025-05-23T20:25:17.033Z"
   },
   {
    "duration": 9,
    "start_time": "2025-05-23T20:25:17.065Z"
   },
   {
    "duration": 363,
    "start_time": "2025-05-23T20:25:17.075Z"
   },
   {
    "duration": 125,
    "start_time": "2025-05-23T20:25:17.441Z"
   },
   {
    "duration": 3,
    "start_time": "2025-05-23T20:25:17.567Z"
   },
   {
    "duration": 15,
    "start_time": "2025-05-23T20:25:17.572Z"
   },
   {
    "duration": 14,
    "start_time": "2025-05-23T20:25:17.588Z"
   },
   {
    "duration": 28,
    "start_time": "2025-05-23T20:25:17.604Z"
   },
   {
    "duration": 16,
    "start_time": "2025-05-23T20:25:17.634Z"
   },
   {
    "duration": 235,
    "start_time": "2025-05-23T20:25:17.651Z"
   },
   {
    "duration": 22,
    "start_time": "2025-05-23T20:25:17.888Z"
   },
   {
    "duration": 26,
    "start_time": "2025-05-23T20:25:44.844Z"
   },
   {
    "duration": 9236,
    "start_time": "2025-05-23T20:27:01.946Z"
   },
   {
    "duration": 41,
    "start_time": "2025-05-23T20:27:11.184Z"
   },
   {
    "duration": 14,
    "start_time": "2025-05-23T20:27:11.227Z"
   },
   {
    "duration": 19,
    "start_time": "2025-05-23T20:27:11.243Z"
   },
   {
    "duration": 13,
    "start_time": "2025-05-23T20:27:11.264Z"
   },
   {
    "duration": 11,
    "start_time": "2025-05-23T20:27:11.279Z"
   },
   {
    "duration": 168,
    "start_time": "2025-05-23T20:27:11.291Z"
   },
   {
    "duration": 25,
    "start_time": "2025-05-23T20:27:11.461Z"
   },
   {
    "duration": 126,
    "start_time": "2025-05-23T20:27:11.487Z"
   },
   {
    "duration": 52,
    "start_time": "2025-05-23T20:27:11.615Z"
   },
   {
    "duration": 58,
    "start_time": "2025-05-23T20:27:11.669Z"
   },
   {
    "duration": 158,
    "start_time": "2025-05-23T20:27:11.728Z"
   },
   {
    "duration": 273,
    "start_time": "2025-05-23T20:27:11.889Z"
   },
   {
    "duration": 99,
    "start_time": "2025-05-23T20:27:12.163Z"
   },
   {
    "duration": 2,
    "start_time": "2025-05-23T20:27:12.264Z"
   },
   {
    "duration": 16,
    "start_time": "2025-05-23T20:27:12.267Z"
   },
   {
    "duration": 7,
    "start_time": "2025-05-23T20:27:12.285Z"
   },
   {
    "duration": 10,
    "start_time": "2025-05-23T20:27:12.293Z"
   },
   {
    "duration": 18,
    "start_time": "2025-05-23T20:27:12.304Z"
   },
   {
    "duration": 21,
    "start_time": "2025-05-23T20:27:12.323Z"
   },
   {
    "duration": 17,
    "start_time": "2025-05-23T20:27:12.345Z"
   },
   {
    "duration": 26,
    "start_time": "2025-05-23T20:27:12.364Z"
   },
   {
    "duration": 9025,
    "start_time": "2025-05-23T20:33:11.720Z"
   },
   {
    "duration": 42,
    "start_time": "2025-05-23T20:33:20.747Z"
   },
   {
    "duration": 14,
    "start_time": "2025-05-23T20:33:20.790Z"
   },
   {
    "duration": 28,
    "start_time": "2025-05-23T20:33:20.806Z"
   },
   {
    "duration": 8,
    "start_time": "2025-05-23T20:33:20.836Z"
   },
   {
    "duration": 32,
    "start_time": "2025-05-23T20:33:20.845Z"
   },
   {
    "duration": 34,
    "start_time": "2025-05-23T20:33:20.879Z"
   },
   {
    "duration": 54,
    "start_time": "2025-05-23T20:33:20.915Z"
   },
   {
    "duration": 43,
    "start_time": "2025-05-23T20:33:20.970Z"
   },
   {
    "duration": 38,
    "start_time": "2025-05-23T20:33:21.014Z"
   },
   {
    "duration": 30,
    "start_time": "2025-05-23T20:33:21.054Z"
   },
   {
    "duration": 26,
    "start_time": "2025-05-23T20:33:21.085Z"
   },
   {
    "duration": 380,
    "start_time": "2025-05-23T20:33:21.113Z"
   },
   {
    "duration": 112,
    "start_time": "2025-05-23T20:33:21.496Z"
   },
   {
    "duration": 3,
    "start_time": "2025-05-23T20:33:21.610Z"
   },
   {
    "duration": 30,
    "start_time": "2025-05-23T20:33:21.614Z"
   },
   {
    "duration": 13,
    "start_time": "2025-05-23T20:33:21.646Z"
   },
   {
    "duration": 16,
    "start_time": "2025-05-23T20:33:21.661Z"
   },
   {
    "duration": 54,
    "start_time": "2025-05-23T20:33:21.679Z"
   },
   {
    "duration": 17,
    "start_time": "2025-05-23T20:33:21.734Z"
   },
   {
    "duration": 5,
    "start_time": "2025-05-23T20:35:34.069Z"
   },
   {
    "duration": 5,
    "start_time": "2025-05-23T20:35:34.416Z"
   },
   {
    "duration": 8028,
    "start_time": "2025-05-23T20:41:36.715Z"
   },
   {
    "duration": 9555,
    "start_time": "2025-05-23T20:46:18.561Z"
   },
   {
    "duration": 42,
    "start_time": "2025-05-23T20:46:28.118Z"
   },
   {
    "duration": 15,
    "start_time": "2025-05-23T20:46:28.162Z"
   },
   {
    "duration": 11,
    "start_time": "2025-05-23T20:46:28.178Z"
   },
   {
    "duration": 6,
    "start_time": "2025-05-23T20:46:28.192Z"
   },
   {
    "duration": 17,
    "start_time": "2025-05-23T20:46:28.200Z"
   },
   {
    "duration": 4,
    "start_time": "2025-05-23T20:46:28.219Z"
   },
   {
    "duration": 39,
    "start_time": "2025-05-23T20:46:28.224Z"
   },
   {
    "duration": 20,
    "start_time": "2025-05-23T20:46:28.265Z"
   },
   {
    "duration": 3,
    "start_time": "2025-05-23T20:46:28.287Z"
   },
   {
    "duration": 19,
    "start_time": "2025-05-23T20:46:28.292Z"
   },
   {
    "duration": 17,
    "start_time": "2025-05-23T20:46:28.313Z"
   },
   {
    "duration": 258,
    "start_time": "2025-05-23T20:46:28.331Z"
   },
   {
    "duration": 104,
    "start_time": "2025-05-23T20:46:28.592Z"
   },
   {
    "duration": 3,
    "start_time": "2025-05-23T20:46:28.697Z"
   },
   {
    "duration": 127,
    "start_time": "2025-05-23T20:46:28.701Z"
   },
   {
    "duration": 24,
    "start_time": "2025-05-23T20:46:28.829Z"
   },
   {
    "duration": 17,
    "start_time": "2025-05-23T20:46:28.855Z"
   },
   {
    "duration": 143,
    "start_time": "2025-05-23T20:46:28.874Z"
   },
   {
    "duration": 16,
    "start_time": "2025-05-23T20:46:29.019Z"
   },
   {
    "duration": 12,
    "start_time": "2025-05-23T20:46:29.037Z"
   },
   {
    "duration": 11,
    "start_time": "2025-05-23T20:46:29.051Z"
   },
   {
    "duration": 148,
    "start_time": "2025-05-23T20:46:29.063Z"
   },
   {
    "duration": 0,
    "start_time": "2025-05-23T20:46:29.212Z"
   },
   {
    "duration": 0,
    "start_time": "2025-05-23T20:46:29.214Z"
   },
   {
    "duration": 0,
    "start_time": "2025-05-23T20:46:29.215Z"
   },
   {
    "duration": 13,
    "start_time": "2025-05-23T20:46:56.235Z"
   },
   {
    "duration": 5,
    "start_time": "2025-05-23T20:46:59.184Z"
   },
   {
    "duration": 13,
    "start_time": "2025-05-23T20:47:00.867Z"
   },
   {
    "duration": 8060,
    "start_time": "2025-05-23T20:50:07.687Z"
   },
   {
    "duration": 19,
    "start_time": "2025-05-23T20:50:27.874Z"
   },
   {
    "duration": 3,
    "start_time": "2025-05-23T20:51:48.452Z"
   },
   {
    "duration": 26,
    "start_time": "2025-05-23T20:51:49.527Z"
   },
   {
    "duration": 9800,
    "start_time": "2025-05-23T20:52:26.442Z"
   },
   {
    "duration": 43,
    "start_time": "2025-05-23T20:52:36.244Z"
   },
   {
    "duration": 42,
    "start_time": "2025-05-23T20:52:36.288Z"
   },
   {
    "duration": 79,
    "start_time": "2025-05-23T20:52:36.332Z"
   },
   {
    "duration": 41,
    "start_time": "2025-05-23T20:52:36.414Z"
   },
   {
    "duration": 40,
    "start_time": "2025-05-23T20:52:36.457Z"
   },
   {
    "duration": 52,
    "start_time": "2025-05-23T20:52:36.499Z"
   },
   {
    "duration": 62,
    "start_time": "2025-05-23T20:52:36.552Z"
   },
   {
    "duration": 66,
    "start_time": "2025-05-23T20:52:36.616Z"
   },
   {
    "duration": 4,
    "start_time": "2025-05-23T20:52:36.685Z"
   },
   {
    "duration": 46,
    "start_time": "2025-05-23T20:52:36.690Z"
   },
   {
    "duration": 21,
    "start_time": "2025-05-23T20:52:36.738Z"
   },
   {
    "duration": 360,
    "start_time": "2025-05-23T20:52:36.762Z"
   },
   {
    "duration": 107,
    "start_time": "2025-05-23T20:52:37.126Z"
   },
   {
    "duration": 4,
    "start_time": "2025-05-23T20:52:37.235Z"
   },
   {
    "duration": 110,
    "start_time": "2025-05-23T20:52:37.241Z"
   },
   {
    "duration": 28,
    "start_time": "2025-05-23T20:52:37.353Z"
   },
   {
    "duration": 136,
    "start_time": "2025-05-23T20:52:37.383Z"
   },
   {
    "duration": 206,
    "start_time": "2025-05-23T20:52:37.521Z"
   },
   {
    "duration": 18,
    "start_time": "2025-05-23T20:52:37.729Z"
   },
   {
    "duration": 18,
    "start_time": "2025-05-23T20:52:37.748Z"
   },
   {
    "duration": 32,
    "start_time": "2025-05-23T20:52:37.768Z"
   },
   {
    "duration": 245,
    "start_time": "2025-05-23T20:52:37.802Z"
   },
   {
    "duration": 147,
    "start_time": "2025-05-23T20:52:38.049Z"
   },
   {
    "duration": 0,
    "start_time": "2025-05-23T20:52:38.197Z"
   },
   {
    "duration": 26,
    "start_time": "2025-05-23T20:52:45.174Z"
   },
   {
    "duration": 5,
    "start_time": "2025-05-23T20:52:51.888Z"
   },
   {
    "duration": 22,
    "start_time": "2025-05-23T20:53:01.838Z"
   },
   {
    "duration": 3,
    "start_time": "2025-05-23T20:54:43.905Z"
   },
   {
    "duration": 5,
    "start_time": "2025-05-23T20:54:44.315Z"
   },
   {
    "duration": 3,
    "start_time": "2025-05-23T20:54:46.054Z"
   },
   {
    "duration": 13,
    "start_time": "2025-05-23T20:54:47.731Z"
   },
   {
    "duration": 77,
    "start_time": "2025-05-23T20:55:50.044Z"
   },
   {
    "duration": 3,
    "start_time": "2025-05-23T20:56:00.102Z"
   },
   {
    "duration": 4,
    "start_time": "2025-05-23T20:56:00.730Z"
   },
   {
    "duration": 3,
    "start_time": "2025-05-23T20:56:01.156Z"
   },
   {
    "duration": 1046,
    "start_time": "2025-05-23T20:56:02.137Z"
   },
   {
    "duration": 1003,
    "start_time": "2025-05-23T20:56:14.993Z"
   },
   {
    "duration": 12,
    "start_time": "2025-05-23T20:56:16.507Z"
   },
   {
    "duration": 9915,
    "start_time": "2025-05-23T21:01:58.502Z"
   },
   {
    "duration": 41,
    "start_time": "2025-05-23T21:02:08.419Z"
   },
   {
    "duration": 14,
    "start_time": "2025-05-23T21:02:08.462Z"
   },
   {
    "duration": 30,
    "start_time": "2025-05-23T21:02:08.479Z"
   },
   {
    "duration": 19,
    "start_time": "2025-05-23T21:02:08.511Z"
   },
   {
    "duration": 19,
    "start_time": "2025-05-23T21:02:08.531Z"
   },
   {
    "duration": 35,
    "start_time": "2025-05-23T21:02:08.551Z"
   },
   {
    "duration": 26,
    "start_time": "2025-05-23T21:02:08.588Z"
   },
   {
    "duration": 22,
    "start_time": "2025-05-23T21:02:08.616Z"
   },
   {
    "duration": 48,
    "start_time": "2025-05-23T21:02:08.639Z"
   },
   {
    "duration": 60,
    "start_time": "2025-05-23T21:02:08.689Z"
   },
   {
    "duration": 54,
    "start_time": "2025-05-23T21:02:08.751Z"
   },
   {
    "duration": 383,
    "start_time": "2025-05-23T21:02:08.808Z"
   },
   {
    "duration": 108,
    "start_time": "2025-05-23T21:02:09.193Z"
   },
   {
    "duration": 3,
    "start_time": "2025-05-23T21:02:09.303Z"
   },
   {
    "duration": 73,
    "start_time": "2025-05-23T21:02:09.307Z"
   },
   {
    "duration": 33,
    "start_time": "2025-05-23T21:02:09.381Z"
   },
   {
    "duration": 6,
    "start_time": "2025-05-23T21:02:09.415Z"
   },
   {
    "duration": 146,
    "start_time": "2025-05-23T21:02:09.423Z"
   },
   {
    "duration": 17,
    "start_time": "2025-05-23T21:02:09.571Z"
   },
   {
    "duration": 25,
    "start_time": "2025-05-23T21:02:09.590Z"
   },
   {
    "duration": 22,
    "start_time": "2025-05-23T21:02:09.616Z"
   },
   {
    "duration": 18,
    "start_time": "2025-05-23T21:02:09.640Z"
   },
   {
    "duration": 16,
    "start_time": "2025-05-23T21:02:09.660Z"
   },
   {
    "duration": 13,
    "start_time": "2025-05-23T21:02:09.677Z"
   },
   {
    "duration": 1355,
    "start_time": "2025-05-23T21:02:09.692Z"
   },
   {
    "duration": 0,
    "start_time": "2025-05-23T21:02:11.049Z"
   },
   {
    "duration": 4,
    "start_time": "2025-05-23T21:05:29.075Z"
   },
   {
    "duration": 3,
    "start_time": "2025-05-23T21:05:29.878Z"
   },
   {
    "duration": 9870,
    "start_time": "2025-05-23T21:10:13.708Z"
   },
   {
    "duration": 42,
    "start_time": "2025-05-23T21:10:23.580Z"
   },
   {
    "duration": 52,
    "start_time": "2025-05-23T21:10:23.623Z"
   },
   {
    "duration": 15,
    "start_time": "2025-05-23T21:10:23.677Z"
   },
   {
    "duration": 6,
    "start_time": "2025-05-23T21:10:23.694Z"
   },
   {
    "duration": 11,
    "start_time": "2025-05-23T21:10:23.701Z"
   },
   {
    "duration": 4,
    "start_time": "2025-05-23T21:10:23.713Z"
   },
   {
    "duration": 29,
    "start_time": "2025-05-23T21:10:23.719Z"
   },
   {
    "duration": 24,
    "start_time": "2025-05-23T21:10:23.750Z"
   },
   {
    "duration": 19,
    "start_time": "2025-05-23T21:10:23.776Z"
   },
   {
    "duration": 22,
    "start_time": "2025-05-23T21:10:23.797Z"
   },
   {
    "duration": 18,
    "start_time": "2025-05-23T21:10:23.821Z"
   },
   {
    "duration": 268,
    "start_time": "2025-05-23T21:10:23.840Z"
   },
   {
    "duration": 114,
    "start_time": "2025-05-23T21:10:24.111Z"
   },
   {
    "duration": 2,
    "start_time": "2025-05-23T21:10:24.227Z"
   },
   {
    "duration": 11,
    "start_time": "2025-05-23T21:10:24.231Z"
   },
   {
    "duration": 9,
    "start_time": "2025-05-23T21:10:24.243Z"
   },
   {
    "duration": 6,
    "start_time": "2025-05-23T21:10:24.261Z"
   },
   {
    "duration": 160,
    "start_time": "2025-05-23T21:10:24.269Z"
   },
   {
    "duration": 18,
    "start_time": "2025-05-23T21:10:24.430Z"
   },
   {
    "duration": 13,
    "start_time": "2025-05-23T21:10:24.450Z"
   },
   {
    "duration": 57,
    "start_time": "2025-05-23T21:10:24.465Z"
   },
   {
    "duration": 9,
    "start_time": "2025-05-23T21:10:24.524Z"
   },
   {
    "duration": 8,
    "start_time": "2025-05-23T21:10:24.535Z"
   },
   {
    "duration": 10,
    "start_time": "2025-05-23T21:10:24.544Z"
   },
   {
    "duration": 9584,
    "start_time": "2025-05-23T21:11:51.514Z"
   },
   {
    "duration": 42,
    "start_time": "2025-05-23T21:12:01.100Z"
   },
   {
    "duration": 141,
    "start_time": "2025-05-23T21:12:01.143Z"
   },
   {
    "duration": 12,
    "start_time": "2025-05-23T21:12:01.286Z"
   },
   {
    "duration": 157,
    "start_time": "2025-05-23T21:12:01.300Z"
   },
   {
    "duration": 58,
    "start_time": "2025-05-23T21:12:01.458Z"
   },
   {
    "duration": 121,
    "start_time": "2025-05-23T21:12:01.518Z"
   },
   {
    "duration": 60,
    "start_time": "2025-05-23T21:12:01.641Z"
   },
   {
    "duration": 27,
    "start_time": "2025-05-23T21:12:01.703Z"
   },
   {
    "duration": 53,
    "start_time": "2025-05-23T21:12:01.732Z"
   },
   {
    "duration": 98,
    "start_time": "2025-05-23T21:12:01.786Z"
   },
   {
    "duration": 160,
    "start_time": "2025-05-23T21:12:01.886Z"
   },
   {
    "duration": 540,
    "start_time": "2025-05-23T21:12:02.048Z"
   },
   {
    "duration": 110,
    "start_time": "2025-05-23T21:12:02.590Z"
   },
   {
    "duration": 3,
    "start_time": "2025-05-23T21:12:02.702Z"
   },
   {
    "duration": 83,
    "start_time": "2025-05-23T21:12:02.707Z"
   },
   {
    "duration": 72,
    "start_time": "2025-05-23T21:12:02.791Z"
   },
   {
    "duration": 130,
    "start_time": "2025-05-23T21:12:02.865Z"
   },
   {
    "duration": 216,
    "start_time": "2025-05-23T21:12:02.997Z"
   },
   {
    "duration": 19,
    "start_time": "2025-05-23T21:12:03.215Z"
   },
   {
    "duration": 13,
    "start_time": "2025-05-23T21:12:03.236Z"
   },
   {
    "duration": 68,
    "start_time": "2025-05-23T21:12:03.250Z"
   },
   {
    "duration": 125,
    "start_time": "2025-05-23T21:12:03.320Z"
   },
   {
    "duration": 16,
    "start_time": "2025-05-23T21:12:03.447Z"
   },
   {
    "duration": 13,
    "start_time": "2025-05-23T21:12:03.464Z"
   },
   {
    "duration": 44485,
    "start_time": "2025-05-23T21:12:03.478Z"
   },
   {
    "duration": 24,
    "start_time": "2025-05-23T21:12:47.965Z"
   },
   {
    "duration": 171,
    "start_time": "2025-05-23T21:13:37.202Z"
   },
   {
    "duration": 2,
    "start_time": "2025-05-23T21:21:49.815Z"
   },
   {
    "duration": 3220,
    "start_time": "2025-05-23T21:22:00.908Z"
   },
   {
    "duration": 26883,
    "start_time": "2025-05-23T21:24:11.754Z"
   },
   {
    "duration": 43,
    "start_time": "2025-05-23T21:24:38.640Z"
   },
   {
    "duration": 14,
    "start_time": "2025-05-23T21:24:38.685Z"
   },
   {
    "duration": 44,
    "start_time": "2025-05-23T21:24:38.701Z"
   },
   {
    "duration": 7,
    "start_time": "2025-05-23T21:24:38.748Z"
   },
   {
    "duration": 18,
    "start_time": "2025-05-23T21:24:38.757Z"
   },
   {
    "duration": 5,
    "start_time": "2025-05-23T21:24:38.776Z"
   },
   {
    "duration": 27,
    "start_time": "2025-05-23T21:24:38.782Z"
   },
   {
    "duration": 27,
    "start_time": "2025-05-23T21:24:38.811Z"
   },
   {
    "duration": 32,
    "start_time": "2025-05-23T21:24:38.840Z"
   },
   {
    "duration": 20,
    "start_time": "2025-05-23T21:24:38.874Z"
   },
   {
    "duration": 20,
    "start_time": "2025-05-23T21:24:38.896Z"
   },
   {
    "duration": 269,
    "start_time": "2025-05-23T21:24:38.918Z"
   },
   {
    "duration": 110,
    "start_time": "2025-05-23T21:24:39.191Z"
   },
   {
    "duration": 3,
    "start_time": "2025-05-23T21:24:39.303Z"
   },
   {
    "duration": 23,
    "start_time": "2025-05-23T21:24:39.307Z"
   },
   {
    "duration": 4,
    "start_time": "2025-05-23T21:24:39.331Z"
   },
   {
    "duration": 21,
    "start_time": "2025-05-23T21:24:39.337Z"
   },
   {
    "duration": 37,
    "start_time": "2025-05-23T21:24:39.359Z"
   },
   {
    "duration": 125,
    "start_time": "2025-05-23T21:24:39.398Z"
   },
   {
    "duration": 5,
    "start_time": "2025-05-23T21:24:39.524Z"
   },
   {
    "duration": 6,
    "start_time": "2025-05-23T21:24:39.531Z"
   },
   {
    "duration": 122,
    "start_time": "2025-05-23T21:24:39.539Z"
   },
   {
    "duration": 18,
    "start_time": "2025-05-23T21:24:39.663Z"
   },
   {
    "duration": 49,
    "start_time": "2025-05-23T21:24:39.682Z"
   },
   {
    "duration": 810,
    "start_time": "2025-05-23T21:24:39.733Z"
   },
   {
    "duration": 18,
    "start_time": "2025-05-23T21:24:40.544Z"
   },
   {
    "duration": 3,
    "start_time": "2025-05-23T21:24:40.564Z"
   },
   {
    "duration": 93,
    "start_time": "2025-05-23T21:24:40.569Z"
   },
   {
    "duration": 17,
    "start_time": "2025-05-23T21:25:34.707Z"
   },
   {
    "duration": 4,
    "start_time": "2025-05-23T21:25:59.187Z"
   },
   {
    "duration": 4,
    "start_time": "2025-05-23T21:26:01.017Z"
   },
   {
    "duration": 8,
    "start_time": "2025-05-23T21:26:59.466Z"
   },
   {
    "duration": 4,
    "start_time": "2025-05-23T21:27:30.911Z"
   },
   {
    "duration": 4,
    "start_time": "2025-05-23T21:27:32.987Z"
   },
   {
    "duration": 7670,
    "start_time": "2025-05-23T21:27:44.243Z"
   },
   {
    "duration": 42,
    "start_time": "2025-05-23T21:27:51.915Z"
   },
   {
    "duration": 339,
    "start_time": "2025-05-23T21:27:51.958Z"
   },
   {
    "duration": 163,
    "start_time": "2025-05-23T21:27:52.300Z"
   },
   {
    "duration": 49,
    "start_time": "2025-05-23T21:27:52.465Z"
   },
   {
    "duration": 37,
    "start_time": "2025-05-23T21:27:52.515Z"
   },
   {
    "duration": 24,
    "start_time": "2025-05-23T21:27:52.554Z"
   },
   {
    "duration": 32,
    "start_time": "2025-05-23T21:27:52.579Z"
   },
   {
    "duration": 11,
    "start_time": "2025-05-23T21:27:52.613Z"
   },
   {
    "duration": 5,
    "start_time": "2025-05-23T21:27:52.625Z"
   },
   {
    "duration": 49,
    "start_time": "2025-05-23T21:27:52.631Z"
   },
   {
    "duration": 9,
    "start_time": "2025-05-23T21:27:52.682Z"
   },
   {
    "duration": 248,
    "start_time": "2025-05-23T21:27:52.695Z"
   },
   {
    "duration": 99,
    "start_time": "2025-05-23T21:27:52.944Z"
   },
   {
    "duration": 36,
    "start_time": "2025-05-23T21:27:53.045Z"
   },
   {
    "duration": 22,
    "start_time": "2025-05-23T21:27:53.082Z"
   },
   {
    "duration": 25,
    "start_time": "2025-05-23T21:27:53.105Z"
   },
   {
    "duration": 27,
    "start_time": "2025-05-23T21:27:53.131Z"
   },
   {
    "duration": 48,
    "start_time": "2025-05-23T21:27:53.160Z"
   },
   {
    "duration": 16,
    "start_time": "2025-05-23T21:27:53.210Z"
   },
   {
    "duration": 5,
    "start_time": "2025-05-23T21:27:53.228Z"
   },
   {
    "duration": 25,
    "start_time": "2025-05-23T21:27:53.234Z"
   },
   {
    "duration": 4,
    "start_time": "2025-05-23T21:27:53.261Z"
   },
   {
    "duration": 11,
    "start_time": "2025-05-23T21:27:53.266Z"
   },
   {
    "duration": 5,
    "start_time": "2025-05-23T21:27:53.278Z"
   },
   {
    "duration": 940,
    "start_time": "2025-05-23T21:27:53.284Z"
   },
   {
    "duration": 13,
    "start_time": "2025-05-23T21:27:54.226Z"
   },
   {
    "duration": 20,
    "start_time": "2025-05-23T21:27:54.240Z"
   },
   {
    "duration": 142,
    "start_time": "2025-05-23T21:27:54.262Z"
   },
   {
    "duration": 15,
    "start_time": "2025-05-23T21:27:54.406Z"
   },
   {
    "duration": 4,
    "start_time": "2025-05-23T21:27:54.423Z"
   },
   {
    "duration": 13,
    "start_time": "2025-05-23T21:27:54.429Z"
   },
   {
    "duration": 21,
    "start_time": "2025-05-23T21:27:54.444Z"
   },
   {
    "duration": 4,
    "start_time": "2025-05-23T21:27:54.467Z"
   },
   {
    "duration": 10,
    "start_time": "2025-05-23T21:27:54.472Z"
   },
   {
    "duration": 7733,
    "start_time": "2025-05-23T21:30:38.917Z"
   },
   {
    "duration": 43,
    "start_time": "2025-05-23T21:30:46.652Z"
   },
   {
    "duration": 16,
    "start_time": "2025-05-23T21:30:46.698Z"
   },
   {
    "duration": 17,
    "start_time": "2025-05-23T21:30:46.716Z"
   },
   {
    "duration": 23,
    "start_time": "2025-05-23T21:30:46.736Z"
   },
   {
    "duration": 19,
    "start_time": "2025-05-23T21:30:46.763Z"
   },
   {
    "duration": 42,
    "start_time": "2025-05-23T21:30:46.784Z"
   },
   {
    "duration": 41,
    "start_time": "2025-05-23T21:30:46.828Z"
   },
   {
    "duration": 24,
    "start_time": "2025-05-23T21:30:46.871Z"
   },
   {
    "duration": 29,
    "start_time": "2025-05-23T21:30:46.896Z"
   },
   {
    "duration": 38,
    "start_time": "2025-05-23T21:30:46.927Z"
   },
   {
    "duration": 127,
    "start_time": "2025-05-23T21:30:46.967Z"
   },
   {
    "duration": 307,
    "start_time": "2025-05-23T21:30:47.096Z"
   },
   {
    "duration": 123,
    "start_time": "2025-05-23T21:30:47.406Z"
   },
   {
    "duration": 29,
    "start_time": "2025-05-23T21:30:47.530Z"
   },
   {
    "duration": 156,
    "start_time": "2025-05-23T21:30:47.561Z"
   },
   {
    "duration": 48,
    "start_time": "2025-05-23T21:30:47.719Z"
   },
   {
    "duration": 34,
    "start_time": "2025-05-23T21:30:47.768Z"
   },
   {
    "duration": 83,
    "start_time": "2025-05-23T21:30:47.803Z"
   },
   {
    "duration": 18,
    "start_time": "2025-05-23T21:30:47.888Z"
   },
   {
    "duration": 39,
    "start_time": "2025-05-23T21:30:47.908Z"
   },
   {
    "duration": 40,
    "start_time": "2025-05-23T21:30:47.948Z"
   },
   {
    "duration": 239,
    "start_time": "2025-05-23T21:30:47.990Z"
   },
   {
    "duration": 91,
    "start_time": "2025-05-23T21:30:48.231Z"
   },
   {
    "duration": 39,
    "start_time": "2025-05-23T21:30:48.323Z"
   },
   {
    "duration": 1964,
    "start_time": "2025-05-23T21:30:48.363Z"
   },
   {
    "duration": 12,
    "start_time": "2025-05-23T21:30:50.329Z"
   },
   {
    "duration": 20,
    "start_time": "2025-05-23T21:30:50.342Z"
   },
   {
    "duration": 187,
    "start_time": "2025-05-23T21:30:50.364Z"
   },
   {
    "duration": 19,
    "start_time": "2025-05-23T21:30:50.552Z"
   },
   {
    "duration": 19,
    "start_time": "2025-05-23T21:30:50.572Z"
   },
   {
    "duration": 11,
    "start_time": "2025-05-23T21:30:50.593Z"
   },
   {
    "duration": 29,
    "start_time": "2025-05-23T21:30:50.605Z"
   },
   {
    "duration": 31,
    "start_time": "2025-05-23T21:30:50.636Z"
   },
   {
    "duration": 37,
    "start_time": "2025-05-23T21:30:50.669Z"
   },
   {
    "duration": 6849,
    "start_time": "2025-05-24T17:12:50.048Z"
   },
   {
    "duration": 91,
    "start_time": "2025-05-24T17:13:02.403Z"
   },
   {
    "duration": 12,
    "start_time": "2025-05-24T17:13:06.844Z"
   },
   {
    "duration": 14,
    "start_time": "2025-05-24T17:13:17.415Z"
   },
   {
    "duration": 7,
    "start_time": "2025-05-24T17:13:18.699Z"
   },
   {
    "duration": 8,
    "start_time": "2025-05-24T17:13:19.500Z"
   },
   {
    "duration": 4,
    "start_time": "2025-05-24T17:13:20.059Z"
   },
   {
    "duration": 9,
    "start_time": "2025-05-24T17:13:21.678Z"
   },
   {
    "duration": 10,
    "start_time": "2025-05-24T17:13:30.292Z"
   },
   {
    "duration": 3,
    "start_time": "2025-05-24T17:13:44.708Z"
   },
   {
    "duration": 11,
    "start_time": "2025-05-24T17:13:45.065Z"
   },
   {
    "duration": 8,
    "start_time": "2025-05-24T17:18:24.124Z"
   },
   {
    "duration": 4599,
    "start_time": "2025-05-24T17:18:32.067Z"
   },
   {
    "duration": 44,
    "start_time": "2025-05-24T17:18:39.907Z"
   },
   {
    "duration": 14,
    "start_time": "2025-05-24T17:18:41.708Z"
   },
   {
    "duration": 14,
    "start_time": "2025-05-24T17:18:43.309Z"
   },
   {
    "duration": 6,
    "start_time": "2025-05-24T17:18:43.892Z"
   },
   {
    "duration": 10,
    "start_time": "2025-05-24T17:18:44.244Z"
   },
   {
    "duration": 4,
    "start_time": "2025-05-24T17:18:44.637Z"
   },
   {
    "duration": 10,
    "start_time": "2025-05-24T17:18:46.160Z"
   },
   {
    "duration": 10,
    "start_time": "2025-05-24T17:18:52.861Z"
   },
   {
    "duration": 4,
    "start_time": "2025-05-24T17:18:55.427Z"
   },
   {
    "duration": 9,
    "start_time": "2025-05-24T17:18:56.187Z"
   },
   {
    "duration": 8,
    "start_time": "2025-05-24T17:18:59.926Z"
   },
   {
    "duration": 255,
    "start_time": "2025-05-24T17:19:02.488Z"
   },
   {
    "duration": 242,
    "start_time": "2025-05-24T17:19:08.434Z"
   },
   {
    "duration": 190,
    "start_time": "2025-05-24T17:19:16.560Z"
   },
   {
    "duration": 5,
    "start_time": "2025-05-24T17:19:36.198Z"
   },
   {
    "duration": 16,
    "start_time": "2025-05-24T17:19:39.968Z"
   },
   {
    "duration": 27,
    "start_time": "2025-05-24T17:19:41.601Z"
   },
   {
    "duration": 5,
    "start_time": "2025-05-24T17:19:45.772Z"
   },
   {
    "duration": 5,
    "start_time": "2025-05-24T17:19:46.268Z"
   },
   {
    "duration": 3,
    "start_time": "2025-05-24T17:19:46.868Z"
   },
   {
    "duration": 6,
    "start_time": "2025-05-24T17:19:48.129Z"
   },
   {
    "duration": 4,
    "start_time": "2025-05-24T17:19:48.977Z"
   },
   {
    "duration": 120684,
    "start_time": "2025-05-24T17:19:49.699Z"
   },
   {
    "duration": 68,
    "start_time": "2025-05-24T17:21:50.385Z"
   },
   {
    "duration": 2,
    "start_time": "2025-05-24T17:22:07.018Z"
   },
   {
    "duration": 2940,
    "start_time": "2025-05-24T17:22:07.848Z"
   },
   {
    "duration": 21,
    "start_time": "2025-05-24T17:22:14.618Z"
   },
   {
    "duration": 4,
    "start_time": "2025-05-24T17:22:15.086Z"
   },
   {
    "duration": 3,
    "start_time": "2025-05-24T17:22:17.217Z"
   },
   {
    "duration": 161,
    "start_time": "2025-05-24T17:22:19.864Z"
   },
   {
    "duration": 12,
    "start_time": "2025-05-24T17:22:20.170Z"
   },
   {
    "duration": 28,
    "start_time": "2025-05-24T17:30:45.205Z"
   },
   {
    "duration": 17,
    "start_time": "2025-05-24T17:31:30.572Z"
   },
   {
    "duration": 6,
    "start_time": "2025-05-24T17:31:45.333Z"
   },
   {
    "duration": 14511,
    "start_time": "2025-05-24T17:31:49.078Z"
   },
   {
    "duration": 58,
    "start_time": "2025-05-24T17:32:03.591Z"
   },
   {
    "duration": 4,
    "start_time": "2025-05-24T17:33:02.618Z"
   },
   {
    "duration": 4,
    "start_time": "2025-05-24T17:33:04.476Z"
   },
   {
    "duration": 27,
    "start_time": "2025-05-24T17:33:06.689Z"
   },
   {
    "duration": 32190,
    "start_time": "2025-05-24T17:36:33.730Z"
   },
   {
    "duration": 4509,
    "start_time": "2025-05-24T17:37:05.923Z"
   },
   {
    "duration": 43,
    "start_time": "2025-05-24T17:37:10.434Z"
   },
   {
    "duration": 11,
    "start_time": "2025-05-24T17:37:10.479Z"
   },
   {
    "duration": 11,
    "start_time": "2025-05-24T17:37:10.492Z"
   },
   {
    "duration": 8,
    "start_time": "2025-05-24T17:37:10.504Z"
   },
   {
    "duration": 29,
    "start_time": "2025-05-24T17:37:10.514Z"
   },
   {
    "duration": 5,
    "start_time": "2025-05-24T17:37:10.545Z"
   },
   {
    "duration": 11,
    "start_time": "2025-05-24T17:37:10.551Z"
   },
   {
    "duration": 24,
    "start_time": "2025-05-24T17:37:10.564Z"
   },
   {
    "duration": 3,
    "start_time": "2025-05-24T17:37:10.590Z"
   },
   {
    "duration": 20,
    "start_time": "2025-05-24T17:37:10.594Z"
   },
   {
    "duration": 14,
    "start_time": "2025-05-24T17:37:10.617Z"
   },
   {
    "duration": 277,
    "start_time": "2025-05-24T17:37:10.639Z"
   },
   {
    "duration": 111,
    "start_time": "2025-05-24T17:37:10.918Z"
   },
   {
    "duration": 8,
    "start_time": "2025-05-24T17:37:11.031Z"
   },
   {
    "duration": 32,
    "start_time": "2025-05-24T17:37:11.041Z"
   },
   {
    "duration": 21,
    "start_time": "2025-05-24T17:37:11.074Z"
   },
   {
    "duration": 4,
    "start_time": "2025-05-24T17:37:11.097Z"
   },
   {
    "duration": 5,
    "start_time": "2025-05-24T17:37:11.103Z"
   },
   {
    "duration": 3,
    "start_time": "2025-05-24T17:37:11.110Z"
   },
   {
    "duration": 6,
    "start_time": "2025-05-24T17:37:11.115Z"
   },
   {
    "duration": 5,
    "start_time": "2025-05-24T17:37:11.139Z"
   },
   {
    "duration": 10,
    "start_time": "2025-05-24T17:37:11.146Z"
   },
   {
    "duration": 3019,
    "start_time": "2025-05-24T17:37:11.158Z"
   },
   {
    "duration": 12,
    "start_time": "2025-05-24T17:37:14.179Z"
   },
   {
    "duration": 9,
    "start_time": "2025-05-24T17:37:14.194Z"
   },
   {
    "duration": 20,
    "start_time": "2025-05-24T17:37:14.204Z"
   },
   {
    "duration": 6,
    "start_time": "2025-05-24T17:37:14.240Z"
   },
   {
    "duration": 269,
    "start_time": "2025-05-24T17:37:14.248Z"
   },
   {
    "duration": 43,
    "start_time": "2025-05-24T17:37:14.519Z"
   },
   {
    "duration": 11,
    "start_time": "2025-05-24T17:37:14.564Z"
   },
   {
    "duration": 33,
    "start_time": "2025-05-24T17:37:14.576Z"
   },
   {
    "duration": 163,
    "start_time": "2025-05-24T17:37:14.611Z"
   },
   {
    "duration": 0,
    "start_time": "2025-05-24T17:37:14.776Z"
   },
   {
    "duration": 0,
    "start_time": "2025-05-24T17:37:14.777Z"
   },
   {
    "duration": 3406,
    "start_time": "2025-05-24T17:39:05.365Z"
   },
   {
    "duration": 4667,
    "start_time": "2025-05-24T17:39:08.774Z"
   },
   {
    "duration": 44,
    "start_time": "2025-05-24T17:39:13.443Z"
   },
   {
    "duration": 16,
    "start_time": "2025-05-24T17:39:13.489Z"
   },
   {
    "duration": 17,
    "start_time": "2025-05-24T17:39:13.508Z"
   },
   {
    "duration": 8,
    "start_time": "2025-05-24T17:39:13.539Z"
   },
   {
    "duration": 12,
    "start_time": "2025-05-24T17:39:13.548Z"
   },
   {
    "duration": 42,
    "start_time": "2025-05-24T17:39:13.562Z"
   },
   {
    "duration": 31,
    "start_time": "2025-05-24T17:39:13.606Z"
   },
   {
    "duration": 29,
    "start_time": "2025-05-24T17:39:13.640Z"
   },
   {
    "duration": 4,
    "start_time": "2025-05-24T17:39:13.671Z"
   },
   {
    "duration": 51,
    "start_time": "2025-05-24T17:39:13.677Z"
   },
   {
    "duration": 43,
    "start_time": "2025-05-24T17:39:13.730Z"
   },
   {
    "duration": 286,
    "start_time": "2025-05-24T17:39:13.776Z"
   },
   {
    "duration": 102,
    "start_time": "2025-05-24T17:39:14.064Z"
   },
   {
    "duration": 4,
    "start_time": "2025-05-24T17:39:14.168Z"
   },
   {
    "duration": 26,
    "start_time": "2025-05-24T17:39:14.173Z"
   },
   {
    "duration": 27,
    "start_time": "2025-05-24T17:39:14.201Z"
   },
   {
    "duration": 5,
    "start_time": "2025-05-24T17:39:14.230Z"
   },
   {
    "duration": 5,
    "start_time": "2025-05-24T17:39:14.239Z"
   },
   {
    "duration": 12,
    "start_time": "2025-05-24T17:39:14.245Z"
   },
   {
    "duration": 30,
    "start_time": "2025-05-24T17:39:14.258Z"
   },
   {
    "duration": 36,
    "start_time": "2025-05-24T17:39:14.290Z"
   },
   {
    "duration": 11,
    "start_time": "2025-05-24T17:39:14.328Z"
   },
   {
    "duration": 1424,
    "start_time": "2025-05-24T17:39:14.341Z"
   },
   {
    "duration": 12,
    "start_time": "2025-05-24T17:39:15.767Z"
   },
   {
    "duration": 16,
    "start_time": "2025-05-24T17:39:15.781Z"
   },
   {
    "duration": 22,
    "start_time": "2025-05-24T17:39:15.799Z"
   },
   {
    "duration": 12,
    "start_time": "2025-05-24T17:39:15.840Z"
   },
   {
    "duration": 116,
    "start_time": "2025-05-24T17:39:15.854Z"
   },
   {
    "duration": 28,
    "start_time": "2025-05-24T17:39:15.972Z"
   },
   {
    "duration": 33,
    "start_time": "2025-05-24T17:39:16.002Z"
   },
   {
    "duration": 9,
    "start_time": "2025-05-24T17:39:16.037Z"
   },
   {
    "duration": 15,
    "start_time": "2025-05-24T17:39:16.048Z"
   },
   {
    "duration": 10,
    "start_time": "2025-05-24T17:39:16.065Z"
   },
   {
    "duration": 8,
    "start_time": "2025-05-24T17:39:16.077Z"
   },
   {
    "duration": 251,
    "start_time": "2025-05-24T17:43:50.152Z"
   },
   {
    "duration": 711,
    "start_time": "2025-05-24T17:46:10.587Z"
   },
   {
    "duration": 4396,
    "start_time": "2025-05-24T17:46:18.546Z"
   },
   {
    "duration": 4680,
    "start_time": "2025-05-24T17:46:22.944Z"
   },
   {
    "duration": 56,
    "start_time": "2025-05-24T17:46:27.627Z"
   },
   {
    "duration": 13,
    "start_time": "2025-05-24T17:46:27.685Z"
   },
   {
    "duration": 22,
    "start_time": "2025-05-24T17:46:27.700Z"
   },
   {
    "duration": 23,
    "start_time": "2025-05-24T17:46:27.724Z"
   },
   {
    "duration": 32,
    "start_time": "2025-05-24T17:46:27.749Z"
   },
   {
    "duration": 29,
    "start_time": "2025-05-24T17:46:27.783Z"
   },
   {
    "duration": 43,
    "start_time": "2025-05-24T17:46:27.814Z"
   },
   {
    "duration": 20,
    "start_time": "2025-05-24T17:46:27.859Z"
   },
   {
    "duration": 19,
    "start_time": "2025-05-24T17:46:27.881Z"
   },
   {
    "duration": 50,
    "start_time": "2025-05-24T17:46:27.902Z"
   },
   {
    "duration": 303,
    "start_time": "2025-05-24T17:46:27.954Z"
   },
   {
    "duration": 11,
    "start_time": "2025-05-24T17:46:28.261Z"
   },
   {
    "duration": 278,
    "start_time": "2025-05-24T17:46:28.273Z"
   },
   {
    "duration": 208,
    "start_time": "2025-05-24T17:46:28.553Z"
   },
   {
    "duration": 5,
    "start_time": "2025-05-24T17:46:28.763Z"
   },
   {
    "duration": 14,
    "start_time": "2025-05-24T17:46:28.770Z"
   },
   {
    "duration": 21,
    "start_time": "2025-05-24T17:46:28.786Z"
   },
   {
    "duration": 30,
    "start_time": "2025-05-24T17:46:28.809Z"
   },
   {
    "duration": 7,
    "start_time": "2025-05-24T17:46:28.841Z"
   },
   {
    "duration": 6,
    "start_time": "2025-05-24T17:46:28.849Z"
   },
   {
    "duration": 5,
    "start_time": "2025-05-24T17:46:28.856Z"
   },
   {
    "duration": 13,
    "start_time": "2025-05-24T17:46:28.862Z"
   },
   {
    "duration": 12,
    "start_time": "2025-05-24T17:46:28.876Z"
   },
   {
    "duration": 2268,
    "start_time": "2025-05-24T17:46:28.890Z"
   },
   {
    "duration": 12,
    "start_time": "2025-05-24T17:46:31.160Z"
   },
   {
    "duration": 12,
    "start_time": "2025-05-24T17:46:31.173Z"
   },
   {
    "duration": 140,
    "start_time": "2025-05-24T17:46:31.187Z"
   },
   {
    "duration": 27,
    "start_time": "2025-05-24T17:46:31.329Z"
   },
   {
    "duration": 5,
    "start_time": "2025-05-24T17:46:31.359Z"
   },
   {
    "duration": 61,
    "start_time": "2025-05-24T17:46:31.365Z"
   },
   {
    "duration": 13,
    "start_time": "2025-05-24T17:46:31.428Z"
   },
   {
    "duration": 4,
    "start_time": "2025-05-24T17:46:31.442Z"
   },
   {
    "duration": 18,
    "start_time": "2025-05-24T17:46:31.448Z"
   },
   {
    "duration": 531,
    "start_time": "2025-05-24T17:46:35.310Z"
   },
   {
    "duration": 3575,
    "start_time": "2025-05-24T17:46:42.153Z"
   },
   {
    "duration": 4684,
    "start_time": "2025-05-24T17:46:45.731Z"
   },
   {
    "duration": 43,
    "start_time": "2025-05-24T17:46:50.417Z"
   },
   {
    "duration": 16,
    "start_time": "2025-05-24T17:46:50.462Z"
   },
   {
    "duration": 15,
    "start_time": "2025-05-24T17:46:50.481Z"
   },
   {
    "duration": 7,
    "start_time": "2025-05-24T17:46:50.497Z"
   },
   {
    "duration": 40,
    "start_time": "2025-05-24T17:46:50.506Z"
   },
   {
    "duration": 7,
    "start_time": "2025-05-24T17:46:50.547Z"
   },
   {
    "duration": 13,
    "start_time": "2025-05-24T17:46:50.555Z"
   },
   {
    "duration": 15,
    "start_time": "2025-05-24T17:46:50.569Z"
   },
   {
    "duration": 10,
    "start_time": "2025-05-24T17:46:50.585Z"
   },
   {
    "duration": 21,
    "start_time": "2025-05-24T17:46:50.596Z"
   },
   {
    "duration": 293,
    "start_time": "2025-05-24T17:46:50.618Z"
   },
   {
    "duration": 257,
    "start_time": "2025-05-24T17:46:59.613Z"
   },
   {
    "duration": 361,
    "start_time": "2025-05-24T17:47:02.878Z"
   },
   {
    "duration": 2630,
    "start_time": "2025-05-24T17:49:07.080Z"
   },
   {
    "duration": 163,
    "start_time": "2025-05-24T17:50:35.512Z"
   },
   {
    "duration": 13,
    "start_time": "2025-05-24T17:51:00.160Z"
   },
   {
    "duration": 14,
    "start_time": "2025-05-24T17:52:20.063Z"
   },
   {
    "duration": 13,
    "start_time": "2025-05-24T17:53:02.513Z"
   },
   {
    "duration": 12,
    "start_time": "2025-05-24T17:53:08.913Z"
   },
   {
    "duration": 18,
    "start_time": "2025-05-24T17:53:11.713Z"
   },
   {
    "duration": 289,
    "start_time": "2025-05-24T17:53:23.328Z"
   },
   {
    "duration": 262,
    "start_time": "2025-05-24T17:53:26.957Z"
   },
   {
    "duration": 12,
    "start_time": "2025-05-24T17:53:33.465Z"
   },
   {
    "duration": 13,
    "start_time": "2025-05-24T17:53:38.321Z"
   },
   {
    "duration": 12,
    "start_time": "2025-05-24T17:53:41.080Z"
   },
   {
    "duration": 26,
    "start_time": "2025-05-24T17:53:47.287Z"
   },
   {
    "duration": 15,
    "start_time": "2025-05-24T17:54:19.581Z"
   },
   {
    "duration": 11,
    "start_time": "2025-05-24T17:54:29.250Z"
   },
   {
    "duration": 11,
    "start_time": "2025-05-24T17:54:36.448Z"
   },
   {
    "duration": 258,
    "start_time": "2025-05-24T17:54:49.156Z"
   },
   {
    "duration": 12,
    "start_time": "2025-05-24T17:54:50.436Z"
   },
   {
    "duration": 11,
    "start_time": "2025-05-24T17:54:52.819Z"
   },
   {
    "duration": 10,
    "start_time": "2025-05-24T17:54:56.592Z"
   },
   {
    "duration": 12,
    "start_time": "2025-05-24T17:55:02.236Z"
   },
   {
    "duration": 26,
    "start_time": "2025-05-24T17:55:07.535Z"
   },
   {
    "duration": 8,
    "start_time": "2025-05-24T17:57:00.271Z"
   },
   {
    "duration": 13,
    "start_time": "2025-05-24T17:57:06.221Z"
   },
   {
    "duration": 5,
    "start_time": "2025-05-24T17:57:23.181Z"
   },
   {
    "duration": 12,
    "start_time": "2025-05-24T17:58:16.592Z"
   },
   {
    "duration": 3725,
    "start_time": "2025-05-24T17:58:39.216Z"
   },
   {
    "duration": 4468,
    "start_time": "2025-05-24T17:58:42.944Z"
   },
   {
    "duration": 53,
    "start_time": "2025-05-24T17:58:47.414Z"
   },
   {
    "duration": 12,
    "start_time": "2025-05-24T17:58:47.469Z"
   },
   {
    "duration": 11,
    "start_time": "2025-05-24T17:58:47.483Z"
   },
   {
    "duration": 5,
    "start_time": "2025-05-24T17:58:47.495Z"
   },
   {
    "duration": 8,
    "start_time": "2025-05-24T17:58:47.502Z"
   },
   {
    "duration": 4,
    "start_time": "2025-05-24T17:58:47.511Z"
   },
   {
    "duration": 14,
    "start_time": "2025-05-24T17:58:47.547Z"
   },
   {
    "duration": 20,
    "start_time": "2025-05-24T17:58:47.564Z"
   },
   {
    "duration": 4,
    "start_time": "2025-05-24T17:58:47.586Z"
   },
   {
    "duration": 20,
    "start_time": "2025-05-24T17:58:47.593Z"
   },
   {
    "duration": 9,
    "start_time": "2025-05-24T17:58:47.615Z"
   },
   {
    "duration": 275,
    "start_time": "2025-05-24T17:58:47.638Z"
   },
   {
    "duration": 13,
    "start_time": "2025-05-24T17:58:50.852Z"
   },
   {
    "duration": 13,
    "start_time": "2025-05-24T17:58:58.394Z"
   },
   {
    "duration": 11,
    "start_time": "2025-05-24T17:59:15.801Z"
   },
   {
    "duration": 16,
    "start_time": "2025-05-24T17:59:19.553Z"
   },
   {
    "duration": 14,
    "start_time": "2025-05-24T17:59:23.615Z"
   },
   {
    "duration": 11,
    "start_time": "2025-05-24T17:59:27.386Z"
   },
   {
    "duration": 4,
    "start_time": "2025-05-24T17:59:34.024Z"
   },
   {
    "duration": 11,
    "start_time": "2025-05-24T17:59:34.448Z"
   },
   {
    "duration": 878,
    "start_time": "2025-05-24T17:59:41.721Z"
   },
   {
    "duration": 701,
    "start_time": "2025-05-24T18:00:21.331Z"
   },
   {
    "duration": 1232,
    "start_time": "2025-05-24T18:02:03.835Z"
   },
   {
    "duration": 0,
    "start_time": "2025-05-24T18:02:05.069Z"
   },
   {
    "duration": 397,
    "start_time": "2025-05-24T18:02:09.627Z"
   },
   {
    "duration": 513,
    "start_time": "2025-05-24T18:02:21.270Z"
   },
   {
    "duration": 15,
    "start_time": "2025-05-24T18:02:53.079Z"
   },
   {
    "duration": 500,
    "start_time": "2025-05-24T18:04:53.628Z"
   },
   {
    "duration": 525,
    "start_time": "2025-05-24T18:06:07.258Z"
   },
   {
    "duration": 5,
    "start_time": "2025-05-24T18:06:16.151Z"
   },
   {
    "duration": 15,
    "start_time": "2025-05-24T18:06:16.798Z"
   },
   {
    "duration": 19,
    "start_time": "2025-05-24T18:06:33.899Z"
   },
   {
    "duration": 16,
    "start_time": "2025-05-24T18:06:50.365Z"
   },
   {
    "duration": 3410,
    "start_time": "2025-05-24T18:07:05.996Z"
   },
   {
    "duration": 4618,
    "start_time": "2025-05-24T18:07:09.409Z"
   },
   {
    "duration": 44,
    "start_time": "2025-05-24T18:07:14.029Z"
   },
   {
    "duration": 63,
    "start_time": "2025-05-24T18:07:14.075Z"
   },
   {
    "duration": 12,
    "start_time": "2025-05-24T18:07:14.140Z"
   },
   {
    "duration": 6,
    "start_time": "2025-05-24T18:07:14.154Z"
   },
   {
    "duration": 22,
    "start_time": "2025-05-24T18:07:14.161Z"
   },
   {
    "duration": 14,
    "start_time": "2025-05-24T18:07:14.185Z"
   },
   {
    "duration": 24,
    "start_time": "2025-05-24T18:07:14.200Z"
   },
   {
    "duration": 19,
    "start_time": "2025-05-24T18:07:14.226Z"
   },
   {
    "duration": 3,
    "start_time": "2025-05-24T18:07:14.247Z"
   },
   {
    "duration": 11,
    "start_time": "2025-05-24T18:07:14.252Z"
   },
   {
    "duration": 555,
    "start_time": "2025-05-24T18:07:14.265Z"
   },
   {
    "duration": 5,
    "start_time": "2025-05-24T18:07:14.822Z"
   },
   {
    "duration": 828,
    "start_time": "2025-05-24T18:07:14.829Z"
   },
   {
    "duration": 10,
    "start_time": "2025-05-24T18:07:44.595Z"
   },
   {
    "duration": 248,
    "start_time": "2025-05-24T18:07:45.182Z"
   },
   {
    "duration": 252,
    "start_time": "2025-05-24T18:07:49.078Z"
   },
   {
    "duration": 80,
    "start_time": "2025-05-24T18:08:01.319Z"
   },
   {
    "duration": 4,
    "start_time": "2025-05-24T18:08:12.346Z"
   },
   {
    "duration": 9,
    "start_time": "2025-05-24T18:08:14.181Z"
   },
   {
    "duration": 17,
    "start_time": "2025-05-24T18:08:14.767Z"
   },
   {
    "duration": 6,
    "start_time": "2025-05-24T18:08:16.539Z"
   },
   {
    "duration": 5,
    "start_time": "2025-05-24T18:08:16.779Z"
   },
   {
    "duration": 4,
    "start_time": "2025-05-24T18:08:17.569Z"
   },
   {
    "duration": 3,
    "start_time": "2025-05-24T18:08:18.221Z"
   },
   {
    "duration": 4,
    "start_time": "2025-05-24T18:08:19.475Z"
   },
   {
    "duration": 3,
    "start_time": "2025-05-24T18:08:20.321Z"
   },
   {
    "duration": 2141,
    "start_time": "2025-05-24T18:08:20.820Z"
   },
   {
    "duration": 11,
    "start_time": "2025-05-24T18:08:24.287Z"
   },
   {
    "duration": 3,
    "start_time": "2025-05-24T18:08:26.027Z"
   },
   {
    "duration": 108,
    "start_time": "2025-05-24T18:08:26.502Z"
   },
   {
    "duration": 26,
    "start_time": "2025-05-24T18:08:28.485Z"
   },
   {
    "duration": 4,
    "start_time": "2025-05-24T18:08:28.891Z"
   },
   {
    "duration": 4,
    "start_time": "2025-05-24T18:08:29.858Z"
   },
   {
    "duration": 12,
    "start_time": "2025-05-24T18:08:31.210Z"
   },
   {
    "duration": 5,
    "start_time": "2025-05-24T18:08:31.477Z"
   },
   {
    "duration": 4,
    "start_time": "2025-05-24T18:08:32.191Z"
   },
   {
    "duration": 75,
    "start_time": "2025-05-24T18:13:38.577Z"
   },
   {
    "duration": 150,
    "start_time": "2025-05-24T18:13:42.161Z"
   },
   {
    "duration": 3248,
    "start_time": "2025-05-24T18:13:52.828Z"
   },
   {
    "duration": 4313,
    "start_time": "2025-05-24T18:13:56.079Z"
   },
   {
    "duration": 44,
    "start_time": "2025-05-24T18:14:00.394Z"
   },
   {
    "duration": 10,
    "start_time": "2025-05-24T18:14:00.440Z"
   },
   {
    "duration": 48,
    "start_time": "2025-05-24T18:14:00.452Z"
   },
   {
    "duration": 33,
    "start_time": "2025-05-24T18:14:00.501Z"
   },
   {
    "duration": 16,
    "start_time": "2025-05-24T18:14:00.535Z"
   },
   {
    "duration": 12,
    "start_time": "2025-05-24T18:14:00.553Z"
   },
   {
    "duration": 21,
    "start_time": "2025-05-24T18:14:00.567Z"
   },
   {
    "duration": 49,
    "start_time": "2025-05-24T18:14:00.590Z"
   },
   {
    "duration": 18,
    "start_time": "2025-05-24T18:14:00.641Z"
   },
   {
    "duration": 41,
    "start_time": "2025-05-24T18:14:00.661Z"
   },
   {
    "duration": 592,
    "start_time": "2025-05-24T18:14:00.704Z"
   },
   {
    "duration": 4,
    "start_time": "2025-05-24T18:14:01.299Z"
   },
   {
    "duration": 850,
    "start_time": "2025-05-24T18:14:01.304Z"
   },
   {
    "duration": 697,
    "start_time": "2025-05-24T18:14:24.722Z"
   },
   {
    "duration": 756,
    "start_time": "2025-05-24T18:14:31.346Z"
   },
   {
    "duration": 10,
    "start_time": "2025-05-24T18:14:38.831Z"
   },
   {
    "duration": 869,
    "start_time": "2025-05-24T18:15:02.179Z"
   },
   {
    "duration": 741,
    "start_time": "2025-05-24T18:15:07.988Z"
   },
   {
    "duration": 930,
    "start_time": "2025-05-24T18:15:16.518Z"
   },
   {
    "duration": 678,
    "start_time": "2025-05-24T18:15:30.052Z"
   },
   {
    "duration": 158,
    "start_time": "2025-05-24T18:16:10.401Z"
   },
   {
    "duration": 3267,
    "start_time": "2025-05-24T18:16:22.452Z"
   },
   {
    "duration": 4367,
    "start_time": "2025-05-24T18:16:25.721Z"
   },
   {
    "duration": 42,
    "start_time": "2025-05-24T18:16:30.089Z"
   },
   {
    "duration": 80,
    "start_time": "2025-05-24T18:16:30.133Z"
   },
   {
    "duration": 25,
    "start_time": "2025-05-24T18:16:30.216Z"
   },
   {
    "duration": 17,
    "start_time": "2025-05-24T18:16:30.243Z"
   },
   {
    "duration": 48,
    "start_time": "2025-05-24T18:16:30.262Z"
   },
   {
    "duration": 41,
    "start_time": "2025-05-24T18:16:30.312Z"
   },
   {
    "duration": 49,
    "start_time": "2025-05-24T18:16:30.355Z"
   },
   {
    "duration": 31,
    "start_time": "2025-05-24T18:16:30.406Z"
   },
   {
    "duration": 3,
    "start_time": "2025-05-24T18:16:30.439Z"
   },
   {
    "duration": 25,
    "start_time": "2025-05-24T18:16:30.444Z"
   },
   {
    "duration": 566,
    "start_time": "2025-05-24T18:16:30.470Z"
   },
   {
    "duration": 5,
    "start_time": "2025-05-24T18:16:31.038Z"
   },
   {
    "duration": 156,
    "start_time": "2025-05-24T18:16:31.044Z"
   },
   {
    "duration": 762,
    "start_time": "2025-05-24T18:16:37.672Z"
   },
   {
    "duration": 8,
    "start_time": "2025-05-24T18:16:43.429Z"
   },
   {
    "duration": 3369,
    "start_time": "2025-05-24T18:18:28.065Z"
   },
   {
    "duration": 4380,
    "start_time": "2025-05-24T18:18:31.436Z"
   },
   {
    "duration": 43,
    "start_time": "2025-05-24T18:18:35.818Z"
   },
   {
    "duration": 11,
    "start_time": "2025-05-24T18:18:35.863Z"
   },
   {
    "duration": 42,
    "start_time": "2025-05-24T18:18:35.876Z"
   },
   {
    "duration": 47,
    "start_time": "2025-05-24T18:18:35.920Z"
   },
   {
    "duration": 64,
    "start_time": "2025-05-24T18:18:35.969Z"
   },
   {
    "duration": 18,
    "start_time": "2025-05-24T18:18:36.035Z"
   },
   {
    "duration": 48,
    "start_time": "2025-05-24T18:18:36.055Z"
   },
   {
    "duration": 82,
    "start_time": "2025-05-24T18:18:36.105Z"
   },
   {
    "duration": 25,
    "start_time": "2025-05-24T18:18:36.189Z"
   },
   {
    "duration": 37,
    "start_time": "2025-05-24T18:18:36.216Z"
   },
   {
    "duration": 525,
    "start_time": "2025-05-24T18:18:36.255Z"
   },
   {
    "duration": 5,
    "start_time": "2025-05-24T18:18:36.782Z"
   },
   {
    "duration": 867,
    "start_time": "2025-05-24T18:18:36.789Z"
   },
   {
    "duration": 9,
    "start_time": "2025-05-24T18:18:37.658Z"
   },
   {
    "duration": 254,
    "start_time": "2025-05-24T18:18:37.669Z"
   },
   {
    "duration": 118,
    "start_time": "2025-05-24T18:18:37.925Z"
   },
   {
    "duration": 4,
    "start_time": "2025-05-24T18:18:38.045Z"
   },
   {
    "duration": 128,
    "start_time": "2025-05-24T18:18:38.051Z"
   },
   {
    "duration": 41,
    "start_time": "2025-05-24T18:18:38.180Z"
   },
   {
    "duration": 5,
    "start_time": "2025-05-24T18:18:38.223Z"
   },
   {
    "duration": 13,
    "start_time": "2025-05-24T18:18:38.229Z"
   },
   {
    "duration": 29,
    "start_time": "2025-05-24T18:18:38.244Z"
   },
   {
    "duration": 3,
    "start_time": "2025-05-24T18:18:38.275Z"
   },
   {
    "duration": 7,
    "start_time": "2025-05-24T18:18:38.279Z"
   },
   {
    "duration": 4,
    "start_time": "2025-05-24T18:18:38.288Z"
   },
   {
    "duration": 2063,
    "start_time": "2025-05-24T18:18:38.295Z"
   },
   {
    "duration": 0,
    "start_time": "2025-05-24T18:18:40.360Z"
   },
   {
    "duration": 0,
    "start_time": "2025-05-24T18:18:40.361Z"
   },
   {
    "duration": 0,
    "start_time": "2025-05-24T18:18:40.363Z"
   },
   {
    "duration": 0,
    "start_time": "2025-05-24T18:18:40.364Z"
   },
   {
    "duration": 0,
    "start_time": "2025-05-24T18:18:40.365Z"
   },
   {
    "duration": 0,
    "start_time": "2025-05-24T18:18:40.368Z"
   },
   {
    "duration": 0,
    "start_time": "2025-05-24T18:18:40.369Z"
   },
   {
    "duration": 0,
    "start_time": "2025-05-24T18:18:40.370Z"
   },
   {
    "duration": 0,
    "start_time": "2025-05-24T18:18:40.371Z"
   },
   {
    "duration": 18,
    "start_time": "2025-05-24T18:18:57.985Z"
   },
   {
    "duration": 2011,
    "start_time": "2025-05-24T18:19:09.473Z"
   },
   {
    "duration": 3590,
    "start_time": "2025-05-24T18:19:44.974Z"
   },
   {
    "duration": 4494,
    "start_time": "2025-05-24T18:19:48.567Z"
   },
   {
    "duration": 45,
    "start_time": "2025-05-24T18:19:53.062Z"
   },
   {
    "duration": 12,
    "start_time": "2025-05-24T18:19:53.109Z"
   },
   {
    "duration": 40,
    "start_time": "2025-05-24T18:19:53.124Z"
   },
   {
    "duration": 30,
    "start_time": "2025-05-24T18:19:53.165Z"
   },
   {
    "duration": 27,
    "start_time": "2025-05-24T18:19:53.197Z"
   },
   {
    "duration": 20,
    "start_time": "2025-05-24T18:19:53.225Z"
   },
   {
    "duration": 20,
    "start_time": "2025-05-24T18:19:53.247Z"
   },
   {
    "duration": 25,
    "start_time": "2025-05-24T18:19:53.269Z"
   },
   {
    "duration": 32,
    "start_time": "2025-05-24T18:19:53.295Z"
   },
   {
    "duration": 40,
    "start_time": "2025-05-24T18:19:53.328Z"
   },
   {
    "duration": 594,
    "start_time": "2025-05-24T18:19:53.370Z"
   },
   {
    "duration": 4,
    "start_time": "2025-05-24T18:19:53.967Z"
   },
   {
    "duration": 869,
    "start_time": "2025-05-24T18:19:53.972Z"
   },
   {
    "duration": 10,
    "start_time": "2025-05-24T18:19:54.843Z"
   },
   {
    "duration": 11,
    "start_time": "2025-05-24T18:20:17.885Z"
   },
   {
    "duration": 251,
    "start_time": "2025-05-24T18:20:18.452Z"
   },
   {
    "duration": 86,
    "start_time": "2025-05-24T18:20:19.033Z"
   },
   {
    "duration": 4,
    "start_time": "2025-05-24T18:20:21.371Z"
   },
   {
    "duration": 9,
    "start_time": "2025-05-24T18:20:24.204Z"
   },
   {
    "duration": 19,
    "start_time": "2025-05-24T18:20:25.703Z"
   },
   {
    "duration": 6,
    "start_time": "2025-05-24T18:20:34.033Z"
   },
   {
    "duration": 6,
    "start_time": "2025-05-24T18:20:34.369Z"
   },
   {
    "duration": 3,
    "start_time": "2025-05-24T18:20:38.840Z"
   },
   {
    "duration": 3,
    "start_time": "2025-05-24T18:20:39.208Z"
   },
   {
    "duration": 4,
    "start_time": "2025-05-24T18:20:40.010Z"
   },
   {
    "duration": 4,
    "start_time": "2025-05-24T18:20:40.751Z"
   },
   {
    "duration": 22,
    "start_time": "2025-05-24T18:20:41.191Z"
   },
   {
    "duration": 2908,
    "start_time": "2025-05-24T18:20:41.589Z"
   },
   {
    "duration": 11,
    "start_time": "2025-05-24T18:20:46.317Z"
   },
   {
    "duration": 3,
    "start_time": "2025-05-24T18:20:48.141Z"
   },
   {
    "duration": 172,
    "start_time": "2025-05-24T18:20:48.552Z"
   },
   {
    "duration": 42,
    "start_time": "2025-05-24T18:20:49.512Z"
   },
   {
    "duration": 5,
    "start_time": "2025-05-24T18:20:49.926Z"
   },
   {
    "duration": 4,
    "start_time": "2025-05-24T18:20:51.188Z"
   },
   {
    "duration": 15,
    "start_time": "2025-05-24T18:20:52.581Z"
   },
   {
    "duration": 4,
    "start_time": "2025-05-24T18:20:52.834Z"
   },
   {
    "duration": 4,
    "start_time": "2025-05-24T18:20:53.561Z"
   },
   {
    "duration": 3383,
    "start_time": "2025-05-24T18:24:07.484Z"
   },
   {
    "duration": 4533,
    "start_time": "2025-05-24T18:24:10.869Z"
   },
   {
    "duration": 46,
    "start_time": "2025-05-24T18:24:15.403Z"
   },
   {
    "duration": 12,
    "start_time": "2025-05-24T18:24:15.451Z"
   },
   {
    "duration": 46,
    "start_time": "2025-05-24T18:24:15.465Z"
   },
   {
    "duration": 41,
    "start_time": "2025-05-24T18:24:15.512Z"
   },
   {
    "duration": 19,
    "start_time": "2025-05-24T18:24:15.555Z"
   },
   {
    "duration": 6,
    "start_time": "2025-05-24T18:24:15.575Z"
   },
   {
    "duration": 14,
    "start_time": "2025-05-24T18:24:15.583Z"
   },
   {
    "duration": 9,
    "start_time": "2025-05-24T18:24:15.599Z"
   },
   {
    "duration": 13,
    "start_time": "2025-05-24T18:24:15.610Z"
   },
   {
    "duration": 19,
    "start_time": "2025-05-24T18:24:15.624Z"
   },
   {
    "duration": 570,
    "start_time": "2025-05-24T18:24:15.645Z"
   },
   {
    "duration": 5,
    "start_time": "2025-05-24T18:24:16.218Z"
   },
   {
    "duration": 839,
    "start_time": "2025-05-24T18:24:16.225Z"
   },
   {
    "duration": 11,
    "start_time": "2025-05-24T18:24:17.066Z"
   },
   {
    "duration": 691,
    "start_time": "2025-05-24T18:25:54.158Z"
   },
   {
    "duration": 677,
    "start_time": "2025-05-24T18:26:04.680Z"
   },
   {
    "duration": 866,
    "start_time": "2025-05-24T18:26:13.041Z"
   },
   {
    "duration": 267,
    "start_time": "2025-05-24T18:27:56.607Z"
   },
   {
    "duration": 216,
    "start_time": "2025-05-24T18:28:14.765Z"
   },
   {
    "duration": 171,
    "start_time": "2025-05-24T18:28:29.042Z"
   },
   {
    "duration": 170,
    "start_time": "2025-05-24T18:28:32.936Z"
   },
   {
    "duration": 175,
    "start_time": "2025-05-24T18:29:04.225Z"
   },
   {
    "duration": 143,
    "start_time": "2025-05-24T18:29:08.591Z"
   },
   {
    "duration": 143,
    "start_time": "2025-05-24T18:29:13.250Z"
   },
   {
    "duration": 153,
    "start_time": "2025-05-24T18:29:16.329Z"
   },
   {
    "duration": 169,
    "start_time": "2025-05-24T18:29:30.028Z"
   },
   {
    "duration": 145,
    "start_time": "2025-05-24T18:29:33.957Z"
   },
   {
    "duration": 135,
    "start_time": "2025-05-24T18:29:36.559Z"
   },
   {
    "duration": 148,
    "start_time": "2025-05-24T18:29:39.547Z"
   },
   {
    "duration": 287,
    "start_time": "2025-05-24T18:29:53.248Z"
   },
   {
    "duration": 169,
    "start_time": "2025-05-24T18:30:11.323Z"
   },
   {
    "duration": 152,
    "start_time": "2025-05-24T18:30:28.682Z"
   },
   {
    "duration": 163,
    "start_time": "2025-05-24T18:30:34.831Z"
   },
   {
    "duration": 150,
    "start_time": "2025-05-24T18:30:37.720Z"
   },
   {
    "duration": 146,
    "start_time": "2025-05-24T18:30:44.559Z"
   },
   {
    "duration": 215,
    "start_time": "2025-05-24T18:30:59.301Z"
   },
   {
    "duration": 180,
    "start_time": "2025-05-24T18:31:03.009Z"
   },
   {
    "duration": 168,
    "start_time": "2025-05-24T18:31:10.221Z"
   },
   {
    "duration": 171,
    "start_time": "2025-05-24T18:31:17.659Z"
   },
   {
    "duration": 429,
    "start_time": "2025-05-24T18:31:24.108Z"
   },
   {
    "duration": 5,
    "start_time": "2025-05-24T18:31:24.715Z"
   },
   {
    "duration": 729,
    "start_time": "2025-05-24T18:31:25.332Z"
   },
   {
    "duration": 10,
    "start_time": "2025-05-24T18:31:26.406Z"
   },
   {
    "duration": 9,
    "start_time": "2025-05-24T18:31:26.911Z"
   },
   {
    "duration": 408,
    "start_time": "2025-05-24T18:31:26.986Z"
   },
   {
    "duration": 96,
    "start_time": "2025-05-24T18:31:27.396Z"
   },
   {
    "duration": 4,
    "start_time": "2025-05-24T18:31:28.340Z"
   },
   {
    "duration": 9,
    "start_time": "2025-05-24T18:31:29.477Z"
   },
   {
    "duration": 18,
    "start_time": "2025-05-24T18:31:29.885Z"
   },
   {
    "duration": 5,
    "start_time": "2025-05-24T18:31:30.083Z"
   },
   {
    "duration": 5,
    "start_time": "2025-05-24T18:31:30.298Z"
   },
   {
    "duration": 3,
    "start_time": "2025-05-24T18:31:30.628Z"
   },
   {
    "duration": 3,
    "start_time": "2025-05-24T18:31:30.769Z"
   },
   {
    "duration": 4,
    "start_time": "2025-05-24T18:31:31.120Z"
   },
   {
    "duration": 3,
    "start_time": "2025-05-24T18:31:31.774Z"
   },
   {
    "duration": 3408,
    "start_time": "2025-05-24T18:37:17.234Z"
   },
   {
    "duration": 4575,
    "start_time": "2025-05-24T18:37:20.644Z"
   },
   {
    "duration": 45,
    "start_time": "2025-05-24T18:37:25.221Z"
   },
   {
    "duration": 14,
    "start_time": "2025-05-24T18:37:25.268Z"
   },
   {
    "duration": 40,
    "start_time": "2025-05-24T18:37:25.284Z"
   },
   {
    "duration": 41,
    "start_time": "2025-05-24T18:37:25.325Z"
   },
   {
    "duration": 31,
    "start_time": "2025-05-24T18:37:25.367Z"
   },
   {
    "duration": 10,
    "start_time": "2025-05-24T18:37:25.400Z"
   },
   {
    "duration": 41,
    "start_time": "2025-05-24T18:37:25.411Z"
   },
   {
    "duration": 29,
    "start_time": "2025-05-24T18:37:25.454Z"
   },
   {
    "duration": 15,
    "start_time": "2025-05-24T18:37:25.485Z"
   },
   {
    "duration": 29,
    "start_time": "2025-05-24T18:37:25.502Z"
   },
   {
    "duration": 286,
    "start_time": "2025-05-24T18:37:25.534Z"
   },
   {
    "duration": 560,
    "start_time": "2025-05-24T18:37:25.822Z"
   },
   {
    "duration": 5,
    "start_time": "2025-05-24T18:37:26.384Z"
   },
   {
    "duration": 854,
    "start_time": "2025-05-24T18:37:26.390Z"
   },
   {
    "duration": 11,
    "start_time": "2025-05-24T18:37:27.245Z"
   },
   {
    "duration": 32,
    "start_time": "2025-05-24T18:37:27.257Z"
   },
   {
    "duration": 275,
    "start_time": "2025-05-24T18:37:27.291Z"
   },
   {
    "duration": 5,
    "start_time": "2025-05-24T18:37:27.568Z"
   },
   {
    "duration": 0,
    "start_time": "2025-05-24T18:37:27.576Z"
   },
   {
    "duration": 0,
    "start_time": "2025-05-24T18:37:27.578Z"
   },
   {
    "duration": 0,
    "start_time": "2025-05-24T18:37:27.580Z"
   },
   {
    "duration": 0,
    "start_time": "2025-05-24T18:37:27.581Z"
   },
   {
    "duration": 0,
    "start_time": "2025-05-24T18:37:27.583Z"
   },
   {
    "duration": 0,
    "start_time": "2025-05-24T18:37:27.585Z"
   },
   {
    "duration": 0,
    "start_time": "2025-05-24T18:37:27.586Z"
   },
   {
    "duration": 0,
    "start_time": "2025-05-24T18:37:27.588Z"
   },
   {
    "duration": 0,
    "start_time": "2025-05-24T18:37:27.590Z"
   },
   {
    "duration": 0,
    "start_time": "2025-05-24T18:37:27.592Z"
   },
   {
    "duration": 0,
    "start_time": "2025-05-24T18:37:27.594Z"
   },
   {
    "duration": 0,
    "start_time": "2025-05-24T18:37:27.595Z"
   },
   {
    "duration": 0,
    "start_time": "2025-05-24T18:37:27.639Z"
   },
   {
    "duration": 0,
    "start_time": "2025-05-24T18:37:27.640Z"
   },
   {
    "duration": 0,
    "start_time": "2025-05-24T18:37:27.642Z"
   },
   {
    "duration": 0,
    "start_time": "2025-05-24T18:37:27.643Z"
   },
   {
    "duration": 0,
    "start_time": "2025-05-24T18:37:27.644Z"
   },
   {
    "duration": 0,
    "start_time": "2025-05-24T18:37:27.645Z"
   },
   {
    "duration": 0,
    "start_time": "2025-05-24T18:37:27.647Z"
   },
   {
    "duration": 0,
    "start_time": "2025-05-24T18:37:27.648Z"
   },
   {
    "duration": 0,
    "start_time": "2025-05-24T18:37:27.649Z"
   },
   {
    "duration": 4,
    "start_time": "2025-05-24T18:37:43.313Z"
   },
   {
    "duration": 22,
    "start_time": "2025-05-24T18:37:45.726Z"
   },
   {
    "duration": 37,
    "start_time": "2025-05-24T18:37:46.711Z"
   },
   {
    "duration": 5,
    "start_time": "2025-05-24T18:37:48.846Z"
   },
   {
    "duration": 6,
    "start_time": "2025-05-24T18:37:49.306Z"
   },
   {
    "duration": 2,
    "start_time": "2025-05-24T18:37:51.454Z"
   },
   {
    "duration": 4,
    "start_time": "2025-05-24T18:37:51.756Z"
   },
   {
    "duration": 5,
    "start_time": "2025-05-24T18:37:52.721Z"
   },
   {
    "duration": 3,
    "start_time": "2025-05-24T18:37:53.935Z"
   },
   {
    "duration": 3,
    "start_time": "2025-05-24T18:38:00.115Z"
   },
   {
    "duration": 32,
    "start_time": "2025-05-24T18:38:00.703Z"
   },
   {
    "duration": 1611,
    "start_time": "2025-05-24T18:38:04.400Z"
   },
   {
    "duration": 11,
    "start_time": "2025-05-24T18:38:08.586Z"
   },
   {
    "duration": 3,
    "start_time": "2025-05-24T18:38:26.245Z"
   },
   {
    "duration": 125,
    "start_time": "2025-05-24T18:38:26.721Z"
   },
   {
    "duration": 25,
    "start_time": "2025-05-24T18:38:28.338Z"
   },
   {
    "duration": 5,
    "start_time": "2025-05-24T18:38:28.720Z"
   },
   {
    "duration": 3,
    "start_time": "2025-05-24T18:38:29.925Z"
   },
   {
    "duration": 15,
    "start_time": "2025-05-24T18:38:30.956Z"
   },
   {
    "duration": 4,
    "start_time": "2025-05-24T18:38:31.172Z"
   },
   {
    "duration": 4,
    "start_time": "2025-05-24T18:38:31.903Z"
   },
   {
    "duration": 3474,
    "start_time": "2025-05-24T18:39:11.296Z"
   },
   {
    "duration": 5358,
    "start_time": "2025-05-24T18:39:14.773Z"
   },
   {
    "duration": 46,
    "start_time": "2025-05-24T18:39:20.133Z"
   },
   {
    "duration": 59,
    "start_time": "2025-05-24T18:39:20.181Z"
   },
   {
    "duration": 29,
    "start_time": "2025-05-24T18:39:20.243Z"
   },
   {
    "duration": 27,
    "start_time": "2025-05-24T18:39:20.274Z"
   },
   {
    "duration": 47,
    "start_time": "2025-05-24T18:39:20.303Z"
   },
   {
    "duration": 54,
    "start_time": "2025-05-24T18:39:20.351Z"
   },
   {
    "duration": 70,
    "start_time": "2025-05-24T18:39:20.406Z"
   },
   {
    "duration": 43,
    "start_time": "2025-05-24T18:39:20.478Z"
   },
   {
    "duration": 25,
    "start_time": "2025-05-24T18:39:20.523Z"
   },
   {
    "duration": 35,
    "start_time": "2025-05-24T18:39:20.549Z"
   },
   {
    "duration": 297,
    "start_time": "2025-05-24T18:39:20.586Z"
   },
   {
    "duration": 559,
    "start_time": "2025-05-24T18:39:20.887Z"
   },
   {
    "duration": 5,
    "start_time": "2025-05-24T18:39:21.448Z"
   },
   {
    "duration": 844,
    "start_time": "2025-05-24T18:39:21.455Z"
   },
   {
    "duration": 10,
    "start_time": "2025-05-24T18:39:22.301Z"
   },
   {
    "duration": 26,
    "start_time": "2025-05-24T18:39:22.313Z"
   },
   {
    "duration": 262,
    "start_time": "2025-05-24T18:39:22.341Z"
   },
   {
    "duration": 4,
    "start_time": "2025-05-24T18:39:22.604Z"
   },
   {
    "duration": 132,
    "start_time": "2025-05-24T18:39:22.610Z"
   },
   {
    "duration": 33,
    "start_time": "2025-05-24T18:39:22.744Z"
   },
   {
    "duration": 16,
    "start_time": "2025-05-24T18:39:22.778Z"
   },
   {
    "duration": 8,
    "start_time": "2025-05-24T18:39:22.795Z"
   },
   {
    "duration": 35,
    "start_time": "2025-05-24T18:39:22.805Z"
   },
   {
    "duration": 16,
    "start_time": "2025-05-24T18:39:22.842Z"
   },
   {
    "duration": 6,
    "start_time": "2025-05-24T18:39:22.860Z"
   },
   {
    "duration": 21,
    "start_time": "2025-05-24T18:39:22.868Z"
   },
   {
    "duration": 2655,
    "start_time": "2025-05-24T18:39:22.891Z"
   },
   {
    "duration": 12,
    "start_time": "2025-05-24T18:39:25.548Z"
   },
   {
    "duration": 6,
    "start_time": "2025-05-24T18:39:25.561Z"
   },
   {
    "duration": 184,
    "start_time": "2025-05-24T18:39:25.569Z"
   },
   {
    "duration": 27,
    "start_time": "2025-05-24T18:39:25.755Z"
   },
   {
    "duration": 5,
    "start_time": "2025-05-24T18:39:25.784Z"
   },
   {
    "duration": 6,
    "start_time": "2025-05-24T18:39:25.790Z"
   },
   {
    "duration": 42,
    "start_time": "2025-05-24T18:39:25.797Z"
   },
   {
    "duration": 4,
    "start_time": "2025-05-24T18:39:25.841Z"
   },
   {
    "duration": 6,
    "start_time": "2025-05-24T18:39:25.846Z"
   },
   {
    "duration": 3534,
    "start_time": "2025-05-24T18:40:05.612Z"
   },
   {
    "duration": 4733,
    "start_time": "2025-05-24T18:40:09.149Z"
   },
   {
    "duration": 45,
    "start_time": "2025-05-24T18:40:13.884Z"
   },
   {
    "duration": 12,
    "start_time": "2025-05-24T18:40:13.932Z"
   },
   {
    "duration": 18,
    "start_time": "2025-05-24T18:40:13.945Z"
   },
   {
    "duration": 8,
    "start_time": "2025-05-24T18:40:13.965Z"
   },
   {
    "duration": 11,
    "start_time": "2025-05-24T18:40:13.975Z"
   },
   {
    "duration": 5,
    "start_time": "2025-05-24T18:40:13.989Z"
   },
   {
    "duration": 15,
    "start_time": "2025-05-24T18:40:13.996Z"
   },
   {
    "duration": 12,
    "start_time": "2025-05-24T18:40:14.040Z"
   },
   {
    "duration": 10,
    "start_time": "2025-05-24T18:40:14.054Z"
   },
   {
    "duration": 24,
    "start_time": "2025-05-24T18:40:14.066Z"
   },
   {
    "duration": 317,
    "start_time": "2025-05-24T18:40:14.095Z"
   },
   {
    "duration": 552,
    "start_time": "2025-05-24T18:40:14.414Z"
   },
   {
    "duration": 6,
    "start_time": "2025-05-24T18:40:14.968Z"
   },
   {
    "duration": 893,
    "start_time": "2025-05-24T18:40:14.976Z"
   },
   {
    "duration": 11,
    "start_time": "2025-05-24T18:40:15.871Z"
   },
   {
    "duration": 31,
    "start_time": "2025-05-24T18:40:15.884Z"
   },
   {
    "duration": 263,
    "start_time": "2025-05-24T18:40:15.917Z"
   },
   {
    "duration": 5,
    "start_time": "2025-05-24T18:40:16.182Z"
   },
   {
    "duration": 143,
    "start_time": "2025-05-24T18:40:16.189Z"
   },
   {
    "duration": 37,
    "start_time": "2025-05-24T18:40:16.334Z"
   },
   {
    "duration": 19,
    "start_time": "2025-05-24T18:40:16.373Z"
   },
   {
    "duration": 10,
    "start_time": "2025-05-24T18:40:16.393Z"
   },
   {
    "duration": 34,
    "start_time": "2025-05-24T18:40:16.405Z"
   },
   {
    "duration": 5,
    "start_time": "2025-05-24T18:40:16.441Z"
   },
   {
    "duration": 29,
    "start_time": "2025-05-24T18:40:16.448Z"
   },
   {
    "duration": 9,
    "start_time": "2025-05-24T18:40:16.479Z"
   },
   {
    "duration": 2803,
    "start_time": "2025-05-24T18:40:16.490Z"
   },
   {
    "duration": 13,
    "start_time": "2025-05-24T18:40:19.295Z"
   },
   {
    "duration": 4,
    "start_time": "2025-05-24T18:40:19.310Z"
   },
   {
    "duration": 241,
    "start_time": "2025-05-24T18:40:19.316Z"
   },
   {
    "duration": 51,
    "start_time": "2025-05-24T18:40:19.559Z"
   },
   {
    "duration": 4,
    "start_time": "2025-05-24T18:40:19.612Z"
   },
   {
    "duration": 22,
    "start_time": "2025-05-24T18:40:19.618Z"
   },
   {
    "duration": 16,
    "start_time": "2025-05-24T18:40:19.641Z"
   },
   {
    "duration": 4,
    "start_time": "2025-05-24T18:40:19.659Z"
   },
   {
    "duration": 17,
    "start_time": "2025-05-24T18:40:19.664Z"
   },
   {
    "duration": 18,
    "start_time": "2025-05-24T18:40:59.068Z"
   },
   {
    "duration": 31563,
    "start_time": "2025-05-25T11:39:08.241Z"
   },
   {
    "duration": 1574,
    "start_time": "2025-05-25T11:39:39.806Z"
   },
   {
    "duration": 85,
    "start_time": "2025-05-25T11:39:41.382Z"
   },
   {
    "duration": 10,
    "start_time": "2025-05-25T11:39:41.469Z"
   },
   {
    "duration": 10,
    "start_time": "2025-05-25T11:39:41.481Z"
   },
   {
    "duration": 9,
    "start_time": "2025-05-25T11:39:41.492Z"
   },
   {
    "duration": 20,
    "start_time": "2025-05-25T11:39:41.503Z"
   },
   {
    "duration": 8,
    "start_time": "2025-05-25T11:39:41.524Z"
   },
   {
    "duration": 20,
    "start_time": "2025-05-25T11:39:41.533Z"
   },
   {
    "duration": 23,
    "start_time": "2025-05-25T11:39:41.560Z"
   },
   {
    "duration": 3,
    "start_time": "2025-05-25T11:39:41.584Z"
   },
   {
    "duration": 12,
    "start_time": "2025-05-25T11:39:41.588Z"
   },
   {
    "duration": 295,
    "start_time": "2025-05-25T11:39:41.602Z"
   },
   {
    "duration": 580,
    "start_time": "2025-05-25T11:39:41.900Z"
   },
   {
    "duration": 5,
    "start_time": "2025-05-25T11:39:42.482Z"
   },
   {
    "duration": 713,
    "start_time": "2025-05-25T11:39:42.489Z"
   },
   {
    "duration": 13,
    "start_time": "2025-05-25T11:39:43.203Z"
   },
   {
    "duration": 73,
    "start_time": "2025-05-25T11:39:43.217Z"
   },
   {
    "duration": 395,
    "start_time": "2025-05-25T11:39:43.292Z"
   },
   {
    "duration": 3,
    "start_time": "2025-05-25T11:39:43.689Z"
   },
   {
    "duration": 118,
    "start_time": "2025-05-25T11:39:43.693Z"
   },
   {
    "duration": 34,
    "start_time": "2025-05-25T11:39:43.812Z"
   },
   {
    "duration": 32,
    "start_time": "2025-05-25T11:39:43.847Z"
   },
   {
    "duration": 172,
    "start_time": "2025-05-25T11:40:28.472Z"
   },
   {
    "duration": 179,
    "start_time": "2025-05-25T11:40:33.023Z"
   },
   {
    "duration": 16,
    "start_time": "2025-05-25T11:41:10.568Z"
   },
   {
    "duration": 8,
    "start_time": "2025-05-25T11:41:11.594Z"
   },
   {
    "duration": 71,
    "start_time": "2025-05-25T11:41:12.106Z"
   },
   {
    "duration": 7,
    "start_time": "2025-05-25T11:41:14.903Z"
   },
   {
    "duration": 3,
    "start_time": "2025-05-25T11:41:16.626Z"
   },
   {
    "duration": 4,
    "start_time": "2025-05-25T11:49:39.699Z"
   },
   {
    "duration": 117,
    "start_time": "2025-05-25T11:49:40.398Z"
   },
   {
    "duration": 171,
    "start_time": "2025-05-25T11:49:48.796Z"
   },
   {
    "duration": 18,
    "start_time": "2025-05-25T11:49:55.352Z"
   },
   {
    "duration": 4,
    "start_time": "2025-05-25T11:53:52.063Z"
   },
   {
    "duration": 3,
    "start_time": "2025-05-25T11:53:56.302Z"
   },
   {
    "duration": 22769,
    "start_time": "2025-05-25T11:53:57.233Z"
   },
   {
    "duration": 15,
    "start_time": "2025-05-25T11:55:34.622Z"
   },
   {
    "duration": 3,
    "start_time": "2025-05-25T11:55:38.569Z"
   },
   {
    "duration": 2342,
    "start_time": "2025-05-25T11:55:39.166Z"
   },
   {
    "duration": 75,
    "start_time": "2025-05-25T12:00:13.625Z"
   },
   {
    "duration": 142,
    "start_time": "2025-05-25T12:00:43.169Z"
   },
   {
    "duration": 5,
    "start_time": "2025-05-25T12:00:49.340Z"
   },
   {
    "duration": 5,
    "start_time": "2025-05-25T12:00:59.854Z"
   },
   {
    "duration": 4,
    "start_time": "2025-05-25T12:01:04.634Z"
   },
   {
    "duration": 6,
    "start_time": "2025-05-25T12:01:05.397Z"
   },
   {
    "duration": 3,
    "start_time": "2025-05-25T12:01:07.088Z"
   },
   {
    "duration": 27257,
    "start_time": "2025-05-25T12:01:07.517Z"
   },
   {
    "duration": 15,
    "start_time": "2025-05-25T12:01:45.382Z"
   },
   {
    "duration": 3,
    "start_time": "2025-05-25T12:01:46.684Z"
   },
   {
    "duration": 914,
    "start_time": "2025-05-25T12:01:47.423Z"
   },
   {
    "duration": 27,
    "start_time": "2025-05-25T12:01:50.177Z"
   },
   {
    "duration": 4,
    "start_time": "2025-05-25T12:01:50.586Z"
   },
   {
    "duration": 4,
    "start_time": "2025-05-25T12:01:53.395Z"
   },
   {
    "duration": 13,
    "start_time": "2025-05-25T12:01:54.333Z"
   },
   {
    "duration": 5,
    "start_time": "2025-05-25T12:01:54.638Z"
   },
   {
    "duration": 4,
    "start_time": "2025-05-25T12:01:56.736Z"
   },
   {
    "duration": 3176,
    "start_time": "2025-05-25T12:04:17.831Z"
   },
   {
    "duration": 1331,
    "start_time": "2025-05-25T12:04:21.009Z"
   },
   {
    "duration": 50,
    "start_time": "2025-05-25T12:04:22.342Z"
   },
   {
    "duration": 11,
    "start_time": "2025-05-25T12:04:22.393Z"
   },
   {
    "duration": 32,
    "start_time": "2025-05-25T12:04:22.406Z"
   },
   {
    "duration": 6,
    "start_time": "2025-05-25T12:04:22.440Z"
   },
   {
    "duration": 12,
    "start_time": "2025-05-25T12:04:22.447Z"
   },
   {
    "duration": 5,
    "start_time": "2025-05-25T12:04:22.461Z"
   },
   {
    "duration": 9,
    "start_time": "2025-05-25T12:04:22.468Z"
   },
   {
    "duration": 21,
    "start_time": "2025-05-25T12:04:22.478Z"
   },
   {
    "duration": 3,
    "start_time": "2025-05-25T12:04:22.500Z"
   },
   {
    "duration": 14,
    "start_time": "2025-05-25T12:04:22.504Z"
   },
   {
    "duration": 265,
    "start_time": "2025-05-25T12:04:22.520Z"
   },
   {
    "duration": 524,
    "start_time": "2025-05-25T12:04:22.788Z"
   },
   {
    "duration": 462,
    "start_time": "2025-05-25T12:04:57.081Z"
   },
   {
    "duration": 418,
    "start_time": "2025-05-25T12:05:05.960Z"
   },
   {
    "duration": 3,
    "start_time": "2025-05-25T12:05:51.169Z"
   },
   {
    "duration": 3,
    "start_time": "2025-05-25T12:05:59.468Z"
   },
   {
    "duration": 124,
    "start_time": "2025-05-25T12:07:00.585Z"
   },
   {
    "duration": 3,
    "start_time": "2025-05-25T12:07:13.180Z"
   },
   {
    "duration": 771,
    "start_time": "2025-05-25T12:07:13.372Z"
   },
   {
    "duration": 5,
    "start_time": "2025-05-25T12:07:35.885Z"
   },
   {
    "duration": 4,
    "start_time": "2025-05-25T12:07:43.520Z"
   },
   {
    "duration": 695,
    "start_time": "2025-05-25T12:08:19.686Z"
   },
   {
    "duration": 670,
    "start_time": "2025-05-25T12:12:30.880Z"
   },
   {
    "duration": 810,
    "start_time": "2025-05-25T12:13:16.339Z"
   },
   {
    "duration": 574,
    "start_time": "2025-05-25T12:14:08.656Z"
   },
   {
    "duration": 580,
    "start_time": "2025-05-25T12:14:33.042Z"
   },
   {
    "duration": 3164,
    "start_time": "2025-05-25T12:19:26.134Z"
   },
   {
    "duration": 1378,
    "start_time": "2025-05-25T12:19:29.300Z"
   },
   {
    "duration": 39,
    "start_time": "2025-05-25T12:19:30.682Z"
   },
   {
    "duration": 11,
    "start_time": "2025-05-25T12:19:30.723Z"
   },
   {
    "duration": 38,
    "start_time": "2025-05-25T12:19:30.735Z"
   },
   {
    "duration": 8,
    "start_time": "2025-05-25T12:19:30.775Z"
   },
   {
    "duration": 18,
    "start_time": "2025-05-25T12:19:30.785Z"
   },
   {
    "duration": 18,
    "start_time": "2025-05-25T12:19:30.805Z"
   },
   {
    "duration": 11,
    "start_time": "2025-05-25T12:19:30.825Z"
   },
   {
    "duration": 28,
    "start_time": "2025-05-25T12:19:30.837Z"
   },
   {
    "duration": 9,
    "start_time": "2025-05-25T12:19:30.867Z"
   },
   {
    "duration": 23,
    "start_time": "2025-05-25T12:19:30.877Z"
   },
   {
    "duration": 378,
    "start_time": "2025-05-25T12:19:30.903Z"
   },
   {
    "duration": 525,
    "start_time": "2025-05-25T12:19:31.283Z"
   },
   {
    "duration": 4,
    "start_time": "2025-05-25T12:19:31.810Z"
   },
   {
    "duration": 57,
    "start_time": "2025-05-25T12:19:31.816Z"
   },
   {
    "duration": 631,
    "start_time": "2025-05-25T12:19:31.874Z"
   },
   {
    "duration": 9,
    "start_time": "2025-05-25T12:19:32.507Z"
   },
   {
    "duration": 65,
    "start_time": "2025-05-25T12:19:32.517Z"
   },
   {
    "duration": 241,
    "start_time": "2025-05-25T12:19:32.583Z"
   },
   {
    "duration": 2,
    "start_time": "2025-05-25T12:19:32.826Z"
   },
   {
    "duration": 44,
    "start_time": "2025-05-25T12:19:32.829Z"
   },
   {
    "duration": 112,
    "start_time": "2025-05-25T12:19:32.875Z"
   },
   {
    "duration": 30,
    "start_time": "2025-05-25T12:19:32.989Z"
   },
   {
    "duration": 13,
    "start_time": "2025-05-25T12:19:33.021Z"
   },
   {
    "duration": 37,
    "start_time": "2025-05-25T12:19:33.036Z"
   },
   {
    "duration": 7,
    "start_time": "2025-05-25T12:19:33.075Z"
   },
   {
    "duration": 11,
    "start_time": "2025-05-25T12:19:33.084Z"
   },
   {
    "duration": 24,
    "start_time": "2025-05-25T12:19:33.096Z"
   },
   {
    "duration": 11,
    "start_time": "2025-05-25T12:19:33.121Z"
   },
   {
    "duration": 17,
    "start_time": "2025-05-25T12:19:33.133Z"
   },
   {
    "duration": 11,
    "start_time": "2025-05-25T12:19:33.151Z"
   },
   {
    "duration": 26323,
    "start_time": "2025-05-25T12:19:33.164Z"
   },
   {
    "duration": 14,
    "start_time": "2025-05-25T12:19:59.489Z"
   },
   {
    "duration": 142,
    "start_time": "2025-05-25T12:19:59.504Z"
   },
   {
    "duration": 1215,
    "start_time": "2025-05-25T12:19:59.647Z"
   },
   {
    "duration": 28,
    "start_time": "2025-05-25T12:20:00.864Z"
   },
   {
    "duration": 164,
    "start_time": "2025-05-25T12:20:00.893Z"
   },
   {
    "duration": 17,
    "start_time": "2025-05-25T12:20:01.059Z"
   },
   {
    "duration": 15,
    "start_time": "2025-05-25T12:20:01.081Z"
   },
   {
    "duration": 25,
    "start_time": "2025-05-25T12:20:01.097Z"
   },
   {
    "duration": 23,
    "start_time": "2025-05-25T12:20:01.124Z"
   },
   {
    "duration": 5702,
    "start_time": "2025-05-25T13:25:52.323Z"
   },
   {
    "duration": 81,
    "start_time": "2025-05-25T13:26:04.512Z"
   },
   {
    "duration": 17,
    "start_time": "2025-05-25T13:26:05.277Z"
   },
   {
    "duration": 13,
    "start_time": "2025-05-25T13:26:07.101Z"
   },
   {
    "duration": 8,
    "start_time": "2025-05-25T13:26:07.659Z"
   },
   {
    "duration": 11,
    "start_time": "2025-05-25T13:26:08.101Z"
   },
   {
    "duration": 4,
    "start_time": "2025-05-25T13:26:08.507Z"
   },
   {
    "duration": 15,
    "start_time": "2025-05-25T13:26:09.079Z"
   },
   {
    "duration": 93,
    "start_time": "2025-05-25T13:26:09.806Z"
   },
   {
    "duration": 3,
    "start_time": "2025-05-25T13:26:11.198Z"
   },
   {
    "duration": 10,
    "start_time": "2025-05-25T13:26:11.590Z"
   },
   {
    "duration": 324,
    "start_time": "2025-05-25T13:26:13.869Z"
   }
  ],
  "kernelspec": {
   "display_name": "Python 3 (ipykernel)",
   "language": "python",
   "name": "python3"
  },
  "language_info": {
   "codemirror_mode": {
    "name": "ipython",
    "version": 3
   },
   "file_extension": ".py",
   "mimetype": "text/x-python",
   "name": "python",
   "nbconvert_exporter": "python",
   "pygments_lexer": "ipython3",
   "version": "3.9.5"
  },
  "toc": {
   "base_numbering": 1,
   "nav_menu": {},
   "number_sections": true,
   "sideBar": true,
   "skip_h1_title": true,
   "title_cell": "Содержание",
   "title_sidebar": "Contents",
   "toc_cell": true,
   "toc_position": {},
   "toc_section_display": true,
   "toc_window_display": true
  }
 },
 "nbformat": 4,
 "nbformat_minor": 2
}
